{
 "cells": [
  {
   "cell_type": "code",
   "execution_count": 1,
   "metadata": {},
   "outputs": [],
   "source": [
    "import pandas as pd \n",
    "import numpy as np\n",
    "from scipy import stats\n",
    "from sklearn.cross_decomposition import PLSRegression\n",
    "\n",
    "import matplotlib.pyplot as plt\n",
    "%matplotlib inline\n",
    "\n",
    "import mahalanobis as maha"
   ]
  },
  {
   "cell_type": "code",
   "execution_count": 2,
   "metadata": {},
   "outputs": [],
   "source": [
    "# Parameters from the analysis in `Covid Confirm.ipynb`\n",
    "\n",
    "HIGHEST_CONC = 30   # [muM] – the highest concentration in the confirm experiments\n",
    "N_COMPONENTS = 18   # effective dimension for the non-infected distribtuion\n",
    "THRESH = 15 # distance to non-infected from DMSO"
   ]
  },
  {
   "cell_type": "code",
   "execution_count": 3,
   "metadata": {},
   "outputs": [],
   "source": [
    "df = pd.read_csv('output/Covid_confirm_ranked.csv', sep=';')"
   ]
  },
  {
   "cell_type": "markdown",
   "metadata": {},
   "source": [
    "Remove measurements at the highest dose (30 muM)"
   ]
  },
  {
   "cell_type": "code",
   "execution_count": 4,
   "metadata": {},
   "outputs": [],
   "source": [
    "df = df[df['conc'] < HIGHEST_CONC]"
   ]
  },
  {
   "cell_type": "markdown",
   "metadata": {},
   "source": [
    "Remove irrelevant items:\n",
    "- Non-infected\n",
    "- DMSO\n",
    "- Antiviral control (Remdesivir, Nirmatrelvir, GC376)\n",
    "- CP control\n",
    "- Single dose measurements (?)"
   ]
  },
  {
   "cell_type": "code",
   "execution_count": 5,
   "metadata": {},
   "outputs": [],
   "source": [
    "# Read the type of drug: primary hit, secondary hit, or analog\n",
    "subset = pd.read_csv(\"data/metadata_annotations.csv\", usecols=[\"CBCSbatch_id\", \"arm\"])\n",
    "subset.rename(columns={\"CBCSbatch_id\": \"batch_id\", \"arm\": \"type\"}, inplace=True)\n",
    "\n",
    "# Read control id-s\n",
    "antiviral_control_id = subset[subset['type'] == 'antiviral_control']['batch_id'].to_list()\n",
    "cp_control_id = subset[subset['type'] == 'cp_control']['batch_id'].to_list()"
   ]
  },
  {
   "cell_type": "code",
   "execution_count": 6,
   "metadata": {},
   "outputs": [],
   "source": [
    "# Non-inf and DMSO\n",
    "irrelevant_names = ['non-inf', 'DMSO']\n",
    "df_filtered = df[~df['name'].isin(irrelevant_names)]\n",
    "\n",
    "# Control\n",
    "df_filtered = df_filtered[~df_filtered['batch_id'].isin(antiviral_control_id)]\n",
    "df_filtered = df_filtered[~df_filtered['batch_id'].isin(cp_control_id)]\n",
    "\n",
    "# # Single dose measurements\n",
    "# df_filtered = df[df.duplicated('batch_id')].copy()"
   ]
  },
  {
   "cell_type": "code",
   "execution_count": 7,
   "metadata": {},
   "outputs": [],
   "source": [
    "selected = pd.DataFrame([])\n",
    "\n",
    "for id_ in df_filtered['batch_id'].unique():\n",
    "    with_id = df_filtered[df_filtered['batch_id'] == id_].sort_values(by=['conc'])\n",
    "    \n",
    "    if np.count_nonzero(with_id) == 1:\n",
    "        under_thresh = with_id[with_id['distance'] <= THRESH]\n",
    "        selected = pd.concat([selected, under_thresh])\n",
    "\n",
    "    else:\n",
    "        sorted_distances = with_id['distance'].to_numpy()\n",
    "        argmin_dist = np.argmin(sorted_distances)\n",
    "        if sorted_distances[argmin_dist] > THRESH:\n",
    "            continue      \n",
    "        if (argmin_dist > 0):\n",
    "            selected = pd.concat([selected, with_id[argmin_dist-1: argmin_dist+1]])\n",
    "        else:\n",
    "            selected = pd.concat([selected, with_id[argmin_dist:argmin_dist+1]])"
   ]
  },
  {
   "cell_type": "code",
   "execution_count": 8,
   "metadata": {},
   "outputs": [],
   "source": [
    "import plotly.express as px\n",
    "import plotly.graph_objects as go\n",
    "\n",
    "\n",
    "def plot_compounds_interactive(compounds, dmso=None):\n",
    "    drug_names = {\n",
    "        id_: name_ for (id_, name_) in zip(compounds['batch_id'], compounds['name'])\n",
    "    }\n",
    "\n",
    "    drugs = compounds[~compounds['batch_id'].isin(['non-inf', 'DMSO'])]\n",
    "    fig = px.line(\n",
    "        drugs.sort_values(by=\"conc\"), x=\"conc\", y=\"distance\",\n",
    "        color='name',\n",
    "        markers=True,\n",
    "        width=1200, height=400,\n",
    "        error_y='distance_q_75', error_y_minus='distance_q_75',\n",
    "        category_orders={\"name\": drug_names.values()},\n",
    "        hover_name=\"name\", \n",
    "        hover_data={\"name\": False, \"count_nuclei\": ':.1f', \"conc\": True, \"distance\": ':.3f'},\n",
    "    )\n",
    "\n",
    "    # Healthy cells - confidence intervals\n",
    "    for i, conf in enumerate([0.5, 0.75, 0.95]):\n",
    "        label = dict(\n",
    "            text=\"Non-infected\", font=dict(size=15, color=\"black\"), textposition=\"middle left\"\n",
    "        ) if i == 0 else None\n",
    "\n",
    "        left, right = stats.chi2.interval(confidence=conf, df=N_COMPONENTS)\n",
    "        fig.add_hrect(\n",
    "            type=\"rect\",\n",
    "            y0=np.sqrt(left), y1=np.sqrt(right),\n",
    "            fillcolor=\"royalblue\", opacity=0.8*(1-conf)**0.5,\n",
    "            layer=\"below\", line_width=0, label=label\n",
    "        )\n",
    "\n",
    "    # DMSO\n",
    "    if dmso is not None:\n",
    "        conc = range(0, 31, 1)\n",
    "        median = dmso['distance'].iloc[0]\n",
    "        perc_25 = dmso['distance_q_25'].iloc[0]\n",
    "        perc_75 = dmso['distance_q_75'].iloc[0]\n",
    "        fig.add_hrect(\n",
    "            type=\"rect\",\n",
    "            y0=median-perc_25, y1=median+perc_75,\n",
    "            fillcolor=\"grey\", opacity=0.25,\n",
    "            layer=\"below\", line_width=0,\n",
    "            label=dict(\n",
    "                text=\"DMSO\", font=dict(size=15, color=\"black\"), textposition=\"middle left\"\n",
    "            )\n",
    "        )\n",
    "\n",
    "    conc = np.unique(compounds['conc'])\n",
    "    fig.update_xaxes(title_text=\"concentration\", gridcolor='lightgrey', type=\"log\", tickvals=conc)\n",
    "    fig.update_yaxes(title_text=\"distance\", gridcolor='lightgrey', type=\"log\", tickvals=[1, 5, 10, 100])\n",
    "    fig.update_layout(\n",
    "        title_text=\"Distance to non-infected cell distribution\",\n",
    "        plot_bgcolor='white'\n",
    "    )\n",
    "\n",
    "    fig.show()\n"
   ]
  },
  {
   "cell_type": "code",
   "execution_count": 9,
   "metadata": {},
   "outputs": [
    {
     "data": {
      "application/vnd.plotly.v1+json": {
       "config": {
        "plotlyServerURL": "https://plot.ly"
       },
       "data": [
        {
         "customdata": [
          [
           "Propiverine Hydrochloride",
           279
          ],
          [
           "Propiverine Hydrochloride",
           277
          ]
         ],
         "error_y": {
          "array": [
           1.3433116912201832,
           1.958436119408152
          ],
          "arrayminus": [
           1.3433116912201832,
           1.958436119408152
          ]
         },
         "hovertemplate": "<b>%{hovertext}</b><br><br>conc=%{x}<br>distance=%{y:.3f}<br>count_nuclei=%{customdata[1]:.1f}<extra></extra>",
         "hovertext": [
          "Propiverine Hydrochloride",
          "Propiverine Hydrochloride"
         ],
         "legendgroup": "Propiverine Hydrochloride",
         "line": {
          "color": "#636efa",
          "dash": "solid"
         },
         "marker": {
          "symbol": "circle"
         },
         "mode": "lines+markers",
         "name": "Propiverine Hydrochloride",
         "orientation": "v",
         "showlegend": true,
         "type": "scatter",
         "x": [
          3.333333,
          10
         ],
         "xaxis": "x",
         "y": [
          9.515825986698363,
          5.192340681579372
         ],
         "yaxis": "y"
        },
        {
         "customdata": [
          [
           "LY2608204",
           235
          ],
          [
           "LY2608204",
           264
          ]
         ],
         "error_y": {
          "array": [
           0.207132126263204,
           1.5013548513368231
          ],
          "arrayminus": [
           0.207132126263204,
           1.5013548513368231
          ]
         },
         "hovertemplate": "<b>%{hovertext}</b><br><br>conc=%{x}<br>distance=%{y:.3f}<br>count_nuclei=%{customdata[1]:.1f}<extra></extra>",
         "hovertext": [
          "LY2608204",
          "LY2608204"
         ],
         "legendgroup": "LY2608204",
         "line": {
          "color": "#EF553B",
          "dash": "solid"
         },
         "marker": {
          "symbol": "circle"
         },
         "mode": "lines+markers",
         "name": "LY2608204",
         "orientation": "v",
         "showlegend": true,
         "type": "scatter",
         "x": [
          0.3,
          3.333333
         ],
         "xaxis": "x",
         "y": [
          13.347806928685412,
          5.339885296734976
         ],
         "yaxis": "y"
        },
        {
         "customdata": [
          [
           "GW-803430",
           272
          ],
          [
           "GW-803430",
           275
          ]
         ],
         "error_y": {
          "array": [
           1.6277519259776074,
           0.5203753423376716
          ],
          "arrayminus": [
           1.6277519259776074,
           0.5203753423376716
          ]
         },
         "hovertemplate": "<b>%{hovertext}</b><br><br>conc=%{x}<br>distance=%{y:.3f}<br>count_nuclei=%{customdata[1]:.1f}<extra></extra>",
         "hovertext": [
          "GW-803430",
          "GW-803430"
         ],
         "legendgroup": "GW-803430",
         "line": {
          "color": "#00cc96",
          "dash": "solid"
         },
         "marker": {
          "symbol": "circle"
         },
         "mode": "lines+markers",
         "name": "GW-803430",
         "orientation": "v",
         "showlegend": true,
         "type": "scatter",
         "x": [
          3.333333,
          10
         ],
         "xaxis": "x",
         "y": [
          11.280851136025708,
          5.574357829356647
         ],
         "yaxis": "y"
        },
        {
         "customdata": [
          [
           "HalofantrineÂ·HCl",
           294
          ]
         ],
         "error_y": {
          "array": [
           1.1079861872046708
          ],
          "arrayminus": [
           1.1079861872046708
          ]
         },
         "hovertemplate": "<b>%{hovertext}</b><br><br>conc=%{x}<br>distance=%{y:.3f}<br>count_nuclei=%{customdata[1]:.1f}<extra></extra>",
         "hovertext": [
          "HalofantrineÂ·HCl"
         ],
         "legendgroup": "HalofantrineÂ·HCl",
         "line": {
          "color": "#ab63fa",
          "dash": "solid"
         },
         "marker": {
          "symbol": "circle"
         },
         "mode": "lines+markers",
         "name": "HalofantrineÂ·HCl",
         "orientation": "v",
         "showlegend": true,
         "type": "scatter",
         "x": [
          10
         ],
         "xaxis": "x",
         "y": [
          5.646973189277027
         ],
         "yaxis": "y"
        },
        {
         "customdata": [
          [
           "JHW-007",
           259
          ],
          [
           "JHW-007",
           282
          ]
         ],
         "error_y": {
          "array": [
           0.2347938940371872,
           0.3905176686842635
          ],
          "arrayminus": [
           0.2347938940371872,
           0.3905176686842635
          ]
         },
         "hovertemplate": "<b>%{hovertext}</b><br><br>conc=%{x}<br>distance=%{y:.3f}<br>count_nuclei=%{customdata[1]:.1f}<extra></extra>",
         "hovertext": [
          "JHW-007",
          "JHW-007"
         ],
         "legendgroup": "JHW-007",
         "line": {
          "color": "#FFA15A",
          "dash": "solid"
         },
         "marker": {
          "symbol": "circle"
         },
         "mode": "lines+markers",
         "name": "JHW-007",
         "orientation": "v",
         "showlegend": true,
         "type": "scatter",
         "x": [
          0.833333,
          3.333333
         ],
         "xaxis": "x",
         "y": [
          9.32509423904641,
          5.749583226692872
         ],
         "yaxis": "y"
        },
        {
         "customdata": [
          [
           "AMODIAQUINE DIHYDROCHLORIDE",
           259
          ],
          [
           "AMODIAQUINE DIHYDROCHLORIDE",
           268
          ]
         ],
         "error_y": {
          "array": [
           0.081293306706403,
           0.9170615013490098
          ],
          "arrayminus": [
           0.081293306706403,
           0.9170615013490098
          ]
         },
         "hovertemplate": "<b>%{hovertext}</b><br><br>conc=%{x}<br>distance=%{y:.3f}<br>count_nuclei=%{customdata[1]:.1f}<extra></extra>",
         "hovertext": [
          "AMODIAQUINE DIHYDROCHLORIDE",
          "AMODIAQUINE DIHYDROCHLORIDE"
         ],
         "legendgroup": "AMODIAQUINE DIHYDROCHLORIDE",
         "line": {
          "color": "#19d3f3",
          "dash": "solid"
         },
         "marker": {
          "symbol": "circle"
         },
         "mode": "lines+markers",
         "name": "AMODIAQUINE DIHYDROCHLORIDE",
         "orientation": "v",
         "showlegend": true,
         "type": "scatter",
         "x": [
          0.3,
          3.333333
         ],
         "xaxis": "x",
         "y": [
          13.967824465512336,
          5.776405959138612
         ],
         "yaxis": "y"
        },
        {
         "customdata": [
          [
           "PENFLURIDOL",
           258
          ],
          [
           "PENFLURIDOL",
           254
          ]
         ],
         "error_y": {
          "array": [
           1.4337564677142716,
           0.8185638020815569
          ],
          "arrayminus": [
           1.4337564677142716,
           0.8185638020815569
          ]
         },
         "hovertemplate": "<b>%{hovertext}</b><br><br>conc=%{x}<br>distance=%{y:.3f}<br>count_nuclei=%{customdata[1]:.1f}<extra></extra>",
         "hovertext": [
          "PENFLURIDOL",
          "PENFLURIDOL"
         ],
         "legendgroup": "PENFLURIDOL",
         "line": {
          "color": "#FF6692",
          "dash": "solid"
         },
         "marker": {
          "symbol": "circle"
         },
         "mode": "lines+markers",
         "name": "PENFLURIDOL",
         "orientation": "v",
         "showlegend": true,
         "type": "scatter",
         "x": [
          0.833333,
          3.333333
         ],
         "xaxis": "x",
         "y": [
          11.799808927860296,
          5.841317628992132
         ],
         "yaxis": "y"
        },
        {
         "customdata": [
          [
           "Cathepsin Inhibitor 1",
           284
          ],
          [
           "Cathepsin Inhibitor 1",
           288
          ]
         ],
         "error_y": {
          "array": [
           1.7134604853521165,
           2.6693933073019283
          ],
          "arrayminus": [
           1.7134604853521165,
           2.6693933073019283
          ]
         },
         "hovertemplate": "<b>%{hovertext}</b><br><br>conc=%{x}<br>distance=%{y:.3f}<br>count_nuclei=%{customdata[1]:.1f}<extra></extra>",
         "hovertext": [
          "Cathepsin Inhibitor 1",
          "Cathepsin Inhibitor 1"
         ],
         "legendgroup": "Cathepsin Inhibitor 1",
         "line": {
          "color": "#B6E880",
          "dash": "solid"
         },
         "marker": {
          "symbol": "circle"
         },
         "mode": "lines+markers",
         "name": "Cathepsin Inhibitor 1",
         "orientation": "v",
         "showlegend": true,
         "type": "scatter",
         "x": [
          0.3,
          3.333333
         ],
         "xaxis": "x",
         "y": [
          7.512772584708714,
          5.880304380697472
         ],
         "yaxis": "y"
        },
        {
         "customdata": [
          [
           "SNAP-5089",
           258
          ],
          [
           "SNAP-5089",
           285
          ]
         ],
         "error_y": {
          "array": [
           1.2386228352692417,
           1.1600453048727433
          ],
          "arrayminus": [
           1.2386228352692417,
           1.1600453048727433
          ]
         },
         "hovertemplate": "<b>%{hovertext}</b><br><br>conc=%{x}<br>distance=%{y:.3f}<br>count_nuclei=%{customdata[1]:.1f}<extra></extra>",
         "hovertext": [
          "SNAP-5089",
          "SNAP-5089"
         ],
         "legendgroup": "SNAP-5089",
         "line": {
          "color": "#FF97FF",
          "dash": "solid"
         },
         "marker": {
          "symbol": "circle"
         },
         "mode": "lines+markers",
         "name": "SNAP-5089",
         "orientation": "v",
         "showlegend": true,
         "type": "scatter",
         "x": [
          0.833333,
          3.333333
         ],
         "xaxis": "x",
         "y": [
          14.141383402259237,
          5.892799737219466
         ],
         "yaxis": "y"
        },
        {
         "customdata": [
          [
           "tetrindole",
           246
          ],
          [
           "tetrindole",
           268
          ]
         ],
         "error_y": {
          "array": [
           1.4341595694223075,
           0.3673104778541276
          ],
          "arrayminus": [
           1.4341595694223075,
           0.3673104778541276
          ]
         },
         "hovertemplate": "<b>%{hovertext}</b><br><br>conc=%{x}<br>distance=%{y:.3f}<br>count_nuclei=%{customdata[1]:.1f}<extra></extra>",
         "hovertext": [
          "tetrindole",
          "tetrindole"
         ],
         "legendgroup": "tetrindole",
         "line": {
          "color": "#FECB52",
          "dash": "solid"
         },
         "marker": {
          "symbol": "circle"
         },
         "mode": "lines+markers",
         "name": "tetrindole",
         "orientation": "v",
         "showlegend": true,
         "type": "scatter",
         "x": [
          0.833333,
          3.333333
         ],
         "xaxis": "x",
         "y": [
          14.07272062165318,
          6.035302113428847
         ],
         "yaxis": "y"
        },
        {
         "customdata": [
          [
           "UEEBUAJMNRUEMM-UHFFFAOYSA-N",
           264
          ],
          [
           "UEEBUAJMNRUEMM-UHFFFAOYSA-N",
           267
          ]
         ],
         "error_y": {
          "array": [
           0,
           0
          ],
          "arrayminus": [
           0,
           0
          ]
         },
         "hovertemplate": "<b>%{hovertext}</b><br><br>conc=%{x}<br>distance=%{y:.3f}<br>count_nuclei=%{customdata[1]:.1f}<extra></extra>",
         "hovertext": [
          "UEEBUAJMNRUEMM-UHFFFAOYSA-N",
          "UEEBUAJMNRUEMM-UHFFFAOYSA-N"
         ],
         "legendgroup": "UEEBUAJMNRUEMM-UHFFFAOYSA-N",
         "line": {
          "color": "#636efa",
          "dash": "solid"
         },
         "marker": {
          "symbol": "circle"
         },
         "mode": "lines+markers",
         "name": "UEEBUAJMNRUEMM-UHFFFAOYSA-N",
         "orientation": "v",
         "showlegend": true,
         "type": "scatter",
         "x": [
          0.833333,
          3.333333
         ],
         "xaxis": "x",
         "y": [
          8.023890209595539,
          6.075530764771789
         ],
         "yaxis": "y"
        },
        {
         "customdata": [
          [
           "zolantidine",
           272
          ],
          [
           "zolantidine",
           270
          ]
         ],
         "error_y": {
          "array": [
           0.6367345210712756,
           1.1888070166161355
          ],
          "arrayminus": [
           0.6367345210712756,
           1.1888070166161355
          ]
         },
         "hovertemplate": "<b>%{hovertext}</b><br><br>conc=%{x}<br>distance=%{y:.3f}<br>count_nuclei=%{customdata[1]:.1f}<extra></extra>",
         "hovertext": [
          "zolantidine",
          "zolantidine"
         ],
         "legendgroup": "zolantidine",
         "line": {
          "color": "#EF553B",
          "dash": "solid"
         },
         "marker": {
          "symbol": "circle"
         },
         "mode": "lines+markers",
         "name": "zolantidine",
         "orientation": "v",
         "showlegend": true,
         "type": "scatter",
         "x": [
          3.333333,
          10
         ],
         "xaxis": "x",
         "y": [
          9.469868569307511,
          6.2078793800976575
         ],
         "yaxis": "y"
        },
        {
         "customdata": [
          [
           "10-DEBC",
           250
          ],
          [
           "10-DEBC",
           282
          ]
         ],
         "error_y": {
          "array": [
           0.7531426346380243,
           3.191313006513574
          ],
          "arrayminus": [
           0.7531426346380243,
           3.191313006513574
          ]
         },
         "hovertemplate": "<b>%{hovertext}</b><br><br>conc=%{x}<br>distance=%{y:.3f}<br>count_nuclei=%{customdata[1]:.1f}<extra></extra>",
         "hovertext": [
          "10-DEBC",
          "10-DEBC"
         ],
         "legendgroup": "10-DEBC",
         "line": {
          "color": "#00cc96",
          "dash": "solid"
         },
         "marker": {
          "symbol": "circle"
         },
         "mode": "lines+markers",
         "name": "10-DEBC",
         "orientation": "v",
         "showlegend": true,
         "type": "scatter",
         "x": [
          0.833333,
          3.333333
         ],
         "xaxis": "x",
         "y": [
          12.14639370278261,
          6.312959895820784
         ],
         "yaxis": "y"
        },
        {
         "customdata": [
          [
           "BS-181",
           243
          ],
          [
           "BS-181",
           272
          ]
         ],
         "error_y": {
          "array": [
           0.8260688575342012,
           0.7346196753328806
          ],
          "arrayminus": [
           0.8260688575342012,
           0.7346196753328806
          ]
         },
         "hovertemplate": "<b>%{hovertext}</b><br><br>conc=%{x}<br>distance=%{y:.3f}<br>count_nuclei=%{customdata[1]:.1f}<extra></extra>",
         "hovertext": [
          "BS-181",
          "BS-181"
         ],
         "legendgroup": "BS-181",
         "line": {
          "color": "#ab63fa",
          "dash": "solid"
         },
         "marker": {
          "symbol": "circle"
         },
         "mode": "lines+markers",
         "name": "BS-181",
         "orientation": "v",
         "showlegend": true,
         "type": "scatter",
         "x": [
          0.3,
          3.333333
         ],
         "xaxis": "x",
         "y": [
          14.432323167574744,
          6.323137704986359
         ],
         "yaxis": "y"
        },
        {
         "customdata": [
          [
           "LY2228820",
           207
          ],
          [
           "LY2228820",
           288
          ]
         ],
         "error_y": {
          "array": [
           0.4256726261231307,
           0.3774184682272077
          ],
          "arrayminus": [
           0.4256726261231307,
           0.3774184682272077
          ]
         },
         "hovertemplate": "<b>%{hovertext}</b><br><br>conc=%{x}<br>distance=%{y:.3f}<br>count_nuclei=%{customdata[1]:.1f}<extra></extra>",
         "hovertext": [
          "LY2228820",
          "LY2228820"
         ],
         "legendgroup": "LY2228820",
         "line": {
          "color": "#FFA15A",
          "dash": "solid"
         },
         "marker": {
          "symbol": "circle"
         },
         "mode": "lines+markers",
         "name": "LY2228820",
         "orientation": "v",
         "showlegend": true,
         "type": "scatter",
         "x": [
          0.3,
          3.333333
         ],
         "xaxis": "x",
         "y": [
          30.007973083822275,
          6.3379232356442445
         ],
         "yaxis": "y"
        },
        {
         "customdata": [
          [
           "L-733060",
           248
          ],
          [
           "L-733060",
           274
          ]
         ],
         "error_y": {
          "array": [
           0.2122695795379936,
           0.007030739545601
          ],
          "arrayminus": [
           0.2122695795379936,
           0.007030739545601
          ]
         },
         "hovertemplate": "<b>%{hovertext}</b><br><br>conc=%{x}<br>distance=%{y:.3f}<br>count_nuclei=%{customdata[1]:.1f}<extra></extra>",
         "hovertext": [
          "L-733060",
          "L-733060"
         ],
         "legendgroup": "L-733060",
         "line": {
          "color": "#19d3f3",
          "dash": "solid"
         },
         "marker": {
          "symbol": "circle"
         },
         "mode": "lines+markers",
         "name": "L-733060",
         "orientation": "v",
         "showlegend": true,
         "type": "scatter",
         "x": [
          3.333333,
          10
         ],
         "xaxis": "x",
         "y": [
          9.736240108135744,
          6.372845596353219
         ],
         "yaxis": "y"
        },
        {
         "customdata": [
          [
           "eticlopride",
           265
          ]
         ],
         "error_y": {
          "array": [
           1.1230144358110632
          ],
          "arrayminus": [
           1.1230144358110632
          ]
         },
         "hovertemplate": "<b>%{hovertext}</b><br><br>conc=%{x}<br>distance=%{y:.3f}<br>count_nuclei=%{customdata[1]:.1f}<extra></extra>",
         "hovertext": [
          "eticlopride"
         ],
         "legendgroup": "eticlopride",
         "line": {
          "color": "#FF6692",
          "dash": "solid"
         },
         "marker": {
          "symbol": "circle"
         },
         "mode": "lines+markers",
         "name": "eticlopride",
         "orientation": "v",
         "showlegend": true,
         "type": "scatter",
         "x": [
          10
         ],
         "xaxis": "x",
         "y": [
          6.387964740370147
         ],
         "yaxis": "y"
        },
        {
         "customdata": [
          [
           "Salmeterol (xinafoate)",
           247
          ],
          [
           "Salmeterol (xinafoate)",
           277
          ]
         ],
         "error_y": {
          "array": [
           0.8704183811133124,
           0.0751330788859858
          ],
          "arrayminus": [
           0.8704183811133124,
           0.0751330788859858
          ]
         },
         "hovertemplate": "<b>%{hovertext}</b><br><br>conc=%{x}<br>distance=%{y:.3f}<br>count_nuclei=%{customdata[1]:.1f}<extra></extra>",
         "hovertext": [
          "Salmeterol (xinafoate)",
          "Salmeterol (xinafoate)"
         ],
         "legendgroup": "Salmeterol (xinafoate)",
         "line": {
          "color": "#B6E880",
          "dash": "solid"
         },
         "marker": {
          "symbol": "circle"
         },
         "mode": "lines+markers",
         "name": "Salmeterol (xinafoate)",
         "orientation": "v",
         "showlegend": true,
         "type": "scatter",
         "x": [
          3.333333,
          10
         ],
         "xaxis": "x",
         "y": [
          14.67967400112869,
          6.390287318262377
         ],
         "yaxis": "y"
        },
        {
         "customdata": [
          [
           "AM-1241",
           238
          ],
          [
           "AM-1241",
           275
          ]
         ],
         "error_y": {
          "array": [
           3.198945689426532,
           3.2055407707486427
          ],
          "arrayminus": [
           3.198945689426532,
           3.2055407707486427
          ]
         },
         "hovertemplate": "<b>%{hovertext}</b><br><br>conc=%{x}<br>distance=%{y:.3f}<br>count_nuclei=%{customdata[1]:.1f}<extra></extra>",
         "hovertext": [
          "AM-1241",
          "AM-1241"
         ],
         "legendgroup": "AM-1241",
         "line": {
          "color": "#FF97FF",
          "dash": "solid"
         },
         "marker": {
          "symbol": "circle"
         },
         "mode": "lines+markers",
         "name": "AM-1241",
         "orientation": "v",
         "showlegend": true,
         "type": "scatter",
         "x": [
          3.333333,
          10
         ],
         "xaxis": "x",
         "y": [
          13.603054553671017,
          6.391039849365045
         ],
         "yaxis": "y"
        },
        {
         "customdata": [
          [
           "CYM-50358",
           245
          ],
          [
           "CYM-50358",
           265
          ]
         ],
         "error_y": {
          "array": [
           0.6015493654234838,
           0.8031236614157997
          ],
          "arrayminus": [
           0.6015493654234838,
           0.8031236614157997
          ]
         },
         "hovertemplate": "<b>%{hovertext}</b><br><br>conc=%{x}<br>distance=%{y:.3f}<br>count_nuclei=%{customdata[1]:.1f}<extra></extra>",
         "hovertext": [
          "CYM-50358",
          "CYM-50358"
         ],
         "legendgroup": "CYM-50358",
         "line": {
          "color": "#FECB52",
          "dash": "solid"
         },
         "marker": {
          "symbol": "circle"
         },
         "mode": "lines+markers",
         "name": "CYM-50358",
         "orientation": "v",
         "showlegend": true,
         "type": "scatter",
         "x": [
          0.3,
          3.333333
         ],
         "xaxis": "x",
         "y": [
          16.459111417259546,
          6.453360401794081
         ],
         "yaxis": "y"
        },
        {
         "customdata": [
          [
           "Flupentixol",
           260
          ],
          [
           "Flupentixol",
           276
          ]
         ],
         "error_y": {
          "array": [
           0.1840577890840755,
           0.2660296901940668
          ],
          "arrayminus": [
           0.1840577890840755,
           0.2660296901940668
          ]
         },
         "hovertemplate": "<b>%{hovertext}</b><br><br>conc=%{x}<br>distance=%{y:.3f}<br>count_nuclei=%{customdata[1]:.1f}<extra></extra>",
         "hovertext": [
          "Flupentixol",
          "Flupentixol"
         ],
         "legendgroup": "Flupentixol",
         "line": {
          "color": "#636efa",
          "dash": "solid"
         },
         "marker": {
          "symbol": "circle"
         },
         "mode": "lines+markers",
         "name": "Flupentixol",
         "orientation": "v",
         "showlegend": true,
         "type": "scatter",
         "x": [
          3.333333,
          10
         ],
         "xaxis": "x",
         "y": [
          10.952688647571303,
          6.504954063858767
         ],
         "yaxis": "y"
        },
        {
         "customdata": [
          [
           "Lomitapide",
           265
          ],
          [
           "Lomitapide",
           271
          ]
         ],
         "error_y": {
          "array": [
           0.194735970439531,
           0.6126210365653835
          ],
          "arrayminus": [
           0.194735970439531,
           0.6126210365653835
          ]
         },
         "hovertemplate": "<b>%{hovertext}</b><br><br>conc=%{x}<br>distance=%{y:.3f}<br>count_nuclei=%{customdata[1]:.1f}<extra></extra>",
         "hovertext": [
          "Lomitapide",
          "Lomitapide"
         ],
         "legendgroup": "Lomitapide",
         "line": {
          "color": "#EF553B",
          "dash": "solid"
         },
         "marker": {
          "symbol": "circle"
         },
         "mode": "lines+markers",
         "name": "Lomitapide",
         "orientation": "v",
         "showlegend": true,
         "type": "scatter",
         "x": [
          0.833333,
          3.333333
         ],
         "xaxis": "x",
         "y": [
          10.330624966102876,
          6.506358080142818
         ],
         "yaxis": "y"
        },
        {
         "customdata": [
          [
           "afimoxifene",
           230
          ],
          [
           "afimoxifene",
           272
          ]
         ],
         "error_y": {
          "array": [
           0.193587174952075,
           2.633844341490919
          ],
          "arrayminus": [
           0.193587174952075,
           2.633844341490919
          ]
         },
         "hovertemplate": "<b>%{hovertext}</b><br><br>conc=%{x}<br>distance=%{y:.3f}<br>count_nuclei=%{customdata[1]:.1f}<extra></extra>",
         "hovertext": [
          "afimoxifene",
          "afimoxifene"
         ],
         "legendgroup": "afimoxifene",
         "line": {
          "color": "#00cc96",
          "dash": "solid"
         },
         "marker": {
          "symbol": "circle"
         },
         "mode": "lines+markers",
         "name": "afimoxifene",
         "orientation": "v",
         "showlegend": true,
         "type": "scatter",
         "x": [
          0.3,
          3.333333
         ],
         "xaxis": "x",
         "y": [
          19.421299487031927,
          6.536240358833222
         ],
         "yaxis": "y"
        },
        {
         "customdata": [
          [
           "BA1064309",
           274
          ],
          [
           "BA1064309",
           282
          ]
         ],
         "error_y": {
          "array": [
           0,
           0
          ],
          "arrayminus": [
           0,
           0
          ]
         },
         "hovertemplate": "<b>%{hovertext}</b><br><br>conc=%{x}<br>distance=%{y:.3f}<br>count_nuclei=%{customdata[1]:.1f}<extra></extra>",
         "hovertext": [
          "BA1064309",
          "BA1064309"
         ],
         "legendgroup": "BA1064309",
         "line": {
          "color": "#ab63fa",
          "dash": "solid"
         },
         "marker": {
          "symbol": "circle"
         },
         "mode": "lines+markers",
         "name": "BA1064309",
         "orientation": "v",
         "showlegend": true,
         "type": "scatter",
         "x": [
          0.833333,
          3.333333
         ],
         "xaxis": "x",
         "y": [
          7.047672706650314,
          6.567114781199355
         ],
         "yaxis": "y"
        },
        {
         "customdata": [
          [
           "Y-29794 oxalate",
           264
          ],
          [
           "Y-29794 oxalate",
           290
          ]
         ],
         "error_y": {
          "array": [
           0.5560091060664636,
           0.1709614361998221
          ],
          "arrayminus": [
           0.5560091060664636,
           0.1709614361998221
          ]
         },
         "hovertemplate": "<b>%{hovertext}</b><br><br>conc=%{x}<br>distance=%{y:.3f}<br>count_nuclei=%{customdata[1]:.1f}<extra></extra>",
         "hovertext": [
          "Y-29794 oxalate",
          "Y-29794 oxalate"
         ],
         "legendgroup": "Y-29794 oxalate",
         "line": {
          "color": "#FFA15A",
          "dash": "solid"
         },
         "marker": {
          "symbol": "circle"
         },
         "mode": "lines+markers",
         "name": "Y-29794 oxalate",
         "orientation": "v",
         "showlegend": true,
         "type": "scatter",
         "x": [
          0.833333,
          3.333333
         ],
         "xaxis": "x",
         "y": [
          11.449745235693888,
          6.57406605812693
         ],
         "yaxis": "y"
        },
        {
         "customdata": [
          [
           "prenylamine",
           280
          ],
          [
           "prenylamine",
           292
          ]
         ],
         "error_y": {
          "array": [
           0.6706313699510353,
           0.4611909700894943
          ],
          "arrayminus": [
           0.6706313699510353,
           0.4611909700894943
          ]
         },
         "hovertemplate": "<b>%{hovertext}</b><br><br>conc=%{x}<br>distance=%{y:.3f}<br>count_nuclei=%{customdata[1]:.1f}<extra></extra>",
         "hovertext": [
          "prenylamine",
          "prenylamine"
         ],
         "legendgroup": "prenylamine",
         "line": {
          "color": "#19d3f3",
          "dash": "solid"
         },
         "marker": {
          "symbol": "circle"
         },
         "mode": "lines+markers",
         "name": "prenylamine",
         "orientation": "v",
         "showlegend": true,
         "type": "scatter",
         "x": [
          3.333333,
          10
         ],
         "xaxis": "x",
         "y": [
          8.673763389248396,
          6.5859047285389325
         ],
         "yaxis": "y"
        },
        {
         "customdata": [
          [
           "PROADIFEN HYDROCHLORIDE",
           276.5
          ]
         ],
         "error_y": {
          "array": [
           2.306468510001221
          ],
          "arrayminus": [
           2.306468510001221
          ]
         },
         "hovertemplate": "<b>%{hovertext}</b><br><br>conc=%{x}<br>distance=%{y:.3f}<br>count_nuclei=%{customdata[1]:.1f}<extra></extra>",
         "hovertext": [
          "PROADIFEN HYDROCHLORIDE"
         ],
         "legendgroup": "PROADIFEN HYDROCHLORIDE",
         "line": {
          "color": "#FF6692",
          "dash": "solid"
         },
         "marker": {
          "symbol": "circle"
         },
         "mode": "lines+markers",
         "name": "PROADIFEN HYDROCHLORIDE",
         "orientation": "v",
         "showlegend": true,
         "type": "scatter",
         "x": [
          10
         ],
         "xaxis": "x",
         "y": [
          6.633045497697779
         ],
         "yaxis": "y"
        },
        {
         "customdata": [
          [
           "BIBU-1361",
           243
          ],
          [
           "BIBU-1361",
           265
          ]
         ],
         "error_y": {
          "array": [
           0.2454130749146728,
           0.1964574683794193
          ],
          "arrayminus": [
           0.2454130749146728,
           0.1964574683794193
          ]
         },
         "hovertemplate": "<b>%{hovertext}</b><br><br>conc=%{x}<br>distance=%{y:.3f}<br>count_nuclei=%{customdata[1]:.1f}<extra></extra>",
         "hovertext": [
          "BIBU-1361",
          "BIBU-1361"
         ],
         "legendgroup": "BIBU-1361",
         "line": {
          "color": "#B6E880",
          "dash": "solid"
         },
         "marker": {
          "symbol": "circle"
         },
         "mode": "lines+markers",
         "name": "BIBU-1361",
         "orientation": "v",
         "showlegend": true,
         "type": "scatter",
         "x": [
          0.3,
          3.333333
         ],
         "xaxis": "x",
         "y": [
          16.785142195842408,
          6.673877037962583
         ],
         "yaxis": "y"
        },
        {
         "customdata": [
          [
           "3-CPMT",
           265
          ],
          [
           "3-CPMT",
           276
          ]
         ],
         "error_y": {
          "array": [
           0.0193982718120668,
           1.874446781888916
          ],
          "arrayminus": [
           0.0193982718120668,
           1.874446781888916
          ]
         },
         "hovertemplate": "<b>%{hovertext}</b><br><br>conc=%{x}<br>distance=%{y:.3f}<br>count_nuclei=%{customdata[1]:.1f}<extra></extra>",
         "hovertext": [
          "3-CPMT",
          "3-CPMT"
         ],
         "legendgroup": "3-CPMT",
         "line": {
          "color": "#FF97FF",
          "dash": "solid"
         },
         "marker": {
          "symbol": "circle"
         },
         "mode": "lines+markers",
         "name": "3-CPMT",
         "orientation": "v",
         "showlegend": true,
         "type": "scatter",
         "x": [
          0.833333,
          3.333333
         ],
         "xaxis": "x",
         "y": [
          13.131794525835964,
          6.702708215501439
         ],
         "yaxis": "y"
        },
        {
         "customdata": [
          [
           "SR-33805 oxalate",
           238
          ],
          [
           "SR-33805 oxalate",
           276
          ]
         ],
         "error_y": {
          "array": [
           1.1826401591973834,
           0.1956170726671846
          ],
          "arrayminus": [
           1.1826401591973834,
           0.1956170726671846
          ]
         },
         "hovertemplate": "<b>%{hovertext}</b><br><br>conc=%{x}<br>distance=%{y:.3f}<br>count_nuclei=%{customdata[1]:.1f}<extra></extra>",
         "hovertext": [
          "SR-33805 oxalate",
          "SR-33805 oxalate"
         ],
         "legendgroup": "SR-33805 oxalate",
         "line": {
          "color": "#FECB52",
          "dash": "solid"
         },
         "marker": {
          "symbol": "circle"
         },
         "mode": "lines+markers",
         "name": "SR-33805 oxalate",
         "orientation": "v",
         "showlegend": true,
         "type": "scatter",
         "x": [
          0.833333,
          3.333333
         ],
         "xaxis": "x",
         "y": [
          16.209270179788728,
          6.711771426651106
         ],
         "yaxis": "y"
        },
        {
         "customdata": [
          [
           "Tenovin-6",
           231
          ],
          [
           "Tenovin-6",
           250
          ]
         ],
         "error_y": {
          "array": [
           0.8462290346450221,
           1.2132023260181128
          ],
          "arrayminus": [
           0.8462290346450221,
           1.2132023260181128
          ]
         },
         "hovertemplate": "<b>%{hovertext}</b><br><br>conc=%{x}<br>distance=%{y:.3f}<br>count_nuclei=%{customdata[1]:.1f}<extra></extra>",
         "hovertext": [
          "Tenovin-6",
          "Tenovin-6"
         ],
         "legendgroup": "Tenovin-6",
         "line": {
          "color": "#636efa",
          "dash": "solid"
         },
         "marker": {
          "symbol": "circle"
         },
         "mode": "lines+markers",
         "name": "Tenovin-6",
         "orientation": "v",
         "showlegend": true,
         "type": "scatter",
         "x": [
          0.833333,
          3.333333
         ],
         "xaxis": "x",
         "y": [
          15.426228057004511,
          6.771025649166194
         ],
         "yaxis": "y"
        },
        {
         "customdata": [
          [
           "DROFENINE HYDROCHLORIDE",
           271.5
          ]
         ],
         "error_y": {
          "array": [
           0.1771410234625392
          ],
          "arrayminus": [
           0.1771410234625392
          ]
         },
         "hovertemplate": "<b>%{hovertext}</b><br><br>conc=%{x}<br>distance=%{y:.3f}<br>count_nuclei=%{customdata[1]:.1f}<extra></extra>",
         "hovertext": [
          "DROFENINE HYDROCHLORIDE"
         ],
         "legendgroup": "DROFENINE HYDROCHLORIDE",
         "line": {
          "color": "#EF553B",
          "dash": "solid"
         },
         "marker": {
          "symbol": "circle"
         },
         "mode": "lines+markers",
         "name": "DROFENINE HYDROCHLORIDE",
         "orientation": "v",
         "showlegend": true,
         "type": "scatter",
         "x": [
          10
         ],
         "xaxis": "x",
         "y": [
          6.844585811000666
         ],
         "yaxis": "y"
        },
        {
         "customdata": [
          [
           "Tetrandrine (Fanchinine)",
           244
          ],
          [
           "Tetrandrine (Fanchinine)",
           249.5
          ]
         ],
         "error_y": {
          "array": [
           0.7029042701720876,
           1.3534917986934705
          ],
          "arrayminus": [
           0.7029042701720876,
           1.3534917986934705
          ]
         },
         "hovertemplate": "<b>%{hovertext}</b><br><br>conc=%{x}<br>distance=%{y:.3f}<br>count_nuclei=%{customdata[1]:.1f}<extra></extra>",
         "hovertext": [
          "Tetrandrine (Fanchinine)",
          "Tetrandrine (Fanchinine)"
         ],
         "legendgroup": "Tetrandrine (Fanchinine)",
         "line": {
          "color": "#00cc96",
          "dash": "solid"
         },
         "marker": {
          "symbol": "circle"
         },
         "mode": "lines+markers",
         "name": "Tetrandrine (Fanchinine)",
         "orientation": "v",
         "showlegend": true,
         "type": "scatter",
         "x": [
          0.3,
          3.333333
         ],
         "xaxis": "x",
         "y": [
          15.484469951604702,
          6.854185010213032
         ],
         "yaxis": "y"
        },
        {
         "customdata": [
          [
           "BA1064560",
           279
          ],
          [
           "BA1064560",
           275
          ]
         ],
         "error_y": {
          "array": [
           0,
           0
          ],
          "arrayminus": [
           0,
           0
          ]
         },
         "hovertemplate": "<b>%{hovertext}</b><br><br>conc=%{x}<br>distance=%{y:.3f}<br>count_nuclei=%{customdata[1]:.1f}<extra></extra>",
         "hovertext": [
          "BA1064560",
          "BA1064560"
         ],
         "legendgroup": "BA1064560",
         "line": {
          "color": "#ab63fa",
          "dash": "solid"
         },
         "marker": {
          "symbol": "circle"
         },
         "mode": "lines+markers",
         "name": "BA1064560",
         "orientation": "v",
         "showlegend": true,
         "type": "scatter",
         "x": [
          3.333333,
          10
         ],
         "xaxis": "x",
         "y": [
          13.668134153827298,
          6.882359342243005
         ],
         "yaxis": "y"
        },
        {
         "customdata": [
          [
           "QDWKGEFGLQMDAM-JJIBRWJFSA-N",
           245
          ],
          [
           "QDWKGEFGLQMDAM-JJIBRWJFSA-N",
           262
          ]
         ],
         "error_y": {
          "array": [
           0,
           0
          ],
          "arrayminus": [
           0,
           0
          ]
         },
         "hovertemplate": "<b>%{hovertext}</b><br><br>conc=%{x}<br>distance=%{y:.3f}<br>count_nuclei=%{customdata[1]:.1f}<extra></extra>",
         "hovertext": [
          "QDWKGEFGLQMDAM-JJIBRWJFSA-N",
          "QDWKGEFGLQMDAM-JJIBRWJFSA-N"
         ],
         "legendgroup": "QDWKGEFGLQMDAM-JJIBRWJFSA-N",
         "line": {
          "color": "#FFA15A",
          "dash": "solid"
         },
         "marker": {
          "symbol": "circle"
         },
         "mode": "lines+markers",
         "name": "QDWKGEFGLQMDAM-JJIBRWJFSA-N",
         "orientation": "v",
         "showlegend": true,
         "type": "scatter",
         "x": [
          0.833333,
          3.333333
         ],
         "xaxis": "x",
         "y": [
          10.94297366363372,
          6.919985321303809
         ],
         "yaxis": "y"
        },
        {
         "customdata": [
          [
           "RU-SKI-43",
           267
          ],
          [
           "RU-SKI-43",
           262.5
          ]
         ],
         "error_y": {
          "array": [
           0.2541833840846852,
           1.5322630551019047
          ],
          "arrayminus": [
           0.2541833840846852,
           1.5322630551019047
          ]
         },
         "hovertemplate": "<b>%{hovertext}</b><br><br>conc=%{x}<br>distance=%{y:.3f}<br>count_nuclei=%{customdata[1]:.1f}<extra></extra>",
         "hovertext": [
          "RU-SKI-43",
          "RU-SKI-43"
         ],
         "legendgroup": "RU-SKI-43",
         "line": {
          "color": "#19d3f3",
          "dash": "solid"
         },
         "marker": {
          "symbol": "circle"
         },
         "mode": "lines+markers",
         "name": "RU-SKI-43",
         "orientation": "v",
         "showlegend": true,
         "type": "scatter",
         "x": [
          3.333333,
          10
         ],
         "xaxis": "x",
         "y": [
          11.201673091818003,
          6.961844526279358
         ],
         "yaxis": "y"
        },
        {
         "customdata": [
          [
           "OWFDFCVDGQSEPP-UHFFFAOYSA-N",
           265
          ],
          [
           "OWFDFCVDGQSEPP-UHFFFAOYSA-N",
           274
          ]
         ],
         "error_y": {
          "array": [
           0,
           0
          ],
          "arrayminus": [
           0,
           0
          ]
         },
         "hovertemplate": "<b>%{hovertext}</b><br><br>conc=%{x}<br>distance=%{y:.3f}<br>count_nuclei=%{customdata[1]:.1f}<extra></extra>",
         "hovertext": [
          "OWFDFCVDGQSEPP-UHFFFAOYSA-N",
          "OWFDFCVDGQSEPP-UHFFFAOYSA-N"
         ],
         "legendgroup": "OWFDFCVDGQSEPP-UHFFFAOYSA-N",
         "line": {
          "color": "#FF6692",
          "dash": "solid"
         },
         "marker": {
          "symbol": "circle"
         },
         "mode": "lines+markers",
         "name": "OWFDFCVDGQSEPP-UHFFFAOYSA-N",
         "orientation": "v",
         "showlegend": true,
         "type": "scatter",
         "x": [
          0.833333,
          3.333333
         ],
         "xaxis": "x",
         "y": [
          11.237062148062686,
          6.991611638588336
         ],
         "yaxis": "y"
        },
        {
         "customdata": [
          [
           "piperacetazine",
           279
          ]
         ],
         "error_y": {
          "array": [
           0.093972483506425
          ],
          "arrayminus": [
           0.093972483506425
          ]
         },
         "hovertemplate": "<b>%{hovertext}</b><br><br>conc=%{x}<br>distance=%{y:.3f}<br>count_nuclei=%{customdata[1]:.1f}<extra></extra>",
         "hovertext": [
          "piperacetazine"
         ],
         "legendgroup": "piperacetazine",
         "line": {
          "color": "#B6E880",
          "dash": "solid"
         },
         "marker": {
          "symbol": "circle"
         },
         "mode": "lines+markers",
         "name": "piperacetazine",
         "orientation": "v",
         "showlegend": true,
         "type": "scatter",
         "x": [
          10
         ],
         "xaxis": "x",
         "y": [
          7.0066849066672425
         ],
         "yaxis": "y"
        },
        {
         "customdata": [
          [
           "lumateperone (Tosylate)",
           272.25
          ]
         ],
         "error_y": {
          "array": [
           1.6102826332922555
          ],
          "arrayminus": [
           1.6102826332922555
          ]
         },
         "hovertemplate": "<b>%{hovertext}</b><br><br>conc=%{x}<br>distance=%{y:.3f}<br>count_nuclei=%{customdata[1]:.1f}<extra></extra>",
         "hovertext": [
          "lumateperone (Tosylate)"
         ],
         "legendgroup": "lumateperone (Tosylate)",
         "line": {
          "color": "#FF97FF",
          "dash": "solid"
         },
         "marker": {
          "symbol": "circle"
         },
         "mode": "lines+markers",
         "name": "lumateperone (Tosylate)",
         "orientation": "v",
         "showlegend": true,
         "type": "scatter",
         "x": [
          10
         ],
         "xaxis": "x",
         "y": [
          7.014526586078558
         ],
         "yaxis": "y"
        },
        {
         "customdata": [
          [
           "Org-25543",
           269.5
          ]
         ],
         "error_y": {
          "array": [
           0.3310794134223602
          ],
          "arrayminus": [
           0.3310794134223602
          ]
         },
         "hovertemplate": "<b>%{hovertext}</b><br><br>conc=%{x}<br>distance=%{y:.3f}<br>count_nuclei=%{customdata[1]:.1f}<extra></extra>",
         "hovertext": [
          "Org-25543"
         ],
         "legendgroup": "Org-25543",
         "line": {
          "color": "#FECB52",
          "dash": "solid"
         },
         "marker": {
          "symbol": "circle"
         },
         "mode": "lines+markers",
         "name": "Org-25543",
         "orientation": "v",
         "showlegend": true,
         "type": "scatter",
         "x": [
          10
         ],
         "xaxis": "x",
         "y": [
          7.037723863395605
         ],
         "yaxis": "y"
        },
        {
         "customdata": [
          [
           "EHop-016",
           241
          ],
          [
           "EHop-016",
           265
          ]
         ],
         "error_y": {
          "array": [
           1.763956025404637,
           1.260361609720131
          ],
          "arrayminus": [
           1.763956025404637,
           1.260361609720131
          ]
         },
         "hovertemplate": "<b>%{hovertext}</b><br><br>conc=%{x}<br>distance=%{y:.3f}<br>count_nuclei=%{customdata[1]:.1f}<extra></extra>",
         "hovertext": [
          "EHop-016",
          "EHop-016"
         ],
         "legendgroup": "EHop-016",
         "line": {
          "color": "#636efa",
          "dash": "solid"
         },
         "marker": {
          "symbol": "circle"
         },
         "mode": "lines+markers",
         "name": "EHop-016",
         "orientation": "v",
         "showlegend": true,
         "type": "scatter",
         "x": [
          0.833333,
          3.333333
         ],
         "xaxis": "x",
         "y": [
          12.4697108607311,
          7.084103846431492
         ],
         "yaxis": "y"
        },
        {
         "customdata": [
          [
           "ITI214",
           282.5
          ]
         ],
         "error_y": {
          "array": [
           0.6141899112909233
          ],
          "arrayminus": [
           0.6141899112909233
          ]
         },
         "hovertemplate": "<b>%{hovertext}</b><br><br>conc=%{x}<br>distance=%{y:.3f}<br>count_nuclei=%{customdata[1]:.1f}<extra></extra>",
         "hovertext": [
          "ITI214"
         ],
         "legendgroup": "ITI214",
         "line": {
          "color": "#EF553B",
          "dash": "solid"
         },
         "marker": {
          "symbol": "circle"
         },
         "mode": "lines+markers",
         "name": "ITI214",
         "orientation": "v",
         "showlegend": true,
         "type": "scatter",
         "x": [
          10
         ],
         "xaxis": "x",
         "y": [
          7.105288416466859
         ],
         "yaxis": "y"
        },
        {
         "customdata": [
          [
           "Genz-123346 (free base)",
           272.5
          ]
         ],
         "error_y": {
          "array": [
           0.9535022719395192
          ],
          "arrayminus": [
           0.9535022719395192
          ]
         },
         "hovertemplate": "<b>%{hovertext}</b><br><br>conc=%{x}<br>distance=%{y:.3f}<br>count_nuclei=%{customdata[1]:.1f}<extra></extra>",
         "hovertext": [
          "Genz-123346 (free base)"
         ],
         "legendgroup": "Genz-123346 (free base)",
         "line": {
          "color": "#00cc96",
          "dash": "solid"
         },
         "marker": {
          "symbol": "circle"
         },
         "mode": "lines+markers",
         "name": "Genz-123346 (free base)",
         "orientation": "v",
         "showlegend": true,
         "type": "scatter",
         "x": [
          10
         ],
         "xaxis": "x",
         "y": [
          7.156767258810636
         ],
         "yaxis": "y"
        },
        {
         "customdata": [
          [
           "ICI-199441",
           225
          ],
          [
           "ICI-199441",
           268
          ]
         ],
         "error_y": {
          "array": [
           0.1246969089246015,
           0.286605664833119
          ],
          "arrayminus": [
           0.1246969089246015,
           0.286605664833119
          ]
         },
         "hovertemplate": "<b>%{hovertext}</b><br><br>conc=%{x}<br>distance=%{y:.3f}<br>count_nuclei=%{customdata[1]:.1f}<extra></extra>",
         "hovertext": [
          "ICI-199441",
          "ICI-199441"
         ],
         "legendgroup": "ICI-199441",
         "line": {
          "color": "#ab63fa",
          "dash": "solid"
         },
         "marker": {
          "symbol": "circle"
         },
         "mode": "lines+markers",
         "name": "ICI-199441",
         "orientation": "v",
         "showlegend": true,
         "type": "scatter",
         "x": [
          0.3,
          3.333333
         ],
         "xaxis": "x",
         "y": [
          17.545740116818724,
          7.200143959361937
         ],
         "yaxis": "y"
        },
        {
         "customdata": [
          [
           "Ozanimod",
           235
          ],
          [
           "Ozanimod",
           268
          ]
         ],
         "error_y": {
          "array": [
           0.3961412964618809,
           2.2101565268432086
          ],
          "arrayminus": [
           0.3961412964618809,
           2.2101565268432086
          ]
         },
         "hovertemplate": "<b>%{hovertext}</b><br><br>conc=%{x}<br>distance=%{y:.3f}<br>count_nuclei=%{customdata[1]:.1f}<extra></extra>",
         "hovertext": [
          "Ozanimod",
          "Ozanimod"
         ],
         "legendgroup": "Ozanimod",
         "line": {
          "color": "#FFA15A",
          "dash": "solid"
         },
         "marker": {
          "symbol": "circle"
         },
         "mode": "lines+markers",
         "name": "Ozanimod",
         "orientation": "v",
         "showlegend": true,
         "type": "scatter",
         "x": [
          0.833333,
          3.333333
         ],
         "xaxis": "x",
         "y": [
          13.744592782383958,
          7.208608954968172
         ],
         "yaxis": "y"
        },
        {
         "customdata": [
          [
           "TRIFLUPROMAZINE HYDROCHLORIDE",
           261
          ],
          [
           "TRIFLUPROMAZINE HYDROCHLORIDE",
           270
          ]
         ],
         "error_y": {
          "array": [
           2.2353171223047124,
           1.7748705623705954
          ],
          "arrayminus": [
           2.2353171223047124,
           1.7748705623705954
          ]
         },
         "hovertemplate": "<b>%{hovertext}</b><br><br>conc=%{x}<br>distance=%{y:.3f}<br>count_nuclei=%{customdata[1]:.1f}<extra></extra>",
         "hovertext": [
          "TRIFLUPROMAZINE HYDROCHLORIDE",
          "TRIFLUPROMAZINE HYDROCHLORIDE"
         ],
         "legendgroup": "TRIFLUPROMAZINE HYDROCHLORIDE",
         "line": {
          "color": "#19d3f3",
          "dash": "solid"
         },
         "marker": {
          "symbol": "circle"
         },
         "mode": "lines+markers",
         "name": "TRIFLUPROMAZINE HYDROCHLORIDE",
         "orientation": "v",
         "showlegend": true,
         "type": "scatter",
         "x": [
          3.333333,
          10
         ],
         "xaxis": "x",
         "y": [
          10.63067747231135,
          7.222171318699808
         ],
         "yaxis": "y"
        },
        {
         "customdata": [
          [
           "GRIFEICCZHQXIA-PZTRBQFESA-N",
           253
          ],
          [
           "GRIFEICCZHQXIA-PZTRBQFESA-N",
           261
          ]
         ],
         "error_y": {
          "array": [
           0,
           0
          ],
          "arrayminus": [
           0,
           0
          ]
         },
         "hovertemplate": "<b>%{hovertext}</b><br><br>conc=%{x}<br>distance=%{y:.3f}<br>count_nuclei=%{customdata[1]:.1f}<extra></extra>",
         "hovertext": [
          "GRIFEICCZHQXIA-PZTRBQFESA-N",
          "GRIFEICCZHQXIA-PZTRBQFESA-N"
         ],
         "legendgroup": "GRIFEICCZHQXIA-PZTRBQFESA-N",
         "line": {
          "color": "#FF6692",
          "dash": "solid"
         },
         "marker": {
          "symbol": "circle"
         },
         "mode": "lines+markers",
         "name": "GRIFEICCZHQXIA-PZTRBQFESA-N",
         "orientation": "v",
         "showlegend": true,
         "type": "scatter",
         "x": [
          0.833333,
          3.333333
         ],
         "xaxis": "x",
         "y": [
          15.235128765357084,
          7.232886377047669
         ],
         "yaxis": "y"
        },
        {
         "customdata": [
          [
           "JLERVPBPJHKRBJ-UHFFFAOYSA-N",
           247
          ],
          [
           "JLERVPBPJHKRBJ-UHFFFAOYSA-N",
           272
          ]
         ],
         "error_y": {
          "array": [
           0,
           0
          ],
          "arrayminus": [
           0,
           0
          ]
         },
         "hovertemplate": "<b>%{hovertext}</b><br><br>conc=%{x}<br>distance=%{y:.3f}<br>count_nuclei=%{customdata[1]:.1f}<extra></extra>",
         "hovertext": [
          "JLERVPBPJHKRBJ-UHFFFAOYSA-N",
          "JLERVPBPJHKRBJ-UHFFFAOYSA-N"
         ],
         "legendgroup": "JLERVPBPJHKRBJ-UHFFFAOYSA-N",
         "line": {
          "color": "#B6E880",
          "dash": "solid"
         },
         "marker": {
          "symbol": "circle"
         },
         "mode": "lines+markers",
         "name": "JLERVPBPJHKRBJ-UHFFFAOYSA-N",
         "orientation": "v",
         "showlegend": true,
         "type": "scatter",
         "x": [
          3.333333,
          10
         ],
         "xaxis": "x",
         "y": [
          15.158012065661389,
          7.232983372061905
         ],
         "yaxis": "y"
        },
        {
         "customdata": [
          [
           "BMS-833923 (XL139)",
           267
          ],
          [
           "BMS-833923 (XL139)",
           285
          ]
         ],
         "error_y": {
          "array": [
           1.610992383896777,
           0.5117686669211414
          ],
          "arrayminus": [
           1.610992383896777,
           0.5117686669211414
          ]
         },
         "hovertemplate": "<b>%{hovertext}</b><br><br>conc=%{x}<br>distance=%{y:.3f}<br>count_nuclei=%{customdata[1]:.1f}<extra></extra>",
         "hovertext": [
          "BMS-833923 (XL139)",
          "BMS-833923 (XL139)"
         ],
         "legendgroup": "BMS-833923 (XL139)",
         "line": {
          "color": "#FF97FF",
          "dash": "solid"
         },
         "marker": {
          "symbol": "circle"
         },
         "mode": "lines+markers",
         "name": "BMS-833923 (XL139)",
         "orientation": "v",
         "showlegend": true,
         "type": "scatter",
         "x": [
          0.833333,
          3.333333
         ],
         "xaxis": "x",
         "y": [
          13.33213915605381,
          7.242163259243211
         ],
         "yaxis": "y"
        },
        {
         "customdata": [
          [
           "GODLIFKIXOXQIS-UHFFFAOYSA-N",
           217
          ],
          [
           "GODLIFKIXOXQIS-UHFFFAOYSA-N",
           263
          ]
         ],
         "error_y": {
          "array": [
           0,
           0
          ],
          "arrayminus": [
           0,
           0
          ]
         },
         "hovertemplate": "<b>%{hovertext}</b><br><br>conc=%{x}<br>distance=%{y:.3f}<br>count_nuclei=%{customdata[1]:.1f}<extra></extra>",
         "hovertext": [
          "GODLIFKIXOXQIS-UHFFFAOYSA-N",
          "GODLIFKIXOXQIS-UHFFFAOYSA-N"
         ],
         "legendgroup": "GODLIFKIXOXQIS-UHFFFAOYSA-N",
         "line": {
          "color": "#FECB52",
          "dash": "solid"
         },
         "marker": {
          "symbol": "circle"
         },
         "mode": "lines+markers",
         "name": "GODLIFKIXOXQIS-UHFFFAOYSA-N",
         "orientation": "v",
         "showlegend": true,
         "type": "scatter",
         "x": [
          3.333333,
          10
         ],
         "xaxis": "x",
         "y": [
          18.476778344336687,
          7.304359361986596
         ],
         "yaxis": "y"
        },
        {
         "customdata": [
          [
           "Imatinib Mesylate (STI571)",
           255
          ],
          [
           "Imatinib Mesylate (STI571)",
           292
          ]
         ],
         "error_y": {
          "array": [
           0.2867382076672946,
           0.845258443720895
          ],
          "arrayminus": [
           0.2867382076672946,
           0.845258443720895
          ]
         },
         "hovertemplate": "<b>%{hovertext}</b><br><br>conc=%{x}<br>distance=%{y:.3f}<br>count_nuclei=%{customdata[1]:.1f}<extra></extra>",
         "hovertext": [
          "Imatinib Mesylate (STI571)",
          "Imatinib Mesylate (STI571)"
         ],
         "legendgroup": "Imatinib Mesylate (STI571)",
         "line": {
          "color": "#636efa",
          "dash": "solid"
         },
         "marker": {
          "symbol": "circle"
         },
         "mode": "lines+markers",
         "name": "Imatinib Mesylate (STI571)",
         "orientation": "v",
         "showlegend": true,
         "type": "scatter",
         "x": [
          3.333333,
          10
         ],
         "xaxis": "x",
         "y": [
          10.849209037281543,
          7.305184279605743
         ],
         "yaxis": "y"
        },
        {
         "customdata": [
          [
           "tecalcet",
           229
          ],
          [
           "tecalcet",
           264
          ]
         ],
         "error_y": {
          "array": [
           1.422305872128362,
           2.8055040866404006
          ],
          "arrayminus": [
           1.422305872128362,
           2.8055040866404006
          ]
         },
         "hovertemplate": "<b>%{hovertext}</b><br><br>conc=%{x}<br>distance=%{y:.3f}<br>count_nuclei=%{customdata[1]:.1f}<extra></extra>",
         "hovertext": [
          "tecalcet",
          "tecalcet"
         ],
         "legendgroup": "tecalcet",
         "line": {
          "color": "#EF553B",
          "dash": "solid"
         },
         "marker": {
          "symbol": "circle"
         },
         "mode": "lines+markers",
         "name": "tecalcet",
         "orientation": "v",
         "showlegend": true,
         "type": "scatter",
         "x": [
          3.333333,
          10
         ],
         "xaxis": "x",
         "y": [
          13.076755081080412,
          7.334563922539271
         ],
         "yaxis": "y"
        },
        {
         "customdata": [
          [
           "AMG-548",
           261
          ],
          [
           "AMG-548",
           284.5
          ]
         ],
         "error_y": {
          "array": [
           3.304075279595134,
           0.3600022503527125
          ],
          "arrayminus": [
           3.304075279595134,
           0.3600022503527125
          ]
         },
         "hovertemplate": "<b>%{hovertext}</b><br><br>conc=%{x}<br>distance=%{y:.3f}<br>count_nuclei=%{customdata[1]:.1f}<extra></extra>",
         "hovertext": [
          "AMG-548",
          "AMG-548"
         ],
         "legendgroup": "AMG-548",
         "line": {
          "color": "#00cc96",
          "dash": "solid"
         },
         "marker": {
          "symbol": "circle"
         },
         "mode": "lines+markers",
         "name": "AMG-548",
         "orientation": "v",
         "showlegend": true,
         "type": "scatter",
         "x": [
          3.333333,
          10
         ],
         "xaxis": "x",
         "y": [
          14.111412621399412,
          7.398317358271177
         ],
         "yaxis": "y"
        },
        {
         "customdata": [
          [
           "calpeptin",
           262
          ],
          [
           "calpeptin",
           285
          ]
         ],
         "error_y": {
          "array": [
           0.9606210827398644,
           2.9262794532601824
          ],
          "arrayminus": [
           0.9606210827398644,
           2.9262794532601824
          ]
         },
         "hovertemplate": "<b>%{hovertext}</b><br><br>conc=%{x}<br>distance=%{y:.3f}<br>count_nuclei=%{customdata[1]:.1f}<extra></extra>",
         "hovertext": [
          "calpeptin",
          "calpeptin"
         ],
         "legendgroup": "calpeptin",
         "line": {
          "color": "#ab63fa",
          "dash": "solid"
         },
         "marker": {
          "symbol": "circle"
         },
         "mode": "lines+markers",
         "name": "calpeptin",
         "orientation": "v",
         "showlegend": true,
         "type": "scatter",
         "x": [
          0.3,
          3.333333
         ],
         "xaxis": "x",
         "y": [
          7.6937969833293405,
          7.454207333356225
         ],
         "yaxis": "y"
        },
        {
         "customdata": [
          [
           "mibefradil",
           238
          ],
          [
           "mibefradil",
           275
          ]
         ],
         "error_y": {
          "array": [
           0.1215236001160242,
           2.173857307107194
          ],
          "arrayminus": [
           0.1215236001160242,
           2.173857307107194
          ]
         },
         "hovertemplate": "<b>%{hovertext}</b><br><br>conc=%{x}<br>distance=%{y:.3f}<br>count_nuclei=%{customdata[1]:.1f}<extra></extra>",
         "hovertext": [
          "mibefradil",
          "mibefradil"
         ],
         "legendgroup": "mibefradil",
         "line": {
          "color": "#FFA15A",
          "dash": "solid"
         },
         "marker": {
          "symbol": "circle"
         },
         "mode": "lines+markers",
         "name": "mibefradil",
         "orientation": "v",
         "showlegend": true,
         "type": "scatter",
         "x": [
          0.3,
          3.333333
         ],
         "xaxis": "x",
         "y": [
          18.29952595783825,
          7.454236918878396
         ],
         "yaxis": "y"
        },
        {
         "customdata": [
          [
           "TRIMIPRAMINE MALEATE",
           277
          ]
         ],
         "error_y": {
          "array": [
           0.8508151011719294
          ],
          "arrayminus": [
           0.8508151011719294
          ]
         },
         "hovertemplate": "<b>%{hovertext}</b><br><br>conc=%{x}<br>distance=%{y:.3f}<br>count_nuclei=%{customdata[1]:.1f}<extra></extra>",
         "hovertext": [
          "TRIMIPRAMINE MALEATE"
         ],
         "legendgroup": "TRIMIPRAMINE MALEATE",
         "line": {
          "color": "#19d3f3",
          "dash": "solid"
         },
         "marker": {
          "symbol": "circle"
         },
         "mode": "lines+markers",
         "name": "TRIMIPRAMINE MALEATE",
         "orientation": "v",
         "showlegend": true,
         "type": "scatter",
         "x": [
          10
         ],
         "xaxis": "x",
         "y": [
          7.461079349658722
         ],
         "yaxis": "y"
        },
        {
         "customdata": [
          [
           "DD4386002",
           236
          ],
          [
           "DD4386002",
           270
          ]
         ],
         "error_y": {
          "array": [
           2.203349437280508,
           0.1779417779790444
          ],
          "arrayminus": [
           2.203349437280508,
           0.1779417779790444
          ]
         },
         "hovertemplate": "<b>%{hovertext}</b><br><br>conc=%{x}<br>distance=%{y:.3f}<br>count_nuclei=%{customdata[1]:.1f}<extra></extra>",
         "hovertext": [
          "DD4386002",
          "DD4386002"
         ],
         "legendgroup": "DD4386002",
         "line": {
          "color": "#FF6692",
          "dash": "solid"
         },
         "marker": {
          "symbol": "circle"
         },
         "mode": "lines+markers",
         "name": "DD4386002",
         "orientation": "v",
         "showlegend": true,
         "type": "scatter",
         "x": [
          0.833333,
          3.333333
         ],
         "xaxis": "x",
         "y": [
          14.040000426959708,
          7.614461067257634
         ],
         "yaxis": "y"
        },
        {
         "customdata": [
          [
           "igmesine",
           263.5
          ]
         ],
         "error_y": {
          "array": [
           2.3443264575636684
          ],
          "arrayminus": [
           2.3443264575636684
          ]
         },
         "hovertemplate": "<b>%{hovertext}</b><br><br>conc=%{x}<br>distance=%{y:.3f}<br>count_nuclei=%{customdata[1]:.1f}<extra></extra>",
         "hovertext": [
          "igmesine"
         ],
         "legendgroup": "igmesine",
         "line": {
          "color": "#B6E880",
          "dash": "solid"
         },
         "marker": {
          "symbol": "circle"
         },
         "mode": "lines+markers",
         "name": "igmesine",
         "orientation": "v",
         "showlegend": true,
         "type": "scatter",
         "x": [
          10
         ],
         "xaxis": "x",
         "y": [
          7.616441865682691
         ],
         "yaxis": "y"
        },
        {
         "customdata": [
          [
           "ITXVOUSORXSTQH-BTQNPOSSSA-N",
           240
          ],
          [
           "ITXVOUSORXSTQH-BTQNPOSSSA-N",
           257
          ]
         ],
         "error_y": {
          "array": [
           0,
           0
          ],
          "arrayminus": [
           0,
           0
          ]
         },
         "hovertemplate": "<b>%{hovertext}</b><br><br>conc=%{x}<br>distance=%{y:.3f}<br>count_nuclei=%{customdata[1]:.1f}<extra></extra>",
         "hovertext": [
          "ITXVOUSORXSTQH-BTQNPOSSSA-N",
          "ITXVOUSORXSTQH-BTQNPOSSSA-N"
         ],
         "legendgroup": "ITXVOUSORXSTQH-BTQNPOSSSA-N",
         "line": {
          "color": "#FF97FF",
          "dash": "solid"
         },
         "marker": {
          "symbol": "circle"
         },
         "mode": "lines+markers",
         "name": "ITXVOUSORXSTQH-BTQNPOSSSA-N",
         "orientation": "v",
         "showlegend": true,
         "type": "scatter",
         "x": [
          3.333333,
          10
         ],
         "xaxis": "x",
         "y": [
          11.596000517784097,
          7.62988946803147
         ],
         "yaxis": "y"
        },
        {
         "customdata": [
          [
           "7-methoxytacrine",
           243
          ],
          [
           "7-methoxytacrine",
           281
          ]
         ],
         "error_y": {
          "array": [
           0.0654744607757873,
           0.0173237399379475
          ],
          "arrayminus": [
           0.0654744607757873,
           0.0173237399379475
          ]
         },
         "hovertemplate": "<b>%{hovertext}</b><br><br>conc=%{x}<br>distance=%{y:.3f}<br>count_nuclei=%{customdata[1]:.1f}<extra></extra>",
         "hovertext": [
          "7-methoxytacrine",
          "7-methoxytacrine"
         ],
         "legendgroup": "7-methoxytacrine",
         "line": {
          "color": "#FECB52",
          "dash": "solid"
         },
         "marker": {
          "symbol": "circle"
         },
         "mode": "lines+markers",
         "name": "7-methoxytacrine",
         "orientation": "v",
         "showlegend": true,
         "type": "scatter",
         "x": [
          3.333333,
          10
         ],
         "xaxis": "x",
         "y": [
          12.876903847857143,
          7.666285792159202
         ],
         "yaxis": "y"
        },
        {
         "customdata": [
          [
           "CYM-5442",
           251
          ],
          [
           "CYM-5442",
           260
          ]
         ],
         "error_y": {
          "array": [
           0.451120628965576,
           0.0051467697527707
          ],
          "arrayminus": [
           0.451120628965576,
           0.0051467697527707
          ]
         },
         "hovertemplate": "<b>%{hovertext}</b><br><br>conc=%{x}<br>distance=%{y:.3f}<br>count_nuclei=%{customdata[1]:.1f}<extra></extra>",
         "hovertext": [
          "CYM-5442",
          "CYM-5442"
         ],
         "legendgroup": "CYM-5442",
         "line": {
          "color": "#636efa",
          "dash": "solid"
         },
         "marker": {
          "symbol": "circle"
         },
         "mode": "lines+markers",
         "name": "CYM-5442",
         "orientation": "v",
         "showlegend": true,
         "type": "scatter",
         "x": [
          3.333333,
          10
         ],
         "xaxis": "x",
         "y": [
          9.86980525849988,
          7.688291266874923
         ],
         "yaxis": "y"
        },
        {
         "customdata": [
          [
           "Bazedoxifene HCl",
           235
          ],
          [
           "Bazedoxifene HCl",
           276
          ]
         ],
         "error_y": {
          "array": [
           0.3896451437085222,
           0.2702717609107727
          ],
          "arrayminus": [
           0.3896451437085222,
           0.2702717609107727
          ]
         },
         "hovertemplate": "<b>%{hovertext}</b><br><br>conc=%{x}<br>distance=%{y:.3f}<br>count_nuclei=%{customdata[1]:.1f}<extra></extra>",
         "hovertext": [
          "Bazedoxifene HCl",
          "Bazedoxifene HCl"
         ],
         "legendgroup": "Bazedoxifene HCl",
         "line": {
          "color": "#EF553B",
          "dash": "solid"
         },
         "marker": {
          "symbol": "circle"
         },
         "mode": "lines+markers",
         "name": "Bazedoxifene HCl",
         "orientation": "v",
         "showlegend": true,
         "type": "scatter",
         "x": [
          0.833333,
          3.333333
         ],
         "xaxis": "x",
         "y": [
          13.510550691115409,
          7.695850212973623
         ],
         "yaxis": "y"
        },
        {
         "customdata": [
          [
           "KN-62",
           252
          ]
         ],
         "error_y": {
          "array": [
           0.3661546275392613
          ],
          "arrayminus": [
           0.3661546275392613
          ]
         },
         "hovertemplate": "<b>%{hovertext}</b><br><br>conc=%{x}<br>distance=%{y:.3f}<br>count_nuclei=%{customdata[1]:.1f}<extra></extra>",
         "hovertext": [
          "KN-62"
         ],
         "legendgroup": "KN-62",
         "line": {
          "color": "#00cc96",
          "dash": "solid"
         },
         "marker": {
          "symbol": "circle"
         },
         "mode": "lines+markers",
         "name": "KN-62",
         "orientation": "v",
         "showlegend": true,
         "type": "scatter",
         "x": [
          10
         ],
         "xaxis": "x",
         "y": [
          7.702901889215767
         ],
         "yaxis": "y"
        },
        {
         "customdata": [
          [
           "OXELAIDIN CITRATE",
           277.75
          ]
         ],
         "error_y": {
          "array": [
           1.6380472308578913
          ],
          "arrayminus": [
           1.6380472308578913
          ]
         },
         "hovertemplate": "<b>%{hovertext}</b><br><br>conc=%{x}<br>distance=%{y:.3f}<br>count_nuclei=%{customdata[1]:.1f}<extra></extra>",
         "hovertext": [
          "OXELAIDIN CITRATE"
         ],
         "legendgroup": "OXELAIDIN CITRATE",
         "line": {
          "color": "#ab63fa",
          "dash": "solid"
         },
         "marker": {
          "symbol": "circle"
         },
         "mode": "lines+markers",
         "name": "OXELAIDIN CITRATE",
         "orientation": "v",
         "showlegend": true,
         "type": "scatter",
         "x": [
          10
         ],
         "xaxis": "x",
         "y": [
          7.704916572442618
         ],
         "yaxis": "y"
        },
        {
         "customdata": [
          [
           "UNC1999",
           252
          ],
          [
           "UNC1999",
           277
          ]
         ],
         "error_y": {
          "array": [
           0.7557163502796502,
           0.8552336588923577
          ],
          "arrayminus": [
           0.7557163502796502,
           0.8552336588923577
          ]
         },
         "hovertemplate": "<b>%{hovertext}</b><br><br>conc=%{x}<br>distance=%{y:.3f}<br>count_nuclei=%{customdata[1]:.1f}<extra></extra>",
         "hovertext": [
          "UNC1999",
          "UNC1999"
         ],
         "legendgroup": "UNC1999",
         "line": {
          "color": "#FFA15A",
          "dash": "solid"
         },
         "marker": {
          "symbol": "circle"
         },
         "mode": "lines+markers",
         "name": "UNC1999",
         "orientation": "v",
         "showlegend": true,
         "type": "scatter",
         "x": [
          3.333333,
          10
         ],
         "xaxis": "x",
         "y": [
          13.316692992247546,
          7.713033669425799
         ],
         "yaxis": "y"
        },
        {
         "customdata": [
          [
           "VU0155069",
           288.5
          ]
         ],
         "error_y": {
          "array": [
           0.434592352262495
          ],
          "arrayminus": [
           0.434592352262495
          ]
         },
         "hovertemplate": "<b>%{hovertext}</b><br><br>conc=%{x}<br>distance=%{y:.3f}<br>count_nuclei=%{customdata[1]:.1f}<extra></extra>",
         "hovertext": [
          "VU0155069"
         ],
         "legendgroup": "VU0155069",
         "line": {
          "color": "#19d3f3",
          "dash": "solid"
         },
         "marker": {
          "symbol": "circle"
         },
         "mode": "lines+markers",
         "name": "VU0155069",
         "orientation": "v",
         "showlegend": true,
         "type": "scatter",
         "x": [
          10
         ],
         "xaxis": "x",
         "y": [
          7.739963959761141
         ],
         "yaxis": "y"
        },
        {
         "customdata": [
          [
           "U-50488-(-)",
           278
          ]
         ],
         "error_y": {
          "array": [
           0.54955432160531
          ],
          "arrayminus": [
           0.54955432160531
          ]
         },
         "hovertemplate": "<b>%{hovertext}</b><br><br>conc=%{x}<br>distance=%{y:.3f}<br>count_nuclei=%{customdata[1]:.1f}<extra></extra>",
         "hovertext": [
          "U-50488-(-)"
         ],
         "legendgroup": "U-50488-(-)",
         "line": {
          "color": "#FF6692",
          "dash": "solid"
         },
         "marker": {
          "symbol": "circle"
         },
         "mode": "lines+markers",
         "name": "U-50488-(-)",
         "orientation": "v",
         "showlegend": true,
         "type": "scatter",
         "x": [
          10
         ],
         "xaxis": "x",
         "y": [
          7.748968116347399
         ],
         "yaxis": "y"
        },
        {
         "customdata": [
          [
           "EMETINE DIHYDROCHLORIDE",
           225
          ]
         ],
         "error_y": {
          "array": [
           0.1900008342330954
          ],
          "arrayminus": [
           0.1900008342330954
          ]
         },
         "hovertemplate": "<b>%{hovertext}</b><br><br>conc=%{x}<br>distance=%{y:.3f}<br>count_nuclei=%{customdata[1]:.1f}<extra></extra>",
         "hovertext": [
          "EMETINE DIHYDROCHLORIDE"
         ],
         "legendgroup": "EMETINE DIHYDROCHLORIDE",
         "line": {
          "color": "#B6E880",
          "dash": "solid"
         },
         "marker": {
          "symbol": "circle"
         },
         "mode": "lines+markers",
         "name": "EMETINE DIHYDROCHLORIDE",
         "orientation": "v",
         "showlegend": true,
         "type": "scatter",
         "x": [
          0.1
         ],
         "xaxis": "x",
         "y": [
          7.767810301476281
         ],
         "yaxis": "y"
        },
        {
         "customdata": [
          [
           "lidoflazine",
           253
          ]
         ],
         "error_y": {
          "array": [
           0.4172476172273276
          ],
          "arrayminus": [
           0.4172476172273276
          ]
         },
         "hovertemplate": "<b>%{hovertext}</b><br><br>conc=%{x}<br>distance=%{y:.3f}<br>count_nuclei=%{customdata[1]:.1f}<extra></extra>",
         "hovertext": [
          "lidoflazine"
         ],
         "legendgroup": "lidoflazine",
         "line": {
          "color": "#FF97FF",
          "dash": "solid"
         },
         "marker": {
          "symbol": "circle"
         },
         "mode": "lines+markers",
         "name": "lidoflazine",
         "orientation": "v",
         "showlegend": true,
         "type": "scatter",
         "x": [
          10
         ],
         "xaxis": "x",
         "y": [
          7.771049029250876
         ],
         "yaxis": "y"
        },
        {
         "customdata": [
          [
           "UBIRBSHOBFFLDX-UHFFFAOYSA-N",
           254
          ],
          [
           "UBIRBSHOBFFLDX-UHFFFAOYSA-N",
           253
          ]
         ],
         "error_y": {
          "array": [
           0,
           0
          ],
          "arrayminus": [
           0,
           0
          ]
         },
         "hovertemplate": "<b>%{hovertext}</b><br><br>conc=%{x}<br>distance=%{y:.3f}<br>count_nuclei=%{customdata[1]:.1f}<extra></extra>",
         "hovertext": [
          "UBIRBSHOBFFLDX-UHFFFAOYSA-N",
          "UBIRBSHOBFFLDX-UHFFFAOYSA-N"
         ],
         "legendgroup": "UBIRBSHOBFFLDX-UHFFFAOYSA-N",
         "line": {
          "color": "#FECB52",
          "dash": "solid"
         },
         "marker": {
          "symbol": "circle"
         },
         "mode": "lines+markers",
         "name": "UBIRBSHOBFFLDX-UHFFFAOYSA-N",
         "orientation": "v",
         "showlegend": true,
         "type": "scatter",
         "x": [
          3.333333,
          10
         ],
         "xaxis": "x",
         "y": [
          11.259130850134284,
          7.775182572398928
         ],
         "yaxis": "y"
        },
        {
         "customdata": [
          [
           "BENZYDAMINE HYDROCHLORIDE",
           259.25
          ]
         ],
         "error_y": {
          "array": [
           3.946734317177313
          ],
          "arrayminus": [
           3.946734317177313
          ]
         },
         "hovertemplate": "<b>%{hovertext}</b><br><br>conc=%{x}<br>distance=%{y:.3f}<br>count_nuclei=%{customdata[1]:.1f}<extra></extra>",
         "hovertext": [
          "BENZYDAMINE HYDROCHLORIDE"
         ],
         "legendgroup": "BENZYDAMINE HYDROCHLORIDE",
         "line": {
          "color": "#636efa",
          "dash": "solid"
         },
         "marker": {
          "symbol": "circle"
         },
         "mode": "lines+markers",
         "name": "BENZYDAMINE HYDROCHLORIDE",
         "orientation": "v",
         "showlegend": true,
         "type": "scatter",
         "x": [
          10
         ],
         "xaxis": "x",
         "y": [
          7.790431818443222
         ],
         "yaxis": "y"
        },
        {
         "customdata": [
          [
           "thiethylperazine",
           230
          ],
          [
           "thiethylperazine",
           269
          ]
         ],
         "error_y": {
          "array": [
           0.8477046804990955,
           0.8831909808830627
          ],
          "arrayminus": [
           0.8477046804990955,
           0.8831909808830627
          ]
         },
         "hovertemplate": "<b>%{hovertext}</b><br><br>conc=%{x}<br>distance=%{y:.3f}<br>count_nuclei=%{customdata[1]:.1f}<extra></extra>",
         "hovertext": [
          "thiethylperazine",
          "thiethylperazine"
         ],
         "legendgroup": "thiethylperazine",
         "line": {
          "color": "#EF553B",
          "dash": "solid"
         },
         "marker": {
          "symbol": "circle"
         },
         "mode": "lines+markers",
         "name": "thiethylperazine",
         "orientation": "v",
         "showlegend": true,
         "type": "scatter",
         "x": [
          0.3,
          3.333333
         ],
         "xaxis": "x",
         "y": [
          14.401582419611486,
          7.801500840434967
         ],
         "yaxis": "y"
        },
        {
         "customdata": [
          [
           "Siramesine (hydrochloride)",
           253
          ],
          [
           "Siramesine (hydrochloride)",
           268
          ]
         ],
         "error_y": {
          "array": [
           0.1079724973817697,
           0.1793141844139656
          ],
          "arrayminus": [
           0.1079724973817697,
           0.1793141844139656
          ]
         },
         "hovertemplate": "<b>%{hovertext}</b><br><br>conc=%{x}<br>distance=%{y:.3f}<br>count_nuclei=%{customdata[1]:.1f}<extra></extra>",
         "hovertext": [
          "Siramesine (hydrochloride)",
          "Siramesine (hydrochloride)"
         ],
         "legendgroup": "Siramesine (hydrochloride)",
         "line": {
          "color": "#00cc96",
          "dash": "solid"
         },
         "marker": {
          "symbol": "circle"
         },
         "mode": "lines+markers",
         "name": "Siramesine (hydrochloride)",
         "orientation": "v",
         "showlegend": true,
         "type": "scatter",
         "x": [
          0.1,
          0.3
         ],
         "xaxis": "x",
         "y": [
          14.281650447725651,
          7.808375311530783
         ],
         "yaxis": "y"
        },
        {
         "customdata": [
          [
           "FLUOXETINE HYDROCHLORIDE",
           266
          ],
          [
           "FLUOXETINE HYDROCHLORIDE",
           283
          ]
         ],
         "error_y": {
          "array": [
           0.9578367706540476,
           0.1814130948618126
          ],
          "arrayminus": [
           0.9578367706540476,
           0.1814130948618126
          ]
         },
         "hovertemplate": "<b>%{hovertext}</b><br><br>conc=%{x}<br>distance=%{y:.3f}<br>count_nuclei=%{customdata[1]:.1f}<extra></extra>",
         "hovertext": [
          "FLUOXETINE HYDROCHLORIDE",
          "FLUOXETINE HYDROCHLORIDE"
         ],
         "legendgroup": "FLUOXETINE HYDROCHLORIDE",
         "line": {
          "color": "#ab63fa",
          "dash": "solid"
         },
         "marker": {
          "symbol": "circle"
         },
         "mode": "lines+markers",
         "name": "FLUOXETINE HYDROCHLORIDE",
         "orientation": "v",
         "showlegend": true,
         "type": "scatter",
         "x": [
          3.333333,
          10
         ],
         "xaxis": "x",
         "y": [
          10.16435011474308,
          7.820954270331945
         ],
         "yaxis": "y"
        },
        {
         "customdata": [
          [
           "Chlorpromazine hydrochloride",
           256
          ],
          [
           "Chlorpromazine hydrochloride",
           273
          ]
         ],
         "error_y": {
          "array": [
           0,
           0
          ],
          "arrayminus": [
           0,
           0
          ]
         },
         "hovertemplate": "<b>%{hovertext}</b><br><br>conc=%{x}<br>distance=%{y:.3f}<br>count_nuclei=%{customdata[1]:.1f}<extra></extra>",
         "hovertext": [
          "Chlorpromazine hydrochloride",
          "Chlorpromazine hydrochloride"
         ],
         "legendgroup": "Chlorpromazine hydrochloride",
         "line": {
          "color": "#FFA15A",
          "dash": "solid"
         },
         "marker": {
          "symbol": "circle"
         },
         "mode": "lines+markers",
         "name": "Chlorpromazine hydrochloride",
         "orientation": "v",
         "showlegend": true,
         "type": "scatter",
         "x": [
          3.333333,
          10
         ],
         "xaxis": "x",
         "y": [
          8.802656772149982,
          7.841951604060696
         ],
         "yaxis": "y"
        },
        {
         "customdata": [
          [
           "LX1606 hippurate",
           233
          ]
         ],
         "error_y": {
          "array": [
           1.3724401544968288
          ],
          "arrayminus": [
           1.3724401544968288
          ]
         },
         "hovertemplate": "<b>%{hovertext}</b><br><br>conc=%{x}<br>distance=%{y:.3f}<br>count_nuclei=%{customdata[1]:.1f}<extra></extra>",
         "hovertext": [
          "LX1606 hippurate"
         ],
         "legendgroup": "LX1606 hippurate",
         "line": {
          "color": "#19d3f3",
          "dash": "solid"
         },
         "marker": {
          "symbol": "circle"
         },
         "mode": "lines+markers",
         "name": "LX1606 hippurate",
         "orientation": "v",
         "showlegend": true,
         "type": "scatter",
         "x": [
          10
         ],
         "xaxis": "x",
         "y": [
          7.841966029673774
         ],
         "yaxis": "y"
        },
        {
         "customdata": [
          [
           "Toremifene citrate",
           261.5
          ]
         ],
         "error_y": {
          "array": [
           0.0950822260111632
          ],
          "arrayminus": [
           0.0950822260111632
          ]
         },
         "hovertemplate": "<b>%{hovertext}</b><br><br>conc=%{x}<br>distance=%{y:.3f}<br>count_nuclei=%{customdata[1]:.1f}<extra></extra>",
         "hovertext": [
          "Toremifene citrate"
         ],
         "legendgroup": "Toremifene citrate",
         "line": {
          "color": "#FF6692",
          "dash": "solid"
         },
         "marker": {
          "symbol": "circle"
         },
         "mode": "lines+markers",
         "name": "Toremifene citrate",
         "orientation": "v",
         "showlegend": true,
         "type": "scatter",
         "x": [
          10
         ],
         "xaxis": "x",
         "y": [
          7.853584300784458
         ],
         "yaxis": "y"
        },
        {
         "customdata": [
          [
           "CEPHARANTHINE",
           252
          ],
          [
           "CEPHARANTHINE",
           281
          ]
         ],
         "error_y": {
          "array": [
           0.8013193131782455,
           0.4517886642427413
          ],
          "arrayminus": [
           0.8013193131782455,
           0.4517886642427413
          ]
         },
         "hovertemplate": "<b>%{hovertext}</b><br><br>conc=%{x}<br>distance=%{y:.3f}<br>count_nuclei=%{customdata[1]:.1f}<extra></extra>",
         "hovertext": [
          "CEPHARANTHINE",
          "CEPHARANTHINE"
         ],
         "legendgroup": "CEPHARANTHINE",
         "line": {
          "color": "#B6E880",
          "dash": "solid"
         },
         "marker": {
          "symbol": "circle"
         },
         "mode": "lines+markers",
         "name": "CEPHARANTHINE",
         "orientation": "v",
         "showlegend": true,
         "type": "scatter",
         "x": [
          3.333333,
          10
         ],
         "xaxis": "x",
         "y": [
          11.267224672754535,
          7.868155861369223
         ],
         "yaxis": "y"
        },
        {
         "customdata": [
          [
           "metixene",
           258
          ],
          [
           "metixene",
           300
          ]
         ],
         "error_y": {
          "array": [
           1.128785325246783,
           1.2578512395375023
          ],
          "arrayminus": [
           1.128785325246783,
           1.2578512395375023
          ]
         },
         "hovertemplate": "<b>%{hovertext}</b><br><br>conc=%{x}<br>distance=%{y:.3f}<br>count_nuclei=%{customdata[1]:.1f}<extra></extra>",
         "hovertext": [
          "metixene",
          "metixene"
         ],
         "legendgroup": "metixene",
         "line": {
          "color": "#FF97FF",
          "dash": "solid"
         },
         "marker": {
          "symbol": "circle"
         },
         "mode": "lines+markers",
         "name": "metixene",
         "orientation": "v",
         "showlegend": true,
         "type": "scatter",
         "x": [
          0.833333,
          3.333333
         ],
         "xaxis": "x",
         "y": [
          12.149843873341304,
          7.880773200447865
         ],
         "yaxis": "y"
        },
        {
         "customdata": [
          [
           "Y-26763",
           256
          ],
          [
           "Y-26763",
           276
          ]
         ],
         "error_y": {
          "array": [
           1.1137169642166531,
           2.4256050656329275
          ],
          "arrayminus": [
           1.1137169642166531,
           2.4256050656329275
          ]
         },
         "hovertemplate": "<b>%{hovertext}</b><br><br>conc=%{x}<br>distance=%{y:.3f}<br>count_nuclei=%{customdata[1]:.1f}<extra></extra>",
         "hovertext": [
          "Y-26763",
          "Y-26763"
         ],
         "legendgroup": "Y-26763",
         "line": {
          "color": "#FECB52",
          "dash": "solid"
         },
         "marker": {
          "symbol": "circle"
         },
         "mode": "lines+markers",
         "name": "Y-26763",
         "orientation": "v",
         "showlegend": true,
         "type": "scatter",
         "x": [
          3.333333,
          10
         ],
         "xaxis": "x",
         "y": [
          10.836805499499537,
          7.891814632645746
         ],
         "yaxis": "y"
        },
        {
         "customdata": [
          [
           "YIL-781",
           279
          ]
         ],
         "error_y": {
          "array": [
           1.5856801371867189
          ],
          "arrayminus": [
           1.5856801371867189
          ]
         },
         "hovertemplate": "<b>%{hovertext}</b><br><br>conc=%{x}<br>distance=%{y:.3f}<br>count_nuclei=%{customdata[1]:.1f}<extra></extra>",
         "hovertext": [
          "YIL-781"
         ],
         "legendgroup": "YIL-781",
         "line": {
          "color": "#636efa",
          "dash": "solid"
         },
         "marker": {
          "symbol": "circle"
         },
         "mode": "lines+markers",
         "name": "YIL-781",
         "orientation": "v",
         "showlegend": true,
         "type": "scatter",
         "x": [
          10
         ],
         "xaxis": "x",
         "y": [
          7.900113100086546
         ],
         "yaxis": "y"
        },
        {
         "customdata": [
          [
           "CLEMASTINE FUMARATE",
           281
          ],
          [
           "CLEMASTINE FUMARATE",
           280
          ]
         ],
         "error_y": {
          "array": [
           0.6524050181702226,
           5.198453236647182
          ],
          "arrayminus": [
           0.6524050181702226,
           5.198453236647182
          ]
         },
         "hovertemplate": "<b>%{hovertext}</b><br><br>conc=%{x}<br>distance=%{y:.3f}<br>count_nuclei=%{customdata[1]:.1f}<extra></extra>",
         "hovertext": [
          "CLEMASTINE FUMARATE",
          "CLEMASTINE FUMARATE"
         ],
         "legendgroup": "CLEMASTINE FUMARATE",
         "line": {
          "color": "#EF553B",
          "dash": "solid"
         },
         "marker": {
          "symbol": "circle"
         },
         "mode": "lines+markers",
         "name": "CLEMASTINE FUMARATE",
         "orientation": "v",
         "showlegend": true,
         "type": "scatter",
         "x": [
          3.333333,
          10
         ],
         "xaxis": "x",
         "y": [
          8.36631377810909,
          7.910347159910722
         ],
         "yaxis": "y"
        },
        {
         "customdata": [
          [
           "IT1t",
           238
          ],
          [
           "IT1t",
           264
          ]
         ],
         "error_y": {
          "array": [
           0.397195542973483,
           0.2565411826960844
          ],
          "arrayminus": [
           0.397195542973483,
           0.2565411826960844
          ]
         },
         "hovertemplate": "<b>%{hovertext}</b><br><br>conc=%{x}<br>distance=%{y:.3f}<br>count_nuclei=%{customdata[1]:.1f}<extra></extra>",
         "hovertext": [
          "IT1t",
          "IT1t"
         ],
         "legendgroup": "IT1t",
         "line": {
          "color": "#00cc96",
          "dash": "solid"
         },
         "marker": {
          "symbol": "circle"
         },
         "mode": "lines+markers",
         "name": "IT1t",
         "orientation": "v",
         "showlegend": true,
         "type": "scatter",
         "x": [
          0.3,
          3.333333
         ],
         "xaxis": "x",
         "y": [
          12.798836201742262,
          7.938515070300204
         ],
         "yaxis": "y"
        },
        {
         "customdata": [
          [
           "NPS-2143 (SB262470)",
           245
          ],
          [
           "NPS-2143 (SB262470)",
           256
          ]
         ],
         "error_y": {
          "array": [
           0.6887627636857125,
           0.9464080427488292
          ],
          "arrayminus": [
           0.6887627636857125,
           0.9464080427488292
          ]
         },
         "hovertemplate": "<b>%{hovertext}</b><br><br>conc=%{x}<br>distance=%{y:.3f}<br>count_nuclei=%{customdata[1]:.1f}<extra></extra>",
         "hovertext": [
          "NPS-2143 (SB262470)",
          "NPS-2143 (SB262470)"
         ],
         "legendgroup": "NPS-2143 (SB262470)",
         "line": {
          "color": "#ab63fa",
          "dash": "solid"
         },
         "marker": {
          "symbol": "circle"
         },
         "mode": "lines+markers",
         "name": "NPS-2143 (SB262470)",
         "orientation": "v",
         "showlegend": true,
         "type": "scatter",
         "x": [
          0.3,
          3.333333
         ],
         "xaxis": "x",
         "y": [
          14.512725562263302,
          7.984305387448129
         ],
         "yaxis": "y"
        },
        {
         "customdata": [
          [
           "PERHEXILINE MALEATE",
           241
          ],
          [
           "PERHEXILINE MALEATE",
           279
          ]
         ],
         "error_y": {
          "array": [
           0.5707193279733271,
           1.2231234926040877
          ],
          "arrayminus": [
           0.5707193279733271,
           1.2231234926040877
          ]
         },
         "hovertemplate": "<b>%{hovertext}</b><br><br>conc=%{x}<br>distance=%{y:.3f}<br>count_nuclei=%{customdata[1]:.1f}<extra></extra>",
         "hovertext": [
          "PERHEXILINE MALEATE",
          "PERHEXILINE MALEATE"
         ],
         "legendgroup": "PERHEXILINE MALEATE",
         "line": {
          "color": "#FFA15A",
          "dash": "solid"
         },
         "marker": {
          "symbol": "circle"
         },
         "mode": "lines+markers",
         "name": "PERHEXILINE MALEATE",
         "orientation": "v",
         "showlegend": true,
         "type": "scatter",
         "x": [
          0.833333,
          3.333333
         ],
         "xaxis": "x",
         "y": [
          15.243492905844638,
          7.988010419946536
         ],
         "yaxis": "y"
        },
        {
         "customdata": [
          [
           "PQRHLAKBRMUOGG-NGEOYAOYSA-N",
           256
          ],
          [
           "PQRHLAKBRMUOGG-NGEOYAOYSA-N",
           272.5
          ]
         ],
         "error_y": {
          "array": [
           0,
           0
          ],
          "arrayminus": [
           0,
           0
          ]
         },
         "hovertemplate": "<b>%{hovertext}</b><br><br>conc=%{x}<br>distance=%{y:.3f}<br>count_nuclei=%{customdata[1]:.1f}<extra></extra>",
         "hovertext": [
          "PQRHLAKBRMUOGG-NGEOYAOYSA-N",
          "PQRHLAKBRMUOGG-NGEOYAOYSA-N"
         ],
         "legendgroup": "PQRHLAKBRMUOGG-NGEOYAOYSA-N",
         "line": {
          "color": "#19d3f3",
          "dash": "solid"
         },
         "marker": {
          "symbol": "circle"
         },
         "mode": "lines+markers",
         "name": "PQRHLAKBRMUOGG-NGEOYAOYSA-N",
         "orientation": "v",
         "showlegend": true,
         "type": "scatter",
         "x": [
          3.333333,
          10
         ],
         "xaxis": "x",
         "y": [
          12.033078067795584,
          7.988763844590971
         ],
         "yaxis": "y"
        },
        {
         "customdata": [
          [
           "TC1",
           258.5
          ]
         ],
         "error_y": {
          "array": [
           0.5226843625549584
          ],
          "arrayminus": [
           0.5226843625549584
          ]
         },
         "hovertemplate": "<b>%{hovertext}</b><br><br>conc=%{x}<br>distance=%{y:.3f}<br>count_nuclei=%{customdata[1]:.1f}<extra></extra>",
         "hovertext": [
          "TC1"
         ],
         "legendgroup": "TC1",
         "line": {
          "color": "#FF6692",
          "dash": "solid"
         },
         "marker": {
          "symbol": "circle"
         },
         "mode": "lines+markers",
         "name": "TC1",
         "orientation": "v",
         "showlegend": true,
         "type": "scatter",
         "x": [
          10
         ],
         "xaxis": "x",
         "y": [
          7.990819781149621
         ],
         "yaxis": "y"
        },
        {
         "customdata": [
          [
           "MR-16728",
           289.25
          ]
         ],
         "error_y": {
          "array": [
           0.3188181331680813
          ],
          "arrayminus": [
           0.3188181331680813
          ]
         },
         "hovertemplate": "<b>%{hovertext}</b><br><br>conc=%{x}<br>distance=%{y:.3f}<br>count_nuclei=%{customdata[1]:.1f}<extra></extra>",
         "hovertext": [
          "MR-16728"
         ],
         "legendgroup": "MR-16728",
         "line": {
          "color": "#B6E880",
          "dash": "solid"
         },
         "marker": {
          "symbol": "circle"
         },
         "mode": "lines+markers",
         "name": "MR-16728",
         "orientation": "v",
         "showlegend": true,
         "type": "scatter",
         "x": [
          10
         ],
         "xaxis": "x",
         "y": [
          7.991832607644273
         ],
         "yaxis": "y"
        },
        {
         "customdata": [
          [
           "Endoxifen HCl",
           282
          ],
          [
           "Endoxifen HCl",
           269
          ]
         ],
         "error_y": {
          "array": [
           1.804542183907408,
           0.3204327142242533
          ],
          "arrayminus": [
           1.804542183907408,
           0.3204327142242533
          ]
         },
         "hovertemplate": "<b>%{hovertext}</b><br><br>conc=%{x}<br>distance=%{y:.3f}<br>count_nuclei=%{customdata[1]:.1f}<extra></extra>",
         "hovertext": [
          "Endoxifen HCl",
          "Endoxifen HCl"
         ],
         "legendgroup": "Endoxifen HCl",
         "line": {
          "color": "#FF97FF",
          "dash": "solid"
         },
         "marker": {
          "symbol": "circle"
         },
         "mode": "lines+markers",
         "name": "Endoxifen HCl",
         "orientation": "v",
         "showlegend": true,
         "type": "scatter",
         "x": [
          3.333333,
          10
         ],
         "xaxis": "x",
         "y": [
          8.558017486013885,
          8.002905550164769
         ],
         "yaxis": "y"
        },
        {
         "customdata": [
          [
           "PNEUTZYKDZXVLB-UHFFFAOYSA-N",
           232
          ],
          [
           "PNEUTZYKDZXVLB-UHFFFAOYSA-N",
           250
          ]
         ],
         "error_y": {
          "array": [
           0,
           0
          ],
          "arrayminus": [
           0,
           0
          ]
         },
         "hovertemplate": "<b>%{hovertext}</b><br><br>conc=%{x}<br>distance=%{y:.3f}<br>count_nuclei=%{customdata[1]:.1f}<extra></extra>",
         "hovertext": [
          "PNEUTZYKDZXVLB-UHFFFAOYSA-N",
          "PNEUTZYKDZXVLB-UHFFFAOYSA-N"
         ],
         "legendgroup": "PNEUTZYKDZXVLB-UHFFFAOYSA-N",
         "line": {
          "color": "#FECB52",
          "dash": "solid"
         },
         "marker": {
          "symbol": "circle"
         },
         "mode": "lines+markers",
         "name": "PNEUTZYKDZXVLB-UHFFFAOYSA-N",
         "orientation": "v",
         "showlegend": true,
         "type": "scatter",
         "x": [
          3.333333,
          10
         ],
         "xaxis": "x",
         "y": [
          14.13060678748905,
          8.00877448710449
         ],
         "yaxis": "y"
        },
        {
         "customdata": [
          [
           "THIORIDAZINE HYDROCHLORIDE",
           250
          ],
          [
           "THIORIDAZINE HYDROCHLORIDE",
           281
          ]
         ],
         "error_y": {
          "array": [
           0.2367912169075978,
           0.4635362922364496
          ],
          "arrayminus": [
           0.2367912169075978,
           0.4635362922364496
          ]
         },
         "hovertemplate": "<b>%{hovertext}</b><br><br>conc=%{x}<br>distance=%{y:.3f}<br>count_nuclei=%{customdata[1]:.1f}<extra></extra>",
         "hovertext": [
          "THIORIDAZINE HYDROCHLORIDE",
          "THIORIDAZINE HYDROCHLORIDE"
         ],
         "legendgroup": "THIORIDAZINE HYDROCHLORIDE",
         "line": {
          "color": "#636efa",
          "dash": "solid"
         },
         "marker": {
          "symbol": "circle"
         },
         "mode": "lines+markers",
         "name": "THIORIDAZINE HYDROCHLORIDE",
         "orientation": "v",
         "showlegend": true,
         "type": "scatter",
         "x": [
          0.833333,
          3.333333
         ],
         "xaxis": "x",
         "y": [
          15.268735309846742,
          8.040754676476828
         ],
         "yaxis": "y"
        },
        {
         "customdata": [
          [
           "Solithromycin",
           286.5
          ]
         ],
         "error_y": {
          "array": [
           0.5981886423592773
          ],
          "arrayminus": [
           0.5981886423592773
          ]
         },
         "hovertemplate": "<b>%{hovertext}</b><br><br>conc=%{x}<br>distance=%{y:.3f}<br>count_nuclei=%{customdata[1]:.1f}<extra></extra>",
         "hovertext": [
          "Solithromycin"
         ],
         "legendgroup": "Solithromycin",
         "line": {
          "color": "#EF553B",
          "dash": "solid"
         },
         "marker": {
          "symbol": "circle"
         },
         "mode": "lines+markers",
         "name": "Solithromycin",
         "orientation": "v",
         "showlegend": true,
         "type": "scatter",
         "x": [
          10
         ],
         "xaxis": "x",
         "y": [
          8.051665674440864
         ],
         "yaxis": "y"
        },
        {
         "customdata": [
          [
           "rimcazole",
           254
          ],
          [
           "rimcazole",
           275
          ]
         ],
         "error_y": {
          "array": [
           0.1017838452317647,
           3.500812453424581
          ],
          "arrayminus": [
           0.1017838452317647,
           3.500812453424581
          ]
         },
         "hovertemplate": "<b>%{hovertext}</b><br><br>conc=%{x}<br>distance=%{y:.3f}<br>count_nuclei=%{customdata[1]:.1f}<extra></extra>",
         "hovertext": [
          "rimcazole",
          "rimcazole"
         ],
         "legendgroup": "rimcazole",
         "line": {
          "color": "#00cc96",
          "dash": "solid"
         },
         "marker": {
          "symbol": "circle"
         },
         "mode": "lines+markers",
         "name": "rimcazole",
         "orientation": "v",
         "showlegend": true,
         "type": "scatter",
         "x": [
          0.3,
          3.333333
         ],
         "xaxis": "x",
         "y": [
          17.088795580064552,
          8.05358683472333
         ],
         "yaxis": "y"
        },
        {
         "customdata": [
          [
           "Ebastine",
           270
          ],
          [
           "Ebastine",
           251
          ]
         ],
         "error_y": {
          "array": [
           1.0796557728383984,
           1.4157946010057891
          ],
          "arrayminus": [
           1.0796557728383984,
           1.4157946010057891
          ]
         },
         "hovertemplate": "<b>%{hovertext}</b><br><br>conc=%{x}<br>distance=%{y:.3f}<br>count_nuclei=%{customdata[1]:.1f}<extra></extra>",
         "hovertext": [
          "Ebastine",
          "Ebastine"
         ],
         "legendgroup": "Ebastine",
         "line": {
          "color": "#ab63fa",
          "dash": "solid"
         },
         "marker": {
          "symbol": "circle"
         },
         "mode": "lines+markers",
         "name": "Ebastine",
         "orientation": "v",
         "showlegend": true,
         "type": "scatter",
         "x": [
          3.333333,
          10
         ],
         "xaxis": "x",
         "y": [
          9.310778119420917,
          8.098352244653334
         ],
         "yaxis": "y"
        },
        {
         "customdata": [
          [
           "SGI-1776 free base",
           242
          ],
          [
           "SGI-1776 free base",
           256
          ]
         ],
         "error_y": {
          "array": [
           0.328665393989203,
           0.2656795053109224
          ],
          "arrayminus": [
           0.328665393989203,
           0.2656795053109224
          ]
         },
         "hovertemplate": "<b>%{hovertext}</b><br><br>conc=%{x}<br>distance=%{y:.3f}<br>count_nuclei=%{customdata[1]:.1f}<extra></extra>",
         "hovertext": [
          "SGI-1776 free base",
          "SGI-1776 free base"
         ],
         "legendgroup": "SGI-1776 free base",
         "line": {
          "color": "#FFA15A",
          "dash": "solid"
         },
         "marker": {
          "symbol": "circle"
         },
         "mode": "lines+markers",
         "name": "SGI-1776 free base",
         "orientation": "v",
         "showlegend": true,
         "type": "scatter",
         "x": [
          0.833333,
          3.333333
         ],
         "xaxis": "x",
         "y": [
          13.083217678820091,
          8.111895122244213
         ],
         "yaxis": "y"
        },
        {
         "customdata": [
          [
           "BAN-ORL-24",
           275
          ],
          [
           "BAN-ORL-24",
           278
          ]
         ],
         "error_y": {
          "array": [
           1.686911684579968,
           1.4339236978477956
          ],
          "arrayminus": [
           1.686911684579968,
           1.4339236978477956
          ]
         },
         "hovertemplate": "<b>%{hovertext}</b><br><br>conc=%{x}<br>distance=%{y:.3f}<br>count_nuclei=%{customdata[1]:.1f}<extra></extra>",
         "hovertext": [
          "BAN-ORL-24",
          "BAN-ORL-24"
         ],
         "legendgroup": "BAN-ORL-24",
         "line": {
          "color": "#19d3f3",
          "dash": "solid"
         },
         "marker": {
          "symbol": "circle"
         },
         "mode": "lines+markers",
         "name": "BAN-ORL-24",
         "orientation": "v",
         "showlegend": true,
         "type": "scatter",
         "x": [
          3.333333,
          10
         ],
         "xaxis": "x",
         "y": [
          8.623033047752415,
          8.112198587973232
         ],
         "yaxis": "y"
        },
        {
         "customdata": [
          [
           "BIX 01294",
           264.5
          ]
         ],
         "error_y": {
          "array": [
           0.6833374428833192
          ],
          "arrayminus": [
           0.6833374428833192
          ]
         },
         "hovertemplate": "<b>%{hovertext}</b><br><br>conc=%{x}<br>distance=%{y:.3f}<br>count_nuclei=%{customdata[1]:.1f}<extra></extra>",
         "hovertext": [
          "BIX 01294"
         ],
         "legendgroup": "BIX 01294",
         "line": {
          "color": "#FF6692",
          "dash": "solid"
         },
         "marker": {
          "symbol": "circle"
         },
         "mode": "lines+markers",
         "name": "BIX 01294",
         "orientation": "v",
         "showlegend": true,
         "type": "scatter",
         "x": [
          0.833333
         ],
         "xaxis": "x",
         "y": [
          8.117594602832632
         ],
         "yaxis": "y"
        },
        {
         "customdata": [
          [
           "nemonapride",
           253
          ],
          [
           "nemonapride",
           288
          ]
         ],
         "error_y": {
          "array": [
           2.035354822250381,
           1.3960391477275955
          ],
          "arrayminus": [
           2.035354822250381,
           1.3960391477275955
          ]
         },
         "hovertemplate": "<b>%{hovertext}</b><br><br>conc=%{x}<br>distance=%{y:.3f}<br>count_nuclei=%{customdata[1]:.1f}<extra></extra>",
         "hovertext": [
          "nemonapride",
          "nemonapride"
         ],
         "legendgroup": "nemonapride",
         "line": {
          "color": "#B6E880",
          "dash": "solid"
         },
         "marker": {
          "symbol": "circle"
         },
         "mode": "lines+markers",
         "name": "nemonapride",
         "orientation": "v",
         "showlegend": true,
         "type": "scatter",
         "x": [
          3.333333,
          10
         ],
         "xaxis": "x",
         "y": [
          9.354248485946894,
          8.121509683243982
         ],
         "yaxis": "y"
        },
        {
         "customdata": [
          [
           "AMLODIPINE BESYLATE",
           256
          ],
          [
           "AMLODIPINE BESYLATE",
           278
          ]
         ],
         "error_y": {
          "array": [
           0.8852924999844394,
           0.1651769393894611
          ],
          "arrayminus": [
           0.8852924999844394,
           0.1651769393894611
          ]
         },
         "hovertemplate": "<b>%{hovertext}</b><br><br>conc=%{x}<br>distance=%{y:.3f}<br>count_nuclei=%{customdata[1]:.1f}<extra></extra>",
         "hovertext": [
          "AMLODIPINE BESYLATE",
          "AMLODIPINE BESYLATE"
         ],
         "legendgroup": "AMLODIPINE BESYLATE",
         "line": {
          "color": "#FF97FF",
          "dash": "solid"
         },
         "marker": {
          "symbol": "circle"
         },
         "mode": "lines+markers",
         "name": "AMLODIPINE BESYLATE",
         "orientation": "v",
         "showlegend": true,
         "type": "scatter",
         "x": [
          3.333333,
          10
         ],
         "xaxis": "x",
         "y": [
          13.564938038557058,
          8.126718194476414
         ],
         "yaxis": "y"
        },
        {
         "customdata": [
          [
           "AZELASTINE HYDROCHLORIDE",
           265.75
          ]
         ],
         "error_y": {
          "array": [
           1.4243149991917008
          ],
          "arrayminus": [
           1.4243149991917008
          ]
         },
         "hovertemplate": "<b>%{hovertext}</b><br><br>conc=%{x}<br>distance=%{y:.3f}<br>count_nuclei=%{customdata[1]:.1f}<extra></extra>",
         "hovertext": [
          "AZELASTINE HYDROCHLORIDE"
         ],
         "legendgroup": "AZELASTINE HYDROCHLORIDE",
         "line": {
          "color": "#FECB52",
          "dash": "solid"
         },
         "marker": {
          "symbol": "circle"
         },
         "mode": "lines+markers",
         "name": "AZELASTINE HYDROCHLORIDE",
         "orientation": "v",
         "showlegend": true,
         "type": "scatter",
         "x": [
          10
         ],
         "xaxis": "x",
         "y": [
          8.132339045089171
         ],
         "yaxis": "y"
        },
        {
         "customdata": [
          [
           "PIMOZIDE",
           255
          ],
          [
           "PIMOZIDE",
           254.5
          ]
         ],
         "error_y": {
          "array": [
           0.1178236482853183,
           0.1848854102520842
          ],
          "arrayminus": [
           0.1178236482853183,
           0.1848854102520842
          ]
         },
         "hovertemplate": "<b>%{hovertext}</b><br><br>conc=%{x}<br>distance=%{y:.3f}<br>count_nuclei=%{customdata[1]:.1f}<extra></extra>",
         "hovertext": [
          "PIMOZIDE",
          "PIMOZIDE"
         ],
         "legendgroup": "PIMOZIDE",
         "line": {
          "color": "#636efa",
          "dash": "solid"
         },
         "marker": {
          "symbol": "circle"
         },
         "mode": "lines+markers",
         "name": "PIMOZIDE",
         "orientation": "v",
         "showlegend": true,
         "type": "scatter",
         "x": [
          3.333333,
          10
         ],
         "xaxis": "x",
         "y": [
          12.875870468968056,
          8.148863540960845
         ],
         "yaxis": "y"
        },
        {
         "customdata": [
          [
           "Y-134",
           254
          ],
          [
           "Y-134",
           266
          ]
         ],
         "error_y": {
          "array": [
           0.0335210076296004,
           0.7527699163715962
          ],
          "arrayminus": [
           0.0335210076296004,
           0.7527699163715962
          ]
         },
         "hovertemplate": "<b>%{hovertext}</b><br><br>conc=%{x}<br>distance=%{y:.3f}<br>count_nuclei=%{customdata[1]:.1f}<extra></extra>",
         "hovertext": [
          "Y-134",
          "Y-134"
         ],
         "legendgroup": "Y-134",
         "line": {
          "color": "#EF553B",
          "dash": "solid"
         },
         "marker": {
          "symbol": "circle"
         },
         "mode": "lines+markers",
         "name": "Y-134",
         "orientation": "v",
         "showlegend": true,
         "type": "scatter",
         "x": [
          3.333333,
          10
         ],
         "xaxis": "x",
         "y": [
          13.516521656401414,
          8.16290741691128
         ],
         "yaxis": "y"
        },
        {
         "customdata": [
          [
           "trequinsin",
           244
          ],
          [
           "trequinsin",
           258
          ]
         ],
         "error_y": {
          "array": [
           0.2984453653609442,
           0.1650804973802859
          ],
          "arrayminus": [
           0.2984453653609442,
           0.1650804973802859
          ]
         },
         "hovertemplate": "<b>%{hovertext}</b><br><br>conc=%{x}<br>distance=%{y:.3f}<br>count_nuclei=%{customdata[1]:.1f}<extra></extra>",
         "hovertext": [
          "trequinsin",
          "trequinsin"
         ],
         "legendgroup": "trequinsin",
         "line": {
          "color": "#00cc96",
          "dash": "solid"
         },
         "marker": {
          "symbol": "circle"
         },
         "mode": "lines+markers",
         "name": "trequinsin",
         "orientation": "v",
         "showlegend": true,
         "type": "scatter",
         "x": [
          3.333333,
          10
         ],
         "xaxis": "x",
         "y": [
          12.423340845893645,
          8.179659772996812
         ],
         "yaxis": "y"
        },
        {
         "customdata": [
          [
           "PROCHLORPERAZINE EDISYLATE",
           251
          ],
          [
           "PROCHLORPERAZINE EDISYLATE",
           276
          ]
         ],
         "error_y": {
          "array": [
           1.2638499232607003,
           0.2783566676883797
          ],
          "arrayminus": [
           1.2638499232607003,
           0.2783566676883797
          ]
         },
         "hovertemplate": "<b>%{hovertext}</b><br><br>conc=%{x}<br>distance=%{y:.3f}<br>count_nuclei=%{customdata[1]:.1f}<extra></extra>",
         "hovertext": [
          "PROCHLORPERAZINE EDISYLATE",
          "PROCHLORPERAZINE EDISYLATE"
         ],
         "legendgroup": "PROCHLORPERAZINE EDISYLATE",
         "line": {
          "color": "#ab63fa",
          "dash": "solid"
         },
         "marker": {
          "symbol": "circle"
         },
         "mode": "lines+markers",
         "name": "PROCHLORPERAZINE EDISYLATE",
         "orientation": "v",
         "showlegend": true,
         "type": "scatter",
         "x": [
          0.3,
          3.333333
         ],
         "xaxis": "x",
         "y": [
          15.91720396460956,
          8.199100670649388
         ],
         "yaxis": "y"
        },
        {
         "customdata": [
          [
           "ABT 239 tartrate",
           264.5
          ]
         ],
         "error_y": {
          "array": [
           1.766830984893371
          ],
          "arrayminus": [
           1.766830984893371
          ]
         },
         "hovertemplate": "<b>%{hovertext}</b><br><br>conc=%{x}<br>distance=%{y:.3f}<br>count_nuclei=%{customdata[1]:.1f}<extra></extra>",
         "hovertext": [
          "ABT 239 tartrate"
         ],
         "legendgroup": "ABT 239 tartrate",
         "line": {
          "color": "#FFA15A",
          "dash": "solid"
         },
         "marker": {
          "symbol": "circle"
         },
         "mode": "lines+markers",
         "name": "ABT 239 tartrate",
         "orientation": "v",
         "showlegend": true,
         "type": "scatter",
         "x": [
          10
         ],
         "xaxis": "x",
         "y": [
          8.244742887959717
         ],
         "yaxis": "y"
        },
        {
         "customdata": [
          [
           "GW-842166X",
           252.5
          ]
         ],
         "error_y": {
          "array": [
           0.8577775562992862
          ],
          "arrayminus": [
           0.8577775562992862
          ]
         },
         "hovertemplate": "<b>%{hovertext}</b><br><br>conc=%{x}<br>distance=%{y:.3f}<br>count_nuclei=%{customdata[1]:.1f}<extra></extra>",
         "hovertext": [
          "GW-842166X"
         ],
         "legendgroup": "GW-842166X",
         "line": {
          "color": "#19d3f3",
          "dash": "solid"
         },
         "marker": {
          "symbol": "circle"
         },
         "mode": "lines+markers",
         "name": "GW-842166X",
         "orientation": "v",
         "showlegend": true,
         "type": "scatter",
         "x": [
          10
         ],
         "xaxis": "x",
         "y": [
          8.254214180238819
         ],
         "yaxis": "y"
        },
        {
         "customdata": [
          [
           "dorsomorphin",
           251.5
          ]
         ],
         "error_y": {
          "array": [
           0.6996034337498145
          ],
          "arrayminus": [
           0.6996034337498145
          ]
         },
         "hovertemplate": "<b>%{hovertext}</b><br><br>conc=%{x}<br>distance=%{y:.3f}<br>count_nuclei=%{customdata[1]:.1f}<extra></extra>",
         "hovertext": [
          "dorsomorphin"
         ],
         "legendgroup": "dorsomorphin",
         "line": {
          "color": "#FF6692",
          "dash": "solid"
         },
         "marker": {
          "symbol": "circle"
         },
         "mode": "lines+markers",
         "name": "dorsomorphin",
         "orientation": "v",
         "showlegend": true,
         "type": "scatter",
         "x": [
          0.833333
         ],
         "xaxis": "x",
         "y": [
          8.281977791005481
         ],
         "yaxis": "y"
        },
        {
         "customdata": [
          [
           "DICYCLOMINE HYDROCHLORIDE",
           255
          ],
          [
           "DICYCLOMINE HYDROCHLORIDE",
           258.5
          ]
         ],
         "error_y": {
          "array": [
           0.1700198654475109,
           0.976395842267257
          ],
          "arrayminus": [
           0.1700198654475109,
           0.976395842267257
          ]
         },
         "hovertemplate": "<b>%{hovertext}</b><br><br>conc=%{x}<br>distance=%{y:.3f}<br>count_nuclei=%{customdata[1]:.1f}<extra></extra>",
         "hovertext": [
          "DICYCLOMINE HYDROCHLORIDE",
          "DICYCLOMINE HYDROCHLORIDE"
         ],
         "legendgroup": "DICYCLOMINE HYDROCHLORIDE",
         "line": {
          "color": "#B6E880",
          "dash": "solid"
         },
         "marker": {
          "symbol": "circle"
         },
         "mode": "lines+markers",
         "name": "DICYCLOMINE HYDROCHLORIDE",
         "orientation": "v",
         "showlegend": true,
         "type": "scatter",
         "x": [
          3.333333,
          10
         ],
         "xaxis": "x",
         "y": [
          10.411593656287964,
          8.315772380206772
         ],
         "yaxis": "y"
        },
        {
         "customdata": [
          [
           "XDUKCYQTONVOCG-UHFFFAOYSA-N",
           218
          ],
          [
           "XDUKCYQTONVOCG-UHFFFAOYSA-N",
           258
          ]
         ],
         "error_y": {
          "array": [
           0,
           0
          ],
          "arrayminus": [
           0,
           0
          ]
         },
         "hovertemplate": "<b>%{hovertext}</b><br><br>conc=%{x}<br>distance=%{y:.3f}<br>count_nuclei=%{customdata[1]:.1f}<extra></extra>",
         "hovertext": [
          "XDUKCYQTONVOCG-UHFFFAOYSA-N",
          "XDUKCYQTONVOCG-UHFFFAOYSA-N"
         ],
         "legendgroup": "XDUKCYQTONVOCG-UHFFFAOYSA-N",
         "line": {
          "color": "#FF97FF",
          "dash": "solid"
         },
         "marker": {
          "symbol": "circle"
         },
         "mode": "lines+markers",
         "name": "XDUKCYQTONVOCG-UHFFFAOYSA-N",
         "orientation": "v",
         "showlegend": true,
         "type": "scatter",
         "x": [
          0.833333,
          3.333333
         ],
         "xaxis": "x",
         "y": [
          10.845547804118606,
          8.327193107101474
         ],
         "yaxis": "y"
        },
        {
         "customdata": [
          [
           "ZSRXFAYSWKXJOX-UHFFFAOYSA-N",
           264
          ],
          [
           "ZSRXFAYSWKXJOX-UHFFFAOYSA-N",
           276
          ]
         ],
         "error_y": {
          "array": [
           0,
           0
          ],
          "arrayminus": [
           0,
           0
          ]
         },
         "hovertemplate": "<b>%{hovertext}</b><br><br>conc=%{x}<br>distance=%{y:.3f}<br>count_nuclei=%{customdata[1]:.1f}<extra></extra>",
         "hovertext": [
          "ZSRXFAYSWKXJOX-UHFFFAOYSA-N",
          "ZSRXFAYSWKXJOX-UHFFFAOYSA-N"
         ],
         "legendgroup": "ZSRXFAYSWKXJOX-UHFFFAOYSA-N",
         "line": {
          "color": "#FECB52",
          "dash": "solid"
         },
         "marker": {
          "symbol": "circle"
         },
         "mode": "lines+markers",
         "name": "ZSRXFAYSWKXJOX-UHFFFAOYSA-N",
         "orientation": "v",
         "showlegend": true,
         "type": "scatter",
         "x": [
          0.833333,
          3.333333
         ],
         "xaxis": "x",
         "y": [
          11.771296412740412,
          8.332088914971544
         ],
         "yaxis": "y"
        },
        {
         "customdata": [
          [
           "ELN-441958",
           275
          ],
          [
           "ELN-441958",
           282
          ]
         ],
         "error_y": {
          "array": [
           0.485008480640932,
           0.1810392758904413
          ],
          "arrayminus": [
           0.485008480640932,
           0.1810392758904413
          ]
         },
         "hovertemplate": "<b>%{hovertext}</b><br><br>conc=%{x}<br>distance=%{y:.3f}<br>count_nuclei=%{customdata[1]:.1f}<extra></extra>",
         "hovertext": [
          "ELN-441958",
          "ELN-441958"
         ],
         "legendgroup": "ELN-441958",
         "line": {
          "color": "#636efa",
          "dash": "solid"
         },
         "marker": {
          "symbol": "circle"
         },
         "mode": "lines+markers",
         "name": "ELN-441958",
         "orientation": "v",
         "showlegend": true,
         "type": "scatter",
         "x": [
          3.333333,
          10
         ],
         "xaxis": "x",
         "y": [
          16.4802686479977,
          8.349324471085362
         ],
         "yaxis": "y"
        },
        {
         "customdata": [
          [
           "GR-127935",
           243
          ],
          [
           "GR-127935",
           259
          ]
         ],
         "error_y": {
          "array": [
           0.3479220877334814,
           2.9720161441299844
          ],
          "arrayminus": [
           0.3479220877334814,
           2.9720161441299844
          ]
         },
         "hovertemplate": "<b>%{hovertext}</b><br><br>conc=%{x}<br>distance=%{y:.3f}<br>count_nuclei=%{customdata[1]:.1f}<extra></extra>",
         "hovertext": [
          "GR-127935",
          "GR-127935"
         ],
         "legendgroup": "GR-127935",
         "line": {
          "color": "#EF553B",
          "dash": "solid"
         },
         "marker": {
          "symbol": "circle"
         },
         "mode": "lines+markers",
         "name": "GR-127935",
         "orientation": "v",
         "showlegend": true,
         "type": "scatter",
         "x": [
          0.833333,
          3.333333
         ],
         "xaxis": "x",
         "y": [
          13.888646404236855,
          8.350979769787624
         ],
         "yaxis": "y"
        },
        {
         "customdata": [
          [
           "PNU-89843",
           269.5
          ]
         ],
         "error_y": {
          "array": [
           0.7938699629345809
          ],
          "arrayminus": [
           0.7938699629345809
          ]
         },
         "hovertemplate": "<b>%{hovertext}</b><br><br>conc=%{x}<br>distance=%{y:.3f}<br>count_nuclei=%{customdata[1]:.1f}<extra></extra>",
         "hovertext": [
          "PNU-89843"
         ],
         "legendgroup": "PNU-89843",
         "line": {
          "color": "#00cc96",
          "dash": "solid"
         },
         "marker": {
          "symbol": "circle"
         },
         "mode": "lines+markers",
         "name": "PNU-89843",
         "orientation": "v",
         "showlegend": true,
         "type": "scatter",
         "x": [
          10
         ],
         "xaxis": "x",
         "y": [
          8.365281341084032
         ],
         "yaxis": "y"
        },
        {
         "customdata": [
          [
           "JIVSXRLRGOICGA-UHFFFAOYSA-N",
           248
          ],
          [
           "JIVSXRLRGOICGA-UHFFFAOYSA-N",
           273
          ]
         ],
         "error_y": {
          "array": [
           0,
           0
          ],
          "arrayminus": [
           0,
           0
          ]
         },
         "hovertemplate": "<b>%{hovertext}</b><br><br>conc=%{x}<br>distance=%{y:.3f}<br>count_nuclei=%{customdata[1]:.1f}<extra></extra>",
         "hovertext": [
          "JIVSXRLRGOICGA-UHFFFAOYSA-N",
          "JIVSXRLRGOICGA-UHFFFAOYSA-N"
         ],
         "legendgroup": "JIVSXRLRGOICGA-UHFFFAOYSA-N",
         "line": {
          "color": "#ab63fa",
          "dash": "solid"
         },
         "marker": {
          "symbol": "circle"
         },
         "mode": "lines+markers",
         "name": "JIVSXRLRGOICGA-UHFFFAOYSA-N",
         "orientation": "v",
         "showlegend": true,
         "type": "scatter",
         "x": [
          3.333333,
          10
         ],
         "xaxis": "x",
         "y": [
          14.870942556320909,
          8.378414669767722
         ],
         "yaxis": "y"
        },
        {
         "customdata": [
          [
           "MONENSIN SODIUM",
           248
          ]
         ],
         "error_y": {
          "array": [
           0.2564714589078729
          ],
          "arrayminus": [
           0.2564714589078729
          ]
         },
         "hovertemplate": "<b>%{hovertext}</b><br><br>conc=%{x}<br>distance=%{y:.3f}<br>count_nuclei=%{customdata[1]:.1f}<extra></extra>",
         "hovertext": [
          "MONENSIN SODIUM"
         ],
         "legendgroup": "MONENSIN SODIUM",
         "line": {
          "color": "#FFA15A",
          "dash": "solid"
         },
         "marker": {
          "symbol": "circle"
         },
         "mode": "lines+markers",
         "name": "MONENSIN SODIUM",
         "orientation": "v",
         "showlegend": true,
         "type": "scatter",
         "x": [
          0.3
         ],
         "xaxis": "x",
         "y": [
          8.384174304601002
         ],
         "yaxis": "y"
        },
        {
         "customdata": [
          [
           "EMD-386088",
           251.5
          ]
         ],
         "error_y": {
          "array": [
           0.9302313102207744
          ],
          "arrayminus": [
           0.9302313102207744
          ]
         },
         "hovertemplate": "<b>%{hovertext}</b><br><br>conc=%{x}<br>distance=%{y:.3f}<br>count_nuclei=%{customdata[1]:.1f}<extra></extra>",
         "hovertext": [
          "EMD-386088"
         ],
         "legendgroup": "EMD-386088",
         "line": {
          "color": "#19d3f3",
          "dash": "solid"
         },
         "marker": {
          "symbol": "circle"
         },
         "mode": "lines+markers",
         "name": "EMD-386088",
         "orientation": "v",
         "showlegend": true,
         "type": "scatter",
         "x": [
          10
         ],
         "xaxis": "x",
         "y": [
          8.404410214720805
         ],
         "yaxis": "y"
        },
        {
         "customdata": [
          [
           "LY344864",
           273
          ]
         ],
         "error_y": {
          "array": [
           0.3226140249981508
          ],
          "arrayminus": [
           0.3226140249981508
          ]
         },
         "hovertemplate": "<b>%{hovertext}</b><br><br>conc=%{x}<br>distance=%{y:.3f}<br>count_nuclei=%{customdata[1]:.1f}<extra></extra>",
         "hovertext": [
          "LY344864"
         ],
         "legendgroup": "LY344864",
         "line": {
          "color": "#FF6692",
          "dash": "solid"
         },
         "marker": {
          "symbol": "circle"
         },
         "mode": "lines+markers",
         "name": "LY344864",
         "orientation": "v",
         "showlegend": true,
         "type": "scatter",
         "x": [
          10
         ],
         "xaxis": "x",
         "y": [
          8.41975736862978
         ],
         "yaxis": "y"
        },
        {
         "customdata": [
          [
           "JDUWHZOLEDOQSR-UHFFFAOYSA-N",
           257
          ],
          [
           "JDUWHZOLEDOQSR-UHFFFAOYSA-N",
           240
          ]
         ],
         "error_y": {
          "array": [
           0,
           0
          ],
          "arrayminus": [
           0,
           0
          ]
         },
         "hovertemplate": "<b>%{hovertext}</b><br><br>conc=%{x}<br>distance=%{y:.3f}<br>count_nuclei=%{customdata[1]:.1f}<extra></extra>",
         "hovertext": [
          "JDUWHZOLEDOQSR-UHFFFAOYSA-N",
          "JDUWHZOLEDOQSR-UHFFFAOYSA-N"
         ],
         "legendgroup": "JDUWHZOLEDOQSR-UHFFFAOYSA-N",
         "line": {
          "color": "#B6E880",
          "dash": "solid"
         },
         "marker": {
          "symbol": "circle"
         },
         "mode": "lines+markers",
         "name": "JDUWHZOLEDOQSR-UHFFFAOYSA-N",
         "orientation": "v",
         "showlegend": true,
         "type": "scatter",
         "x": [
          3.333333,
          10
         ],
         "xaxis": "x",
         "y": [
          12.936187140222966,
          8.422761905468832
         ],
         "yaxis": "y"
        },
        {
         "customdata": [
          [
           "CCT-031374",
           271
          ],
          [
           "CCT-031374",
           283.5
          ]
         ],
         "error_y": {
          "array": [
           0.6542659039282039,
           0.9634710303973648
          ],
          "arrayminus": [
           0.6542659039282039,
           0.9634710303973648
          ]
         },
         "hovertemplate": "<b>%{hovertext}</b><br><br>conc=%{x}<br>distance=%{y:.3f}<br>count_nuclei=%{customdata[1]:.1f}<extra></extra>",
         "hovertext": [
          "CCT-031374",
          "CCT-031374"
         ],
         "legendgroup": "CCT-031374",
         "line": {
          "color": "#FF97FF",
          "dash": "solid"
         },
         "marker": {
          "symbol": "circle"
         },
         "mode": "lines+markers",
         "name": "CCT-031374",
         "orientation": "v",
         "showlegend": true,
         "type": "scatter",
         "x": [
          3.333333,
          10
         ],
         "xaxis": "x",
         "y": [
          11.569141381480762,
          8.429066273974394
         ],
         "yaxis": "y"
        },
        {
         "customdata": [
          [
           "Azelnidipine",
           280
          ]
         ],
         "error_y": {
          "array": [
           0.8627150241242507
          ],
          "arrayminus": [
           0.8627150241242507
          ]
         },
         "hovertemplate": "<b>%{hovertext}</b><br><br>conc=%{x}<br>distance=%{y:.3f}<br>count_nuclei=%{customdata[1]:.1f}<extra></extra>",
         "hovertext": [
          "Azelnidipine"
         ],
         "legendgroup": "Azelnidipine",
         "line": {
          "color": "#FECB52",
          "dash": "solid"
         },
         "marker": {
          "symbol": "circle"
         },
         "mode": "lines+markers",
         "name": "Azelnidipine",
         "orientation": "v",
         "showlegend": true,
         "type": "scatter",
         "x": [
          10
         ],
         "xaxis": "x",
         "y": [
          8.43132268390463
         ],
         "yaxis": "y"
        },
        {
         "customdata": [
          [
           "Cot inhibitor-2",
           254
          ],
          [
           "Cot inhibitor-2",
           258
          ]
         ],
         "error_y": {
          "array": [
           0.5418695467996635,
           1.2967851745574936
          ],
          "arrayminus": [
           0.5418695467996635,
           1.2967851745574936
          ]
         },
         "hovertemplate": "<b>%{hovertext}</b><br><br>conc=%{x}<br>distance=%{y:.3f}<br>count_nuclei=%{customdata[1]:.1f}<extra></extra>",
         "hovertext": [
          "Cot inhibitor-2",
          "Cot inhibitor-2"
         ],
         "legendgroup": "Cot inhibitor-2",
         "line": {
          "color": "#636efa",
          "dash": "solid"
         },
         "marker": {
          "symbol": "circle"
         },
         "mode": "lines+markers",
         "name": "Cot inhibitor-2",
         "orientation": "v",
         "showlegend": true,
         "type": "scatter",
         "x": [
          0.3,
          3.333333
         ],
         "xaxis": "x",
         "y": [
          14.368396241793407,
          8.457990029165725
         ],
         "yaxis": "y"
        },
        {
         "customdata": [
          [
           "PD-102807",
           254
          ],
          [
           "PD-102807",
           244.5
          ]
         ],
         "error_y": {
          "array": [
           0.482875903390795,
           1.1793516691580752
          ],
          "arrayminus": [
           0.482875903390795,
           1.1793516691580752
          ]
         },
         "hovertemplate": "<b>%{hovertext}</b><br><br>conc=%{x}<br>distance=%{y:.3f}<br>count_nuclei=%{customdata[1]:.1f}<extra></extra>",
         "hovertext": [
          "PD-102807",
          "PD-102807"
         ],
         "legendgroup": "PD-102807",
         "line": {
          "color": "#EF553B",
          "dash": "solid"
         },
         "marker": {
          "symbol": "circle"
         },
         "mode": "lines+markers",
         "name": "PD-102807",
         "orientation": "v",
         "showlegend": true,
         "type": "scatter",
         "x": [
          3.333333,
          10
         ],
         "xaxis": "x",
         "y": [
          8.969128923040431,
          8.470900165296202
         ],
         "yaxis": "y"
        },
        {
         "customdata": [
          [
           "R-96544",
           248
          ],
          [
           "R-96544",
           271
          ]
         ],
         "error_y": {
          "array": [
           0.6873808859874124,
           0.0338476205819233
          ],
          "arrayminus": [
           0.6873808859874124,
           0.0338476205819233
          ]
         },
         "hovertemplate": "<b>%{hovertext}</b><br><br>conc=%{x}<br>distance=%{y:.3f}<br>count_nuclei=%{customdata[1]:.1f}<extra></extra>",
         "hovertext": [
          "R-96544",
          "R-96544"
         ],
         "legendgroup": "R-96544",
         "line": {
          "color": "#00cc96",
          "dash": "solid"
         },
         "marker": {
          "symbol": "circle"
         },
         "mode": "lines+markers",
         "name": "R-96544",
         "orientation": "v",
         "showlegend": true,
         "type": "scatter",
         "x": [
          3.333333,
          10
         ],
         "xaxis": "x",
         "y": [
          11.37723472927639,
          8.505660370900529
         ],
         "yaxis": "y"
        },
        {
         "customdata": [
          [
           "Lasofoxifene (Tartrate)",
           260
          ],
          [
           "Lasofoxifene (Tartrate)",
           267
          ]
         ],
         "error_y": {
          "array": [
           0.3109074884427159,
           1.9060997265401447
          ],
          "arrayminus": [
           0.3109074884427159,
           1.9060997265401447
          ]
         },
         "hovertemplate": "<b>%{hovertext}</b><br><br>conc=%{x}<br>distance=%{y:.3f}<br>count_nuclei=%{customdata[1]:.1f}<extra></extra>",
         "hovertext": [
          "Lasofoxifene (Tartrate)",
          "Lasofoxifene (Tartrate)"
         ],
         "legendgroup": "Lasofoxifene (Tartrate)",
         "line": {
          "color": "#ab63fa",
          "dash": "solid"
         },
         "marker": {
          "symbol": "circle"
         },
         "mode": "lines+markers",
         "name": "Lasofoxifene (Tartrate)",
         "orientation": "v",
         "showlegend": true,
         "type": "scatter",
         "x": [
          0.833333,
          3.333333
         ],
         "xaxis": "x",
         "y": [
          12.938789738459748,
          8.54687506026258
         ],
         "yaxis": "y"
        },
        {
         "customdata": [
          [
           "BD-1008",
           274.5
          ]
         ],
         "error_y": {
          "array": [
           0.3117694008599798
          ],
          "arrayminus": [
           0.3117694008599798
          ]
         },
         "hovertemplate": "<b>%{hovertext}</b><br><br>conc=%{x}<br>distance=%{y:.3f}<br>count_nuclei=%{customdata[1]:.1f}<extra></extra>",
         "hovertext": [
          "BD-1008"
         ],
         "legendgroup": "BD-1008",
         "line": {
          "color": "#FFA15A",
          "dash": "solid"
         },
         "marker": {
          "symbol": "circle"
         },
         "mode": "lines+markers",
         "name": "BD-1008",
         "orientation": "v",
         "showlegend": true,
         "type": "scatter",
         "x": [
          10
         ],
         "xaxis": "x",
         "y": [
          8.574326921197514
         ],
         "yaxis": "y"
        },
        {
         "customdata": [
          [
           "fendiline",
           253
          ],
          [
           "fendiline",
           272
          ]
         ],
         "error_y": {
          "array": [
           1.850512764458232,
           0.7082488756645375
          ],
          "arrayminus": [
           1.850512764458232,
           0.7082488756645375
          ]
         },
         "hovertemplate": "<b>%{hovertext}</b><br><br>conc=%{x}<br>distance=%{y:.3f}<br>count_nuclei=%{customdata[1]:.1f}<extra></extra>",
         "hovertext": [
          "fendiline",
          "fendiline"
         ],
         "legendgroup": "fendiline",
         "line": {
          "color": "#19d3f3",
          "dash": "solid"
         },
         "marker": {
          "symbol": "circle"
         },
         "mode": "lines+markers",
         "name": "fendiline",
         "orientation": "v",
         "showlegend": true,
         "type": "scatter",
         "x": [
          3.333333,
          10
         ],
         "xaxis": "x",
         "y": [
          9.44547310558629,
          8.586655866294244
         ],
         "yaxis": "y"
        },
        {
         "customdata": [
          [
           "Aloxistatin",
           289
          ]
         ],
         "error_y": {
          "array": [
           1.0619113900858466
          ],
          "arrayminus": [
           1.0619113900858466
          ]
         },
         "hovertemplate": "<b>%{hovertext}</b><br><br>conc=%{x}<br>distance=%{y:.3f}<br>count_nuclei=%{customdata[1]:.1f}<extra></extra>",
         "hovertext": [
          "Aloxistatin"
         ],
         "legendgroup": "Aloxistatin",
         "line": {
          "color": "#FF6692",
          "dash": "solid"
         },
         "marker": {
          "symbol": "circle"
         },
         "mode": "lines+markers",
         "name": "Aloxistatin",
         "orientation": "v",
         "showlegend": true,
         "type": "scatter",
         "x": [
          10
         ],
         "xaxis": "x",
         "y": [
          8.599734354323305
         ],
         "yaxis": "y"
        },
        {
         "customdata": [
          [
           "Flumatinib (mesylate)",
           234
          ],
          [
           "Flumatinib (mesylate)",
           268
          ]
         ],
         "error_y": {
          "array": [
           0.1623708754119395,
           0.2508196684370194
          ],
          "arrayminus": [
           0.1623708754119395,
           0.2508196684370194
          ]
         },
         "hovertemplate": "<b>%{hovertext}</b><br><br>conc=%{x}<br>distance=%{y:.3f}<br>count_nuclei=%{customdata[1]:.1f}<extra></extra>",
         "hovertext": [
          "Flumatinib (mesylate)",
          "Flumatinib (mesylate)"
         ],
         "legendgroup": "Flumatinib (mesylate)",
         "line": {
          "color": "#B6E880",
          "dash": "solid"
         },
         "marker": {
          "symbol": "circle"
         },
         "mode": "lines+markers",
         "name": "Flumatinib (mesylate)",
         "orientation": "v",
         "showlegend": true,
         "type": "scatter",
         "x": [
          0.3,
          3.333333
         ],
         "xaxis": "x",
         "y": [
          14.080265944876546,
          8.602506426711825
         ],
         "yaxis": "y"
        },
        {
         "customdata": [
          [
           "Cyclovirobuxin D (Bebuxine)",
           261.5
          ]
         ],
         "error_y": {
          "array": [
           1.0772846287794575
          ],
          "arrayminus": [
           1.0772846287794575
          ]
         },
         "hovertemplate": "<b>%{hovertext}</b><br><br>conc=%{x}<br>distance=%{y:.3f}<br>count_nuclei=%{customdata[1]:.1f}<extra></extra>",
         "hovertext": [
          "Cyclovirobuxin D (Bebuxine)"
         ],
         "legendgroup": "Cyclovirobuxin D (Bebuxine)",
         "line": {
          "color": "#FF97FF",
          "dash": "solid"
         },
         "marker": {
          "symbol": "circle"
         },
         "mode": "lines+markers",
         "name": "Cyclovirobuxin D (Bebuxine)",
         "orientation": "v",
         "showlegend": true,
         "type": "scatter",
         "x": [
          10
         ],
         "xaxis": "x",
         "y": [
          8.60364589610801
         ],
         "yaxis": "y"
        },
        {
         "customdata": [
          [
           "CLOPERASTINE HYDROCHLORIDE",
           266
          ]
         ],
         "error_y": {
          "array": [
           2.8717834270145683
          ],
          "arrayminus": [
           2.8717834270145683
          ]
         },
         "hovertemplate": "<b>%{hovertext}</b><br><br>conc=%{x}<br>distance=%{y:.3f}<br>count_nuclei=%{customdata[1]:.1f}<extra></extra>",
         "hovertext": [
          "CLOPERASTINE HYDROCHLORIDE"
         ],
         "legendgroup": "CLOPERASTINE HYDROCHLORIDE",
         "line": {
          "color": "#FECB52",
          "dash": "solid"
         },
         "marker": {
          "symbol": "circle"
         },
         "mode": "lines+markers",
         "name": "CLOPERASTINE HYDROCHLORIDE",
         "orientation": "v",
         "showlegend": true,
         "type": "scatter",
         "x": [
          10
         ],
         "xaxis": "x",
         "y": [
          8.606265946797667
         ],
         "yaxis": "y"
        },
        {
         "customdata": [
          [
           "CID-2745687",
           269
          ]
         ],
         "error_y": {
          "array": [
           0.6331327846868007
          ],
          "arrayminus": [
           0.6331327846868007
          ]
         },
         "hovertemplate": "<b>%{hovertext}</b><br><br>conc=%{x}<br>distance=%{y:.3f}<br>count_nuclei=%{customdata[1]:.1f}<extra></extra>",
         "hovertext": [
          "CID-2745687"
         ],
         "legendgroup": "CID-2745687",
         "line": {
          "color": "#636efa",
          "dash": "solid"
         },
         "marker": {
          "symbol": "circle"
         },
         "mode": "lines+markers",
         "name": "CID-2745687",
         "orientation": "v",
         "showlegend": true,
         "type": "scatter",
         "x": [
          10
         ],
         "xaxis": "x",
         "y": [
          8.639781571959688
         ],
         "yaxis": "y"
        },
        {
         "customdata": [
          [
           "LCL161",
           259
          ]
         ],
         "error_y": {
          "array": [
           0.6052410026046857
          ],
          "arrayminus": [
           0.6052410026046857
          ]
         },
         "hovertemplate": "<b>%{hovertext}</b><br><br>conc=%{x}<br>distance=%{y:.3f}<br>count_nuclei=%{customdata[1]:.1f}<extra></extra>",
         "hovertext": [
          "LCL161"
         ],
         "legendgroup": "LCL161",
         "line": {
          "color": "#EF553B",
          "dash": "solid"
         },
         "marker": {
          "symbol": "circle"
         },
         "mode": "lines+markers",
         "name": "LCL161",
         "orientation": "v",
         "showlegend": true,
         "type": "scatter",
         "x": [
          10
         ],
         "xaxis": "x",
         "y": [
          8.672972277817042
         ],
         "yaxis": "y"
        },
        {
         "customdata": [
          [
           "C-021",
           261
          ],
          [
           "C-021",
           263
          ]
         ],
         "error_y": {
          "array": [
           2.3789099480091966,
           1.7238818679460142
          ],
          "arrayminus": [
           2.3789099480091966,
           1.7238818679460142
          ]
         },
         "hovertemplate": "<b>%{hovertext}</b><br><br>conc=%{x}<br>distance=%{y:.3f}<br>count_nuclei=%{customdata[1]:.1f}<extra></extra>",
         "hovertext": [
          "C-021",
          "C-021"
         ],
         "legendgroup": "C-021",
         "line": {
          "color": "#00cc96",
          "dash": "solid"
         },
         "marker": {
          "symbol": "circle"
         },
         "mode": "lines+markers",
         "name": "C-021",
         "orientation": "v",
         "showlegend": true,
         "type": "scatter",
         "x": [
          0.3,
          0.833333
         ],
         "xaxis": "x",
         "y": [
          11.629715605864533,
          8.673343708193924
         ],
         "yaxis": "y"
        },
        {
         "customdata": [
          [
           "Balicatib",
           275
          ],
          [
           "Balicatib",
           275
          ]
         ],
         "error_y": {
          "array": [
           0.3173950437440389,
           1.2690703616237844
          ],
          "arrayminus": [
           0.3173950437440389,
           1.2690703616237844
          ]
         },
         "hovertemplate": "<b>%{hovertext}</b><br><br>conc=%{x}<br>distance=%{y:.3f}<br>count_nuclei=%{customdata[1]:.1f}<extra></extra>",
         "hovertext": [
          "Balicatib",
          "Balicatib"
         ],
         "legendgroup": "Balicatib",
         "line": {
          "color": "#ab63fa",
          "dash": "solid"
         },
         "marker": {
          "symbol": "circle"
         },
         "mode": "lines+markers",
         "name": "Balicatib",
         "orientation": "v",
         "showlegend": true,
         "type": "scatter",
         "x": [
          3.333333,
          10
         ],
         "xaxis": "x",
         "y": [
          8.764868479658983,
          8.674403050998635
         ],
         "yaxis": "y"
        },
        {
         "customdata": [
          [
           "(S)-crizotinib",
           240
          ],
          [
           "(S)-crizotinib",
           277
          ]
         ],
         "error_y": {
          "array": [
           0.0009313705881019,
           0.1047720524763171
          ],
          "arrayminus": [
           0.0009313705881019,
           0.1047720524763171
          ]
         },
         "hovertemplate": "<b>%{hovertext}</b><br><br>conc=%{x}<br>distance=%{y:.3f}<br>count_nuclei=%{customdata[1]:.1f}<extra></extra>",
         "hovertext": [
          "(S)-crizotinib",
          "(S)-crizotinib"
         ],
         "legendgroup": "(S)-crizotinib",
         "line": {
          "color": "#FFA15A",
          "dash": "solid"
         },
         "marker": {
          "symbol": "circle"
         },
         "mode": "lines+markers",
         "name": "(S)-crizotinib",
         "orientation": "v",
         "showlegend": true,
         "type": "scatter",
         "x": [
          0.3,
          3.333333
         ],
         "xaxis": "x",
         "y": [
          17.50540351885613,
          8.681890268424802
         ],
         "yaxis": "y"
        },
        {
         "customdata": [
          [
           "Dronedarone HCl (Multaq)",
           251
          ],
          [
           "Dronedarone HCl (Multaq)",
           271
          ]
         ],
         "error_y": {
          "array": [
           0.4859065025990539,
           0.9947711519030412
          ],
          "arrayminus": [
           0.4859065025990539,
           0.9947711519030412
          ]
         },
         "hovertemplate": "<b>%{hovertext}</b><br><br>conc=%{x}<br>distance=%{y:.3f}<br>count_nuclei=%{customdata[1]:.1f}<extra></extra>",
         "hovertext": [
          "Dronedarone HCl (Multaq)",
          "Dronedarone HCl (Multaq)"
         ],
         "legendgroup": "Dronedarone HCl (Multaq)",
         "line": {
          "color": "#19d3f3",
          "dash": "solid"
         },
         "marker": {
          "symbol": "circle"
         },
         "mode": "lines+markers",
         "name": "Dronedarone HCl (Multaq)",
         "orientation": "v",
         "showlegend": true,
         "type": "scatter",
         "x": [
          0.833333,
          3.333333
         ],
         "xaxis": "x",
         "y": [
          12.357955062252335,
          8.711819860104429
         ],
         "yaxis": "y"
        },
        {
         "customdata": [
          [
           "NNC-05-2090",
           245
          ],
          [
           "NNC-05-2090",
           276
          ]
         ],
         "error_y": {
          "array": [
           0.9568192774914106,
           0.4040632268268336
          ],
          "arrayminus": [
           0.9568192774914106,
           0.4040632268268336
          ]
         },
         "hovertemplate": "<b>%{hovertext}</b><br><br>conc=%{x}<br>distance=%{y:.3f}<br>count_nuclei=%{customdata[1]:.1f}<extra></extra>",
         "hovertext": [
          "NNC-05-2090",
          "NNC-05-2090"
         ],
         "legendgroup": "NNC-05-2090",
         "line": {
          "color": "#FF6692",
          "dash": "solid"
         },
         "marker": {
          "symbol": "circle"
         },
         "mode": "lines+markers",
         "name": "NNC-05-2090",
         "orientation": "v",
         "showlegend": true,
         "type": "scatter",
         "x": [
          0.833333,
          3.333333
         ],
         "xaxis": "x",
         "y": [
          14.541939879206772,
          8.71438098541601
         ],
         "yaxis": "y"
        },
        {
         "customdata": [
          [
           "FLUPHENAZINE HYDROCHLORIDE",
           249
          ],
          [
           "FLUPHENAZINE HYDROCHLORIDE",
           262
          ]
         ],
         "error_y": {
          "array": [
           0.0191420650023843,
           0.9710853853769716
          ],
          "arrayminus": [
           0.0191420650023843,
           0.9710853853769716
          ]
         },
         "hovertemplate": "<b>%{hovertext}</b><br><br>conc=%{x}<br>distance=%{y:.3f}<br>count_nuclei=%{customdata[1]:.1f}<extra></extra>",
         "hovertext": [
          "FLUPHENAZINE HYDROCHLORIDE",
          "FLUPHENAZINE HYDROCHLORIDE"
         ],
         "legendgroup": "FLUPHENAZINE HYDROCHLORIDE",
         "line": {
          "color": "#B6E880",
          "dash": "solid"
         },
         "marker": {
          "symbol": "circle"
         },
         "mode": "lines+markers",
         "name": "FLUPHENAZINE HYDROCHLORIDE",
         "orientation": "v",
         "showlegend": true,
         "type": "scatter",
         "x": [
          0.833333,
          3.333333
         ],
         "xaxis": "x",
         "y": [
          16.457050681160545,
          8.729707434552983
         ],
         "yaxis": "y"
        },
        {
         "customdata": [
          [
           "NE-100",
           266
          ]
         ],
         "error_y": {
          "array": [
           0.4300340103814619
          ],
          "arrayminus": [
           0.4300340103814619
          ]
         },
         "hovertemplate": "<b>%{hovertext}</b><br><br>conc=%{x}<br>distance=%{y:.3f}<br>count_nuclei=%{customdata[1]:.1f}<extra></extra>",
         "hovertext": [
          "NE-100"
         ],
         "legendgroup": "NE-100",
         "line": {
          "color": "#FF97FF",
          "dash": "solid"
         },
         "marker": {
          "symbol": "circle"
         },
         "mode": "lines+markers",
         "name": "NE-100",
         "orientation": "v",
         "showlegend": true,
         "type": "scatter",
         "x": [
          10
         ],
         "xaxis": "x",
         "y": [
          8.733394409858791
         ],
         "yaxis": "y"
        },
        {
         "customdata": [
          [
           "Tolterodine tartrate (Detrol LA)",
           267.5
          ]
         ],
         "error_y": {
          "array": [
           0.9986470469993608
          ],
          "arrayminus": [
           0.9986470469993608
          ]
         },
         "hovertemplate": "<b>%{hovertext}</b><br><br>conc=%{x}<br>distance=%{y:.3f}<br>count_nuclei=%{customdata[1]:.1f}<extra></extra>",
         "hovertext": [
          "Tolterodine tartrate (Detrol LA)"
         ],
         "legendgroup": "Tolterodine tartrate (Detrol LA)",
         "line": {
          "color": "#FECB52",
          "dash": "solid"
         },
         "marker": {
          "symbol": "circle"
         },
         "mode": "lines+markers",
         "name": "Tolterodine tartrate (Detrol LA)",
         "orientation": "v",
         "showlegend": true,
         "type": "scatter",
         "x": [
          10
         ],
         "xaxis": "x",
         "y": [
          8.755107664348584
         ],
         "yaxis": "y"
        },
        {
         "customdata": [
          [
           "Benztropine mesylate",
           251
          ],
          [
           "Benztropine mesylate",
           279
          ]
         ],
         "error_y": {
          "array": [
           0.5138097816393543,
           1.2576683730224776
          ],
          "arrayminus": [
           0.5138097816393543,
           1.2576683730224776
          ]
         },
         "hovertemplate": "<b>%{hovertext}</b><br><br>conc=%{x}<br>distance=%{y:.3f}<br>count_nuclei=%{customdata[1]:.1f}<extra></extra>",
         "hovertext": [
          "Benztropine mesylate",
          "Benztropine mesylate"
         ],
         "legendgroup": "Benztropine mesylate",
         "line": {
          "color": "#636efa",
          "dash": "solid"
         },
         "marker": {
          "symbol": "circle"
         },
         "mode": "lines+markers",
         "name": "Benztropine mesylate",
         "orientation": "v",
         "showlegend": true,
         "type": "scatter",
         "x": [
          3.333333,
          10
         ],
         "xaxis": "x",
         "y": [
          10.651842708834552,
          8.772175839341674
         ],
         "yaxis": "y"
        },
        {
         "customdata": [
          [
           "DIBUCAINE",
           285.5
          ]
         ],
         "error_y": {
          "array": [
           0.1055721413208079
          ],
          "arrayminus": [
           0.1055721413208079
          ]
         },
         "hovertemplate": "<b>%{hovertext}</b><br><br>conc=%{x}<br>distance=%{y:.3f}<br>count_nuclei=%{customdata[1]:.1f}<extra></extra>",
         "hovertext": [
          "DIBUCAINE"
         ],
         "legendgroup": "DIBUCAINE",
         "line": {
          "color": "#EF553B",
          "dash": "solid"
         },
         "marker": {
          "symbol": "circle"
         },
         "mode": "lines+markers",
         "name": "DIBUCAINE",
         "orientation": "v",
         "showlegend": true,
         "type": "scatter",
         "x": [
          10
         ],
         "xaxis": "x",
         "y": [
          8.798645403032067
         ],
         "yaxis": "y"
        },
        {
         "customdata": [
          [
           "XPLJEFSRINKZLC-ATVHPVEESA-N",
           245
          ],
          [
           "XPLJEFSRINKZLC-ATVHPVEESA-N",
           240
          ]
         ],
         "error_y": {
          "array": [
           0,
           0
          ],
          "arrayminus": [
           0,
           0
          ]
         },
         "hovertemplate": "<b>%{hovertext}</b><br><br>conc=%{x}<br>distance=%{y:.3f}<br>count_nuclei=%{customdata[1]:.1f}<extra></extra>",
         "hovertext": [
          "XPLJEFSRINKZLC-ATVHPVEESA-N",
          "XPLJEFSRINKZLC-ATVHPVEESA-N"
         ],
         "legendgroup": "XPLJEFSRINKZLC-ATVHPVEESA-N",
         "line": {
          "color": "#00cc96",
          "dash": "solid"
         },
         "marker": {
          "symbol": "circle"
         },
         "mode": "lines+markers",
         "name": "XPLJEFSRINKZLC-ATVHPVEESA-N",
         "orientation": "v",
         "showlegend": true,
         "type": "scatter",
         "x": [
          0.833333,
          3.333333
         ],
         "xaxis": "x",
         "y": [
          9.788966392198551,
          8.8095521192554
         ],
         "yaxis": "y"
        },
        {
         "customdata": [
          [
           "ML-218",
           262.5
          ]
         ],
         "error_y": {
          "array": [
           1.3749440605477972
          ],
          "arrayminus": [
           1.3749440605477972
          ]
         },
         "hovertemplate": "<b>%{hovertext}</b><br><br>conc=%{x}<br>distance=%{y:.3f}<br>count_nuclei=%{customdata[1]:.1f}<extra></extra>",
         "hovertext": [
          "ML-218"
         ],
         "legendgroup": "ML-218",
         "line": {
          "color": "#ab63fa",
          "dash": "solid"
         },
         "marker": {
          "symbol": "circle"
         },
         "mode": "lines+markers",
         "name": "ML-218",
         "orientation": "v",
         "showlegend": true,
         "type": "scatter",
         "x": [
          10
         ],
         "xaxis": "x",
         "y": [
          8.833265034206779
         ],
         "yaxis": "y"
        },
        {
         "customdata": [
          [
           "AY-9944",
           240
          ],
          [
           "AY-9944",
           276
          ]
         ],
         "error_y": {
          "array": [
           0.9472936678293832,
           1.0343329269939652
          ],
          "arrayminus": [
           0.9472936678293832,
           1.0343329269939652
          ]
         },
         "hovertemplate": "<b>%{hovertext}</b><br><br>conc=%{x}<br>distance=%{y:.3f}<br>count_nuclei=%{customdata[1]:.1f}<extra></extra>",
         "hovertext": [
          "AY-9944",
          "AY-9944"
         ],
         "legendgroup": "AY-9944",
         "line": {
          "color": "#FFA15A",
          "dash": "solid"
         },
         "marker": {
          "symbol": "circle"
         },
         "mode": "lines+markers",
         "name": "AY-9944",
         "orientation": "v",
         "showlegend": true,
         "type": "scatter",
         "x": [
          0.3,
          3.333333
         ],
         "xaxis": "x",
         "y": [
          13.705326902820431,
          8.851064200913644
         ],
         "yaxis": "y"
        },
        {
         "customdata": [
          [
           "UNC0646",
           257
          ],
          [
           "UNC0646",
           268
          ]
         ],
         "error_y": {
          "array": [
           1.6998855516604523,
           0.4421569710461721
          ],
          "arrayminus": [
           1.6998855516604523,
           0.4421569710461721
          ]
         },
         "hovertemplate": "<b>%{hovertext}</b><br><br>conc=%{x}<br>distance=%{y:.3f}<br>count_nuclei=%{customdata[1]:.1f}<extra></extra>",
         "hovertext": [
          "UNC0646",
          "UNC0646"
         ],
         "legendgroup": "UNC0646",
         "line": {
          "color": "#19d3f3",
          "dash": "solid"
         },
         "marker": {
          "symbol": "circle"
         },
         "mode": "lines+markers",
         "name": "UNC0646",
         "orientation": "v",
         "showlegend": true,
         "type": "scatter",
         "x": [
          3.333333,
          10
         ],
         "xaxis": "x",
         "y": [
          9.753807276053402,
          8.910810279687508
         ],
         "yaxis": "y"
        },
        {
         "customdata": [
          [
           "CLOMIPHENE CITRATE",
           263
          ],
          [
           "CLOMIPHENE CITRATE",
           272
          ]
         ],
         "error_y": {
          "array": [
           0.1868002226253242,
           0.9548252163185982
          ],
          "arrayminus": [
           0.1868002226253242,
           0.9548252163185982
          ]
         },
         "hovertemplate": "<b>%{hovertext}</b><br><br>conc=%{x}<br>distance=%{y:.3f}<br>count_nuclei=%{customdata[1]:.1f}<extra></extra>",
         "hovertext": [
          "CLOMIPHENE CITRATE",
          "CLOMIPHENE CITRATE"
         ],
         "legendgroup": "CLOMIPHENE CITRATE",
         "line": {
          "color": "#FF6692",
          "dash": "solid"
         },
         "marker": {
          "symbol": "circle"
         },
         "mode": "lines+markers",
         "name": "CLOMIPHENE CITRATE",
         "orientation": "v",
         "showlegend": true,
         "type": "scatter",
         "x": [
          0.833333,
          3.333333
         ],
         "xaxis": "x",
         "y": [
          12.15394320313656,
          8.944711677491552
         ],
         "yaxis": "y"
        },
        {
         "customdata": [
          [
           "Biperiden (Hydrochloride)",
           238
          ],
          [
           "Biperiden (Hydrochloride)",
           266
          ]
         ],
         "error_y": {
          "array": [
           0.1883698932622692,
           0.1020651260777949
          ],
          "arrayminus": [
           0.1883698932622692,
           0.1020651260777949
          ]
         },
         "hovertemplate": "<b>%{hovertext}</b><br><br>conc=%{x}<br>distance=%{y:.3f}<br>count_nuclei=%{customdata[1]:.1f}<extra></extra>",
         "hovertext": [
          "Biperiden (Hydrochloride)",
          "Biperiden (Hydrochloride)"
         ],
         "legendgroup": "Biperiden (Hydrochloride)",
         "line": {
          "color": "#B6E880",
          "dash": "solid"
         },
         "marker": {
          "symbol": "circle"
         },
         "mode": "lines+markers",
         "name": "Biperiden (Hydrochloride)",
         "orientation": "v",
         "showlegend": true,
         "type": "scatter",
         "x": [
          3.333333,
          10
         ],
         "xaxis": "x",
         "y": [
          12.590527213367375,
          9.03824613933623
         ],
         "yaxis": "y"
        },
        {
         "customdata": [
          [
           "L-760735",
           234
          ],
          [
           "L-760735",
           252.5
          ]
         ],
         "error_y": {
          "array": [
           0.2216891548658388,
           0.7144430150538419
          ],
          "arrayminus": [
           0.2216891548658388,
           0.7144430150538419
          ]
         },
         "hovertemplate": "<b>%{hovertext}</b><br><br>conc=%{x}<br>distance=%{y:.3f}<br>count_nuclei=%{customdata[1]:.1f}<extra></extra>",
         "hovertext": [
          "L-760735",
          "L-760735"
         ],
         "legendgroup": "L-760735",
         "line": {
          "color": "#FF97FF",
          "dash": "solid"
         },
         "marker": {
          "symbol": "circle"
         },
         "mode": "lines+markers",
         "name": "L-760735",
         "orientation": "v",
         "showlegend": true,
         "type": "scatter",
         "x": [
          3.333333,
          10
         ],
         "xaxis": "x",
         "y": [
          13.515011530563308,
          9.048939942224262
         ],
         "yaxis": "y"
        },
        {
         "customdata": [
          [
           "JNJ 26854165 (Serdemetan)",
           251.5
          ],
          [
           "JNJ 26854165 (Serdemetan)",
           254
          ]
         ],
         "error_y": {
          "array": [
           2.4977191574063973,
           0.0841025478647505
          ],
          "arrayminus": [
           2.4977191574063973,
           0.0841025478647505
          ]
         },
         "hovertemplate": "<b>%{hovertext}</b><br><br>conc=%{x}<br>distance=%{y:.3f}<br>count_nuclei=%{customdata[1]:.1f}<extra></extra>",
         "hovertext": [
          "JNJ 26854165 (Serdemetan)",
          "JNJ 26854165 (Serdemetan)"
         ],
         "legendgroup": "JNJ 26854165 (Serdemetan)",
         "line": {
          "color": "#FECB52",
          "dash": "solid"
         },
         "marker": {
          "symbol": "circle"
         },
         "mode": "lines+markers",
         "name": "JNJ 26854165 (Serdemetan)",
         "orientation": "v",
         "showlegend": true,
         "type": "scatter",
         "x": [
          3.333333,
          10
         ],
         "xaxis": "x",
         "y": [
          10.57403080161708,
          9.058667239955128
         ],
         "yaxis": "y"
        },
        {
         "customdata": [
          [
           "KUZPLZGTCFVSOM-UHFFFAOYSA-N",
           244
          ],
          [
           "KUZPLZGTCFVSOM-UHFFFAOYSA-N",
           274
          ]
         ],
         "error_y": {
          "array": [
           0,
           0
          ],
          "arrayminus": [
           0,
           0
          ]
         },
         "hovertemplate": "<b>%{hovertext}</b><br><br>conc=%{x}<br>distance=%{y:.3f}<br>count_nuclei=%{customdata[1]:.1f}<extra></extra>",
         "hovertext": [
          "KUZPLZGTCFVSOM-UHFFFAOYSA-N",
          "KUZPLZGTCFVSOM-UHFFFAOYSA-N"
         ],
         "legendgroup": "KUZPLZGTCFVSOM-UHFFFAOYSA-N",
         "line": {
          "color": "#636efa",
          "dash": "solid"
         },
         "marker": {
          "symbol": "circle"
         },
         "mode": "lines+markers",
         "name": "KUZPLZGTCFVSOM-UHFFFAOYSA-N",
         "orientation": "v",
         "showlegend": true,
         "type": "scatter",
         "x": [
          3.333333,
          10
         ],
         "xaxis": "x",
         "y": [
          11.73606534105068,
          9.075919454488927
         ],
         "yaxis": "y"
        },
        {
         "customdata": [
          [
           "buclizine",
           259.5
          ]
         ],
         "error_y": {
          "array": [
           1.1145257625322262
          ],
          "arrayminus": [
           1.1145257625322262
          ]
         },
         "hovertemplate": "<b>%{hovertext}</b><br><br>conc=%{x}<br>distance=%{y:.3f}<br>count_nuclei=%{customdata[1]:.1f}<extra></extra>",
         "hovertext": [
          "buclizine"
         ],
         "legendgroup": "buclizine",
         "line": {
          "color": "#EF553B",
          "dash": "solid"
         },
         "marker": {
          "symbol": "circle"
         },
         "mode": "lines+markers",
         "name": "buclizine",
         "orientation": "v",
         "showlegend": true,
         "type": "scatter",
         "x": [
          10
         ],
         "xaxis": "x",
         "y": [
          9.081377450941822
         ],
         "yaxis": "y"
        },
        {
         "customdata": [
          [
           "PHA-665752",
           236
          ],
          [
           "PHA-665752",
           252
          ]
         ],
         "error_y": {
          "array": [
           0.901126920648924,
           0.7530020133719457
          ],
          "arrayminus": [
           0.901126920648924,
           0.7530020133719457
          ]
         },
         "hovertemplate": "<b>%{hovertext}</b><br><br>conc=%{x}<br>distance=%{y:.3f}<br>count_nuclei=%{customdata[1]:.1f}<extra></extra>",
         "hovertext": [
          "PHA-665752",
          "PHA-665752"
         ],
         "legendgroup": "PHA-665752",
         "line": {
          "color": "#00cc96",
          "dash": "solid"
         },
         "marker": {
          "symbol": "circle"
         },
         "mode": "lines+markers",
         "name": "PHA-665752",
         "orientation": "v",
         "showlegend": true,
         "type": "scatter",
         "x": [
          0.833333,
          3.333333
         ],
         "xaxis": "x",
         "y": [
          11.377621543366208,
          9.101240975766158
         ],
         "yaxis": "y"
        },
        {
         "customdata": [
          [
           "DDR1-IN-1",
           270
          ],
          [
           "DDR1-IN-1",
           281
          ]
         ],
         "error_y": {
          "array": [
           0.8093710264816529,
           1.2405212618744097
          ],
          "arrayminus": [
           0.8093710264816529,
           1.2405212618744097
          ]
         },
         "hovertemplate": "<b>%{hovertext}</b><br><br>conc=%{x}<br>distance=%{y:.3f}<br>count_nuclei=%{customdata[1]:.1f}<extra></extra>",
         "hovertext": [
          "DDR1-IN-1",
          "DDR1-IN-1"
         ],
         "legendgroup": "DDR1-IN-1",
         "line": {
          "color": "#ab63fa",
          "dash": "solid"
         },
         "marker": {
          "symbol": "circle"
         },
         "mode": "lines+markers",
         "name": "DDR1-IN-1",
         "orientation": "v",
         "showlegend": true,
         "type": "scatter",
         "x": [
          0.833333,
          3.333333
         ],
         "xaxis": "x",
         "y": [
          16.54021172049072,
          9.10749424745522
         ],
         "yaxis": "y"
        },
        {
         "customdata": [
          [
           "MK2-IN-1 (hydrochloride)",
           258
          ],
          [
           "MK2-IN-1 (hydrochloride)",
           279
          ]
         ],
         "error_y": {
          "array": [
           4.484275523943474,
           0.7756396538387271
          ],
          "arrayminus": [
           4.484275523943474,
           0.7756396538387271
          ]
         },
         "hovertemplate": "<b>%{hovertext}</b><br><br>conc=%{x}<br>distance=%{y:.3f}<br>count_nuclei=%{customdata[1]:.1f}<extra></extra>",
         "hovertext": [
          "MK2-IN-1 (hydrochloride)",
          "MK2-IN-1 (hydrochloride)"
         ],
         "legendgroup": "MK2-IN-1 (hydrochloride)",
         "line": {
          "color": "#FFA15A",
          "dash": "solid"
         },
         "marker": {
          "symbol": "circle"
         },
         "mode": "lines+markers",
         "name": "MK2-IN-1 (hydrochloride)",
         "orientation": "v",
         "showlegend": true,
         "type": "scatter",
         "x": [
          0.833333,
          3.333333
         ],
         "xaxis": "x",
         "y": [
          12.255132928424484,
          9.14403562566131
         ],
         "yaxis": "y"
        },
        {
         "customdata": [
          [
           "CGP-71683",
           229
          ],
          [
           "CGP-71683",
           268
          ]
         ],
         "error_y": {
          "array": [
           0.7285952430046496,
           0.0511351676990177
          ],
          "arrayminus": [
           0.7285952430046496,
           0.0511351676990177
          ]
         },
         "hovertemplate": "<b>%{hovertext}</b><br><br>conc=%{x}<br>distance=%{y:.3f}<br>count_nuclei=%{customdata[1]:.1f}<extra></extra>",
         "hovertext": [
          "CGP-71683",
          "CGP-71683"
         ],
         "legendgroup": "CGP-71683",
         "line": {
          "color": "#19d3f3",
          "dash": "solid"
         },
         "marker": {
          "symbol": "circle"
         },
         "mode": "lines+markers",
         "name": "CGP-71683",
         "orientation": "v",
         "showlegend": true,
         "type": "scatter",
         "x": [
          0.833333,
          3.333333
         ],
         "xaxis": "x",
         "y": [
          15.46641125552494,
          9.162166536637576
         ],
         "yaxis": "y"
        },
        {
         "customdata": [
          [
           "Ziprasidone hydrochloride",
           268.5
          ]
         ],
         "error_y": {
          "array": [
           1.8314333241078649
          ],
          "arrayminus": [
           1.8314333241078649
          ]
         },
         "hovertemplate": "<b>%{hovertext}</b><br><br>conc=%{x}<br>distance=%{y:.3f}<br>count_nuclei=%{customdata[1]:.1f}<extra></extra>",
         "hovertext": [
          "Ziprasidone hydrochloride"
         ],
         "legendgroup": "Ziprasidone hydrochloride",
         "line": {
          "color": "#FF6692",
          "dash": "solid"
         },
         "marker": {
          "symbol": "circle"
         },
         "mode": "lines+markers",
         "name": "Ziprasidone hydrochloride",
         "orientation": "v",
         "showlegend": true,
         "type": "scatter",
         "x": [
          10
         ],
         "xaxis": "x",
         "y": [
          9.16299830895192
         ],
         "yaxis": "y"
        },
        {
         "customdata": [
          [
           "WHZAJDSPQDCUBB-UHFFFAOYSA-N",
           235
          ],
          [
           "WHZAJDSPQDCUBB-UHFFFAOYSA-N",
           260
          ]
         ],
         "error_y": {
          "array": [
           0,
           0
          ],
          "arrayminus": [
           0,
           0
          ]
         },
         "hovertemplate": "<b>%{hovertext}</b><br><br>conc=%{x}<br>distance=%{y:.3f}<br>count_nuclei=%{customdata[1]:.1f}<extra></extra>",
         "hovertext": [
          "WHZAJDSPQDCUBB-UHFFFAOYSA-N",
          "WHZAJDSPQDCUBB-UHFFFAOYSA-N"
         ],
         "legendgroup": "WHZAJDSPQDCUBB-UHFFFAOYSA-N",
         "line": {
          "color": "#B6E880",
          "dash": "solid"
         },
         "marker": {
          "symbol": "circle"
         },
         "mode": "lines+markers",
         "name": "WHZAJDSPQDCUBB-UHFFFAOYSA-N",
         "orientation": "v",
         "showlegend": true,
         "type": "scatter",
         "x": [
          3.333333,
          10
         ],
         "xaxis": "x",
         "y": [
          13.992407511705686,
          9.184503689941684
         ],
         "yaxis": "y"
        },
        {
         "customdata": [
          [
           "UNC0638",
           245
          ],
          [
           "UNC0638",
           288
          ]
         ],
         "error_y": {
          "array": [
           0.4911866040079218,
           0.8980781017413815
          ],
          "arrayminus": [
           0.4911866040079218,
           0.8980781017413815
          ]
         },
         "hovertemplate": "<b>%{hovertext}</b><br><br>conc=%{x}<br>distance=%{y:.3f}<br>count_nuclei=%{customdata[1]:.1f}<extra></extra>",
         "hovertext": [
          "UNC0638",
          "UNC0638"
         ],
         "legendgroup": "UNC0638",
         "line": {
          "color": "#FF97FF",
          "dash": "solid"
         },
         "marker": {
          "symbol": "circle"
         },
         "mode": "lines+markers",
         "name": "UNC0638",
         "orientation": "v",
         "showlegend": true,
         "type": "scatter",
         "x": [
          0.3,
          3.333333
         ],
         "xaxis": "x",
         "y": [
          14.394331846290465,
          9.184559580793293
         ],
         "yaxis": "y"
        },
        {
         "customdata": [
          [
           "MCOPPB",
           248
          ],
          [
           "MCOPPB",
           260.5
          ]
         ],
         "error_y": {
          "array": [
           0.8290449654370757,
           0.7333640190468635
          ],
          "arrayminus": [
           0.8290449654370757,
           0.7333640190468635
          ]
         },
         "hovertemplate": "<b>%{hovertext}</b><br><br>conc=%{x}<br>distance=%{y:.3f}<br>count_nuclei=%{customdata[1]:.1f}<extra></extra>",
         "hovertext": [
          "MCOPPB",
          "MCOPPB"
         ],
         "legendgroup": "MCOPPB",
         "line": {
          "color": "#FECB52",
          "dash": "solid"
         },
         "marker": {
          "symbol": "circle"
         },
         "mode": "lines+markers",
         "name": "MCOPPB",
         "orientation": "v",
         "showlegend": true,
         "type": "scatter",
         "x": [
          0.3,
          3.333333
         ],
         "xaxis": "x",
         "y": [
          13.04694724431966,
          9.190577585779732
         ],
         "yaxis": "y"
        },
        {
         "customdata": [
          [
           "droloxifene",
           271
          ],
          [
           "droloxifene",
           253
          ]
         ],
         "error_y": {
          "array": [
           0.1297787765775506,
           0.2357454773419576
          ],
          "arrayminus": [
           0.1297787765775506,
           0.2357454773419576
          ]
         },
         "hovertemplate": "<b>%{hovertext}</b><br><br>conc=%{x}<br>distance=%{y:.3f}<br>count_nuclei=%{customdata[1]:.1f}<extra></extra>",
         "hovertext": [
          "droloxifene",
          "droloxifene"
         ],
         "legendgroup": "droloxifene",
         "line": {
          "color": "#636efa",
          "dash": "solid"
         },
         "marker": {
          "symbol": "circle"
         },
         "mode": "lines+markers",
         "name": "droloxifene",
         "orientation": "v",
         "showlegend": true,
         "type": "scatter",
         "x": [
          3.333333,
          10
         ],
         "xaxis": "x",
         "y": [
          12.085630440033574,
          9.191868259869702
         ],
         "yaxis": "y"
        },
        {
         "customdata": [
          [
           "DULOXETINE HYDROCHLORIDE",
           228
          ],
          [
           "DULOXETINE HYDROCHLORIDE",
           279
          ]
         ],
         "error_y": {
          "array": [
           2.320358068952114,
           1.144454509161445
          ],
          "arrayminus": [
           2.320358068952114,
           1.144454509161445
          ]
         },
         "hovertemplate": "<b>%{hovertext}</b><br><br>conc=%{x}<br>distance=%{y:.3f}<br>count_nuclei=%{customdata[1]:.1f}<extra></extra>",
         "hovertext": [
          "DULOXETINE HYDROCHLORIDE",
          "DULOXETINE HYDROCHLORIDE"
         ],
         "legendgroup": "DULOXETINE HYDROCHLORIDE",
         "line": {
          "color": "#EF553B",
          "dash": "solid"
         },
         "marker": {
          "symbol": "circle"
         },
         "mode": "lines+markers",
         "name": "DULOXETINE HYDROCHLORIDE",
         "orientation": "v",
         "showlegend": true,
         "type": "scatter",
         "x": [
          3.333333,
          10
         ],
         "xaxis": "x",
         "y": [
          16.132990158776362,
          9.210723550993064
         ],
         "yaxis": "y"
        },
        {
         "customdata": [
          [
           "MEFLOQUINE HYDROCHLORIDE",
           256
          ],
          [
           "MEFLOQUINE HYDROCHLORIDE",
           268
          ]
         ],
         "error_y": {
          "array": [
           1.0235165080331523,
           0.232654302791067
          ],
          "arrayminus": [
           1.0235165080331523,
           0.232654302791067
          ]
         },
         "hovertemplate": "<b>%{hovertext}</b><br><br>conc=%{x}<br>distance=%{y:.3f}<br>count_nuclei=%{customdata[1]:.1f}<extra></extra>",
         "hovertext": [
          "MEFLOQUINE HYDROCHLORIDE",
          "MEFLOQUINE HYDROCHLORIDE"
         ],
         "legendgroup": "MEFLOQUINE HYDROCHLORIDE",
         "line": {
          "color": "#00cc96",
          "dash": "solid"
         },
         "marker": {
          "symbol": "circle"
         },
         "mode": "lines+markers",
         "name": "MEFLOQUINE HYDROCHLORIDE",
         "orientation": "v",
         "showlegend": true,
         "type": "scatter",
         "x": [
          0.833333,
          3.333333
         ],
         "xaxis": "x",
         "y": [
          14.746788608456985,
          9.21446083512406
         ],
         "yaxis": "y"
        },
        {
         "customdata": [
          [
           "VDTHHHLGCXKCAO-KRWDZBQOSA-N",
           261
          ],
          [
           "VDTHHHLGCXKCAO-KRWDZBQOSA-N",
           247
          ]
         ],
         "error_y": {
          "array": [
           0,
           0
          ],
          "arrayminus": [
           0,
           0
          ]
         },
         "hovertemplate": "<b>%{hovertext}</b><br><br>conc=%{x}<br>distance=%{y:.3f}<br>count_nuclei=%{customdata[1]:.1f}<extra></extra>",
         "hovertext": [
          "VDTHHHLGCXKCAO-KRWDZBQOSA-N",
          "VDTHHHLGCXKCAO-KRWDZBQOSA-N"
         ],
         "legendgroup": "VDTHHHLGCXKCAO-KRWDZBQOSA-N",
         "line": {
          "color": "#ab63fa",
          "dash": "solid"
         },
         "marker": {
          "symbol": "circle"
         },
         "mode": "lines+markers",
         "name": "VDTHHHLGCXKCAO-KRWDZBQOSA-N",
         "orientation": "v",
         "showlegend": true,
         "type": "scatter",
         "x": [
          3.333333,
          10
         ],
         "xaxis": "x",
         "y": [
          9.633298630163408,
          9.251279278477256
         ],
         "yaxis": "y"
        },
        {
         "customdata": [
          [
           "wiskostatin",
           243
          ],
          [
           "wiskostatin",
           274
          ]
         ],
         "error_y": {
          "array": [
           1.3595686148450437,
           1.1796047225584925
          ],
          "arrayminus": [
           1.3595686148450437,
           1.1796047225584925
          ]
         },
         "hovertemplate": "<b>%{hovertext}</b><br><br>conc=%{x}<br>distance=%{y:.3f}<br>count_nuclei=%{customdata[1]:.1f}<extra></extra>",
         "hovertext": [
          "wiskostatin",
          "wiskostatin"
         ],
         "legendgroup": "wiskostatin",
         "line": {
          "color": "#FFA15A",
          "dash": "solid"
         },
         "marker": {
          "symbol": "circle"
         },
         "mode": "lines+markers",
         "name": "wiskostatin",
         "orientation": "v",
         "showlegend": true,
         "type": "scatter",
         "x": [
          0.833333,
          3.333333
         ],
         "xaxis": "x",
         "y": [
          15.011549815516592,
          9.253515520581116
         ],
         "yaxis": "y"
        },
        {
         "customdata": [
          [
           "DESLORATIDINE",
           271.5
          ]
         ],
         "error_y": {
          "array": [
           1.587655406070125
          ],
          "arrayminus": [
           1.587655406070125
          ]
         },
         "hovertemplate": "<b>%{hovertext}</b><br><br>conc=%{x}<br>distance=%{y:.3f}<br>count_nuclei=%{customdata[1]:.1f}<extra></extra>",
         "hovertext": [
          "DESLORATIDINE"
         ],
         "legendgroup": "DESLORATIDINE",
         "line": {
          "color": "#19d3f3",
          "dash": "solid"
         },
         "marker": {
          "symbol": "circle"
         },
         "mode": "lines+markers",
         "name": "DESLORATIDINE",
         "orientation": "v",
         "showlegend": true,
         "type": "scatter",
         "x": [
          10
         ],
         "xaxis": "x",
         "y": [
          9.270406030302391
         ],
         "yaxis": "y"
        },
        {
         "customdata": [
          [
           "Dapoxetine hydrochloride (Priligy)",
           275
          ]
         ],
         "error_y": {
          "array": [
           1.3428322192800335
          ],
          "arrayminus": [
           1.3428322192800335
          ]
         },
         "hovertemplate": "<b>%{hovertext}</b><br><br>conc=%{x}<br>distance=%{y:.3f}<br>count_nuclei=%{customdata[1]:.1f}<extra></extra>",
         "hovertext": [
          "Dapoxetine hydrochloride (Priligy)"
         ],
         "legendgroup": "Dapoxetine hydrochloride (Priligy)",
         "line": {
          "color": "#FF6692",
          "dash": "solid"
         },
         "marker": {
          "symbol": "circle"
         },
         "mode": "lines+markers",
         "name": "Dapoxetine hydrochloride (Priligy)",
         "orientation": "v",
         "showlegend": true,
         "type": "scatter",
         "x": [
          10
         ],
         "xaxis": "x",
         "y": [
          9.28171940591199
         ],
         "yaxis": "y"
        },
        {
         "customdata": [
          [
           "MEPAZINE",
           251
          ],
          [
           "MEPAZINE",
           274
          ]
         ],
         "error_y": {
          "array": [
           1.5294155686452608,
           0.1731611617978607
          ],
          "arrayminus": [
           1.5294155686452608,
           0.1731611617978607
          ]
         },
         "hovertemplate": "<b>%{hovertext}</b><br><br>conc=%{x}<br>distance=%{y:.3f}<br>count_nuclei=%{customdata[1]:.1f}<extra></extra>",
         "hovertext": [
          "MEPAZINE",
          "MEPAZINE"
         ],
         "legendgroup": "MEPAZINE",
         "line": {
          "color": "#B6E880",
          "dash": "solid"
         },
         "marker": {
          "symbol": "circle"
         },
         "mode": "lines+markers",
         "name": "MEPAZINE",
         "orientation": "v",
         "showlegend": true,
         "type": "scatter",
         "x": [
          3.333333,
          10
         ],
         "xaxis": "x",
         "y": [
          11.110505221969316,
          9.303379538349104
         ],
         "yaxis": "y"
        },
        {
         "customdata": [
          [
           "ORPHENADRINE CITRATE",
           258
          ]
         ],
         "error_y": {
          "array": [
           2.050968978032809
          ],
          "arrayminus": [
           2.050968978032809
          ]
         },
         "hovertemplate": "<b>%{hovertext}</b><br><br>conc=%{x}<br>distance=%{y:.3f}<br>count_nuclei=%{customdata[1]:.1f}<extra></extra>",
         "hovertext": [
          "ORPHENADRINE CITRATE"
         ],
         "legendgroup": "ORPHENADRINE CITRATE",
         "line": {
          "color": "#FF97FF",
          "dash": "solid"
         },
         "marker": {
          "symbol": "circle"
         },
         "mode": "lines+markers",
         "name": "ORPHENADRINE CITRATE",
         "orientation": "v",
         "showlegend": true,
         "type": "scatter",
         "x": [
          10
         ],
         "xaxis": "x",
         "y": [
          9.310829472129347
         ],
         "yaxis": "y"
        },
        {
         "customdata": [
          [
           "Eperisone HCl",
           250.5
          ]
         ],
         "error_y": {
          "array": [
           0.7983644687794662
          ],
          "arrayminus": [
           0.7983644687794662
          ]
         },
         "hovertemplate": "<b>%{hovertext}</b><br><br>conc=%{x}<br>distance=%{y:.3f}<br>count_nuclei=%{customdata[1]:.1f}<extra></extra>",
         "hovertext": [
          "Eperisone HCl"
         ],
         "legendgroup": "Eperisone HCl",
         "line": {
          "color": "#FECB52",
          "dash": "solid"
         },
         "marker": {
          "symbol": "circle"
         },
         "mode": "lines+markers",
         "name": "Eperisone HCl",
         "orientation": "v",
         "showlegend": true,
         "type": "scatter",
         "x": [
          10
         ],
         "xaxis": "x",
         "y": [
          9.359965270211577
         ],
         "yaxis": "y"
        },
        {
         "customdata": [
          [
           "GBR-13069",
           246.25
          ]
         ],
         "error_y": {
          "array": [
           1.1097387896659257
          ],
          "arrayminus": [
           1.1097387896659257
          ]
         },
         "hovertemplate": "<b>%{hovertext}</b><br><br>conc=%{x}<br>distance=%{y:.3f}<br>count_nuclei=%{customdata[1]:.1f}<extra></extra>",
         "hovertext": [
          "GBR-13069"
         ],
         "legendgroup": "GBR-13069",
         "line": {
          "color": "#636efa",
          "dash": "solid"
         },
         "marker": {
          "symbol": "circle"
         },
         "mode": "lines+markers",
         "name": "GBR-13069",
         "orientation": "v",
         "showlegend": true,
         "type": "scatter",
         "x": [
          10
         ],
         "xaxis": "x",
         "y": [
          9.3722767301497
         ],
         "yaxis": "y"
        },
        {
         "customdata": [
          [
           "PYRONARIDINE TETRAPHOSPHATE",
           268
          ]
         ],
         "error_y": {
          "array": [
           1.4445733777887728
          ],
          "arrayminus": [
           1.4445733777887728
          ]
         },
         "hovertemplate": "<b>%{hovertext}</b><br><br>conc=%{x}<br>distance=%{y:.3f}<br>count_nuclei=%{customdata[1]:.1f}<extra></extra>",
         "hovertext": [
          "PYRONARIDINE TETRAPHOSPHATE"
         ],
         "legendgroup": "PYRONARIDINE TETRAPHOSPHATE",
         "line": {
          "color": "#EF553B",
          "dash": "solid"
         },
         "marker": {
          "symbol": "circle"
         },
         "mode": "lines+markers",
         "name": "PYRONARIDINE TETRAPHOSPHATE",
         "orientation": "v",
         "showlegend": true,
         "type": "scatter",
         "x": [
          0.833333
         ],
         "xaxis": "x",
         "y": [
          9.379529898342051
         ],
         "yaxis": "y"
        },
        {
         "customdata": [
          [
           "MOYOTUKECQMGHE-GEVSMBKXSA-M",
           277
          ]
         ],
         "error_y": {
          "array": [
           0
          ],
          "arrayminus": [
           0
          ]
         },
         "hovertemplate": "<b>%{hovertext}</b><br><br>conc=%{x}<br>distance=%{y:.3f}<br>count_nuclei=%{customdata[1]:.1f}<extra></extra>",
         "hovertext": [
          "MOYOTUKECQMGHE-GEVSMBKXSA-M"
         ],
         "legendgroup": "MOYOTUKECQMGHE-GEVSMBKXSA-M",
         "line": {
          "color": "#00cc96",
          "dash": "solid"
         },
         "marker": {
          "symbol": "circle"
         },
         "mode": "lines+markers",
         "name": "MOYOTUKECQMGHE-GEVSMBKXSA-M",
         "orientation": "v",
         "showlegend": true,
         "type": "scatter",
         "x": [
          0.833333
         ],
         "xaxis": "x",
         "y": [
          9.381317294434664
         ],
         "yaxis": "y"
        },
        {
         "customdata": [
          [
           "desmethylclozapine",
           251
          ],
          [
           "desmethylclozapine",
           288
          ]
         ],
         "error_y": {
          "array": [
           0.8205669656220653,
           3.116838072164253
          ],
          "arrayminus": [
           0.8205669656220653,
           3.116838072164253
          ]
         },
         "hovertemplate": "<b>%{hovertext}</b><br><br>conc=%{x}<br>distance=%{y:.3f}<br>count_nuclei=%{customdata[1]:.1f}<extra></extra>",
         "hovertext": [
          "desmethylclozapine",
          "desmethylclozapine"
         ],
         "legendgroup": "desmethylclozapine",
         "line": {
          "color": "#ab63fa",
          "dash": "solid"
         },
         "marker": {
          "symbol": "circle"
         },
         "mode": "lines+markers",
         "name": "desmethylclozapine",
         "orientation": "v",
         "showlegend": true,
         "type": "scatter",
         "x": [
          3.333333,
          10
         ],
         "xaxis": "x",
         "y": [
          11.666949621700622,
          9.411538887466577
         ],
         "yaxis": "y"
        },
        {
         "customdata": [
          [
           "PEPPRIANRLGHDW-UHFFFAOYSA-N",
           258
          ],
          [
           "PEPPRIANRLGHDW-UHFFFAOYSA-N",
           265
          ]
         ],
         "error_y": {
          "array": [
           0,
           0
          ],
          "arrayminus": [
           0,
           0
          ]
         },
         "hovertemplate": "<b>%{hovertext}</b><br><br>conc=%{x}<br>distance=%{y:.3f}<br>count_nuclei=%{customdata[1]:.1f}<extra></extra>",
         "hovertext": [
          "PEPPRIANRLGHDW-UHFFFAOYSA-N",
          "PEPPRIANRLGHDW-UHFFFAOYSA-N"
         ],
         "legendgroup": "PEPPRIANRLGHDW-UHFFFAOYSA-N",
         "line": {
          "color": "#FFA15A",
          "dash": "solid"
         },
         "marker": {
          "symbol": "circle"
         },
         "mode": "lines+markers",
         "name": "PEPPRIANRLGHDW-UHFFFAOYSA-N",
         "orientation": "v",
         "showlegend": true,
         "type": "scatter",
         "x": [
          3.333333,
          10
         ],
         "xaxis": "x",
         "y": [
          10.75027903792193,
          9.412990052877166
         ],
         "yaxis": "y"
        },
        {
         "customdata": [
          [
           "BENAZEPRIL HYDROCHLORIDE",
           262.5
          ]
         ],
         "error_y": {
          "array": [
           0.4085044917718772
          ],
          "arrayminus": [
           0.4085044917718772
          ]
         },
         "hovertemplate": "<b>%{hovertext}</b><br><br>conc=%{x}<br>distance=%{y:.3f}<br>count_nuclei=%{customdata[1]:.1f}<extra></extra>",
         "hovertext": [
          "BENAZEPRIL HYDROCHLORIDE"
         ],
         "legendgroup": "BENAZEPRIL HYDROCHLORIDE",
         "line": {
          "color": "#19d3f3",
          "dash": "solid"
         },
         "marker": {
          "symbol": "circle"
         },
         "mode": "lines+markers",
         "name": "BENAZEPRIL HYDROCHLORIDE",
         "orientation": "v",
         "showlegend": true,
         "type": "scatter",
         "x": [
          10
         ],
         "xaxis": "x",
         "y": [
          9.437329562020505
         ],
         "yaxis": "y"
        },
        {
         "customdata": [
          [
           "P7C3",
           249
          ],
          [
           "P7C3",
           250
          ]
         ],
         "error_y": {
          "array": [
           0.0853415986430565,
           0.997187496082395
          ],
          "arrayminus": [
           0.0853415986430565,
           0.997187496082395
          ]
         },
         "hovertemplate": "<b>%{hovertext}</b><br><br>conc=%{x}<br>distance=%{y:.3f}<br>count_nuclei=%{customdata[1]:.1f}<extra></extra>",
         "hovertext": [
          "P7C3",
          "P7C3"
         ],
         "legendgroup": "P7C3",
         "line": {
          "color": "#FF6692",
          "dash": "solid"
         },
         "marker": {
          "symbol": "circle"
         },
         "mode": "lines+markers",
         "name": "P7C3",
         "orientation": "v",
         "showlegend": true,
         "type": "scatter",
         "x": [
          3.333333,
          10
         ],
         "xaxis": "x",
         "y": [
          14.868528498513609,
          9.447517172573615
         ],
         "yaxis": "y"
        },
        {
         "customdata": [
          [
           "NTNCB",
           244
          ],
          [
           "NTNCB",
           275
          ]
         ],
         "error_y": {
          "array": [
           0.94690847764379,
           0.217171918204249
          ],
          "arrayminus": [
           0.94690847764379,
           0.217171918204249
          ]
         },
         "hovertemplate": "<b>%{hovertext}</b><br><br>conc=%{x}<br>distance=%{y:.3f}<br>count_nuclei=%{customdata[1]:.1f}<extra></extra>",
         "hovertext": [
          "NTNCB",
          "NTNCB"
         ],
         "legendgroup": "NTNCB",
         "line": {
          "color": "#B6E880",
          "dash": "solid"
         },
         "marker": {
          "symbol": "circle"
         },
         "mode": "lines+markers",
         "name": "NTNCB",
         "orientation": "v",
         "showlegend": true,
         "type": "scatter",
         "x": [
          0.833333,
          3.333333
         ],
         "xaxis": "x",
         "y": [
          13.584115629103753,
          9.478475715078972
         ],
         "yaxis": "y"
        },
        {
         "customdata": [
          [
           "DPPE",
           263
          ]
         ],
         "error_y": {
          "array": [
           0.2749131249954697
          ],
          "arrayminus": [
           0.2749131249954697
          ]
         },
         "hovertemplate": "<b>%{hovertext}</b><br><br>conc=%{x}<br>distance=%{y:.3f}<br>count_nuclei=%{customdata[1]:.1f}<extra></extra>",
         "hovertext": [
          "DPPE"
         ],
         "legendgroup": "DPPE",
         "line": {
          "color": "#FF97FF",
          "dash": "solid"
         },
         "marker": {
          "symbol": "circle"
         },
         "mode": "lines+markers",
         "name": "DPPE",
         "orientation": "v",
         "showlegend": true,
         "type": "scatter",
         "x": [
          10
         ],
         "xaxis": "x",
         "y": [
          9.489667898523855
         ],
         "yaxis": "y"
        },
        {
         "customdata": [
          [
           "VNPAGZLSOUNWEV-JDKYCQOTSA-N",
           242
          ],
          [
           "VNPAGZLSOUNWEV-JDKYCQOTSA-N",
           279
          ]
         ],
         "error_y": {
          "array": [
           0,
           0
          ],
          "arrayminus": [
           0,
           0
          ]
         },
         "hovertemplate": "<b>%{hovertext}</b><br><br>conc=%{x}<br>distance=%{y:.3f}<br>count_nuclei=%{customdata[1]:.1f}<extra></extra>",
         "hovertext": [
          "VNPAGZLSOUNWEV-JDKYCQOTSA-N",
          "VNPAGZLSOUNWEV-JDKYCQOTSA-N"
         ],
         "legendgroup": "VNPAGZLSOUNWEV-JDKYCQOTSA-N",
         "line": {
          "color": "#FECB52",
          "dash": "solid"
         },
         "marker": {
          "symbol": "circle"
         },
         "mode": "lines+markers",
         "name": "VNPAGZLSOUNWEV-JDKYCQOTSA-N",
         "orientation": "v",
         "showlegend": true,
         "type": "scatter",
         "x": [
          3.333333,
          10
         ],
         "xaxis": "x",
         "y": [
          13.461282044707524,
          9.494309593085251
         ],
         "yaxis": "y"
        },
        {
         "customdata": [
          [
           "U-18666A",
           281
          ],
          [
           "U-18666A",
           259
          ]
         ],
         "error_y": {
          "array": [
           0.3204023963947993,
           0.0548412264523054
          ],
          "arrayminus": [
           0.3204023963947993,
           0.0548412264523054
          ]
         },
         "hovertemplate": "<b>%{hovertext}</b><br><br>conc=%{x}<br>distance=%{y:.3f}<br>count_nuclei=%{customdata[1]:.1f}<extra></extra>",
         "hovertext": [
          "U-18666A",
          "U-18666A"
         ],
         "legendgroup": "U-18666A",
         "line": {
          "color": "#636efa",
          "dash": "solid"
         },
         "marker": {
          "symbol": "circle"
         },
         "mode": "lines+markers",
         "name": "U-18666A",
         "orientation": "v",
         "showlegend": true,
         "type": "scatter",
         "x": [
          0.833333,
          3.333333
         ],
         "xaxis": "x",
         "y": [
          15.755055300570683,
          9.509918491641164
         ],
         "yaxis": "y"
        },
        {
         "customdata": [
          [
           "norfluoxetine",
           237
          ],
          [
           "norfluoxetine",
           301
          ]
         ],
         "error_y": {
          "array": [
           0.6917216728853823,
           0.1772602849084403
          ],
          "arrayminus": [
           0.6917216728853823,
           0.1772602849084403
          ]
         },
         "hovertemplate": "<b>%{hovertext}</b><br><br>conc=%{x}<br>distance=%{y:.3f}<br>count_nuclei=%{customdata[1]:.1f}<extra></extra>",
         "hovertext": [
          "norfluoxetine",
          "norfluoxetine"
         ],
         "legendgroup": "norfluoxetine",
         "line": {
          "color": "#EF553B",
          "dash": "solid"
         },
         "marker": {
          "symbol": "circle"
         },
         "mode": "lines+markers",
         "name": "norfluoxetine",
         "orientation": "v",
         "showlegend": true,
         "type": "scatter",
         "x": [
          3.333333,
          10
         ],
         "xaxis": "x",
         "y": [
          17.423044054908235,
          9.553543629035325
         ],
         "yaxis": "y"
        },
        {
         "customdata": [
          [
           "VWAGIWCLJAQLAL-UHFFFAOYSA-N",
           264
          ],
          [
           "VWAGIWCLJAQLAL-UHFFFAOYSA-N",
           260
          ]
         ],
         "error_y": {
          "array": [
           0,
           0
          ],
          "arrayminus": [
           0,
           0
          ]
         },
         "hovertemplate": "<b>%{hovertext}</b><br><br>conc=%{x}<br>distance=%{y:.3f}<br>count_nuclei=%{customdata[1]:.1f}<extra></extra>",
         "hovertext": [
          "VWAGIWCLJAQLAL-UHFFFAOYSA-N",
          "VWAGIWCLJAQLAL-UHFFFAOYSA-N"
         ],
         "legendgroup": "VWAGIWCLJAQLAL-UHFFFAOYSA-N",
         "line": {
          "color": "#00cc96",
          "dash": "solid"
         },
         "marker": {
          "symbol": "circle"
         },
         "mode": "lines+markers",
         "name": "VWAGIWCLJAQLAL-UHFFFAOYSA-N",
         "orientation": "v",
         "showlegend": true,
         "type": "scatter",
         "x": [
          3.333333,
          10
         ],
         "xaxis": "x",
         "y": [
          16.17458402247189,
          9.5823546974055
         ],
         "yaxis": "y"
        },
        {
         "customdata": [
          [
           "anisomycin",
           239
          ]
         ],
         "error_y": {
          "array": [
           0.2346009548362939
          ],
          "arrayminus": [
           0.2346009548362939
          ]
         },
         "hovertemplate": "<b>%{hovertext}</b><br><br>conc=%{x}<br>distance=%{y:.3f}<br>count_nuclei=%{customdata[1]:.1f}<extra></extra>",
         "hovertext": [
          "anisomycin"
         ],
         "legendgroup": "anisomycin",
         "line": {
          "color": "#ab63fa",
          "dash": "solid"
         },
         "marker": {
          "symbol": "circle"
         },
         "mode": "lines+markers",
         "name": "anisomycin",
         "orientation": "v",
         "showlegend": true,
         "type": "scatter",
         "x": [
          0.1
         ],
         "xaxis": "x",
         "y": [
          9.583255286219122
         ],
         "yaxis": "y"
        },
        {
         "customdata": [
          [
           "N-benzylnaltrindole",
           238
          ],
          [
           "N-benzylnaltrindole",
           264
          ]
         ],
         "error_y": {
          "array": [
           0.2501276121821032,
           5.9684383912116505
          ],
          "arrayminus": [
           0.2501276121821032,
           5.9684383912116505
          ]
         },
         "hovertemplate": "<b>%{hovertext}</b><br><br>conc=%{x}<br>distance=%{y:.3f}<br>count_nuclei=%{customdata[1]:.1f}<extra></extra>",
         "hovertext": [
          "N-benzylnaltrindole",
          "N-benzylnaltrindole"
         ],
         "legendgroup": "N-benzylnaltrindole",
         "line": {
          "color": "#FFA15A",
          "dash": "solid"
         },
         "marker": {
          "symbol": "circle"
         },
         "mode": "lines+markers",
         "name": "N-benzylnaltrindole",
         "orientation": "v",
         "showlegend": true,
         "type": "scatter",
         "x": [
          0.833333,
          3.333333
         ],
         "xaxis": "x",
         "y": [
          15.758005143589893,
          9.5866930654293
         ],
         "yaxis": "y"
        },
        {
         "customdata": [
          [
           "HYDROXYCHLOROQUINE SULFATE",
           263.5
          ]
         ],
         "error_y": {
          "array": [
           1.627753065502063
          ],
          "arrayminus": [
           1.627753065502063
          ]
         },
         "hovertemplate": "<b>%{hovertext}</b><br><br>conc=%{x}<br>distance=%{y:.3f}<br>count_nuclei=%{customdata[1]:.1f}<extra></extra>",
         "hovertext": [
          "HYDROXYCHLOROQUINE SULFATE"
         ],
         "legendgroup": "HYDROXYCHLOROQUINE SULFATE",
         "line": {
          "color": "#19d3f3",
          "dash": "solid"
         },
         "marker": {
          "symbol": "circle"
         },
         "mode": "lines+markers",
         "name": "HYDROXYCHLOROQUINE SULFATE",
         "orientation": "v",
         "showlegend": true,
         "type": "scatter",
         "x": [
          10
         ],
         "xaxis": "x",
         "y": [
          9.594332664708984
         ],
         "yaxis": "y"
        },
        {
         "customdata": [
          [
           "mifepristone",
           260.5
          ]
         ],
         "error_y": {
          "array": [
           0.6323796703154105
          ],
          "arrayminus": [
           0.6323796703154105
          ]
         },
         "hovertemplate": "<b>%{hovertext}</b><br><br>conc=%{x}<br>distance=%{y:.3f}<br>count_nuclei=%{customdata[1]:.1f}<extra></extra>",
         "hovertext": [
          "mifepristone"
         ],
         "legendgroup": "mifepristone",
         "line": {
          "color": "#FF6692",
          "dash": "solid"
         },
         "marker": {
          "symbol": "circle"
         },
         "mode": "lines+markers",
         "name": "mifepristone",
         "orientation": "v",
         "showlegend": true,
         "type": "scatter",
         "x": [
          10
         ],
         "xaxis": "x",
         "y": [
          9.611367330703247
         ],
         "yaxis": "y"
        },
        {
         "customdata": [
          [
           "TOREMIFENE CITRATE",
           261
          ],
          [
           "TOREMIFENE CITRATE",
           279
          ]
         ],
         "error_y": {
          "array": [
           1.0381276832850457,
           0.3146862527260854
          ],
          "arrayminus": [
           1.0381276832850457,
           0.3146862527260854
          ]
         },
         "hovertemplate": "<b>%{hovertext}</b><br><br>conc=%{x}<br>distance=%{y:.3f}<br>count_nuclei=%{customdata[1]:.1f}<extra></extra>",
         "hovertext": [
          "TOREMIFENE CITRATE",
          "TOREMIFENE CITRATE"
         ],
         "legendgroup": "TOREMIFENE CITRATE",
         "line": {
          "color": "#B6E880",
          "dash": "solid"
         },
         "marker": {
          "symbol": "circle"
         },
         "mode": "lines+markers",
         "name": "TOREMIFENE CITRATE",
         "orientation": "v",
         "showlegend": true,
         "type": "scatter",
         "x": [
          0.833333,
          3.333333
         ],
         "xaxis": "x",
         "y": [
          13.78179429093491,
          9.62609214531884
         ],
         "yaxis": "y"
        },
        {
         "customdata": [
          [
           "Tie2 kinase inhibitor",
           268
          ],
          [
           "Tie2 kinase inhibitor",
           292
          ]
         ],
         "error_y": {
          "array": [
           0.0096288000141804,
           0.034025506950968
          ],
          "arrayminus": [
           0.0096288000141804,
           0.034025506950968
          ]
         },
         "hovertemplate": "<b>%{hovertext}</b><br><br>conc=%{x}<br>distance=%{y:.3f}<br>count_nuclei=%{customdata[1]:.1f}<extra></extra>",
         "hovertext": [
          "Tie2 kinase inhibitor",
          "Tie2 kinase inhibitor"
         ],
         "legendgroup": "Tie2 kinase inhibitor",
         "line": {
          "color": "#FF97FF",
          "dash": "solid"
         },
         "marker": {
          "symbol": "circle"
         },
         "mode": "lines+markers",
         "name": "Tie2 kinase inhibitor",
         "orientation": "v",
         "showlegend": true,
         "type": "scatter",
         "x": [
          3.333333,
          10
         ],
         "xaxis": "x",
         "y": [
          11.142220814477188,
          9.641209405748857
         ],
         "yaxis": "y"
        },
        {
         "customdata": [
          [
           "VU-0364739",
           225
          ],
          [
           "VU-0364739",
           269
          ]
         ],
         "error_y": {
          "array": [
           0.8440255689441116,
           0.2259670291975588
          ],
          "arrayminus": [
           0.8440255689441116,
           0.2259670291975588
          ]
         },
         "hovertemplate": "<b>%{hovertext}</b><br><br>conc=%{x}<br>distance=%{y:.3f}<br>count_nuclei=%{customdata[1]:.1f}<extra></extra>",
         "hovertext": [
          "VU-0364739",
          "VU-0364739"
         ],
         "legendgroup": "VU-0364739",
         "line": {
          "color": "#FECB52",
          "dash": "solid"
         },
         "marker": {
          "symbol": "circle"
         },
         "mode": "lines+markers",
         "name": "VU-0364739",
         "orientation": "v",
         "showlegend": true,
         "type": "scatter",
         "x": [
          0.3,
          3.333333
         ],
         "xaxis": "x",
         "y": [
          19.17321743824561,
          9.673470826979209
         ],
         "yaxis": "y"
        },
        {
         "customdata": [
          [
           "HJSYFKVQMKNHCQ-UHFFFAOYSA-N",
           238
          ],
          [
           "HJSYFKVQMKNHCQ-UHFFFAOYSA-N",
           264
          ]
         ],
         "error_y": {
          "array": [
           0,
           0
          ],
          "arrayminus": [
           0,
           0
          ]
         },
         "hovertemplate": "<b>%{hovertext}</b><br><br>conc=%{x}<br>distance=%{y:.3f}<br>count_nuclei=%{customdata[1]:.1f}<extra></extra>",
         "hovertext": [
          "HJSYFKVQMKNHCQ-UHFFFAOYSA-N",
          "HJSYFKVQMKNHCQ-UHFFFAOYSA-N"
         ],
         "legendgroup": "HJSYFKVQMKNHCQ-UHFFFAOYSA-N",
         "line": {
          "color": "#636efa",
          "dash": "solid"
         },
         "marker": {
          "symbol": "circle"
         },
         "mode": "lines+markers",
         "name": "HJSYFKVQMKNHCQ-UHFFFAOYSA-N",
         "orientation": "v",
         "showlegend": true,
         "type": "scatter",
         "x": [
          3.333333,
          10
         ],
         "xaxis": "x",
         "y": [
          14.279751973244515,
          9.69194232847394
         ],
         "yaxis": "y"
        },
        {
         "customdata": [
          [
           "GDRZZQNHEWZLFI-WLHGVMLRSA-N",
           233
          ],
          [
           "GDRZZQNHEWZLFI-WLHGVMLRSA-N",
           275
          ]
         ],
         "error_y": {
          "array": [
           0,
           0
          ],
          "arrayminus": [
           0,
           0
          ]
         },
         "hovertemplate": "<b>%{hovertext}</b><br><br>conc=%{x}<br>distance=%{y:.3f}<br>count_nuclei=%{customdata[1]:.1f}<extra></extra>",
         "hovertext": [
          "GDRZZQNHEWZLFI-WLHGVMLRSA-N",
          "GDRZZQNHEWZLFI-WLHGVMLRSA-N"
         ],
         "legendgroup": "GDRZZQNHEWZLFI-WLHGVMLRSA-N",
         "line": {
          "color": "#EF553B",
          "dash": "solid"
         },
         "marker": {
          "symbol": "circle"
         },
         "mode": "lines+markers",
         "name": "GDRZZQNHEWZLFI-WLHGVMLRSA-N",
         "orientation": "v",
         "showlegend": true,
         "type": "scatter",
         "x": [
          3.333333,
          10
         ],
         "xaxis": "x",
         "y": [
          18.87503739301721,
          9.70902402603372
         ],
         "yaxis": "y"
        },
        {
         "customdata": [
          [
           "ZEEPCWVFSHMOPI-UHFFFAOYSA-N",
           251
          ],
          [
           "ZEEPCWVFSHMOPI-UHFFFAOYSA-N",
           248
          ]
         ],
         "error_y": {
          "array": [
           0,
           0
          ],
          "arrayminus": [
           0,
           0
          ]
         },
         "hovertemplate": "<b>%{hovertext}</b><br><br>conc=%{x}<br>distance=%{y:.3f}<br>count_nuclei=%{customdata[1]:.1f}<extra></extra>",
         "hovertext": [
          "ZEEPCWVFSHMOPI-UHFFFAOYSA-N",
          "ZEEPCWVFSHMOPI-UHFFFAOYSA-N"
         ],
         "legendgroup": "ZEEPCWVFSHMOPI-UHFFFAOYSA-N",
         "line": {
          "color": "#00cc96",
          "dash": "solid"
         },
         "marker": {
          "symbol": "circle"
         },
         "mode": "lines+markers",
         "name": "ZEEPCWVFSHMOPI-UHFFFAOYSA-N",
         "orientation": "v",
         "showlegend": true,
         "type": "scatter",
         "x": [
          0.833333,
          3.333333
         ],
         "xaxis": "x",
         "y": [
          19.12552983110016,
          9.73086116702679
         ],
         "yaxis": "y"
        },
        {
         "customdata": [
          [
           "Revaprazan Hydrochloride",
           271.5
          ],
          [
           "Revaprazan Hydrochloride",
           265
          ]
         ],
         "error_y": {
          "array": [
           2.1525877571874226,
           0.6676598671452076
          ],
          "arrayminus": [
           2.1525877571874226,
           0.6676598671452076
          ]
         },
         "hovertemplate": "<b>%{hovertext}</b><br><br>conc=%{x}<br>distance=%{y:.3f}<br>count_nuclei=%{customdata[1]:.1f}<extra></extra>",
         "hovertext": [
          "Revaprazan Hydrochloride",
          "Revaprazan Hydrochloride"
         ],
         "legendgroup": "Revaprazan Hydrochloride",
         "line": {
          "color": "#ab63fa",
          "dash": "solid"
         },
         "marker": {
          "symbol": "circle"
         },
         "mode": "lines+markers",
         "name": "Revaprazan Hydrochloride",
         "orientation": "v",
         "showlegend": true,
         "type": "scatter",
         "x": [
          3.333333,
          10
         ],
         "xaxis": "x",
         "y": [
          10.458707200463282,
          9.750773761563686
         ],
         "yaxis": "y"
        },
        {
         "customdata": [
          [
           "PD173074",
           233
          ],
          [
           "PD173074",
           250
          ]
         ],
         "error_y": {
          "array": [
           1.5613428648496352,
           0.8946871522056856
          ],
          "arrayminus": [
           1.5613428648496352,
           0.8946871522056856
          ]
         },
         "hovertemplate": "<b>%{hovertext}</b><br><br>conc=%{x}<br>distance=%{y:.3f}<br>count_nuclei=%{customdata[1]:.1f}<extra></extra>",
         "hovertext": [
          "PD173074",
          "PD173074"
         ],
         "legendgroup": "PD173074",
         "line": {
          "color": "#FFA15A",
          "dash": "solid"
         },
         "marker": {
          "symbol": "circle"
         },
         "mode": "lines+markers",
         "name": "PD173074",
         "orientation": "v",
         "showlegend": true,
         "type": "scatter",
         "x": [
          0.833333,
          3.333333
         ],
         "xaxis": "x",
         "y": [
          14.817269824914897,
          9.785774233212583
         ],
         "yaxis": "y"
        },
        {
         "customdata": [
          [
           "SULOCTIDIL",
           250
          ],
          [
           "SULOCTIDIL",
           288
          ]
         ],
         "error_y": {
          "array": [
           0.9312280948917504,
           1.605071599699226
          ],
          "arrayminus": [
           0.9312280948917504,
           1.605071599699226
          ]
         },
         "hovertemplate": "<b>%{hovertext}</b><br><br>conc=%{x}<br>distance=%{y:.3f}<br>count_nuclei=%{customdata[1]:.1f}<extra></extra>",
         "hovertext": [
          "SULOCTIDIL",
          "SULOCTIDIL"
         ],
         "legendgroup": "SULOCTIDIL",
         "line": {
          "color": "#19d3f3",
          "dash": "solid"
         },
         "marker": {
          "symbol": "circle"
         },
         "mode": "lines+markers",
         "name": "SULOCTIDIL",
         "orientation": "v",
         "showlegend": true,
         "type": "scatter",
         "x": [
          3.333333,
          10
         ],
         "xaxis": "x",
         "y": [
          15.290564022465158,
          9.813583229889511
         ],
         "yaxis": "y"
        },
        {
         "customdata": [
          [
           "Nelfinavir Mesylate",
           231
          ],
          [
           "Nelfinavir Mesylate",
           258
          ]
         ],
         "error_y": {
          "array": [
           0.8029076865349243,
           0.6097893215212409
          ],
          "arrayminus": [
           0.8029076865349243,
           0.6097893215212409
          ]
         },
         "hovertemplate": "<b>%{hovertext}</b><br><br>conc=%{x}<br>distance=%{y:.3f}<br>count_nuclei=%{customdata[1]:.1f}<extra></extra>",
         "hovertext": [
          "Nelfinavir Mesylate",
          "Nelfinavir Mesylate"
         ],
         "legendgroup": "Nelfinavir Mesylate",
         "line": {
          "color": "#FF6692",
          "dash": "solid"
         },
         "marker": {
          "symbol": "circle"
         },
         "mode": "lines+markers",
         "name": "Nelfinavir Mesylate",
         "orientation": "v",
         "showlegend": true,
         "type": "scatter",
         "x": [
          3.333333,
          10
         ],
         "xaxis": "x",
         "y": [
          13.829541804828304,
          9.876164203841071
         ],
         "yaxis": "y"
        },
        {
         "customdata": [
          [
           "yoda-1",
           250
          ]
         ],
         "error_y": {
          "array": [
           0.5590366621386682
          ],
          "arrayminus": [
           0.5590366621386682
          ]
         },
         "hovertemplate": "<b>%{hovertext}</b><br><br>conc=%{x}<br>distance=%{y:.3f}<br>count_nuclei=%{customdata[1]:.1f}<extra></extra>",
         "hovertext": [
          "yoda-1"
         ],
         "legendgroup": "yoda-1",
         "line": {
          "color": "#B6E880",
          "dash": "solid"
         },
         "marker": {
          "symbol": "circle"
         },
         "mode": "lines+markers",
         "name": "yoda-1",
         "orientation": "v",
         "showlegend": true,
         "type": "scatter",
         "x": [
          10
         ],
         "xaxis": "x",
         "y": [
          9.882090553375814
         ],
         "yaxis": "y"
        },
        {
         "customdata": [
          [
           "HomochlorcyclizineÂ·2HCl",
           245
          ],
          [
           "HomochlorcyclizineÂ·2HCl",
           268
          ]
         ],
         "error_y": {
          "array": [
           0.1473823810976782,
           1.1397926612900149
          ],
          "arrayminus": [
           0.1473823810976782,
           1.1397926612900149
          ]
         },
         "hovertemplate": "<b>%{hovertext}</b><br><br>conc=%{x}<br>distance=%{y:.3f}<br>count_nuclei=%{customdata[1]:.1f}<extra></extra>",
         "hovertext": [
          "HomochlorcyclizineÂ·2HCl",
          "HomochlorcyclizineÂ·2HCl"
         ],
         "legendgroup": "HomochlorcyclizineÂ·2HCl",
         "line": {
          "color": "#FF97FF",
          "dash": "solid"
         },
         "marker": {
          "symbol": "circle"
         },
         "mode": "lines+markers",
         "name": "HomochlorcyclizineÂ·2HCl",
         "orientation": "v",
         "showlegend": true,
         "type": "scatter",
         "x": [
          0.3,
          3.333333
         ],
         "xaxis": "x",
         "y": [
          14.553336405652722,
          9.883109969121708
         ],
         "yaxis": "y"
        },
        {
         "customdata": [
          [
           "Tarafenacin (D-tartrate)",
           268.75
          ]
         ],
         "error_y": {
          "array": [
           1.181650220567521
          ],
          "arrayminus": [
           1.181650220567521
          ]
         },
         "hovertemplate": "<b>%{hovertext}</b><br><br>conc=%{x}<br>distance=%{y:.3f}<br>count_nuclei=%{customdata[1]:.1f}<extra></extra>",
         "hovertext": [
          "Tarafenacin (D-tartrate)"
         ],
         "legendgroup": "Tarafenacin (D-tartrate)",
         "line": {
          "color": "#FECB52",
          "dash": "solid"
         },
         "marker": {
          "symbol": "circle"
         },
         "mode": "lines+markers",
         "name": "Tarafenacin (D-tartrate)",
         "orientation": "v",
         "showlegend": true,
         "type": "scatter",
         "x": [
          10
         ],
         "xaxis": "x",
         "y": [
          9.92299227295045
         ],
         "yaxis": "y"
        },
        {
         "customdata": [
          [
           "UXENCGOPJHTEEV-UHFFFAOYSA-N",
           237
          ],
          [
           "UXENCGOPJHTEEV-UHFFFAOYSA-N",
           249
          ]
         ],
         "error_y": {
          "array": [
           0,
           0
          ],
          "arrayminus": [
           0,
           0
          ]
         },
         "hovertemplate": "<b>%{hovertext}</b><br><br>conc=%{x}<br>distance=%{y:.3f}<br>count_nuclei=%{customdata[1]:.1f}<extra></extra>",
         "hovertext": [
          "UXENCGOPJHTEEV-UHFFFAOYSA-N",
          "UXENCGOPJHTEEV-UHFFFAOYSA-N"
         ],
         "legendgroup": "UXENCGOPJHTEEV-UHFFFAOYSA-N",
         "line": {
          "color": "#636efa",
          "dash": "solid"
         },
         "marker": {
          "symbol": "circle"
         },
         "mode": "lines+markers",
         "name": "UXENCGOPJHTEEV-UHFFFAOYSA-N",
         "orientation": "v",
         "showlegend": true,
         "type": "scatter",
         "x": [
          0.833333,
          3.333333
         ],
         "xaxis": "x",
         "y": [
          15.522642046889708,
          9.929590582267732
         ],
         "yaxis": "y"
        },
        {
         "customdata": [
          [
           "AMG-073 HCl (Cinacalcet hydrochloride)",
           232
          ],
          [
           "AMG-073 HCl (Cinacalcet hydrochloride)",
           252
          ]
         ],
         "error_y": {
          "array": [
           0.1978163142372544,
           0.4377915681641564
          ],
          "arrayminus": [
           0.1978163142372544,
           0.4377915681641564
          ]
         },
         "hovertemplate": "<b>%{hovertext}</b><br><br>conc=%{x}<br>distance=%{y:.3f}<br>count_nuclei=%{customdata[1]:.1f}<extra></extra>",
         "hovertext": [
          "AMG-073 HCl (Cinacalcet hydrochloride)",
          "AMG-073 HCl (Cinacalcet hydrochloride)"
         ],
         "legendgroup": "AMG-073 HCl (Cinacalcet hydrochloride)",
         "line": {
          "color": "#EF553B",
          "dash": "solid"
         },
         "marker": {
          "symbol": "circle"
         },
         "mode": "lines+markers",
         "name": "AMG-073 HCl (Cinacalcet hydrochloride)",
         "orientation": "v",
         "showlegend": true,
         "type": "scatter",
         "x": [
          0.3,
          3.333333
         ],
         "xaxis": "x",
         "y": [
          16.399763487040147,
          9.991014869509351
         ],
         "yaxis": "y"
        },
        {
         "customdata": [
          [
           "dimemorfan",
           256
          ]
         ],
         "error_y": {
          "array": [
           2.266475803510348
          ],
          "arrayminus": [
           2.266475803510348
          ]
         },
         "hovertemplate": "<b>%{hovertext}</b><br><br>conc=%{x}<br>distance=%{y:.3f}<br>count_nuclei=%{customdata[1]:.1f}<extra></extra>",
         "hovertext": [
          "dimemorfan"
         ],
         "legendgroup": "dimemorfan",
         "line": {
          "color": "#00cc96",
          "dash": "solid"
         },
         "marker": {
          "symbol": "circle"
         },
         "mode": "lines+markers",
         "name": "dimemorfan",
         "orientation": "v",
         "showlegend": true,
         "type": "scatter",
         "x": [
          10
         ],
         "xaxis": "x",
         "y": [
          9.99610405927578
         ],
         "yaxis": "y"
        },
        {
         "customdata": [
          [
           "BIRB 796 (Doramapimod)",
           245
          ],
          [
           "BIRB 796 (Doramapimod)",
           270
          ]
         ],
         "error_y": {
          "array": [
           1.891823598208152,
           3.934941852488168
          ],
          "arrayminus": [
           1.891823598208152,
           3.934941852488168
          ]
         },
         "hovertemplate": "<b>%{hovertext}</b><br><br>conc=%{x}<br>distance=%{y:.3f}<br>count_nuclei=%{customdata[1]:.1f}<extra></extra>",
         "hovertext": [
          "BIRB 796 (Doramapimod)",
          "BIRB 796 (Doramapimod)"
         ],
         "legendgroup": "BIRB 796 (Doramapimod)",
         "line": {
          "color": "#ab63fa",
          "dash": "solid"
         },
         "marker": {
          "symbol": "circle"
         },
         "mode": "lines+markers",
         "name": "BIRB 796 (Doramapimod)",
         "orientation": "v",
         "showlegend": true,
         "type": "scatter",
         "x": [
          3.333333,
          10
         ],
         "xaxis": "x",
         "y": [
          12.251797804057476,
          10.005494942605113
         ],
         "yaxis": "y"
        },
        {
         "customdata": [
          [
           "Moxaverine",
           238
          ],
          [
           "Moxaverine",
           247
          ]
         ],
         "error_y": {
          "array": [
           1.4642774150097695,
           0.960779490459414
          ],
          "arrayminus": [
           1.4642774150097695,
           0.960779490459414
          ]
         },
         "hovertemplate": "<b>%{hovertext}</b><br><br>conc=%{x}<br>distance=%{y:.3f}<br>count_nuclei=%{customdata[1]:.1f}<extra></extra>",
         "hovertext": [
          "Moxaverine",
          "Moxaverine"
         ],
         "legendgroup": "Moxaverine",
         "line": {
          "color": "#FFA15A",
          "dash": "solid"
         },
         "marker": {
          "symbol": "circle"
         },
         "mode": "lines+markers",
         "name": "Moxaverine",
         "orientation": "v",
         "showlegend": true,
         "type": "scatter",
         "x": [
          3.333333,
          10
         ],
         "xaxis": "x",
         "y": [
          13.343613580838753,
          10.020823138089453
         ],
         "yaxis": "y"
        },
        {
         "customdata": [
          [
           "XDVSMJBOMWGIET-UHFFFAOYSA-N",
           247
          ],
          [
           "XDVSMJBOMWGIET-UHFFFAOYSA-N",
           276
          ]
         ],
         "error_y": {
          "array": [
           0,
           0
          ],
          "arrayminus": [
           0,
           0
          ]
         },
         "hovertemplate": "<b>%{hovertext}</b><br><br>conc=%{x}<br>distance=%{y:.3f}<br>count_nuclei=%{customdata[1]:.1f}<extra></extra>",
         "hovertext": [
          "XDVSMJBOMWGIET-UHFFFAOYSA-N",
          "XDVSMJBOMWGIET-UHFFFAOYSA-N"
         ],
         "legendgroup": "XDVSMJBOMWGIET-UHFFFAOYSA-N",
         "line": {
          "color": "#19d3f3",
          "dash": "solid"
         },
         "marker": {
          "symbol": "circle"
         },
         "mode": "lines+markers",
         "name": "XDVSMJBOMWGIET-UHFFFAOYSA-N",
         "orientation": "v",
         "showlegend": true,
         "type": "scatter",
         "x": [
          3.333333,
          10
         ],
         "xaxis": "x",
         "y": [
          14.156182231237429,
          10.038402135098202
         ],
         "yaxis": "y"
        },
        {
         "customdata": [
          [
           "BNTX",
           248
          ],
          [
           "BNTX",
           253
          ]
         ],
         "error_y": {
          "array": [
           0.4551158034219948,
           2.1912630375473743
          ],
          "arrayminus": [
           0.4551158034219948,
           2.1912630375473743
          ]
         },
         "hovertemplate": "<b>%{hovertext}</b><br><br>conc=%{x}<br>distance=%{y:.3f}<br>count_nuclei=%{customdata[1]:.1f}<extra></extra>",
         "hovertext": [
          "BNTX",
          "BNTX"
         ],
         "legendgroup": "BNTX",
         "line": {
          "color": "#FF6692",
          "dash": "solid"
         },
         "marker": {
          "symbol": "circle"
         },
         "mode": "lines+markers",
         "name": "BNTX",
         "orientation": "v",
         "showlegend": true,
         "type": "scatter",
         "x": [
          0.3,
          0.833333
         ],
         "xaxis": "x",
         "y": [
          14.280623880030433,
          10.054160119127609
         ],
         "yaxis": "y"
        },
        {
         "customdata": [
          [
           "Ro-04-5595",
           275.5
          ]
         ],
         "error_y": {
          "array": [
           1.1861058924736485
          ],
          "arrayminus": [
           1.1861058924736485
          ]
         },
         "hovertemplate": "<b>%{hovertext}</b><br><br>conc=%{x}<br>distance=%{y:.3f}<br>count_nuclei=%{customdata[1]:.1f}<extra></extra>",
         "hovertext": [
          "Ro-04-5595"
         ],
         "legendgroup": "Ro-04-5595",
         "line": {
          "color": "#B6E880",
          "dash": "solid"
         },
         "marker": {
          "symbol": "circle"
         },
         "mode": "lines+markers",
         "name": "Ro-04-5595",
         "orientation": "v",
         "showlegend": true,
         "type": "scatter",
         "x": [
          10
         ],
         "xaxis": "x",
         "y": [
          10.05613551440472
         ],
         "yaxis": "y"
        },
        {
         "customdata": [
          [
           "AEPNJSXHHVEOEX-UHFFFAOYSA-N",
           235
          ],
          [
           "AEPNJSXHHVEOEX-UHFFFAOYSA-N",
           258
          ]
         ],
         "error_y": {
          "array": [
           0,
           0
          ],
          "arrayminus": [
           0,
           0
          ]
         },
         "hovertemplate": "<b>%{hovertext}</b><br><br>conc=%{x}<br>distance=%{y:.3f}<br>count_nuclei=%{customdata[1]:.1f}<extra></extra>",
         "hovertext": [
          "AEPNJSXHHVEOEX-UHFFFAOYSA-N",
          "AEPNJSXHHVEOEX-UHFFFAOYSA-N"
         ],
         "legendgroup": "AEPNJSXHHVEOEX-UHFFFAOYSA-N",
         "line": {
          "color": "#FF97FF",
          "dash": "solid"
         },
         "marker": {
          "symbol": "circle"
         },
         "mode": "lines+markers",
         "name": "AEPNJSXHHVEOEX-UHFFFAOYSA-N",
         "orientation": "v",
         "showlegend": true,
         "type": "scatter",
         "x": [
          0.833333,
          3.333333
         ],
         "xaxis": "x",
         "y": [
          14.76414774886894,
          10.062981088776528
         ],
         "yaxis": "y"
        },
        {
         "customdata": [
          [
           "PROMETHAZINE HYDROCHLORIDE",
           253
          ],
          [
           "PROMETHAZINE HYDROCHLORIDE",
           264
          ]
         ],
         "error_y": {
          "array": [
           0.2936091730625492,
           1.460664935727895
          ],
          "arrayminus": [
           0.2936091730625492,
           1.460664935727895
          ]
         },
         "hovertemplate": "<b>%{hovertext}</b><br><br>conc=%{x}<br>distance=%{y:.3f}<br>count_nuclei=%{customdata[1]:.1f}<extra></extra>",
         "hovertext": [
          "PROMETHAZINE HYDROCHLORIDE",
          "PROMETHAZINE HYDROCHLORIDE"
         ],
         "legendgroup": "PROMETHAZINE HYDROCHLORIDE",
         "line": {
          "color": "#FECB52",
          "dash": "solid"
         },
         "marker": {
          "symbol": "circle"
         },
         "mode": "lines+markers",
         "name": "PROMETHAZINE HYDROCHLORIDE",
         "orientation": "v",
         "showlegend": true,
         "type": "scatter",
         "x": [
          0.3,
          3.333333
         ],
         "xaxis": "x",
         "y": [
          14.380678339191633,
          10.068173524059452
         ],
         "yaxis": "y"
        },
        {
         "customdata": [
          [
           "MK-2206 dihydrochloride",
           205
          ],
          [
           "MK-2206 dihydrochloride",
           220
          ]
         ],
         "error_y": {
          "array": [
           1.1983470897061288,
           0.107844190111864
          ],
          "arrayminus": [
           1.1983470897061288,
           0.107844190111864
          ]
         },
         "hovertemplate": "<b>%{hovertext}</b><br><br>conc=%{x}<br>distance=%{y:.3f}<br>count_nuclei=%{customdata[1]:.1f}<extra></extra>",
         "hovertext": [
          "MK-2206 dihydrochloride",
          "MK-2206 dihydrochloride"
         ],
         "legendgroup": "MK-2206 dihydrochloride",
         "line": {
          "color": "#636efa",
          "dash": "solid"
         },
         "marker": {
          "symbol": "circle"
         },
         "mode": "lines+markers",
         "name": "MK-2206 dihydrochloride",
         "orientation": "v",
         "showlegend": true,
         "type": "scatter",
         "x": [
          0.833333,
          3.333333
         ],
         "xaxis": "x",
         "y": [
          15.274932037357312,
          10.079790092798447
         ],
         "yaxis": "y"
        },
        {
         "customdata": [
          [
           "IKK-16",
           213
          ],
          [
           "IKK-16",
           258
          ]
         ],
         "error_y": {
          "array": [
           0.2212392302281429,
           2.5489724593527328
          ],
          "arrayminus": [
           0.2212392302281429,
           2.5489724593527328
          ]
         },
         "hovertemplate": "<b>%{hovertext}</b><br><br>conc=%{x}<br>distance=%{y:.3f}<br>count_nuclei=%{customdata[1]:.1f}<extra></extra>",
         "hovertext": [
          "IKK-16",
          "IKK-16"
         ],
         "legendgroup": "IKK-16",
         "line": {
          "color": "#EF553B",
          "dash": "solid"
         },
         "marker": {
          "symbol": "circle"
         },
         "mode": "lines+markers",
         "name": "IKK-16",
         "orientation": "v",
         "showlegend": true,
         "type": "scatter",
         "x": [
          0.3,
          0.833333
         ],
         "xaxis": "x",
         "y": [
          17.28136803960738,
          10.093060579425234
         ],
         "yaxis": "y"
        },
        {
         "customdata": [
          [
           "JYNZCQHQWDOOKH-UHFFFAOYSA-N",
           238
          ],
          [
           "JYNZCQHQWDOOKH-UHFFFAOYSA-N",
           258
          ]
         ],
         "error_y": {
          "array": [
           0,
           0
          ],
          "arrayminus": [
           0,
           0
          ]
         },
         "hovertemplate": "<b>%{hovertext}</b><br><br>conc=%{x}<br>distance=%{y:.3f}<br>count_nuclei=%{customdata[1]:.1f}<extra></extra>",
         "hovertext": [
          "JYNZCQHQWDOOKH-UHFFFAOYSA-N",
          "JYNZCQHQWDOOKH-UHFFFAOYSA-N"
         ],
         "legendgroup": "JYNZCQHQWDOOKH-UHFFFAOYSA-N",
         "line": {
          "color": "#00cc96",
          "dash": "solid"
         },
         "marker": {
          "symbol": "circle"
         },
         "mode": "lines+markers",
         "name": "JYNZCQHQWDOOKH-UHFFFAOYSA-N",
         "orientation": "v",
         "showlegend": true,
         "type": "scatter",
         "x": [
          0.833333,
          3.333333
         ],
         "xaxis": "x",
         "y": [
          14.253307484734565,
          10.096630294315318
         ],
         "yaxis": "y"
        },
        {
         "customdata": [
          [
           "GBR-12783",
           259.5
          ]
         ],
         "error_y": {
          "array": [
           1.5758313415400291
          ],
          "arrayminus": [
           1.5758313415400291
          ]
         },
         "hovertemplate": "<b>%{hovertext}</b><br><br>conc=%{x}<br>distance=%{y:.3f}<br>count_nuclei=%{customdata[1]:.1f}<extra></extra>",
         "hovertext": [
          "GBR-12783"
         ],
         "legendgroup": "GBR-12783",
         "line": {
          "color": "#ab63fa",
          "dash": "solid"
         },
         "marker": {
          "symbol": "circle"
         },
         "mode": "lines+markers",
         "name": "GBR-12783",
         "orientation": "v",
         "showlegend": true,
         "type": "scatter",
         "x": [
          10
         ],
         "xaxis": "x",
         "y": [
          10.11110479483419
         ],
         "yaxis": "y"
        },
        {
         "customdata": [
          [
           "PhiKan-083",
           248
          ],
          [
           "PhiKan-083",
           284
          ]
         ],
         "error_y": {
          "array": [
           2.261791959609944,
           0.2131891046643215
          ],
          "arrayminus": [
           2.261791959609944,
           0.2131891046643215
          ]
         },
         "hovertemplate": "<b>%{hovertext}</b><br><br>conc=%{x}<br>distance=%{y:.3f}<br>count_nuclei=%{customdata[1]:.1f}<extra></extra>",
         "hovertext": [
          "PhiKan-083",
          "PhiKan-083"
         ],
         "legendgroup": "PhiKan-083",
         "line": {
          "color": "#FFA15A",
          "dash": "solid"
         },
         "marker": {
          "symbol": "circle"
         },
         "mode": "lines+markers",
         "name": "PhiKan-083",
         "orientation": "v",
         "showlegend": true,
         "type": "scatter",
         "x": [
          3.333333,
          10
         ],
         "xaxis": "x",
         "y": [
          12.540684663087523,
          10.132189872734328
         ],
         "yaxis": "y"
        },
        {
         "customdata": [
          [
           "AWQBVAUVTFRSOC-UHFFFAOYSA-N",
           287
          ],
          [
           "AWQBVAUVTFRSOC-UHFFFAOYSA-N",
           305.5
          ]
         ],
         "error_y": {
          "array": [
           0,
           0
          ],
          "arrayminus": [
           0,
           0
          ]
         },
         "hovertemplate": "<b>%{hovertext}</b><br><br>conc=%{x}<br>distance=%{y:.3f}<br>count_nuclei=%{customdata[1]:.1f}<extra></extra>",
         "hovertext": [
          "AWQBVAUVTFRSOC-UHFFFAOYSA-N",
          "AWQBVAUVTFRSOC-UHFFFAOYSA-N"
         ],
         "legendgroup": "AWQBVAUVTFRSOC-UHFFFAOYSA-N",
         "line": {
          "color": "#19d3f3",
          "dash": "solid"
         },
         "marker": {
          "symbol": "circle"
         },
         "mode": "lines+markers",
         "name": "AWQBVAUVTFRSOC-UHFFFAOYSA-N",
         "orientation": "v",
         "showlegend": true,
         "type": "scatter",
         "x": [
          3.333333,
          10
         ],
         "xaxis": "x",
         "y": [
          15.074939556239704,
          10.135416120512556
         ],
         "yaxis": "y"
        },
        {
         "customdata": [
          [
           "4-PPBP",
           267.5
          ]
         ],
         "error_y": {
          "array": [
           0.3261531035545459
          ],
          "arrayminus": [
           0.3261531035545459
          ]
         },
         "hovertemplate": "<b>%{hovertext}</b><br><br>conc=%{x}<br>distance=%{y:.3f}<br>count_nuclei=%{customdata[1]:.1f}<extra></extra>",
         "hovertext": [
          "4-PPBP"
         ],
         "legendgroup": "4-PPBP",
         "line": {
          "color": "#FF6692",
          "dash": "solid"
         },
         "marker": {
          "symbol": "circle"
         },
         "mode": "lines+markers",
         "name": "4-PPBP",
         "orientation": "v",
         "showlegend": true,
         "type": "scatter",
         "x": [
          10
         ],
         "xaxis": "x",
         "y": [
          10.148946055142826
         ],
         "yaxis": "y"
        },
        {
         "customdata": [
          [
           "RBIPJFZPVKOCCO-UHFFFAOYSA-N",
           237
          ],
          [
           "RBIPJFZPVKOCCO-UHFFFAOYSA-N",
           243
          ]
         ],
         "error_y": {
          "array": [
           0,
           0
          ],
          "arrayminus": [
           0,
           0
          ]
         },
         "hovertemplate": "<b>%{hovertext}</b><br><br>conc=%{x}<br>distance=%{y:.3f}<br>count_nuclei=%{customdata[1]:.1f}<extra></extra>",
         "hovertext": [
          "RBIPJFZPVKOCCO-UHFFFAOYSA-N",
          "RBIPJFZPVKOCCO-UHFFFAOYSA-N"
         ],
         "legendgroup": "RBIPJFZPVKOCCO-UHFFFAOYSA-N",
         "line": {
          "color": "#B6E880",
          "dash": "solid"
         },
         "marker": {
          "symbol": "circle"
         },
         "mode": "lines+markers",
         "name": "RBIPJFZPVKOCCO-UHFFFAOYSA-N",
         "orientation": "v",
         "showlegend": true,
         "type": "scatter",
         "x": [
          3.333333,
          10
         ],
         "xaxis": "x",
         "y": [
          15.8412663369776,
          10.162819428371336
         ],
         "yaxis": "y"
        },
        {
         "customdata": [
          [
           "Dyclonine (hydrochloride)",
           264
          ]
         ],
         "error_y": {
          "array": [
           0.9607713613125436
          ],
          "arrayminus": [
           0.9607713613125436
          ]
         },
         "hovertemplate": "<b>%{hovertext}</b><br><br>conc=%{x}<br>distance=%{y:.3f}<br>count_nuclei=%{customdata[1]:.1f}<extra></extra>",
         "hovertext": [
          "Dyclonine (hydrochloride)"
         ],
         "legendgroup": "Dyclonine (hydrochloride)",
         "line": {
          "color": "#FF97FF",
          "dash": "solid"
         },
         "marker": {
          "symbol": "circle"
         },
         "mode": "lines+markers",
         "name": "Dyclonine (hydrochloride)",
         "orientation": "v",
         "showlegend": true,
         "type": "scatter",
         "x": [
          10
         ],
         "xaxis": "x",
         "y": [
          10.230541246834582
         ],
         "yaxis": "y"
        },
        {
         "customdata": [
          [
           "VJQOCMZFBDZJGU-UHFFFAOYSA-N",
           264
          ]
         ],
         "error_y": {
          "array": [
           0
          ],
          "arrayminus": [
           0
          ]
         },
         "hovertemplate": "<b>%{hovertext}</b><br><br>conc=%{x}<br>distance=%{y:.3f}<br>count_nuclei=%{customdata[1]:.1f}<extra></extra>",
         "hovertext": [
          "VJQOCMZFBDZJGU-UHFFFAOYSA-N"
         ],
         "legendgroup": "VJQOCMZFBDZJGU-UHFFFAOYSA-N",
         "line": {
          "color": "#FECB52",
          "dash": "solid"
         },
         "marker": {
          "symbol": "circle"
         },
         "mode": "lines+markers",
         "name": "VJQOCMZFBDZJGU-UHFFFAOYSA-N",
         "orientation": "v",
         "showlegend": true,
         "type": "scatter",
         "x": [
          0.833333
         ],
         "xaxis": "x",
         "y": [
          10.235651123707388
         ],
         "yaxis": "y"
        },
        {
         "customdata": [
          [
           "TC-F-2",
           259
          ]
         ],
         "error_y": {
          "array": [
           0.4531491815197537
          ],
          "arrayminus": [
           0.4531491815197537
          ]
         },
         "hovertemplate": "<b>%{hovertext}</b><br><br>conc=%{x}<br>distance=%{y:.3f}<br>count_nuclei=%{customdata[1]:.1f}<extra></extra>",
         "hovertext": [
          "TC-F-2"
         ],
         "legendgroup": "TC-F-2",
         "line": {
          "color": "#636efa",
          "dash": "solid"
         },
         "marker": {
          "symbol": "circle"
         },
         "mode": "lines+markers",
         "name": "TC-F-2",
         "orientation": "v",
         "showlegend": true,
         "type": "scatter",
         "x": [
          10
         ],
         "xaxis": "x",
         "y": [
          10.244216594590862
         ],
         "yaxis": "y"
        },
        {
         "customdata": [
          [
           "Budipine",
           269.5
          ]
         ],
         "error_y": {
          "array": [
           0.3679650964104635
          ],
          "arrayminus": [
           0.3679650964104635
          ]
         },
         "hovertemplate": "<b>%{hovertext}</b><br><br>conc=%{x}<br>distance=%{y:.3f}<br>count_nuclei=%{customdata[1]:.1f}<extra></extra>",
         "hovertext": [
          "Budipine"
         ],
         "legendgroup": "Budipine",
         "line": {
          "color": "#EF553B",
          "dash": "solid"
         },
         "marker": {
          "symbol": "circle"
         },
         "mode": "lines+markers",
         "name": "Budipine",
         "orientation": "v",
         "showlegend": true,
         "type": "scatter",
         "x": [
          10
         ],
         "xaxis": "x",
         "y": [
          10.248276410336729
         ],
         "yaxis": "y"
        },
        {
         "customdata": [
          [
           "PROMAZINE HYDROCHLORIDE",
           285.5
          ]
         ],
         "error_y": {
          "array": [
           1.0163171077166364
          ],
          "arrayminus": [
           1.0163171077166364
          ]
         },
         "hovertemplate": "<b>%{hovertext}</b><br><br>conc=%{x}<br>distance=%{y:.3f}<br>count_nuclei=%{customdata[1]:.1f}<extra></extra>",
         "hovertext": [
          "PROMAZINE HYDROCHLORIDE"
         ],
         "legendgroup": "PROMAZINE HYDROCHLORIDE",
         "line": {
          "color": "#00cc96",
          "dash": "solid"
         },
         "marker": {
          "symbol": "circle"
         },
         "mode": "lines+markers",
         "name": "PROMAZINE HYDROCHLORIDE",
         "orientation": "v",
         "showlegend": true,
         "type": "scatter",
         "x": [
          10
         ],
         "xaxis": "x",
         "y": [
          10.291761110229617
         ],
         "yaxis": "y"
        },
        {
         "customdata": [
          [
           "CUXQPMGPJPHNFO-UHFFFAOYSA-N",
           256
          ],
          [
           "CUXQPMGPJPHNFO-UHFFFAOYSA-N",
           254.5
          ]
         ],
         "error_y": {
          "array": [
           0,
           0
          ],
          "arrayminus": [
           0,
           0
          ]
         },
         "hovertemplate": "<b>%{hovertext}</b><br><br>conc=%{x}<br>distance=%{y:.3f}<br>count_nuclei=%{customdata[1]:.1f}<extra></extra>",
         "hovertext": [
          "CUXQPMGPJPHNFO-UHFFFAOYSA-N",
          "CUXQPMGPJPHNFO-UHFFFAOYSA-N"
         ],
         "legendgroup": "CUXQPMGPJPHNFO-UHFFFAOYSA-N",
         "line": {
          "color": "#ab63fa",
          "dash": "solid"
         },
         "marker": {
          "symbol": "circle"
         },
         "mode": "lines+markers",
         "name": "CUXQPMGPJPHNFO-UHFFFAOYSA-N",
         "orientation": "v",
         "showlegend": true,
         "type": "scatter",
         "x": [
          0.833333,
          3.333333
         ],
         "xaxis": "x",
         "y": [
          20.072943710008094,
          10.30925876592076
         ],
         "yaxis": "y"
        },
        {
         "customdata": [
          [
           "CLOFAZIMINE",
           263
          ]
         ],
         "error_y": {
          "array": [
           0.890009177006732
          ],
          "arrayminus": [
           0.890009177006732
          ]
         },
         "hovertemplate": "<b>%{hovertext}</b><br><br>conc=%{x}<br>distance=%{y:.3f}<br>count_nuclei=%{customdata[1]:.1f}<extra></extra>",
         "hovertext": [
          "CLOFAZIMINE"
         ],
         "legendgroup": "CLOFAZIMINE",
         "line": {
          "color": "#FFA15A",
          "dash": "solid"
         },
         "marker": {
          "symbol": "circle"
         },
         "mode": "lines+markers",
         "name": "CLOFAZIMINE",
         "orientation": "v",
         "showlegend": true,
         "type": "scatter",
         "x": [
          10
         ],
         "xaxis": "x",
         "y": [
          10.325292953197415
         ],
         "yaxis": "y"
        },
        {
         "customdata": [
          [
           "ML-298",
           239
          ],
          [
           "ML-298",
           273
          ]
         ],
         "error_y": {
          "array": [
           0.565097752629864,
           1.7301651471896893
          ],
          "arrayminus": [
           0.565097752629864,
           1.7301651471896893
          ]
         },
         "hovertemplate": "<b>%{hovertext}</b><br><br>conc=%{x}<br>distance=%{y:.3f}<br>count_nuclei=%{customdata[1]:.1f}<extra></extra>",
         "hovertext": [
          "ML-298",
          "ML-298"
         ],
         "legendgroup": "ML-298",
         "line": {
          "color": "#19d3f3",
          "dash": "solid"
         },
         "marker": {
          "symbol": "circle"
         },
         "mode": "lines+markers",
         "name": "ML-298",
         "orientation": "v",
         "showlegend": true,
         "type": "scatter",
         "x": [
          3.333333,
          10
         ],
         "xaxis": "x",
         "y": [
          14.139148117236337,
          10.330480907549978
         ],
         "yaxis": "y"
        },
        {
         "customdata": [
          [
           "Salinomycin (Procoxacin)",
           266
          ]
         ],
         "error_y": {
          "array": [
           0.4271449465136108
          ],
          "arrayminus": [
           0.4271449465136108
          ]
         },
         "hovertemplate": "<b>%{hovertext}</b><br><br>conc=%{x}<br>distance=%{y:.3f}<br>count_nuclei=%{customdata[1]:.1f}<extra></extra>",
         "hovertext": [
          "Salinomycin (Procoxacin)"
         ],
         "legendgroup": "Salinomycin (Procoxacin)",
         "line": {
          "color": "#FF6692",
          "dash": "solid"
         },
         "marker": {
          "symbol": "circle"
         },
         "mode": "lines+markers",
         "name": "Salinomycin (Procoxacin)",
         "orientation": "v",
         "showlegend": true,
         "type": "scatter",
         "x": [
          0.3
         ],
         "xaxis": "x",
         "y": [
          10.347429896703712
         ],
         "yaxis": "y"
        },
        {
         "customdata": [
          [
           "CC-401 (hydrochloride)",
           272.5
          ]
         ],
         "error_y": {
          "array": [
           0.6945003888528163
          ],
          "arrayminus": [
           0.6945003888528163
          ]
         },
         "hovertemplate": "<b>%{hovertext}</b><br><br>conc=%{x}<br>distance=%{y:.3f}<br>count_nuclei=%{customdata[1]:.1f}<extra></extra>",
         "hovertext": [
          "CC-401 (hydrochloride)"
         ],
         "legendgroup": "CC-401 (hydrochloride)",
         "line": {
          "color": "#B6E880",
          "dash": "solid"
         },
         "marker": {
          "symbol": "circle"
         },
         "mode": "lines+markers",
         "name": "CC-401 (hydrochloride)",
         "orientation": "v",
         "showlegend": true,
         "type": "scatter",
         "x": [
          10
         ],
         "xaxis": "x",
         "y": [
          10.361250384414657
         ],
         "yaxis": "y"
        },
        {
         "customdata": [
          [
           "GANT-61",
           229
          ],
          [
           "GANT-61",
           259
          ]
         ],
         "error_y": {
          "array": [
           2.5966805777071382,
           1.5014894623778725
          ],
          "arrayminus": [
           2.5966805777071382,
           1.5014894623778725
          ]
         },
         "hovertemplate": "<b>%{hovertext}</b><br><br>conc=%{x}<br>distance=%{y:.3f}<br>count_nuclei=%{customdata[1]:.1f}<extra></extra>",
         "hovertext": [
          "GANT-61",
          "GANT-61"
         ],
         "legendgroup": "GANT-61",
         "line": {
          "color": "#FF97FF",
          "dash": "solid"
         },
         "marker": {
          "symbol": "circle"
         },
         "mode": "lines+markers",
         "name": "GANT-61",
         "orientation": "v",
         "showlegend": true,
         "type": "scatter",
         "x": [
          0.3,
          3.333333
         ],
         "xaxis": "x",
         "y": [
          15.453628350148753,
          10.368123777071714
         ],
         "yaxis": "y"
        },
        {
         "customdata": [
          [
           "GBCVQFRXHFMNCA-UHFFFAOYSA-N",
           245
          ],
          [
           "GBCVQFRXHFMNCA-UHFFFAOYSA-N",
           287
          ]
         ],
         "error_y": {
          "array": [
           0,
           0
          ],
          "arrayminus": [
           0,
           0
          ]
         },
         "hovertemplate": "<b>%{hovertext}</b><br><br>conc=%{x}<br>distance=%{y:.3f}<br>count_nuclei=%{customdata[1]:.1f}<extra></extra>",
         "hovertext": [
          "GBCVQFRXHFMNCA-UHFFFAOYSA-N",
          "GBCVQFRXHFMNCA-UHFFFAOYSA-N"
         ],
         "legendgroup": "GBCVQFRXHFMNCA-UHFFFAOYSA-N",
         "line": {
          "color": "#FECB52",
          "dash": "solid"
         },
         "marker": {
          "symbol": "circle"
         },
         "mode": "lines+markers",
         "name": "GBCVQFRXHFMNCA-UHFFFAOYSA-N",
         "orientation": "v",
         "showlegend": true,
         "type": "scatter",
         "x": [
          3.333333,
          10
         ],
         "xaxis": "x",
         "y": [
          12.701877322122074,
          10.368994544239095
         ],
         "yaxis": "y"
        },
        {
         "customdata": [
          [
           "Ro 48-8071 (fumarate)",
           255
          ],
          [
           "Ro 48-8071 (fumarate)",
           275
          ]
         ],
         "error_y": {
          "array": [
           0.3180807911672509,
           1.8297401471304937
          ],
          "arrayminus": [
           0.3180807911672509,
           1.8297401471304937
          ]
         },
         "hovertemplate": "<b>%{hovertext}</b><br><br>conc=%{x}<br>distance=%{y:.3f}<br>count_nuclei=%{customdata[1]:.1f}<extra></extra>",
         "hovertext": [
          "Ro 48-8071 (fumarate)",
          "Ro 48-8071 (fumarate)"
         ],
         "legendgroup": "Ro 48-8071 (fumarate)",
         "line": {
          "color": "#636efa",
          "dash": "solid"
         },
         "marker": {
          "symbol": "circle"
         },
         "mode": "lines+markers",
         "name": "Ro 48-8071 (fumarate)",
         "orientation": "v",
         "showlegend": true,
         "type": "scatter",
         "x": [
          3.333333,
          10
         ],
         "xaxis": "x",
         "y": [
          11.67352340016144,
          10.369893461233511
         ],
         "yaxis": "y"
        },
        {
         "customdata": [
          [
           "CAUNNRDNFPDEOI-UHFFFAOYSA-N",
           236.5
          ],
          [
           "CAUNNRDNFPDEOI-UHFFFAOYSA-N",
           262
          ]
         ],
         "error_y": {
          "array": [
           0,
           0
          ],
          "arrayminus": [
           0,
           0
          ]
         },
         "hovertemplate": "<b>%{hovertext}</b><br><br>conc=%{x}<br>distance=%{y:.3f}<br>count_nuclei=%{customdata[1]:.1f}<extra></extra>",
         "hovertext": [
          "CAUNNRDNFPDEOI-UHFFFAOYSA-N",
          "CAUNNRDNFPDEOI-UHFFFAOYSA-N"
         ],
         "legendgroup": "CAUNNRDNFPDEOI-UHFFFAOYSA-N",
         "line": {
          "color": "#EF553B",
          "dash": "solid"
         },
         "marker": {
          "symbol": "circle"
         },
         "mode": "lines+markers",
         "name": "CAUNNRDNFPDEOI-UHFFFAOYSA-N",
         "orientation": "v",
         "showlegend": true,
         "type": "scatter",
         "x": [
          3.333333,
          10
         ],
         "xaxis": "x",
         "y": [
          14.014428668726769,
          10.383275726476713
         ],
         "yaxis": "y"
        },
        {
         "customdata": [
          [
           "SXNHWSYBFZZDFP-UHFFFAOYSA-N",
           212
          ],
          [
           "SXNHWSYBFZZDFP-UHFFFAOYSA-N",
           236
          ]
         ],
         "error_y": {
          "array": [
           0,
           0
          ],
          "arrayminus": [
           0,
           0
          ]
         },
         "hovertemplate": "<b>%{hovertext}</b><br><br>conc=%{x}<br>distance=%{y:.3f}<br>count_nuclei=%{customdata[1]:.1f}<extra></extra>",
         "hovertext": [
          "SXNHWSYBFZZDFP-UHFFFAOYSA-N",
          "SXNHWSYBFZZDFP-UHFFFAOYSA-N"
         ],
         "legendgroup": "SXNHWSYBFZZDFP-UHFFFAOYSA-N",
         "line": {
          "color": "#00cc96",
          "dash": "solid"
         },
         "marker": {
          "symbol": "circle"
         },
         "mode": "lines+markers",
         "name": "SXNHWSYBFZZDFP-UHFFFAOYSA-N",
         "orientation": "v",
         "showlegend": true,
         "type": "scatter",
         "x": [
          3.333333,
          10
         ],
         "xaxis": "x",
         "y": [
          13.936203282070482,
          10.388043923155566
         ],
         "yaxis": "y"
        },
        {
         "customdata": [
          [
           "MK-8776 (SCH 900776)",
           238
          ],
          [
           "MK-8776 (SCH 900776)",
           253
          ]
         ],
         "error_y": {
          "array": [
           0.4020084350250368,
           0.0095820174582215
          ],
          "arrayminus": [
           0.4020084350250368,
           0.0095820174582215
          ]
         },
         "hovertemplate": "<b>%{hovertext}</b><br><br>conc=%{x}<br>distance=%{y:.3f}<br>count_nuclei=%{customdata[1]:.1f}<extra></extra>",
         "hovertext": [
          "MK-8776 (SCH 900776)",
          "MK-8776 (SCH 900776)"
         ],
         "legendgroup": "MK-8776 (SCH 900776)",
         "line": {
          "color": "#ab63fa",
          "dash": "solid"
         },
         "marker": {
          "symbol": "circle"
         },
         "mode": "lines+markers",
         "name": "MK-8776 (SCH 900776)",
         "orientation": "v",
         "showlegend": true,
         "type": "scatter",
         "x": [
          0.3,
          3.333333
         ],
         "xaxis": "x",
         "y": [
          15.783990420883038,
          10.39183681814065
         ],
         "yaxis": "y"
        },
        {
         "customdata": [
          [
           "NU6027",
           236
          ],
          [
           "NU6027",
           253
          ]
         ],
         "error_y": {
          "array": [
           0.2778447916959443,
           0.7428940887012665
          ],
          "arrayminus": [
           0.2778447916959443,
           0.7428940887012665
          ]
         },
         "hovertemplate": "<b>%{hovertext}</b><br><br>conc=%{x}<br>distance=%{y:.3f}<br>count_nuclei=%{customdata[1]:.1f}<extra></extra>",
         "hovertext": [
          "NU6027",
          "NU6027"
         ],
         "legendgroup": "NU6027",
         "line": {
          "color": "#FFA15A",
          "dash": "solid"
         },
         "marker": {
          "symbol": "circle"
         },
         "mode": "lines+markers",
         "name": "NU6027",
         "orientation": "v",
         "showlegend": true,
         "type": "scatter",
         "x": [
          0.3,
          3.333333
         ],
         "xaxis": "x",
         "y": [
          17.70425800518522,
          10.397440172858396
         ],
         "yaxis": "y"
        },
        {
         "customdata": [
          [
           "MRS1334",
           258.5
          ]
         ],
         "error_y": {
          "array": [
           0.395888428851844
          ],
          "arrayminus": [
           0.395888428851844
          ]
         },
         "hovertemplate": "<b>%{hovertext}</b><br><br>conc=%{x}<br>distance=%{y:.3f}<br>count_nuclei=%{customdata[1]:.1f}<extra></extra>",
         "hovertext": [
          "MRS1334"
         ],
         "legendgroup": "MRS1334",
         "line": {
          "color": "#19d3f3",
          "dash": "solid"
         },
         "marker": {
          "symbol": "circle"
         },
         "mode": "lines+markers",
         "name": "MRS1334",
         "orientation": "v",
         "showlegend": true,
         "type": "scatter",
         "x": [
          10
         ],
         "xaxis": "x",
         "y": [
          10.42856646565561
         ],
         "yaxis": "y"
        },
        {
         "customdata": [
          [
           "ML167",
           260
          ],
          [
           "ML167",
           250
          ]
         ],
         "error_y": {
          "array": [
           0.3293433652910611,
           0.7541637231571947
          ],
          "arrayminus": [
           0.3293433652910611,
           0.7541637231571947
          ]
         },
         "hovertemplate": "<b>%{hovertext}</b><br><br>conc=%{x}<br>distance=%{y:.3f}<br>count_nuclei=%{customdata[1]:.1f}<extra></extra>",
         "hovertext": [
          "ML167",
          "ML167"
         ],
         "legendgroup": "ML167",
         "line": {
          "color": "#FF6692",
          "dash": "solid"
         },
         "marker": {
          "symbol": "circle"
         },
         "mode": "lines+markers",
         "name": "ML167",
         "orientation": "v",
         "showlegend": true,
         "type": "scatter",
         "x": [
          3.333333,
          10
         ],
         "xaxis": "x",
         "y": [
          11.46778366698131,
          10.476751211224984
         ],
         "yaxis": "y"
        },
        {
         "customdata": [
          [
           "(+)-ButaclamolÂ·HCl",
           254
          ]
         ],
         "error_y": {
          "array": [
           0.591024268719794
          ],
          "arrayminus": [
           0.591024268719794
          ]
         },
         "hovertemplate": "<b>%{hovertext}</b><br><br>conc=%{x}<br>distance=%{y:.3f}<br>count_nuclei=%{customdata[1]:.1f}<extra></extra>",
         "hovertext": [
          "(+)-ButaclamolÂ·HCl"
         ],
         "legendgroup": "(+)-ButaclamolÂ·HCl",
         "line": {
          "color": "#B6E880",
          "dash": "solid"
         },
         "marker": {
          "symbol": "circle"
         },
         "mode": "lines+markers",
         "name": "(+)-ButaclamolÂ·HCl",
         "orientation": "v",
         "showlegend": true,
         "type": "scatter",
         "x": [
          10
         ],
         "xaxis": "x",
         "y": [
          10.477586040762592
         ],
         "yaxis": "y"
        },
        {
         "customdata": [
          [
           "TXVRICWGWBIUAG-UHFFFAOYSA-N",
           236
          ],
          [
           "TXVRICWGWBIUAG-UHFFFAOYSA-N",
           238.5
          ]
         ],
         "error_y": {
          "array": [
           0,
           0
          ],
          "arrayminus": [
           0,
           0
          ]
         },
         "hovertemplate": "<b>%{hovertext}</b><br><br>conc=%{x}<br>distance=%{y:.3f}<br>count_nuclei=%{customdata[1]:.1f}<extra></extra>",
         "hovertext": [
          "TXVRICWGWBIUAG-UHFFFAOYSA-N",
          "TXVRICWGWBIUAG-UHFFFAOYSA-N"
         ],
         "legendgroup": "TXVRICWGWBIUAG-UHFFFAOYSA-N",
         "line": {
          "color": "#FF97FF",
          "dash": "solid"
         },
         "marker": {
          "symbol": "circle"
         },
         "mode": "lines+markers",
         "name": "TXVRICWGWBIUAG-UHFFFAOYSA-N",
         "orientation": "v",
         "showlegend": true,
         "type": "scatter",
         "x": [
          0.833333,
          3.333333
         ],
         "xaxis": "x",
         "y": [
          18.11983731262708,
          10.486976552896191
         ],
         "yaxis": "y"
        },
        {
         "customdata": [
          [
           "ZLN005",
           266
          ],
          [
           "ZLN005",
           250
          ]
         ],
         "error_y": {
          "array": [
           1.9518462959645912,
           1.304786690402464
          ],
          "arrayminus": [
           1.9518462959645912,
           1.304786690402464
          ]
         },
         "hovertemplate": "<b>%{hovertext}</b><br><br>conc=%{x}<br>distance=%{y:.3f}<br>count_nuclei=%{customdata[1]:.1f}<extra></extra>",
         "hovertext": [
          "ZLN005",
          "ZLN005"
         ],
         "legendgroup": "ZLN005",
         "line": {
          "color": "#FECB52",
          "dash": "solid"
         },
         "marker": {
          "symbol": "circle"
         },
         "mode": "lines+markers",
         "name": "ZLN005",
         "orientation": "v",
         "showlegend": true,
         "type": "scatter",
         "x": [
          3.333333,
          10
         ],
         "xaxis": "x",
         "y": [
          12.425248756825066,
          10.4892896244049
         ],
         "yaxis": "y"
        },
        {
         "customdata": [
          [
           "DCJLNFMNBVYQFR-UHFFFAOYSA-N",
           253
          ],
          [
           "DCJLNFMNBVYQFR-UHFFFAOYSA-N",
           245
          ]
         ],
         "error_y": {
          "array": [
           0,
           0
          ],
          "arrayminus": [
           0,
           0
          ]
         },
         "hovertemplate": "<b>%{hovertext}</b><br><br>conc=%{x}<br>distance=%{y:.3f}<br>count_nuclei=%{customdata[1]:.1f}<extra></extra>",
         "hovertext": [
          "DCJLNFMNBVYQFR-UHFFFAOYSA-N",
          "DCJLNFMNBVYQFR-UHFFFAOYSA-N"
         ],
         "legendgroup": "DCJLNFMNBVYQFR-UHFFFAOYSA-N",
         "line": {
          "color": "#636efa",
          "dash": "solid"
         },
         "marker": {
          "symbol": "circle"
         },
         "mode": "lines+markers",
         "name": "DCJLNFMNBVYQFR-UHFFFAOYSA-N",
         "orientation": "v",
         "showlegend": true,
         "type": "scatter",
         "x": [
          0.833333,
          3.333333
         ],
         "xaxis": "x",
         "y": [
          14.209946555229209,
          10.50230880709107
         ],
         "yaxis": "y"
        },
        {
         "customdata": [
          [
           "NVP-AEW541",
           204
          ],
          [
           "NVP-AEW541",
           220
          ]
         ],
         "error_y": {
          "array": [
           1.8911259994876095,
           0.2329241077480617
          ],
          "arrayminus": [
           1.8911259994876095,
           0.2329241077480617
          ]
         },
         "hovertemplate": "<b>%{hovertext}</b><br><br>conc=%{x}<br>distance=%{y:.3f}<br>count_nuclei=%{customdata[1]:.1f}<extra></extra>",
         "hovertext": [
          "NVP-AEW541",
          "NVP-AEW541"
         ],
         "legendgroup": "NVP-AEW541",
         "line": {
          "color": "#EF553B",
          "dash": "solid"
         },
         "marker": {
          "symbol": "circle"
         },
         "mode": "lines+markers",
         "name": "NVP-AEW541",
         "orientation": "v",
         "showlegend": true,
         "type": "scatter",
         "x": [
          0.3,
          3.333333
         ],
         "xaxis": "x",
         "y": [
          16.455666328809922,
          10.505493182880974
         ],
         "yaxis": "y"
        },
        {
         "customdata": [
          [
           "QUINACRINE HYDROCHLORIDE",
           261
          ],
          [
           "QUINACRINE HYDROCHLORIDE",
           267
          ]
         ],
         "error_y": {
          "array": [
           0.2886788882661744,
           2.0249974501070387
          ],
          "arrayminus": [
           0.2886788882661744,
           2.0249974501070387
          ]
         },
         "hovertemplate": "<b>%{hovertext}</b><br><br>conc=%{x}<br>distance=%{y:.3f}<br>count_nuclei=%{customdata[1]:.1f}<extra></extra>",
         "hovertext": [
          "QUINACRINE HYDROCHLORIDE",
          "QUINACRINE HYDROCHLORIDE"
         ],
         "legendgroup": "QUINACRINE HYDROCHLORIDE",
         "line": {
          "color": "#00cc96",
          "dash": "solid"
         },
         "marker": {
          "symbol": "circle"
         },
         "mode": "lines+markers",
         "name": "QUINACRINE HYDROCHLORIDE",
         "orientation": "v",
         "showlegend": true,
         "type": "scatter",
         "x": [
          0.3,
          0.833333
         ],
         "xaxis": "x",
         "y": [
          15.50833973591564,
          10.510604201557667
         ],
         "yaxis": "y"
        },
        {
         "customdata": [
          [
           "dimethisoquin",
           273.5
          ]
         ],
         "error_y": {
          "array": [
           3.0073442687677847
          ],
          "arrayminus": [
           3.0073442687677847
          ]
         },
         "hovertemplate": "<b>%{hovertext}</b><br><br>conc=%{x}<br>distance=%{y:.3f}<br>count_nuclei=%{customdata[1]:.1f}<extra></extra>",
         "hovertext": [
          "dimethisoquin"
         ],
         "legendgroup": "dimethisoquin",
         "line": {
          "color": "#ab63fa",
          "dash": "solid"
         },
         "marker": {
          "symbol": "circle"
         },
         "mode": "lines+markers",
         "name": "dimethisoquin",
         "orientation": "v",
         "showlegend": true,
         "type": "scatter",
         "x": [
          10
         ],
         "xaxis": "x",
         "y": [
          10.51313620940595
         ],
         "yaxis": "y"
        },
        {
         "customdata": [
          [
           "mesoridazine besylate",
           274.5
          ]
         ],
         "error_y": {
          "array": [
           0.8656205487341158
          ],
          "arrayminus": [
           0.8656205487341158
          ]
         },
         "hovertemplate": "<b>%{hovertext}</b><br><br>conc=%{x}<br>distance=%{y:.3f}<br>count_nuclei=%{customdata[1]:.1f}<extra></extra>",
         "hovertext": [
          "mesoridazine besylate"
         ],
         "legendgroup": "mesoridazine besylate",
         "line": {
          "color": "#FFA15A",
          "dash": "solid"
         },
         "marker": {
          "symbol": "circle"
         },
         "mode": "lines+markers",
         "name": "mesoridazine besylate",
         "orientation": "v",
         "showlegend": true,
         "type": "scatter",
         "x": [
          10
         ],
         "xaxis": "x",
         "y": [
          10.516296056357096
         ],
         "yaxis": "y"
        },
        {
         "customdata": [
          [
           "FNDGLVOYAQNQPE-UHFFFAOYSA-N",
           255
          ]
         ],
         "error_y": {
          "array": [
           0
          ],
          "arrayminus": [
           0
          ]
         },
         "hovertemplate": "<b>%{hovertext}</b><br><br>conc=%{x}<br>distance=%{y:.3f}<br>count_nuclei=%{customdata[1]:.1f}<extra></extra>",
         "hovertext": [
          "FNDGLVOYAQNQPE-UHFFFAOYSA-N"
         ],
         "legendgroup": "FNDGLVOYAQNQPE-UHFFFAOYSA-N",
         "line": {
          "color": "#19d3f3",
          "dash": "solid"
         },
         "marker": {
          "symbol": "circle"
         },
         "mode": "lines+markers",
         "name": "FNDGLVOYAQNQPE-UHFFFAOYSA-N",
         "orientation": "v",
         "showlegend": true,
         "type": "scatter",
         "x": [
          0.833333
         ],
         "xaxis": "x",
         "y": [
          10.522456591300644
         ],
         "yaxis": "y"
        },
        {
         "customdata": [
          [
           "JTC-801",
           255.5
          ]
         ],
         "error_y": {
          "array": [
           1.850199480858846
          ],
          "arrayminus": [
           1.850199480858846
          ]
         },
         "hovertemplate": "<b>%{hovertext}</b><br><br>conc=%{x}<br>distance=%{y:.3f}<br>count_nuclei=%{customdata[1]:.1f}<extra></extra>",
         "hovertext": [
          "JTC-801"
         ],
         "legendgroup": "JTC-801",
         "line": {
          "color": "#FF6692",
          "dash": "solid"
         },
         "marker": {
          "symbol": "circle"
         },
         "mode": "lines+markers",
         "name": "JTC-801",
         "orientation": "v",
         "showlegend": true,
         "type": "scatter",
         "x": [
          0.833333
         ],
         "xaxis": "x",
         "y": [
          10.551678887916
         ],
         "yaxis": "y"
        },
        {
         "customdata": [
          [
           "SGI-1027",
           241
          ],
          [
           "SGI-1027",
           241
          ]
         ],
         "error_y": {
          "array": [
           0.4871211768627042,
           0.1577303674117338
          ],
          "arrayminus": [
           0.4871211768627042,
           0.1577303674117338
          ]
         },
         "hovertemplate": "<b>%{hovertext}</b><br><br>conc=%{x}<br>distance=%{y:.3f}<br>count_nuclei=%{customdata[1]:.1f}<extra></extra>",
         "hovertext": [
          "SGI-1027",
          "SGI-1027"
         ],
         "legendgroup": "SGI-1027",
         "line": {
          "color": "#B6E880",
          "dash": "solid"
         },
         "marker": {
          "symbol": "circle"
         },
         "mode": "lines+markers",
         "name": "SGI-1027",
         "orientation": "v",
         "showlegend": true,
         "type": "scatter",
         "x": [
          0.3,
          0.833333
         ],
         "xaxis": "x",
         "y": [
          18.11405287745152,
          10.575138990044556
         ],
         "yaxis": "y"
        },
        {
         "customdata": [
          [
           "Ro-60-0175 fumarate",
           269.5
          ]
         ],
         "error_y": {
          "array": [
           0.9663579960693324
          ],
          "arrayminus": [
           0.9663579960693324
          ]
         },
         "hovertemplate": "<b>%{hovertext}</b><br><br>conc=%{x}<br>distance=%{y:.3f}<br>count_nuclei=%{customdata[1]:.1f}<extra></extra>",
         "hovertext": [
          "Ro-60-0175 fumarate"
         ],
         "legendgroup": "Ro-60-0175 fumarate",
         "line": {
          "color": "#FF97FF",
          "dash": "solid"
         },
         "marker": {
          "symbol": "circle"
         },
         "mode": "lines+markers",
         "name": "Ro-60-0175 fumarate",
         "orientation": "v",
         "showlegend": true,
         "type": "scatter",
         "x": [
          10
         ],
         "xaxis": "x",
         "y": [
          10.580664405350372
         ],
         "yaxis": "y"
        },
        {
         "customdata": [
          [
           "norcyclobenzaprine",
           274.5
          ]
         ],
         "error_y": {
          "array": [
           3.319288839459404
          ],
          "arrayminus": [
           3.319288839459404
          ]
         },
         "hovertemplate": "<b>%{hovertext}</b><br><br>conc=%{x}<br>distance=%{y:.3f}<br>count_nuclei=%{customdata[1]:.1f}<extra></extra>",
         "hovertext": [
          "norcyclobenzaprine"
         ],
         "legendgroup": "norcyclobenzaprine",
         "line": {
          "color": "#FECB52",
          "dash": "solid"
         },
         "marker": {
          "symbol": "circle"
         },
         "mode": "lines+markers",
         "name": "norcyclobenzaprine",
         "orientation": "v",
         "showlegend": true,
         "type": "scatter",
         "x": [
          10
         ],
         "xaxis": "x",
         "y": [
          10.598956700968175
         ],
         "yaxis": "y"
        },
        {
         "customdata": [
          [
           "asenapine maleate",
           241
          ],
          [
           "asenapine maleate",
           263.5
          ]
         ],
         "error_y": {
          "array": [
           0.5059723866190424,
           1.635254534572141
          ],
          "arrayminus": [
           0.5059723866190424,
           1.635254534572141
          ]
         },
         "hovertemplate": "<b>%{hovertext}</b><br><br>conc=%{x}<br>distance=%{y:.3f}<br>count_nuclei=%{customdata[1]:.1f}<extra></extra>",
         "hovertext": [
          "asenapine maleate",
          "asenapine maleate"
         ],
         "legendgroup": "asenapine maleate",
         "line": {
          "color": "#636efa",
          "dash": "solid"
         },
         "marker": {
          "symbol": "circle"
         },
         "mode": "lines+markers",
         "name": "asenapine maleate",
         "orientation": "v",
         "showlegend": true,
         "type": "scatter",
         "x": [
          0.3,
          3.333333
         ],
         "xaxis": "x",
         "y": [
          16.01128165417381,
          10.63104652500244
         ],
         "yaxis": "y"
        },
        {
         "customdata": [
          [
           "ZFDPLDFIFSHGBZ-UHFFFAOYSA-N",
           226
          ],
          [
           "ZFDPLDFIFSHGBZ-UHFFFAOYSA-N",
           253
          ]
         ],
         "error_y": {
          "array": [
           0,
           0
          ],
          "arrayminus": [
           0,
           0
          ]
         },
         "hovertemplate": "<b>%{hovertext}</b><br><br>conc=%{x}<br>distance=%{y:.3f}<br>count_nuclei=%{customdata[1]:.1f}<extra></extra>",
         "hovertext": [
          "ZFDPLDFIFSHGBZ-UHFFFAOYSA-N",
          "ZFDPLDFIFSHGBZ-UHFFFAOYSA-N"
         ],
         "legendgroup": "ZFDPLDFIFSHGBZ-UHFFFAOYSA-N",
         "line": {
          "color": "#EF553B",
          "dash": "solid"
         },
         "marker": {
          "symbol": "circle"
         },
         "mode": "lines+markers",
         "name": "ZFDPLDFIFSHGBZ-UHFFFAOYSA-N",
         "orientation": "v",
         "showlegend": true,
         "type": "scatter",
         "x": [
          3.333333,
          10
         ],
         "xaxis": "x",
         "y": [
          11.679216715062111,
          10.669556169718192
         ],
         "yaxis": "y"
        },
        {
         "customdata": [
          [
           "Ceritinib",
           227
          ],
          [
           "Ceritinib",
           228
          ]
         ],
         "error_y": {
          "array": [
           1.614173180529809,
           2.445336608189624
          ],
          "arrayminus": [
           1.614173180529809,
           2.445336608189624
          ]
         },
         "hovertemplate": "<b>%{hovertext}</b><br><br>conc=%{x}<br>distance=%{y:.3f}<br>count_nuclei=%{customdata[1]:.1f}<extra></extra>",
         "hovertext": [
          "Ceritinib",
          "Ceritinib"
         ],
         "legendgroup": "Ceritinib",
         "line": {
          "color": "#00cc96",
          "dash": "solid"
         },
         "marker": {
          "symbol": "circle"
         },
         "mode": "lines+markers",
         "name": "Ceritinib",
         "orientation": "v",
         "showlegend": true,
         "type": "scatter",
         "x": [
          0.833333,
          3.333333
         ],
         "xaxis": "x",
         "y": [
          13.767757599619028,
          10.681349917412444
         ],
         "yaxis": "y"
        },
        {
         "customdata": [
          [
           "Sunitinib",
           236
          ],
          [
           "Sunitinib",
           251
          ]
         ],
         "error_y": {
          "array": [
           0.4462189369789637,
           0.2465469375913844
          ],
          "arrayminus": [
           0.4462189369789637,
           0.2465469375913844
          ]
         },
         "hovertemplate": "<b>%{hovertext}</b><br><br>conc=%{x}<br>distance=%{y:.3f}<br>count_nuclei=%{customdata[1]:.1f}<extra></extra>",
         "hovertext": [
          "Sunitinib",
          "Sunitinib"
         ],
         "legendgroup": "Sunitinib",
         "line": {
          "color": "#ab63fa",
          "dash": "solid"
         },
         "marker": {
          "symbol": "circle"
         },
         "mode": "lines+markers",
         "name": "Sunitinib",
         "orientation": "v",
         "showlegend": true,
         "type": "scatter",
         "x": [
          0.3,
          0.833333
         ],
         "xaxis": "x",
         "y": [
          11.980360336121374,
          10.688046803052815
         ],
         "yaxis": "y"
        },
        {
         "customdata": [
          [
           "URMC-099",
           241
          ],
          [
           "URMC-099",
           253
          ]
         ],
         "error_y": {
          "array": [
           0.9005935664317484,
           1.5522739191266393
          ],
          "arrayminus": [
           0.9005935664317484,
           1.5522739191266393
          ]
         },
         "hovertemplate": "<b>%{hovertext}</b><br><br>conc=%{x}<br>distance=%{y:.3f}<br>count_nuclei=%{customdata[1]:.1f}<extra></extra>",
         "hovertext": [
          "URMC-099",
          "URMC-099"
         ],
         "legendgroup": "URMC-099",
         "line": {
          "color": "#FFA15A",
          "dash": "solid"
         },
         "marker": {
          "symbol": "circle"
         },
         "mode": "lines+markers",
         "name": "URMC-099",
         "orientation": "v",
         "showlegend": true,
         "type": "scatter",
         "x": [
          0.833333,
          3.333333
         ],
         "xaxis": "x",
         "y": [
          12.478811858638412,
          10.700455984687313
         ],
         "yaxis": "y"
        },
        {
         "customdata": [
          [
           "kenpaullone",
           251
          ],
          [
           "kenpaullone",
           241
          ]
         ],
         "error_y": {
          "array": [
           0.7843256924830158,
           0.726405802054737
          ],
          "arrayminus": [
           0.7843256924830158,
           0.726405802054737
          ]
         },
         "hovertemplate": "<b>%{hovertext}</b><br><br>conc=%{x}<br>distance=%{y:.3f}<br>count_nuclei=%{customdata[1]:.1f}<extra></extra>",
         "hovertext": [
          "kenpaullone",
          "kenpaullone"
         ],
         "legendgroup": "kenpaullone",
         "line": {
          "color": "#19d3f3",
          "dash": "solid"
         },
         "marker": {
          "symbol": "circle"
         },
         "mode": "lines+markers",
         "name": "kenpaullone",
         "orientation": "v",
         "showlegend": true,
         "type": "scatter",
         "x": [
          0.3,
          3.333333
         ],
         "xaxis": "x",
         "y": [
          13.853034795647684,
          10.712313300626596
         ],
         "yaxis": "y"
        },
        {
         "customdata": [
          [
           "XWWFOUVDVJGNNG-UHFFFAOYSA-N",
           238
          ],
          [
           "XWWFOUVDVJGNNG-UHFFFAOYSA-N",
           252
          ]
         ],
         "error_y": {
          "array": [
           0,
           0
          ],
          "arrayminus": [
           0,
           0
          ]
         },
         "hovertemplate": "<b>%{hovertext}</b><br><br>conc=%{x}<br>distance=%{y:.3f}<br>count_nuclei=%{customdata[1]:.1f}<extra></extra>",
         "hovertext": [
          "XWWFOUVDVJGNNG-UHFFFAOYSA-N",
          "XWWFOUVDVJGNNG-UHFFFAOYSA-N"
         ],
         "legendgroup": "XWWFOUVDVJGNNG-UHFFFAOYSA-N",
         "line": {
          "color": "#FF6692",
          "dash": "solid"
         },
         "marker": {
          "symbol": "circle"
         },
         "mode": "lines+markers",
         "name": "XWWFOUVDVJGNNG-UHFFFAOYSA-N",
         "orientation": "v",
         "showlegend": true,
         "type": "scatter",
         "x": [
          3.333333,
          10
         ],
         "xaxis": "x",
         "y": [
          12.381288076661182,
          10.733410323607105
         ],
         "yaxis": "y"
        },
        {
         "customdata": [
          [
           "CCT128930",
           246
          ],
          [
           "CCT128930",
           260
          ]
         ],
         "error_y": {
          "array": [
           0.4203142290687349,
           1.8056146169093363
          ],
          "arrayminus": [
           0.4203142290687349,
           1.8056146169093363
          ]
         },
         "hovertemplate": "<b>%{hovertext}</b><br><br>conc=%{x}<br>distance=%{y:.3f}<br>count_nuclei=%{customdata[1]:.1f}<extra></extra>",
         "hovertext": [
          "CCT128930",
          "CCT128930"
         ],
         "legendgroup": "CCT128930",
         "line": {
          "color": "#B6E880",
          "dash": "solid"
         },
         "marker": {
          "symbol": "circle"
         },
         "mode": "lines+markers",
         "name": "CCT128930",
         "orientation": "v",
         "showlegend": true,
         "type": "scatter",
         "x": [
          0.833333,
          3.333333
         ],
         "xaxis": "x",
         "y": [
          12.970333788774465,
          10.765072606474847
         ],
         "yaxis": "y"
        },
        {
         "customdata": [
          [
           "UEFHFKKWYKVLDC-HTQYORAHSA-N",
           247
          ],
          [
           "UEFHFKKWYKVLDC-HTQYORAHSA-N",
           271
          ]
         ],
         "error_y": {
          "array": [
           0,
           0
          ],
          "arrayminus": [
           0,
           0
          ]
         },
         "hovertemplate": "<b>%{hovertext}</b><br><br>conc=%{x}<br>distance=%{y:.3f}<br>count_nuclei=%{customdata[1]:.1f}<extra></extra>",
         "hovertext": [
          "UEFHFKKWYKVLDC-HTQYORAHSA-N",
          "UEFHFKKWYKVLDC-HTQYORAHSA-N"
         ],
         "legendgroup": "UEFHFKKWYKVLDC-HTQYORAHSA-N",
         "line": {
          "color": "#FF97FF",
          "dash": "solid"
         },
         "marker": {
          "symbol": "circle"
         },
         "mode": "lines+markers",
         "name": "UEFHFKKWYKVLDC-HTQYORAHSA-N",
         "orientation": "v",
         "showlegend": true,
         "type": "scatter",
         "x": [
          0.833333,
          3.333333
         ],
         "xaxis": "x",
         "y": [
          16.35847344459187,
          10.776652145821393
         ],
         "yaxis": "y"
        },
        {
         "customdata": [
          [
           "KU-60019",
           233
          ],
          [
           "KU-60019",
           271
          ]
         ],
         "error_y": {
          "array": [
           1.3977028856957272,
           0.7044755023989673
          ],
          "arrayminus": [
           1.3977028856957272,
           0.7044755023989673
          ]
         },
         "hovertemplate": "<b>%{hovertext}</b><br><br>conc=%{x}<br>distance=%{y:.3f}<br>count_nuclei=%{customdata[1]:.1f}<extra></extra>",
         "hovertext": [
          "KU-60019",
          "KU-60019"
         ],
         "legendgroup": "KU-60019",
         "line": {
          "color": "#FECB52",
          "dash": "solid"
         },
         "marker": {
          "symbol": "circle"
         },
         "mode": "lines+markers",
         "name": "KU-60019",
         "orientation": "v",
         "showlegend": true,
         "type": "scatter",
         "x": [
          3.333333,
          10
         ],
         "xaxis": "x",
         "y": [
          15.857475161267212,
          10.78555799319631
         ],
         "yaxis": "y"
        },
        {
         "customdata": [
          [
           "MG-132",
           248
          ]
         ],
         "error_y": {
          "array": [
           0.0917469936283019
          ],
          "arrayminus": [
           0.0917469936283019
          ]
         },
         "hovertemplate": "<b>%{hovertext}</b><br><br>conc=%{x}<br>distance=%{y:.3f}<br>count_nuclei=%{customdata[1]:.1f}<extra></extra>",
         "hovertext": [
          "MG-132"
         ],
         "legendgroup": "MG-132",
         "line": {
          "color": "#636efa",
          "dash": "solid"
         },
         "marker": {
          "symbol": "circle"
         },
         "mode": "lines+markers",
         "name": "MG-132",
         "orientation": "v",
         "showlegend": true,
         "type": "scatter",
         "x": [
          0.3
         ],
         "xaxis": "x",
         "y": [
          10.84303974370387
         ],
         "yaxis": "y"
        },
        {
         "customdata": [
          [
           "flunarizine",
           250
          ]
         ],
         "error_y": {
          "array": [
           0.6786179352582327
          ],
          "arrayminus": [
           0.6786179352582327
          ]
         },
         "hovertemplate": "<b>%{hovertext}</b><br><br>conc=%{x}<br>distance=%{y:.3f}<br>count_nuclei=%{customdata[1]:.1f}<extra></extra>",
         "hovertext": [
          "flunarizine"
         ],
         "legendgroup": "flunarizine",
         "line": {
          "color": "#EF553B",
          "dash": "solid"
         },
         "marker": {
          "symbol": "circle"
         },
         "mode": "lines+markers",
         "name": "flunarizine",
         "orientation": "v",
         "showlegend": true,
         "type": "scatter",
         "x": [
          10
         ],
         "xaxis": "x",
         "y": [
          10.8595324337303
         ],
         "yaxis": "y"
        },
        {
         "customdata": [
          [
           "AZ191",
           268
          ],
          [
           "AZ191",
           278
          ]
         ],
         "error_y": {
          "array": [
           0.4494382179929062,
           0.7443671236656542
          ],
          "arrayminus": [
           0.4494382179929062,
           0.7443671236656542
          ]
         },
         "hovertemplate": "<b>%{hovertext}</b><br><br>conc=%{x}<br>distance=%{y:.3f}<br>count_nuclei=%{customdata[1]:.1f}<extra></extra>",
         "hovertext": [
          "AZ191",
          "AZ191"
         ],
         "legendgroup": "AZ191",
         "line": {
          "color": "#00cc96",
          "dash": "solid"
         },
         "marker": {
          "symbol": "circle"
         },
         "mode": "lines+markers",
         "name": "AZ191",
         "orientation": "v",
         "showlegend": true,
         "type": "scatter",
         "x": [
          0.833333,
          3.333333
         ],
         "xaxis": "x",
         "y": [
          11.2547167917239,
          10.889379613000166
         ],
         "yaxis": "y"
        },
        {
         "customdata": [
          [
           "PIMETHIXENE MALEATE",
           273
          ]
         ],
         "error_y": {
          "array": [
           3.008596380195435
          ],
          "arrayminus": [
           3.008596380195435
          ]
         },
         "hovertemplate": "<b>%{hovertext}</b><br><br>conc=%{x}<br>distance=%{y:.3f}<br>count_nuclei=%{customdata[1]:.1f}<extra></extra>",
         "hovertext": [
          "PIMETHIXENE MALEATE"
         ],
         "legendgroup": "PIMETHIXENE MALEATE",
         "line": {
          "color": "#ab63fa",
          "dash": "solid"
         },
         "marker": {
          "symbol": "circle"
         },
         "mode": "lines+markers",
         "name": "PIMETHIXENE MALEATE",
         "orientation": "v",
         "showlegend": true,
         "type": "scatter",
         "x": [
          10
         ],
         "xaxis": "x",
         "y": [
          10.897592528334451
         ],
         "yaxis": "y"
        },
        {
         "customdata": [
          [
           "bifemelane",
           247
          ],
          [
           "bifemelane",
           270.5
          ]
         ],
         "error_y": {
          "array": [
           0.4504752756081558,
           2.5095437670009506
          ],
          "arrayminus": [
           0.4504752756081558,
           2.5095437670009506
          ]
         },
         "hovertemplate": "<b>%{hovertext}</b><br><br>conc=%{x}<br>distance=%{y:.3f}<br>count_nuclei=%{customdata[1]:.1f}<extra></extra>",
         "hovertext": [
          "bifemelane",
          "bifemelane"
         ],
         "legendgroup": "bifemelane",
         "line": {
          "color": "#FFA15A",
          "dash": "solid"
         },
         "marker": {
          "symbol": "circle"
         },
         "mode": "lines+markers",
         "name": "bifemelane",
         "orientation": "v",
         "showlegend": true,
         "type": "scatter",
         "x": [
          3.333333,
          10
         ],
         "xaxis": "x",
         "y": [
          15.80818578657555,
          10.90784528075743
         ],
         "yaxis": "y"
        },
        {
         "customdata": [
          [
           "CYCLOHEXIMIDE",
           255
          ]
         ],
         "error_y": {
          "array": [
           4.439365384054941
          ],
          "arrayminus": [
           4.439365384054941
          ]
         },
         "hovertemplate": "<b>%{hovertext}</b><br><br>conc=%{x}<br>distance=%{y:.3f}<br>count_nuclei=%{customdata[1]:.1f}<extra></extra>",
         "hovertext": [
          "CYCLOHEXIMIDE"
         ],
         "legendgroup": "CYCLOHEXIMIDE",
         "line": {
          "color": "#19d3f3",
          "dash": "solid"
         },
         "marker": {
          "symbol": "circle"
         },
         "mode": "lines+markers",
         "name": "CYCLOHEXIMIDE",
         "orientation": "v",
         "showlegend": true,
         "type": "scatter",
         "x": [
          0.3
         ],
         "xaxis": "x",
         "y": [
          10.927085076959742
         ],
         "yaxis": "y"
        },
        {
         "customdata": [
          [
           "nafadotride",
           260
          ]
         ],
         "error_y": {
          "array": [
           0.4441322907183167
          ],
          "arrayminus": [
           0.4441322907183167
          ]
         },
         "hovertemplate": "<b>%{hovertext}</b><br><br>conc=%{x}<br>distance=%{y:.3f}<br>count_nuclei=%{customdata[1]:.1f}<extra></extra>",
         "hovertext": [
          "nafadotride"
         ],
         "legendgroup": "nafadotride",
         "line": {
          "color": "#FF6692",
          "dash": "solid"
         },
         "marker": {
          "symbol": "circle"
         },
         "mode": "lines+markers",
         "name": "nafadotride",
         "orientation": "v",
         "showlegend": true,
         "type": "scatter",
         "x": [
          10
         ],
         "xaxis": "x",
         "y": [
          10.97438157639631
         ],
         "yaxis": "y"
        },
        {
         "customdata": [
          [
           "TA-01",
           276
          ],
          [
           "TA-01",
           282
          ]
         ],
         "error_y": {
          "array": [
           2.9644953750701597,
           1.947408263690999
          ],
          "arrayminus": [
           2.9644953750701597,
           1.947408263690999
          ]
         },
         "hovertemplate": "<b>%{hovertext}</b><br><br>conc=%{x}<br>distance=%{y:.3f}<br>count_nuclei=%{customdata[1]:.1f}<extra></extra>",
         "hovertext": [
          "TA-01",
          "TA-01"
         ],
         "legendgroup": "TA-01",
         "line": {
          "color": "#B6E880",
          "dash": "solid"
         },
         "marker": {
          "symbol": "circle"
         },
         "mode": "lines+markers",
         "name": "TA-01",
         "orientation": "v",
         "showlegend": true,
         "type": "scatter",
         "x": [
          3.333333,
          10
         ],
         "xaxis": "x",
         "y": [
          13.795591795562048,
          10.988180814546684
         ],
         "yaxis": "y"
        },
        {
         "customdata": [
          [
           "FJUKDAZEABGEIH-UHFFFAOYSA-N",
           240
          ],
          [
           "FJUKDAZEABGEIH-UHFFFAOYSA-N",
           253
          ]
         ],
         "error_y": {
          "array": [
           0,
           0
          ],
          "arrayminus": [
           0,
           0
          ]
         },
         "hovertemplate": "<b>%{hovertext}</b><br><br>conc=%{x}<br>distance=%{y:.3f}<br>count_nuclei=%{customdata[1]:.1f}<extra></extra>",
         "hovertext": [
          "FJUKDAZEABGEIH-UHFFFAOYSA-N",
          "FJUKDAZEABGEIH-UHFFFAOYSA-N"
         ],
         "legendgroup": "FJUKDAZEABGEIH-UHFFFAOYSA-N",
         "line": {
          "color": "#FF97FF",
          "dash": "solid"
         },
         "marker": {
          "symbol": "circle"
         },
         "mode": "lines+markers",
         "name": "FJUKDAZEABGEIH-UHFFFAOYSA-N",
         "orientation": "v",
         "showlegend": true,
         "type": "scatter",
         "x": [
          3.333333,
          10
         ],
         "xaxis": "x",
         "y": [
          11.422367038967549,
          10.993252266560424
         ],
         "yaxis": "y"
        },
        {
         "customdata": [
          [
           "NICERGOLINE",
           274
          ]
         ],
         "error_y": {
          "array": [
           1.5468526802288718
          ],
          "arrayminus": [
           1.5468526802288718
          ]
         },
         "hovertemplate": "<b>%{hovertext}</b><br><br>conc=%{x}<br>distance=%{y:.3f}<br>count_nuclei=%{customdata[1]:.1f}<extra></extra>",
         "hovertext": [
          "NICERGOLINE"
         ],
         "legendgroup": "NICERGOLINE",
         "line": {
          "color": "#FECB52",
          "dash": "solid"
         },
         "marker": {
          "symbol": "circle"
         },
         "mode": "lines+markers",
         "name": "NICERGOLINE",
         "orientation": "v",
         "showlegend": true,
         "type": "scatter",
         "x": [
          10
         ],
         "xaxis": "x",
         "y": [
          11.045906970650009
         ],
         "yaxis": "y"
        },
        {
         "customdata": [
          [
           "QUINESTROL",
           260
          ],
          [
           "QUINESTROL",
           218
          ]
         ],
         "error_y": {
          "array": [
           0.946948188217366,
           1.4906633399276412
          ],
          "arrayminus": [
           0.946948188217366,
           1.4906633399276412
          ]
         },
         "hovertemplate": "<b>%{hovertext}</b><br><br>conc=%{x}<br>distance=%{y:.3f}<br>count_nuclei=%{customdata[1]:.1f}<extra></extra>",
         "hovertext": [
          "QUINESTROL",
          "QUINESTROL"
         ],
         "legendgroup": "QUINESTROL",
         "line": {
          "color": "#636efa",
          "dash": "solid"
         },
         "marker": {
          "symbol": "circle"
         },
         "mode": "lines+markers",
         "name": "QUINESTROL",
         "orientation": "v",
         "showlegend": true,
         "type": "scatter",
         "x": [
          3.333333,
          10
         ],
         "xaxis": "x",
         "y": [
          11.82000071728176,
          11.05759794277741
         ],
         "yaxis": "y"
        },
        {
         "customdata": [
          [
           "AG-1478 (Tyrphostin AG-1478)",
           244
          ],
          [
           "AG-1478 (Tyrphostin AG-1478)",
           244
          ]
         ],
         "error_y": {
          "array": [
           0.1711799897697847,
           0.635847456304413
          ],
          "arrayminus": [
           0.1711799897697847,
           0.635847456304413
          ]
         },
         "hovertemplate": "<b>%{hovertext}</b><br><br>conc=%{x}<br>distance=%{y:.3f}<br>count_nuclei=%{customdata[1]:.1f}<extra></extra>",
         "hovertext": [
          "AG-1478 (Tyrphostin AG-1478)",
          "AG-1478 (Tyrphostin AG-1478)"
         ],
         "legendgroup": "AG-1478 (Tyrphostin AG-1478)",
         "line": {
          "color": "#EF553B",
          "dash": "solid"
         },
         "marker": {
          "symbol": "circle"
         },
         "mode": "lines+markers",
         "name": "AG-1478 (Tyrphostin AG-1478)",
         "orientation": "v",
         "showlegend": true,
         "type": "scatter",
         "x": [
          3.333333,
          10
         ],
         "xaxis": "x",
         "y": [
          12.858879523304262,
          11.062727861462063
         ],
         "yaxis": "y"
        },
        {
         "customdata": [
          [
           "Ulipristal acetate",
           248
          ]
         ],
         "error_y": {
          "array": [
           1.0451834533206237
          ],
          "arrayminus": [
           1.0451834533206237
          ]
         },
         "hovertemplate": "<b>%{hovertext}</b><br><br>conc=%{x}<br>distance=%{y:.3f}<br>count_nuclei=%{customdata[1]:.1f}<extra></extra>",
         "hovertext": [
          "Ulipristal acetate"
         ],
         "legendgroup": "Ulipristal acetate",
         "line": {
          "color": "#00cc96",
          "dash": "solid"
         },
         "marker": {
          "symbol": "circle"
         },
         "mode": "lines+markers",
         "name": "Ulipristal acetate",
         "orientation": "v",
         "showlegend": true,
         "type": "scatter",
         "x": [
          10
         ],
         "xaxis": "x",
         "y": [
          11.076634576427963
         ],
         "yaxis": "y"
        },
        {
         "customdata": [
          [
           "HTH-01-015",
           234
          ],
          [
           "HTH-01-015",
           246
          ]
         ],
         "error_y": {
          "array": [
           0.0085247088106434,
           2.900004393428995
          ],
          "arrayminus": [
           0.0085247088106434,
           2.900004393428995
          ]
         },
         "hovertemplate": "<b>%{hovertext}</b><br><br>conc=%{x}<br>distance=%{y:.3f}<br>count_nuclei=%{customdata[1]:.1f}<extra></extra>",
         "hovertext": [
          "HTH-01-015",
          "HTH-01-015"
         ],
         "legendgroup": "HTH-01-015",
         "line": {
          "color": "#ab63fa",
          "dash": "solid"
         },
         "marker": {
          "symbol": "circle"
         },
         "mode": "lines+markers",
         "name": "HTH-01-015",
         "orientation": "v",
         "showlegend": true,
         "type": "scatter",
         "x": [
          0.833333,
          3.333333
         ],
         "xaxis": "x",
         "y": [
          17.712249405171494,
          11.08396691898434
         ],
         "yaxis": "y"
        },
        {
         "customdata": [
          [
           "SELAMECTIN",
           238
          ],
          [
           "SELAMECTIN",
           241
          ]
         ],
         "error_y": {
          "array": [
           0.1745395386165,
           0.2516838755854547
          ],
          "arrayminus": [
           0.1745395386165,
           0.2516838755854547
          ]
         },
         "hovertemplate": "<b>%{hovertext}</b><br><br>conc=%{x}<br>distance=%{y:.3f}<br>count_nuclei=%{customdata[1]:.1f}<extra></extra>",
         "hovertext": [
          "SELAMECTIN",
          "SELAMECTIN"
         ],
         "legendgroup": "SELAMECTIN",
         "line": {
          "color": "#FFA15A",
          "dash": "solid"
         },
         "marker": {
          "symbol": "circle"
         },
         "mode": "lines+markers",
         "name": "SELAMECTIN",
         "orientation": "v",
         "showlegend": true,
         "type": "scatter",
         "x": [
          0.3,
          3.333333
         ],
         "xaxis": "x",
         "y": [
          16.374223506985963,
          11.087760486905308
         ],
         "yaxis": "y"
        },
        {
         "customdata": [
          [
           "Butenafine HCl",
           239
          ],
          [
           "Butenafine HCl",
           252
          ]
         ],
         "error_y": {
          "array": [
           3.698476649002803,
           1.5121410055838052
          ],
          "arrayminus": [
           3.698476649002803,
           1.5121410055838052
          ]
         },
         "hovertemplate": "<b>%{hovertext}</b><br><br>conc=%{x}<br>distance=%{y:.3f}<br>count_nuclei=%{customdata[1]:.1f}<extra></extra>",
         "hovertext": [
          "Butenafine HCl",
          "Butenafine HCl"
         ],
         "legendgroup": "Butenafine HCl",
         "line": {
          "color": "#19d3f3",
          "dash": "solid"
         },
         "marker": {
          "symbol": "circle"
         },
         "mode": "lines+markers",
         "name": "Butenafine HCl",
         "orientation": "v",
         "showlegend": true,
         "type": "scatter",
         "x": [
          3.333333,
          10
         ],
         "xaxis": "x",
         "y": [
          16.748311041885827,
          11.10603921540866
         ],
         "yaxis": "y"
        },
        {
         "customdata": [
          [
           "GSAOMGRRQCNAAW-UHFFFAOYSA-N",
           228
          ],
          [
           "GSAOMGRRQCNAAW-UHFFFAOYSA-N",
           253
          ]
         ],
         "error_y": {
          "array": [
           0,
           0
          ],
          "arrayminus": [
           0,
           0
          ]
         },
         "hovertemplate": "<b>%{hovertext}</b><br><br>conc=%{x}<br>distance=%{y:.3f}<br>count_nuclei=%{customdata[1]:.1f}<extra></extra>",
         "hovertext": [
          "GSAOMGRRQCNAAW-UHFFFAOYSA-N",
          "GSAOMGRRQCNAAW-UHFFFAOYSA-N"
         ],
         "legendgroup": "GSAOMGRRQCNAAW-UHFFFAOYSA-N",
         "line": {
          "color": "#FF6692",
          "dash": "solid"
         },
         "marker": {
          "symbol": "circle"
         },
         "mode": "lines+markers",
         "name": "GSAOMGRRQCNAAW-UHFFFAOYSA-N",
         "orientation": "v",
         "showlegend": true,
         "type": "scatter",
         "x": [
          3.333333,
          10
         ],
         "xaxis": "x",
         "y": [
          15.086758489327568,
          11.108925171525716
         ],
         "yaxis": "y"
        },
        {
         "customdata": [
          [
           "NVP-ADW742",
           202
          ],
          [
           "NVP-ADW742",
           220
          ]
         ],
         "error_y": {
          "array": [
           0.8203474556449173,
           0.4964811783408187
          ],
          "arrayminus": [
           0.8203474556449173,
           0.4964811783408187
          ]
         },
         "hovertemplate": "<b>%{hovertext}</b><br><br>conc=%{x}<br>distance=%{y:.3f}<br>count_nuclei=%{customdata[1]:.1f}<extra></extra>",
         "hovertext": [
          "NVP-ADW742",
          "NVP-ADW742"
         ],
         "legendgroup": "NVP-ADW742",
         "line": {
          "color": "#B6E880",
          "dash": "solid"
         },
         "marker": {
          "symbol": "circle"
         },
         "mode": "lines+markers",
         "name": "NVP-ADW742",
         "orientation": "v",
         "showlegend": true,
         "type": "scatter",
         "x": [
          0.833333,
          3.333333
         ],
         "xaxis": "x",
         "y": [
          15.696252380705506,
          11.116503518161624
         ],
         "yaxis": "y"
        },
        {
         "customdata": [
          [
           "BMS-191095",
           240
          ]
         ],
         "error_y": {
          "array": [
           0.581504322797608
          ],
          "arrayminus": [
           0.581504322797608
          ]
         },
         "hovertemplate": "<b>%{hovertext}</b><br><br>conc=%{x}<br>distance=%{y:.3f}<br>count_nuclei=%{customdata[1]:.1f}<extra></extra>",
         "hovertext": [
          "BMS-191095"
         ],
         "legendgroup": "BMS-191095",
         "line": {
          "color": "#FF97FF",
          "dash": "solid"
         },
         "marker": {
          "symbol": "circle"
         },
         "mode": "lines+markers",
         "name": "BMS-191095",
         "orientation": "v",
         "showlegend": true,
         "type": "scatter",
         "x": [
          10
         ],
         "xaxis": "x",
         "y": [
          11.117103221826332
         ],
         "yaxis": "y"
        },
        {
         "customdata": [
          [
           "PD-407824",
           240
          ]
         ],
         "error_y": {
          "array": [
           0.0653741755027059
          ],
          "arrayminus": [
           0.0653741755027059
          ]
         },
         "hovertemplate": "<b>%{hovertext}</b><br><br>conc=%{x}<br>distance=%{y:.3f}<br>count_nuclei=%{customdata[1]:.1f}<extra></extra>",
         "hovertext": [
          "PD-407824"
         ],
         "legendgroup": "PD-407824",
         "line": {
          "color": "#FECB52",
          "dash": "solid"
         },
         "marker": {
          "symbol": "circle"
         },
         "mode": "lines+markers",
         "name": "PD-407824",
         "orientation": "v",
         "showlegend": true,
         "type": "scatter",
         "x": [
          0.1
         ],
         "xaxis": "x",
         "y": [
          11.12948841806836
         ],
         "yaxis": "y"
        },
        {
         "customdata": [
          [
           "SB-216641",
           254
          ],
          [
           "SB-216641",
           285
          ]
         ],
         "error_y": {
          "array": [
           0.8579849158102348,
           0.1517864917530378
          ],
          "arrayminus": [
           0.8579849158102348,
           0.1517864917530378
          ]
         },
         "hovertemplate": "<b>%{hovertext}</b><br><br>conc=%{x}<br>distance=%{y:.3f}<br>count_nuclei=%{customdata[1]:.1f}<extra></extra>",
         "hovertext": [
          "SB-216641",
          "SB-216641"
         ],
         "legendgroup": "SB-216641",
         "line": {
          "color": "#636efa",
          "dash": "solid"
         },
         "marker": {
          "symbol": "circle"
         },
         "mode": "lines+markers",
         "name": "SB-216641",
         "orientation": "v",
         "showlegend": true,
         "type": "scatter",
         "x": [
          0.833333,
          3.333333
         ],
         "xaxis": "x",
         "y": [
          15.19991703929344,
          11.149965123632748
         ],
         "yaxis": "y"
        },
        {
         "customdata": [
          [
           "1-(1,2-Diphenylethyl)piperidine-(+/-)",
           265
          ]
         ],
         "error_y": {
          "array": [
           0.7187489647425629
          ],
          "arrayminus": [
           0.7187489647425629
          ]
         },
         "hovertemplate": "<b>%{hovertext}</b><br><br>conc=%{x}<br>distance=%{y:.3f}<br>count_nuclei=%{customdata[1]:.1f}<extra></extra>",
         "hovertext": [
          "1-(1,2-Diphenylethyl)piperidine-(+/-)"
         ],
         "legendgroup": "1-(1,2-Diphenylethyl)piperidine-(+/-)",
         "line": {
          "color": "#EF553B",
          "dash": "solid"
         },
         "marker": {
          "symbol": "circle"
         },
         "mode": "lines+markers",
         "name": "1-(1,2-Diphenylethyl)piperidine-(+/-)",
         "orientation": "v",
         "showlegend": true,
         "type": "scatter",
         "x": [
          10
         ],
         "xaxis": "x",
         "y": [
          11.16902791852143
         ],
         "yaxis": "y"
        },
        {
         "customdata": [
          [
           "GNF-5837",
           251
          ],
          [
           "GNF-5837",
           263.5
          ]
         ],
         "error_y": {
          "array": [
           0.1621165502174921,
           0.6004293552873357
          ],
          "arrayminus": [
           0.1621165502174921,
           0.6004293552873357
          ]
         },
         "hovertemplate": "<b>%{hovertext}</b><br><br>conc=%{x}<br>distance=%{y:.3f}<br>count_nuclei=%{customdata[1]:.1f}<extra></extra>",
         "hovertext": [
          "GNF-5837",
          "GNF-5837"
         ],
         "legendgroup": "GNF-5837",
         "line": {
          "color": "#00cc96",
          "dash": "solid"
         },
         "marker": {
          "symbol": "circle"
         },
         "mode": "lines+markers",
         "name": "GNF-5837",
         "orientation": "v",
         "showlegend": true,
         "type": "scatter",
         "x": [
          3.333333,
          10
         ],
         "xaxis": "x",
         "y": [
          13.690044891937324,
          11.208633619682338
         ],
         "yaxis": "y"
        },
        {
         "customdata": [
          [
           "CGP-52411",
           265
          ]
         ],
         "error_y": {
          "array": [
           1.9396104393353597
          ],
          "arrayminus": [
           1.9396104393353597
          ]
         },
         "hovertemplate": "<b>%{hovertext}</b><br><br>conc=%{x}<br>distance=%{y:.3f}<br>count_nuclei=%{customdata[1]:.1f}<extra></extra>",
         "hovertext": [
          "CGP-52411"
         ],
         "legendgroup": "CGP-52411",
         "line": {
          "color": "#ab63fa",
          "dash": "solid"
         },
         "marker": {
          "symbol": "circle"
         },
         "mode": "lines+markers",
         "name": "CGP-52411",
         "orientation": "v",
         "showlegend": true,
         "type": "scatter",
         "x": [
          10
         ],
         "xaxis": "x",
         "y": [
          11.217211396095106
         ],
         "yaxis": "y"
        },
        {
         "customdata": [
          [
           "OXYBUTYNIN CHLORIDE",
           261.5
          ]
         ],
         "error_y": {
          "array": [
           0.5970444104198407
          ],
          "arrayminus": [
           0.5970444104198407
          ]
         },
         "hovertemplate": "<b>%{hovertext}</b><br><br>conc=%{x}<br>distance=%{y:.3f}<br>count_nuclei=%{customdata[1]:.1f}<extra></extra>",
         "hovertext": [
          "OXYBUTYNIN CHLORIDE"
         ],
         "legendgroup": "OXYBUTYNIN CHLORIDE",
         "line": {
          "color": "#FFA15A",
          "dash": "solid"
         },
         "marker": {
          "symbol": "circle"
         },
         "mode": "lines+markers",
         "name": "OXYBUTYNIN CHLORIDE",
         "orientation": "v",
         "showlegend": true,
         "type": "scatter",
         "x": [
          10
         ],
         "xaxis": "x",
         "y": [
          11.22035648314914
         ],
         "yaxis": "y"
        },
        {
         "customdata": [
          [
           "VE-822",
           264
          ],
          [
           "VE-822",
           290
          ]
         ],
         "error_y": {
          "array": [
           1.1592367375186845,
           1.043421316904455
          ],
          "arrayminus": [
           1.1592367375186845,
           1.043421316904455
          ]
         },
         "hovertemplate": "<b>%{hovertext}</b><br><br>conc=%{x}<br>distance=%{y:.3f}<br>count_nuclei=%{customdata[1]:.1f}<extra></extra>",
         "hovertext": [
          "VE-822",
          "VE-822"
         ],
         "legendgroup": "VE-822",
         "line": {
          "color": "#19d3f3",
          "dash": "solid"
         },
         "marker": {
          "symbol": "circle"
         },
         "mode": "lines+markers",
         "name": "VE-822",
         "orientation": "v",
         "showlegend": true,
         "type": "scatter",
         "x": [
          0.3,
          0.833333
         ],
         "xaxis": "x",
         "y": [
          14.907565372748612,
          11.220899928439003
         ],
         "yaxis": "y"
        },
        {
         "customdata": [
          [
           "FTFOPGZFHHNAAR-UHFFFAOYSA-N",
           242.5
          ],
          [
           "FTFOPGZFHHNAAR-UHFFFAOYSA-N",
           283
          ]
         ],
         "error_y": {
          "array": [
           0,
           0
          ],
          "arrayminus": [
           0,
           0
          ]
         },
         "hovertemplate": "<b>%{hovertext}</b><br><br>conc=%{x}<br>distance=%{y:.3f}<br>count_nuclei=%{customdata[1]:.1f}<extra></extra>",
         "hovertext": [
          "FTFOPGZFHHNAAR-UHFFFAOYSA-N",
          "FTFOPGZFHHNAAR-UHFFFAOYSA-N"
         ],
         "legendgroup": "FTFOPGZFHHNAAR-UHFFFAOYSA-N",
         "line": {
          "color": "#FF6692",
          "dash": "solid"
         },
         "marker": {
          "symbol": "circle"
         },
         "mode": "lines+markers",
         "name": "FTFOPGZFHHNAAR-UHFFFAOYSA-N",
         "orientation": "v",
         "showlegend": true,
         "type": "scatter",
         "x": [
          3.333333,
          10
         ],
         "xaxis": "x",
         "y": [
          16.356939398495232,
          11.232661619698485
         ],
         "yaxis": "y"
        },
        {
         "customdata": [
          [
           "SCH-221510",
           249
          ]
         ],
         "error_y": {
          "array": [
           2.3559323208780807
          ],
          "arrayminus": [
           2.3559323208780807
          ]
         },
         "hovertemplate": "<b>%{hovertext}</b><br><br>conc=%{x}<br>distance=%{y:.3f}<br>count_nuclei=%{customdata[1]:.1f}<extra></extra>",
         "hovertext": [
          "SCH-221510"
         ],
         "legendgroup": "SCH-221510",
         "line": {
          "color": "#B6E880",
          "dash": "solid"
         },
         "marker": {
          "symbol": "circle"
         },
         "mode": "lines+markers",
         "name": "SCH-221510",
         "orientation": "v",
         "showlegend": true,
         "type": "scatter",
         "x": [
          10
         ],
         "xaxis": "x",
         "y": [
          11.236002804401055
         ],
         "yaxis": "y"
        },
        {
         "customdata": [
          [
           "UNC0642",
           205
          ],
          [
           "UNC0642",
           275
          ]
         ],
         "error_y": {
          "array": [
           0.5499933964131465,
           0.7164642356387745
          ],
          "arrayminus": [
           0.5499933964131465,
           0.7164642356387745
          ]
         },
         "hovertemplate": "<b>%{hovertext}</b><br><br>conc=%{x}<br>distance=%{y:.3f}<br>count_nuclei=%{customdata[1]:.1f}<extra></extra>",
         "hovertext": [
          "UNC0642",
          "UNC0642"
         ],
         "legendgroup": "UNC0642",
         "line": {
          "color": "#FF97FF",
          "dash": "solid"
         },
         "marker": {
          "symbol": "circle"
         },
         "mode": "lines+markers",
         "name": "UNC0642",
         "orientation": "v",
         "showlegend": true,
         "type": "scatter",
         "x": [
          0.3,
          3.333333
         ],
         "xaxis": "x",
         "y": [
          17.02365064565234,
          11.241825176852334
         ],
         "yaxis": "y"
        },
        {
         "customdata": [
          [
           "BA1064121",
           221
          ],
          [
           "BA1064121",
           257.5
          ]
         ],
         "error_y": {
          "array": [
           0,
           0
          ],
          "arrayminus": [
           0,
           0
          ]
         },
         "hovertemplate": "<b>%{hovertext}</b><br><br>conc=%{x}<br>distance=%{y:.3f}<br>count_nuclei=%{customdata[1]:.1f}<extra></extra>",
         "hovertext": [
          "BA1064121",
          "BA1064121"
         ],
         "legendgroup": "BA1064121",
         "line": {
          "color": "#FECB52",
          "dash": "solid"
         },
         "marker": {
          "symbol": "circle"
         },
         "mode": "lines+markers",
         "name": "BA1064121",
         "orientation": "v",
         "showlegend": true,
         "type": "scatter",
         "x": [
          3.333333,
          10
         ],
         "xaxis": "x",
         "y": [
          18.793748474813498,
          11.257237791988716
         ],
         "yaxis": "y"
        },
        {
         "customdata": [
          [
           "KW 2449",
           250
          ]
         ],
         "error_y": {
          "array": [
           0.9593611847403823
          ],
          "arrayminus": [
           0.9593611847403823
          ]
         },
         "hovertemplate": "<b>%{hovertext}</b><br><br>conc=%{x}<br>distance=%{y:.3f}<br>count_nuclei=%{customdata[1]:.1f}<extra></extra>",
         "hovertext": [
          "KW 2449"
         ],
         "legendgroup": "KW 2449",
         "line": {
          "color": "#636efa",
          "dash": "solid"
         },
         "marker": {
          "symbol": "circle"
         },
         "mode": "lines+markers",
         "name": "KW 2449",
         "orientation": "v",
         "showlegend": true,
         "type": "scatter",
         "x": [
          0.3
         ],
         "xaxis": "x",
         "y": [
          11.272289298877062
         ],
         "yaxis": "y"
        },
        {
         "customdata": [
          [
           "WUIABRMSWOKTOF-NUAMMRKQSA-N",
           245
          ],
          [
           "WUIABRMSWOKTOF-NUAMMRKQSA-N",
           223
          ]
         ],
         "error_y": {
          "array": [
           0,
           0
          ],
          "arrayminus": [
           0,
           0
          ]
         },
         "hovertemplate": "<b>%{hovertext}</b><br><br>conc=%{x}<br>distance=%{y:.3f}<br>count_nuclei=%{customdata[1]:.1f}<extra></extra>",
         "hovertext": [
          "WUIABRMSWOKTOF-NUAMMRKQSA-N",
          "WUIABRMSWOKTOF-NUAMMRKQSA-N"
         ],
         "legendgroup": "WUIABRMSWOKTOF-NUAMMRKQSA-N",
         "line": {
          "color": "#EF553B",
          "dash": "solid"
         },
         "marker": {
          "symbol": "circle"
         },
         "mode": "lines+markers",
         "name": "WUIABRMSWOKTOF-NUAMMRKQSA-N",
         "orientation": "v",
         "showlegend": true,
         "type": "scatter",
         "x": [
          3.333333,
          10
         ],
         "xaxis": "x",
         "y": [
          11.728687480965164,
          11.308876119018462
         ],
         "yaxis": "y"
        },
        {
         "customdata": [
          [
           "UCGVIFKZVBPWLR-UHFFFAOYSA-N",
           257
          ],
          [
           "UCGVIFKZVBPWLR-UHFFFAOYSA-N",
           239
          ]
         ],
         "error_y": {
          "array": [
           0,
           0
          ],
          "arrayminus": [
           0,
           0
          ]
         },
         "hovertemplate": "<b>%{hovertext}</b><br><br>conc=%{x}<br>distance=%{y:.3f}<br>count_nuclei=%{customdata[1]:.1f}<extra></extra>",
         "hovertext": [
          "UCGVIFKZVBPWLR-UHFFFAOYSA-N",
          "UCGVIFKZVBPWLR-UHFFFAOYSA-N"
         ],
         "legendgroup": "UCGVIFKZVBPWLR-UHFFFAOYSA-N",
         "line": {
          "color": "#00cc96",
          "dash": "solid"
         },
         "marker": {
          "symbol": "circle"
         },
         "mode": "lines+markers",
         "name": "UCGVIFKZVBPWLR-UHFFFAOYSA-N",
         "orientation": "v",
         "showlegend": true,
         "type": "scatter",
         "x": [
          3.333333,
          10
         ],
         "xaxis": "x",
         "y": [
          15.533396672198675,
          11.317710607302278
         ],
         "yaxis": "y"
        },
        {
         "customdata": [
          [
           "StemRegenin 1",
           239
          ],
          [
           "StemRegenin 1",
           240
          ]
         ],
         "error_y": {
          "array": [
           0.3628121906199109,
           0.2930170394701239
          ],
          "arrayminus": [
           0.3628121906199109,
           0.2930170394701239
          ]
         },
         "hovertemplate": "<b>%{hovertext}</b><br><br>conc=%{x}<br>distance=%{y:.3f}<br>count_nuclei=%{customdata[1]:.1f}<extra></extra>",
         "hovertext": [
          "StemRegenin 1",
          "StemRegenin 1"
         ],
         "legendgroup": "StemRegenin 1",
         "line": {
          "color": "#ab63fa",
          "dash": "solid"
         },
         "marker": {
          "symbol": "circle"
         },
         "mode": "lines+markers",
         "name": "StemRegenin 1",
         "orientation": "v",
         "showlegend": true,
         "type": "scatter",
         "x": [
          0.3,
          3.333333
         ],
         "xaxis": "x",
         "y": [
          14.75442604813012,
          11.320224746862063
         ],
         "yaxis": "y"
        },
        {
         "customdata": [
          [
           "HYDROQUINIDINE",
           257
          ]
         ],
         "error_y": {
          "array": [
           0.7717296486460281
          ],
          "arrayminus": [
           0.7717296486460281
          ]
         },
         "hovertemplate": "<b>%{hovertext}</b><br><br>conc=%{x}<br>distance=%{y:.3f}<br>count_nuclei=%{customdata[1]:.1f}<extra></extra>",
         "hovertext": [
          "HYDROQUINIDINE"
         ],
         "legendgroup": "HYDROQUINIDINE",
         "line": {
          "color": "#FFA15A",
          "dash": "solid"
         },
         "marker": {
          "symbol": "circle"
         },
         "mode": "lines+markers",
         "name": "HYDROQUINIDINE",
         "orientation": "v",
         "showlegend": true,
         "type": "scatter",
         "x": [
          10
         ],
         "xaxis": "x",
         "y": [
          11.330588921439585
         ],
         "yaxis": "y"
        },
        {
         "customdata": [
          [
           "PRT062607 (P505-15, PRT2607, BIIB057) HCl",
           210
          ],
          [
           "PRT062607 (P505-15, PRT2607, BIIB057) HCl",
           233
          ]
         ],
         "error_y": {
          "array": [
           1.5115892071150938,
           0.9502919541452216
          ],
          "arrayminus": [
           1.5115892071150938,
           0.9502919541452216
          ]
         },
         "hovertemplate": "<b>%{hovertext}</b><br><br>conc=%{x}<br>distance=%{y:.3f}<br>count_nuclei=%{customdata[1]:.1f}<extra></extra>",
         "hovertext": [
          "PRT062607 (P505-15, PRT2607, BIIB057) HCl",
          "PRT062607 (P505-15, PRT2607, BIIB057) HCl"
         ],
         "legendgroup": "PRT062607 (P505-15, PRT2607, BIIB057) HCl",
         "line": {
          "color": "#19d3f3",
          "dash": "solid"
         },
         "marker": {
          "symbol": "circle"
         },
         "mode": "lines+markers",
         "name": "PRT062607 (P505-15, PRT2607, BIIB057) HCl",
         "orientation": "v",
         "showlegend": true,
         "type": "scatter",
         "x": [
          0.3,
          3.333333
         ],
         "xaxis": "x",
         "y": [
          20.80129479734856,
          11.348755809062384
         ],
         "yaxis": "y"
        },
        {
         "customdata": [
          [
           "DHTWCFFJVTXUDQ-UHFFFAOYSA-N",
           236
          ],
          [
           "DHTWCFFJVTXUDQ-UHFFFAOYSA-N",
           259
          ]
         ],
         "error_y": {
          "array": [
           0,
           0
          ],
          "arrayminus": [
           0,
           0
          ]
         },
         "hovertemplate": "<b>%{hovertext}</b><br><br>conc=%{x}<br>distance=%{y:.3f}<br>count_nuclei=%{customdata[1]:.1f}<extra></extra>",
         "hovertext": [
          "DHTWCFFJVTXUDQ-UHFFFAOYSA-N",
          "DHTWCFFJVTXUDQ-UHFFFAOYSA-N"
         ],
         "legendgroup": "DHTWCFFJVTXUDQ-UHFFFAOYSA-N",
         "line": {
          "color": "#FF6692",
          "dash": "solid"
         },
         "marker": {
          "symbol": "circle"
         },
         "mode": "lines+markers",
         "name": "DHTWCFFJVTXUDQ-UHFFFAOYSA-N",
         "orientation": "v",
         "showlegend": true,
         "type": "scatter",
         "x": [
          0.833333,
          3.333333
         ],
         "xaxis": "x",
         "y": [
          12.383542717234455,
          11.3490379039682
         ],
         "yaxis": "y"
        },
        {
         "customdata": [
          [
           "BMS-566419",
           242
          ],
          [
           "BMS-566419",
           224
          ]
         ],
         "error_y": {
          "array": [
           1.0303243015154386,
           3.017806118678619
          ],
          "arrayminus": [
           1.0303243015154386,
           3.017806118678619
          ]
         },
         "hovertemplate": "<b>%{hovertext}</b><br><br>conc=%{x}<br>distance=%{y:.3f}<br>count_nuclei=%{customdata[1]:.1f}<extra></extra>",
         "hovertext": [
          "BMS-566419",
          "BMS-566419"
         ],
         "legendgroup": "BMS-566419",
         "line": {
          "color": "#B6E880",
          "dash": "solid"
         },
         "marker": {
          "symbol": "circle"
         },
         "mode": "lines+markers",
         "name": "BMS-566419",
         "orientation": "v",
         "showlegend": true,
         "type": "scatter",
         "x": [
          0.3,
          3.333333
         ],
         "xaxis": "x",
         "y": [
          14.540405973565512,
          11.355515907125488
         ],
         "yaxis": "y"
        },
        {
         "customdata": [
          [
           "SB-202190",
           284
          ]
         ],
         "error_y": {
          "array": [
           0.1042318329263203
          ],
          "arrayminus": [
           0.1042318329263203
          ]
         },
         "hovertemplate": "<b>%{hovertext}</b><br><br>conc=%{x}<br>distance=%{y:.3f}<br>count_nuclei=%{customdata[1]:.1f}<extra></extra>",
         "hovertext": [
          "SB-202190"
         ],
         "legendgroup": "SB-202190",
         "line": {
          "color": "#FF97FF",
          "dash": "solid"
         },
         "marker": {
          "symbol": "circle"
         },
         "mode": "lines+markers",
         "name": "SB-202190",
         "orientation": "v",
         "showlegend": true,
         "type": "scatter",
         "x": [
          10
         ],
         "xaxis": "x",
         "y": [
          11.35867876221192
         ],
         "yaxis": "y"
        },
        {
         "customdata": [
          [
           "fexaramine",
           253.5
          ]
         ],
         "error_y": {
          "array": [
           0.7468053594901232
          ],
          "arrayminus": [
           0.7468053594901232
          ]
         },
         "hovertemplate": "<b>%{hovertext}</b><br><br>conc=%{x}<br>distance=%{y:.3f}<br>count_nuclei=%{customdata[1]:.1f}<extra></extra>",
         "hovertext": [
          "fexaramine"
         ],
         "legendgroup": "fexaramine",
         "line": {
          "color": "#FECB52",
          "dash": "solid"
         },
         "marker": {
          "symbol": "circle"
         },
         "mode": "lines+markers",
         "name": "fexaramine",
         "orientation": "v",
         "showlegend": true,
         "type": "scatter",
         "x": [
          10
         ],
         "xaxis": "x",
         "y": [
          11.365833364232548
         ],
         "yaxis": "y"
        },
        {
         "customdata": [
          [
           "Tipifarnib (Zarnestra)",
           253
          ]
         ],
         "error_y": {
          "array": [
           0.4156584887193588
          ],
          "arrayminus": [
           0.4156584887193588
          ]
         },
         "hovertemplate": "<b>%{hovertext}</b><br><br>conc=%{x}<br>distance=%{y:.3f}<br>count_nuclei=%{customdata[1]:.1f}<extra></extra>",
         "hovertext": [
          "Tipifarnib (Zarnestra)"
         ],
         "legendgroup": "Tipifarnib (Zarnestra)",
         "line": {
          "color": "#636efa",
          "dash": "solid"
         },
         "marker": {
          "symbol": "circle"
         },
         "mode": "lines+markers",
         "name": "Tipifarnib (Zarnestra)",
         "orientation": "v",
         "showlegend": true,
         "type": "scatter",
         "x": [
          0.833333
         ],
         "xaxis": "x",
         "y": [
          11.37375413384627
         ],
         "yaxis": "y"
        },
        {
         "customdata": [
          [
           "K02288",
           229
          ],
          [
           "K02288",
           222
          ]
         ],
         "error_y": {
          "array": [
           0.6554289759608007,
           0.8181960106451083
          ],
          "arrayminus": [
           0.6554289759608007,
           0.8181960106451083
          ]
         },
         "hovertemplate": "<b>%{hovertext}</b><br><br>conc=%{x}<br>distance=%{y:.3f}<br>count_nuclei=%{customdata[1]:.1f}<extra></extra>",
         "hovertext": [
          "K02288",
          "K02288"
         ],
         "legendgroup": "K02288",
         "line": {
          "color": "#EF553B",
          "dash": "solid"
         },
         "marker": {
          "symbol": "circle"
         },
         "mode": "lines+markers",
         "name": "K02288",
         "orientation": "v",
         "showlegend": true,
         "type": "scatter",
         "x": [
          0.3,
          3.333333
         ],
         "xaxis": "x",
         "y": [
          15.475510051681718,
          11.41124527858092
         ],
         "yaxis": "y"
        },
        {
         "customdata": [
          [
           "McN-5652-(+/-)",
           253
          ]
         ],
         "error_y": {
          "array": [
           1.2542815340056936
          ],
          "arrayminus": [
           1.2542815340056936
          ]
         },
         "hovertemplate": "<b>%{hovertext}</b><br><br>conc=%{x}<br>distance=%{y:.3f}<br>count_nuclei=%{customdata[1]:.1f}<extra></extra>",
         "hovertext": [
          "McN-5652-(+/-)"
         ],
         "legendgroup": "McN-5652-(+/-)",
         "line": {
          "color": "#00cc96",
          "dash": "solid"
         },
         "marker": {
          "symbol": "circle"
         },
         "mode": "lines+markers",
         "name": "McN-5652-(+/-)",
         "orientation": "v",
         "showlegend": true,
         "type": "scatter",
         "x": [
          10
         ],
         "xaxis": "x",
         "y": [
          11.444751878550491
         ],
         "yaxis": "y"
        },
        {
         "customdata": [
          [
           "TILORONE",
           253
          ]
         ],
         "error_y": {
          "array": [
           3.499536905849196
          ],
          "arrayminus": [
           3.499536905849196
          ]
         },
         "hovertemplate": "<b>%{hovertext}</b><br><br>conc=%{x}<br>distance=%{y:.3f}<br>count_nuclei=%{customdata[1]:.1f}<extra></extra>",
         "hovertext": [
          "TILORONE"
         ],
         "legendgroup": "TILORONE",
         "line": {
          "color": "#ab63fa",
          "dash": "solid"
         },
         "marker": {
          "symbol": "circle"
         },
         "mode": "lines+markers",
         "name": "TILORONE",
         "orientation": "v",
         "showlegend": true,
         "type": "scatter",
         "x": [
          0.1
         ],
         "xaxis": "x",
         "y": [
          11.474439261097343
         ],
         "yaxis": "y"
        },
        {
         "customdata": [
          [
           "DVMVTJPKTFMBSG-ZIAGYGMSSA-N",
           236
          ],
          [
           "DVMVTJPKTFMBSG-ZIAGYGMSSA-N",
           262
          ]
         ],
         "error_y": {
          "array": [
           0,
           0
          ],
          "arrayminus": [
           0,
           0
          ]
         },
         "hovertemplate": "<b>%{hovertext}</b><br><br>conc=%{x}<br>distance=%{y:.3f}<br>count_nuclei=%{customdata[1]:.1f}<extra></extra>",
         "hovertext": [
          "DVMVTJPKTFMBSG-ZIAGYGMSSA-N",
          "DVMVTJPKTFMBSG-ZIAGYGMSSA-N"
         ],
         "legendgroup": "DVMVTJPKTFMBSG-ZIAGYGMSSA-N",
         "line": {
          "color": "#FFA15A",
          "dash": "solid"
         },
         "marker": {
          "symbol": "circle"
         },
         "mode": "lines+markers",
         "name": "DVMVTJPKTFMBSG-ZIAGYGMSSA-N",
         "orientation": "v",
         "showlegend": true,
         "type": "scatter",
         "x": [
          3.333333,
          10
         ],
         "xaxis": "x",
         "y": [
          14.381458557043713,
          11.500693706779376
         ],
         "yaxis": "y"
        },
        {
         "customdata": [
          [
           "OGXVDEJEPIUUQN-UHFFFAOYSA-N",
           257
          ],
          [
           "OGXVDEJEPIUUQN-UHFFFAOYSA-N",
           247
          ]
         ],
         "error_y": {
          "array": [
           0,
           0
          ],
          "arrayminus": [
           0,
           0
          ]
         },
         "hovertemplate": "<b>%{hovertext}</b><br><br>conc=%{x}<br>distance=%{y:.3f}<br>count_nuclei=%{customdata[1]:.1f}<extra></extra>",
         "hovertext": [
          "OGXVDEJEPIUUQN-UHFFFAOYSA-N",
          "OGXVDEJEPIUUQN-UHFFFAOYSA-N"
         ],
         "legendgroup": "OGXVDEJEPIUUQN-UHFFFAOYSA-N",
         "line": {
          "color": "#19d3f3",
          "dash": "solid"
         },
         "marker": {
          "symbol": "circle"
         },
         "mode": "lines+markers",
         "name": "OGXVDEJEPIUUQN-UHFFFAOYSA-N",
         "orientation": "v",
         "showlegend": true,
         "type": "scatter",
         "x": [
          0.833333,
          3.333333
         ],
         "xaxis": "x",
         "y": [
          14.540430770044496,
          11.508518731751202
         ],
         "yaxis": "y"
        },
        {
         "customdata": [
          [
           "algestone-acetophenide",
           247
          ]
         ],
         "error_y": {
          "array": [
           0.3378441115441717
          ],
          "arrayminus": [
           0.3378441115441717
          ]
         },
         "hovertemplate": "<b>%{hovertext}</b><br><br>conc=%{x}<br>distance=%{y:.3f}<br>count_nuclei=%{customdata[1]:.1f}<extra></extra>",
         "hovertext": [
          "algestone-acetophenide"
         ],
         "legendgroup": "algestone-acetophenide",
         "line": {
          "color": "#FF6692",
          "dash": "solid"
         },
         "marker": {
          "symbol": "circle"
         },
         "mode": "lines+markers",
         "name": "algestone-acetophenide",
         "orientation": "v",
         "showlegend": true,
         "type": "scatter",
         "x": [
          10
         ],
         "xaxis": "x",
         "y": [
          11.514898143867942
         ],
         "yaxis": "y"
        },
        {
         "customdata": [
          [
           "JTE-907",
           260
          ]
         ],
         "error_y": {
          "array": [
           1.351979547778491
          ],
          "arrayminus": [
           1.351979547778491
          ]
         },
         "hovertemplate": "<b>%{hovertext}</b><br><br>conc=%{x}<br>distance=%{y:.3f}<br>count_nuclei=%{customdata[1]:.1f}<extra></extra>",
         "hovertext": [
          "JTE-907"
         ],
         "legendgroup": "JTE-907",
         "line": {
          "color": "#B6E880",
          "dash": "solid"
         },
         "marker": {
          "symbol": "circle"
         },
         "mode": "lines+markers",
         "name": "JTE-907",
         "orientation": "v",
         "showlegend": true,
         "type": "scatter",
         "x": [
          10
         ],
         "xaxis": "x",
         "y": [
          11.526408216079163
         ],
         "yaxis": "y"
        },
        {
         "customdata": [
          [
           "ALVERINE CITRATE",
           270
          ]
         ],
         "error_y": {
          "array": [
           1.8818143689288205
          ],
          "arrayminus": [
           1.8818143689288205
          ]
         },
         "hovertemplate": "<b>%{hovertext}</b><br><br>conc=%{x}<br>distance=%{y:.3f}<br>count_nuclei=%{customdata[1]:.1f}<extra></extra>",
         "hovertext": [
          "ALVERINE CITRATE"
         ],
         "legendgroup": "ALVERINE CITRATE",
         "line": {
          "color": "#FF97FF",
          "dash": "solid"
         },
         "marker": {
          "symbol": "circle"
         },
         "mode": "lines+markers",
         "name": "ALVERINE CITRATE",
         "orientation": "v",
         "showlegend": true,
         "type": "scatter",
         "x": [
          10
         ],
         "xaxis": "x",
         "y": [
          11.53159134647839
         ],
         "yaxis": "y"
        },
        {
         "customdata": [
          [
           "KI-20227",
           231
          ]
         ],
         "error_y": {
          "array": [
           0.4905605430280335
          ],
          "arrayminus": [
           0.4905605430280335
          ]
         },
         "hovertemplate": "<b>%{hovertext}</b><br><br>conc=%{x}<br>distance=%{y:.3f}<br>count_nuclei=%{customdata[1]:.1f}<extra></extra>",
         "hovertext": [
          "KI-20227"
         ],
         "legendgroup": "KI-20227",
         "line": {
          "color": "#FECB52",
          "dash": "solid"
         },
         "marker": {
          "symbol": "circle"
         },
         "mode": "lines+markers",
         "name": "KI-20227",
         "orientation": "v",
         "showlegend": true,
         "type": "scatter",
         "x": [
          10
         ],
         "xaxis": "x",
         "y": [
          11.545540590751417
         ],
         "yaxis": "y"
        },
        {
         "customdata": [
          [
           "PIZOTYLINE MALATE",
           273
          ]
         ],
         "error_y": {
          "array": [
           0.4787477920995773
          ],
          "arrayminus": [
           0.4787477920995773
          ]
         },
         "hovertemplate": "<b>%{hovertext}</b><br><br>conc=%{x}<br>distance=%{y:.3f}<br>count_nuclei=%{customdata[1]:.1f}<extra></extra>",
         "hovertext": [
          "PIZOTYLINE MALATE"
         ],
         "legendgroup": "PIZOTYLINE MALATE",
         "line": {
          "color": "#636efa",
          "dash": "solid"
         },
         "marker": {
          "symbol": "circle"
         },
         "mode": "lines+markers",
         "name": "PIZOTYLINE MALATE",
         "orientation": "v",
         "showlegend": true,
         "type": "scatter",
         "x": [
          10
         ],
         "xaxis": "x",
         "y": [
          11.601084207029231
         ],
         "yaxis": "y"
        },
        {
         "customdata": [
          [
           "Nilotinib (AMN-107)",
           252.5
          ]
         ],
         "error_y": {
          "array": [
           1.0505581111227065
          ],
          "arrayminus": [
           1.0505581111227065
          ]
         },
         "hovertemplate": "<b>%{hovertext}</b><br><br>conc=%{x}<br>distance=%{y:.3f}<br>count_nuclei=%{customdata[1]:.1f}<extra></extra>",
         "hovertext": [
          "Nilotinib (AMN-107)"
         ],
         "legendgroup": "Nilotinib (AMN-107)",
         "line": {
          "color": "#EF553B",
          "dash": "solid"
         },
         "marker": {
          "symbol": "circle"
         },
         "mode": "lines+markers",
         "name": "Nilotinib (AMN-107)",
         "orientation": "v",
         "showlegend": true,
         "type": "scatter",
         "x": [
          10
         ],
         "xaxis": "x",
         "y": [
          11.607164059704472
         ],
         "yaxis": "y"
        },
        {
         "customdata": [
          [
           "Encenicline hydrochloride",
           256.75
          ]
         ],
         "error_y": {
          "array": [
           0.4825194384021625
          ],
          "arrayminus": [
           0.4825194384021625
          ]
         },
         "hovertemplate": "<b>%{hovertext}</b><br><br>conc=%{x}<br>distance=%{y:.3f}<br>count_nuclei=%{customdata[1]:.1f}<extra></extra>",
         "hovertext": [
          "Encenicline hydrochloride"
         ],
         "legendgroup": "Encenicline hydrochloride",
         "line": {
          "color": "#00cc96",
          "dash": "solid"
         },
         "marker": {
          "symbol": "circle"
         },
         "mode": "lines+markers",
         "name": "Encenicline hydrochloride",
         "orientation": "v",
         "showlegend": true,
         "type": "scatter",
         "x": [
          10
         ],
         "xaxis": "x",
         "y": [
          11.6096563293394
         ],
         "yaxis": "y"
        },
        {
         "customdata": [
          [
           "BTETVZAQUZTEAI-UHFFFAOYSA-N",
           243
          ],
          [
           "BTETVZAQUZTEAI-UHFFFAOYSA-N",
           234
          ]
         ],
         "error_y": {
          "array": [
           0,
           0
          ],
          "arrayminus": [
           0,
           0
          ]
         },
         "hovertemplate": "<b>%{hovertext}</b><br><br>conc=%{x}<br>distance=%{y:.3f}<br>count_nuclei=%{customdata[1]:.1f}<extra></extra>",
         "hovertext": [
          "BTETVZAQUZTEAI-UHFFFAOYSA-N",
          "BTETVZAQUZTEAI-UHFFFAOYSA-N"
         ],
         "legendgroup": "BTETVZAQUZTEAI-UHFFFAOYSA-N",
         "line": {
          "color": "#ab63fa",
          "dash": "solid"
         },
         "marker": {
          "symbol": "circle"
         },
         "mode": "lines+markers",
         "name": "BTETVZAQUZTEAI-UHFFFAOYSA-N",
         "orientation": "v",
         "showlegend": true,
         "type": "scatter",
         "x": [
          0.833333,
          3.333333
         ],
         "xaxis": "x",
         "y": [
          18.257214313743187,
          11.624498792604966
         ],
         "yaxis": "y"
        },
        {
         "customdata": [
          [
           "LCSSYMDTSDFSCR-UHFFFAOYSA-N",
           252
          ],
          [
           "LCSSYMDTSDFSCR-UHFFFAOYSA-N",
           291
          ]
         ],
         "error_y": {
          "array": [
           0,
           0
          ],
          "arrayminus": [
           0,
           0
          ]
         },
         "hovertemplate": "<b>%{hovertext}</b><br><br>conc=%{x}<br>distance=%{y:.3f}<br>count_nuclei=%{customdata[1]:.1f}<extra></extra>",
         "hovertext": [
          "LCSSYMDTSDFSCR-UHFFFAOYSA-N",
          "LCSSYMDTSDFSCR-UHFFFAOYSA-N"
         ],
         "legendgroup": "LCSSYMDTSDFSCR-UHFFFAOYSA-N",
         "line": {
          "color": "#FFA15A",
          "dash": "solid"
         },
         "marker": {
          "symbol": "circle"
         },
         "mode": "lines+markers",
         "name": "LCSSYMDTSDFSCR-UHFFFAOYSA-N",
         "orientation": "v",
         "showlegend": true,
         "type": "scatter",
         "x": [
          3.333333,
          10
         ],
         "xaxis": "x",
         "y": [
          15.179310166860942,
          11.641672726250173
         ],
         "yaxis": "y"
        },
        {
         "customdata": [
          [
           "METITEPINE MESYLATE",
           268
          ],
          [
           "METITEPINE MESYLATE",
           252
          ]
         ],
         "error_y": {
          "array": [
           2.166164591726305,
           0.8134424254261852
          ],
          "arrayminus": [
           2.166164591726305,
           0.8134424254261852
          ]
         },
         "hovertemplate": "<b>%{hovertext}</b><br><br>conc=%{x}<br>distance=%{y:.3f}<br>count_nuclei=%{customdata[1]:.1f}<extra></extra>",
         "hovertext": [
          "METITEPINE MESYLATE",
          "METITEPINE MESYLATE"
         ],
         "legendgroup": "METITEPINE MESYLATE",
         "line": {
          "color": "#19d3f3",
          "dash": "solid"
         },
         "marker": {
          "symbol": "circle"
         },
         "mode": "lines+markers",
         "name": "METITEPINE MESYLATE",
         "orientation": "v",
         "showlegend": true,
         "type": "scatter",
         "x": [
          0.833333,
          3.333333
         ],
         "xaxis": "x",
         "y": [
          13.991986273036725,
          11.64432434117723
         ],
         "yaxis": "y"
        },
        {
         "customdata": [
          [
           "pyrintegrin",
           240.5
          ],
          [
           "pyrintegrin",
           247
          ]
         ],
         "error_y": {
          "array": [
           0.1921723875510483,
           2.048180599261455
          ],
          "arrayminus": [
           0.1921723875510483,
           2.048180599261455
          ]
         },
         "hovertemplate": "<b>%{hovertext}</b><br><br>conc=%{x}<br>distance=%{y:.3f}<br>count_nuclei=%{customdata[1]:.1f}<extra></extra>",
         "hovertext": [
          "pyrintegrin",
          "pyrintegrin"
         ],
         "legendgroup": "pyrintegrin",
         "line": {
          "color": "#FF6692",
          "dash": "solid"
         },
         "marker": {
          "symbol": "circle"
         },
         "mode": "lines+markers",
         "name": "pyrintegrin",
         "orientation": "v",
         "showlegend": true,
         "type": "scatter",
         "x": [
          0.3,
          0.833333
         ],
         "xaxis": "x",
         "y": [
          11.958945168617497,
          11.65035494894942
         ],
         "yaxis": "y"
        },
        {
         "customdata": [
          [
           "A-7",
           225
          ],
          [
           "A-7",
           277
          ]
         ],
         "error_y": {
          "array": [
           0.3974044554002347,
           1.5193611138155436
          ],
          "arrayminus": [
           0.3974044554002347,
           1.5193611138155436
          ]
         },
         "hovertemplate": "<b>%{hovertext}</b><br><br>conc=%{x}<br>distance=%{y:.3f}<br>count_nuclei=%{customdata[1]:.1f}<extra></extra>",
         "hovertext": [
          "A-7",
          "A-7"
         ],
         "legendgroup": "A-7",
         "line": {
          "color": "#B6E880",
          "dash": "solid"
         },
         "marker": {
          "symbol": "circle"
         },
         "mode": "lines+markers",
         "name": "A-7",
         "orientation": "v",
         "showlegend": true,
         "type": "scatter",
         "x": [
          3.333333,
          10
         ],
         "xaxis": "x",
         "y": [
          16.678541120779244,
          11.663841870566277
         ],
         "yaxis": "y"
        },
        {
         "customdata": [
          [
           "PD153035 (Hydrochloride)",
           215
          ],
          [
           "PD153035 (Hydrochloride)",
           248
          ]
         ],
         "error_y": {
          "array": [
           1.841332786486184,
           0.4910398409792371
          ],
          "arrayminus": [
           1.841332786486184,
           0.4910398409792371
          ]
         },
         "hovertemplate": "<b>%{hovertext}</b><br><br>conc=%{x}<br>distance=%{y:.3f}<br>count_nuclei=%{customdata[1]:.1f}<extra></extra>",
         "hovertext": [
          "PD153035 (Hydrochloride)",
          "PD153035 (Hydrochloride)"
         ],
         "legendgroup": "PD153035 (Hydrochloride)",
         "line": {
          "color": "#FF97FF",
          "dash": "solid"
         },
         "marker": {
          "symbol": "circle"
         },
         "mode": "lines+markers",
         "name": "PD153035 (Hydrochloride)",
         "orientation": "v",
         "showlegend": true,
         "type": "scatter",
         "x": [
          0.3,
          3.333333
         ],
         "xaxis": "x",
         "y": [
          17.71175421827196,
          11.66936715020465
         ],
         "yaxis": "y"
        },
        {
         "customdata": [
          [
           "CWPMOYIEPUAOGL-UHFFFAOYSA-N",
           246
          ]
         ],
         "error_y": {
          "array": [
           0
          ],
          "arrayminus": [
           0
          ]
         },
         "hovertemplate": "<b>%{hovertext}</b><br><br>conc=%{x}<br>distance=%{y:.3f}<br>count_nuclei=%{customdata[1]:.1f}<extra></extra>",
         "hovertext": [
          "CWPMOYIEPUAOGL-UHFFFAOYSA-N"
         ],
         "legendgroup": "CWPMOYIEPUAOGL-UHFFFAOYSA-N",
         "line": {
          "color": "#FECB52",
          "dash": "solid"
         },
         "marker": {
          "symbol": "circle"
         },
         "mode": "lines+markers",
         "name": "CWPMOYIEPUAOGL-UHFFFAOYSA-N",
         "orientation": "v",
         "showlegend": true,
         "type": "scatter",
         "x": [
          0.833333
         ],
         "xaxis": "x",
         "y": [
          11.675715657417646
         ],
         "yaxis": "y"
        },
        {
         "customdata": [
          [
           "Brivanib alaninate (BMS-582664)",
           241.5
          ]
         ],
         "error_y": {
          "array": [
           1.755113205919912
          ],
          "arrayminus": [
           1.755113205919912
          ]
         },
         "hovertemplate": "<b>%{hovertext}</b><br><br>conc=%{x}<br>distance=%{y:.3f}<br>count_nuclei=%{customdata[1]:.1f}<extra></extra>",
         "hovertext": [
          "Brivanib alaninate (BMS-582664)"
         ],
         "legendgroup": "Brivanib alaninate (BMS-582664)",
         "line": {
          "color": "#636efa",
          "dash": "solid"
         },
         "marker": {
          "symbol": "circle"
         },
         "mode": "lines+markers",
         "name": "Brivanib alaninate (BMS-582664)",
         "orientation": "v",
         "showlegend": true,
         "type": "scatter",
         "x": [
          10
         ],
         "xaxis": "x",
         "y": [
          11.689753789063602
         ],
         "yaxis": "y"
        },
        {
         "customdata": [
          [
           "SB-239063",
           244
          ]
         ],
         "error_y": {
          "array": [
           1.1271385526467022
          ],
          "arrayminus": [
           1.1271385526467022
          ]
         },
         "hovertemplate": "<b>%{hovertext}</b><br><br>conc=%{x}<br>distance=%{y:.3f}<br>count_nuclei=%{customdata[1]:.1f}<extra></extra>",
         "hovertext": [
          "SB-239063"
         ],
         "legendgroup": "SB-239063",
         "line": {
          "color": "#EF553B",
          "dash": "solid"
         },
         "marker": {
          "symbol": "circle"
         },
         "mode": "lines+markers",
         "name": "SB-239063",
         "orientation": "v",
         "showlegend": true,
         "type": "scatter",
         "x": [
          10
         ],
         "xaxis": "x",
         "y": [
          11.693535377466317
         ],
         "yaxis": "y"
        },
        {
         "customdata": [
          [
           "BCTC",
           239
          ],
          [
           "BCTC",
           246
          ]
         ],
         "error_y": {
          "array": [
           0.7470334974989257,
           0.5959583900294607
          ],
          "arrayminus": [
           0.7470334974989257,
           0.5959583900294607
          ]
         },
         "hovertemplate": "<b>%{hovertext}</b><br><br>conc=%{x}<br>distance=%{y:.3f}<br>count_nuclei=%{customdata[1]:.1f}<extra></extra>",
         "hovertext": [
          "BCTC",
          "BCTC"
         ],
         "legendgroup": "BCTC",
         "line": {
          "color": "#00cc96",
          "dash": "solid"
         },
         "marker": {
          "symbol": "circle"
         },
         "mode": "lines+markers",
         "name": "BCTC",
         "orientation": "v",
         "showlegend": true,
         "type": "scatter",
         "x": [
          3.333333,
          10
         ],
         "xaxis": "x",
         "y": [
          13.745317930298498,
          11.69678877030174
         ],
         "yaxis": "y"
        },
        {
         "customdata": [
          [
           "AS-1892802",
           241
          ],
          [
           "AS-1892802",
           259
          ]
         ],
         "error_y": {
          "array": [
           0.3037509603303441,
           0.1697508519935056
          ],
          "arrayminus": [
           0.3037509603303441,
           0.1697508519935056
          ]
         },
         "hovertemplate": "<b>%{hovertext}</b><br><br>conc=%{x}<br>distance=%{y:.3f}<br>count_nuclei=%{customdata[1]:.1f}<extra></extra>",
         "hovertext": [
          "AS-1892802",
          "AS-1892802"
         ],
         "legendgroup": "AS-1892802",
         "line": {
          "color": "#ab63fa",
          "dash": "solid"
         },
         "marker": {
          "symbol": "circle"
         },
         "mode": "lines+markers",
         "name": "AS-1892802",
         "orientation": "v",
         "showlegend": true,
         "type": "scatter",
         "x": [
          0.1,
          0.3
         ],
         "xaxis": "x",
         "y": [
          14.30756115988451,
          11.710745049102922
         ],
         "yaxis": "y"
        },
        {
         "customdata": [
          [
           "XWBCKKPYRUUVQU-UHFFFAOYSA-N",
           235
          ],
          [
           "XWBCKKPYRUUVQU-UHFFFAOYSA-N",
           255
          ]
         ],
         "error_y": {
          "array": [
           0,
           0
          ],
          "arrayminus": [
           0,
           0
          ]
         },
         "hovertemplate": "<b>%{hovertext}</b><br><br>conc=%{x}<br>distance=%{y:.3f}<br>count_nuclei=%{customdata[1]:.1f}<extra></extra>",
         "hovertext": [
          "XWBCKKPYRUUVQU-UHFFFAOYSA-N",
          "XWBCKKPYRUUVQU-UHFFFAOYSA-N"
         ],
         "legendgroup": "XWBCKKPYRUUVQU-UHFFFAOYSA-N",
         "line": {
          "color": "#FFA15A",
          "dash": "solid"
         },
         "marker": {
          "symbol": "circle"
         },
         "mode": "lines+markers",
         "name": "XWBCKKPYRUUVQU-UHFFFAOYSA-N",
         "orientation": "v",
         "showlegend": true,
         "type": "scatter",
         "x": [
          3.333333,
          10
         ],
         "xaxis": "x",
         "y": [
          17.04983177084583,
          11.713726677883036
         ],
         "yaxis": "y"
        },
        {
         "customdata": [
          [
           "Palonosetron HCl",
           242
          ]
         ],
         "error_y": {
          "array": [
           1.5314372596866122
          ],
          "arrayminus": [
           1.5314372596866122
          ]
         },
         "hovertemplate": "<b>%{hovertext}</b><br><br>conc=%{x}<br>distance=%{y:.3f}<br>count_nuclei=%{customdata[1]:.1f}<extra></extra>",
         "hovertext": [
          "Palonosetron HCl"
         ],
         "legendgroup": "Palonosetron HCl",
         "line": {
          "color": "#19d3f3",
          "dash": "solid"
         },
         "marker": {
          "symbol": "circle"
         },
         "mode": "lines+markers",
         "name": "Palonosetron HCl",
         "orientation": "v",
         "showlegend": true,
         "type": "scatter",
         "x": [
          10
         ],
         "xaxis": "x",
         "y": [
          11.731280366306262
         ],
         "yaxis": "y"
        },
        {
         "customdata": [
          [
           "BNWYENYHNOESCX-ZMBIFBSDSA-N",
           201
          ],
          [
           "BNWYENYHNOESCX-ZMBIFBSDSA-N",
           241
          ]
         ],
         "error_y": {
          "array": [
           0,
           0
          ],
          "arrayminus": [
           0,
           0
          ]
         },
         "hovertemplate": "<b>%{hovertext}</b><br><br>conc=%{x}<br>distance=%{y:.3f}<br>count_nuclei=%{customdata[1]:.1f}<extra></extra>",
         "hovertext": [
          "BNWYENYHNOESCX-ZMBIFBSDSA-N",
          "BNWYENYHNOESCX-ZMBIFBSDSA-N"
         ],
         "legendgroup": "BNWYENYHNOESCX-ZMBIFBSDSA-N",
         "line": {
          "color": "#FF6692",
          "dash": "solid"
         },
         "marker": {
          "symbol": "circle"
         },
         "mode": "lines+markers",
         "name": "BNWYENYHNOESCX-ZMBIFBSDSA-N",
         "orientation": "v",
         "showlegend": true,
         "type": "scatter",
         "x": [
          3.333333,
          10
         ],
         "xaxis": "x",
         "y": [
          18.675436483407164,
          11.773144512513587
         ],
         "yaxis": "y"
        },
        {
         "customdata": [
          [
           "CARBETAPENTANE CITRATE",
           256
          ]
         ],
         "error_y": {
          "array": [
           0.876096855178794
          ],
          "arrayminus": [
           0.876096855178794
          ]
         },
         "hovertemplate": "<b>%{hovertext}</b><br><br>conc=%{x}<br>distance=%{y:.3f}<br>count_nuclei=%{customdata[1]:.1f}<extra></extra>",
         "hovertext": [
          "CARBETAPENTANE CITRATE"
         ],
         "legendgroup": "CARBETAPENTANE CITRATE",
         "line": {
          "color": "#B6E880",
          "dash": "solid"
         },
         "marker": {
          "symbol": "circle"
         },
         "mode": "lines+markers",
         "name": "CARBETAPENTANE CITRATE",
         "orientation": "v",
         "showlegend": true,
         "type": "scatter",
         "x": [
          10
         ],
         "xaxis": "x",
         "y": [
          11.779712516096406
         ],
         "yaxis": "y"
        },
        {
         "customdata": [
          [
           "Otilonium Bromide",
           238.5
          ]
         ],
         "error_y": {
          "array": [
           0.634875390776287
          ],
          "arrayminus": [
           0.634875390776287
          ]
         },
         "hovertemplate": "<b>%{hovertext}</b><br><br>conc=%{x}<br>distance=%{y:.3f}<br>count_nuclei=%{customdata[1]:.1f}<extra></extra>",
         "hovertext": [
          "Otilonium Bromide"
         ],
         "legendgroup": "Otilonium Bromide",
         "line": {
          "color": "#FF97FF",
          "dash": "solid"
         },
         "marker": {
          "symbol": "circle"
         },
         "mode": "lines+markers",
         "name": "Otilonium Bromide",
         "orientation": "v",
         "showlegend": true,
         "type": "scatter",
         "x": [
          10
         ],
         "xaxis": "x",
         "y": [
          11.783279949073885
         ],
         "yaxis": "y"
        },
        {
         "customdata": [
          [
           "C-1",
           247
          ]
         ],
         "error_y": {
          "array": [
           0.4586451489265535
          ],
          "arrayminus": [
           0.4586451489265535
          ]
         },
         "hovertemplate": "<b>%{hovertext}</b><br><br>conc=%{x}<br>distance=%{y:.3f}<br>count_nuclei=%{customdata[1]:.1f}<extra></extra>",
         "hovertext": [
          "C-1"
         ],
         "legendgroup": "C-1",
         "line": {
          "color": "#FECB52",
          "dash": "solid"
         },
         "marker": {
          "symbol": "circle"
         },
         "mode": "lines+markers",
         "name": "C-1",
         "orientation": "v",
         "showlegend": true,
         "type": "scatter",
         "x": [
          10
         ],
         "xaxis": "x",
         "y": [
          11.798592902988656
         ],
         "yaxis": "y"
        },
        {
         "customdata": [
          [
           "Xanomeline (oxalate)",
           266.5
          ]
         ],
         "error_y": {
          "array": [
           0.8210757132915436
          ],
          "arrayminus": [
           0.8210757132915436
          ]
         },
         "hovertemplate": "<b>%{hovertext}</b><br><br>conc=%{x}<br>distance=%{y:.3f}<br>count_nuclei=%{customdata[1]:.1f}<extra></extra>",
         "hovertext": [
          "Xanomeline (oxalate)"
         ],
         "legendgroup": "Xanomeline (oxalate)",
         "line": {
          "color": "#636efa",
          "dash": "solid"
         },
         "marker": {
          "symbol": "circle"
         },
         "mode": "lines+markers",
         "name": "Xanomeline (oxalate)",
         "orientation": "v",
         "showlegend": true,
         "type": "scatter",
         "x": [
          10
         ],
         "xaxis": "x",
         "y": [
          11.800670722579518
         ],
         "yaxis": "y"
        },
        {
         "customdata": [
          [
           "Toceranib (phosphate)",
           239.5
          ],
          [
           "Toceranib (phosphate)",
           253
          ]
         ],
         "error_y": {
          "array": [
           0.5013371368712178,
           0.2068162205071129
          ],
          "arrayminus": [
           0.5013371368712178,
           0.2068162205071129
          ]
         },
         "hovertemplate": "<b>%{hovertext}</b><br><br>conc=%{x}<br>distance=%{y:.3f}<br>count_nuclei=%{customdata[1]:.1f}<extra></extra>",
         "hovertext": [
          "Toceranib (phosphate)",
          "Toceranib (phosphate)"
         ],
         "legendgroup": "Toceranib (phosphate)",
         "line": {
          "color": "#EF553B",
          "dash": "solid"
         },
         "marker": {
          "symbol": "circle"
         },
         "mode": "lines+markers",
         "name": "Toceranib (phosphate)",
         "orientation": "v",
         "showlegend": true,
         "type": "scatter",
         "x": [
          0.833333,
          3.333333
         ],
         "xaxis": "x",
         "y": [
          14.805776352782498,
          11.820087663428556
         ],
         "yaxis": "y"
        },
        {
         "customdata": [
          [
           "Golvatinib (E7050)",
           242
          ],
          [
           "Golvatinib (E7050)",
           254.5
          ]
         ],
         "error_y": {
          "array": [
           1.9837909898073176,
           0.482076226148159
          ],
          "arrayminus": [
           1.9837909898073176,
           0.482076226148159
          ]
         },
         "hovertemplate": "<b>%{hovertext}</b><br><br>conc=%{x}<br>distance=%{y:.3f}<br>count_nuclei=%{customdata[1]:.1f}<extra></extra>",
         "hovertext": [
          "Golvatinib (E7050)",
          "Golvatinib (E7050)"
         ],
         "legendgroup": "Golvatinib (E7050)",
         "line": {
          "color": "#00cc96",
          "dash": "solid"
         },
         "marker": {
          "symbol": "circle"
         },
         "mode": "lines+markers",
         "name": "Golvatinib (E7050)",
         "orientation": "v",
         "showlegend": true,
         "type": "scatter",
         "x": [
          0.833333,
          3.333333
         ],
         "xaxis": "x",
         "y": [
          17.6962716880902,
          11.826661562306407
         ],
         "yaxis": "y"
        },
        {
         "customdata": [
          [
           "UIYHAIZVYZNBKT-UHFFFAOYSA-N",
           209
          ],
          [
           "UIYHAIZVYZNBKT-UHFFFAOYSA-N",
           242
          ]
         ],
         "error_y": {
          "array": [
           0,
           0
          ],
          "arrayminus": [
           0,
           0
          ]
         },
         "hovertemplate": "<b>%{hovertext}</b><br><br>conc=%{x}<br>distance=%{y:.3f}<br>count_nuclei=%{customdata[1]:.1f}<extra></extra>",
         "hovertext": [
          "UIYHAIZVYZNBKT-UHFFFAOYSA-N",
          "UIYHAIZVYZNBKT-UHFFFAOYSA-N"
         ],
         "legendgroup": "UIYHAIZVYZNBKT-UHFFFAOYSA-N",
         "line": {
          "color": "#ab63fa",
          "dash": "solid"
         },
         "marker": {
          "symbol": "circle"
         },
         "mode": "lines+markers",
         "name": "UIYHAIZVYZNBKT-UHFFFAOYSA-N",
         "orientation": "v",
         "showlegend": true,
         "type": "scatter",
         "x": [
          0.833333,
          3.333333
         ],
         "xaxis": "x",
         "y": [
          16.96816441671262,
          11.82846773909742
         ],
         "yaxis": "y"
        },
        {
         "customdata": [
          [
           "VKTAEDSQNSGXMO-UHFFFAOYSA-N",
           250
          ],
          [
           "VKTAEDSQNSGXMO-UHFFFAOYSA-N",
           235
          ]
         ],
         "error_y": {
          "array": [
           0,
           0
          ],
          "arrayminus": [
           0,
           0
          ]
         },
         "hovertemplate": "<b>%{hovertext}</b><br><br>conc=%{x}<br>distance=%{y:.3f}<br>count_nuclei=%{customdata[1]:.1f}<extra></extra>",
         "hovertext": [
          "VKTAEDSQNSGXMO-UHFFFAOYSA-N",
          "VKTAEDSQNSGXMO-UHFFFAOYSA-N"
         ],
         "legendgroup": "VKTAEDSQNSGXMO-UHFFFAOYSA-N",
         "line": {
          "color": "#FFA15A",
          "dash": "solid"
         },
         "marker": {
          "symbol": "circle"
         },
         "mode": "lines+markers",
         "name": "VKTAEDSQNSGXMO-UHFFFAOYSA-N",
         "orientation": "v",
         "showlegend": true,
         "type": "scatter",
         "x": [
          3.333333,
          10
         ],
         "xaxis": "x",
         "y": [
          14.01043553000442,
          11.845887534518672
         ],
         "yaxis": "y"
        },
        {
         "customdata": [
          [
           "haloprogin",
           248
          ],
          [
           "haloprogin",
           239
          ]
         ],
         "error_y": {
          "array": [
           1.5268965566056227,
           0.6902523484981806
          ],
          "arrayminus": [
           1.5268965566056227,
           0.6902523484981806
          ]
         },
         "hovertemplate": "<b>%{hovertext}</b><br><br>conc=%{x}<br>distance=%{y:.3f}<br>count_nuclei=%{customdata[1]:.1f}<extra></extra>",
         "hovertext": [
          "haloprogin",
          "haloprogin"
         ],
         "legendgroup": "haloprogin",
         "line": {
          "color": "#19d3f3",
          "dash": "solid"
         },
         "marker": {
          "symbol": "circle"
         },
         "mode": "lines+markers",
         "name": "haloprogin",
         "orientation": "v",
         "showlegend": true,
         "type": "scatter",
         "x": [
          0.3,
          3.333333
         ],
         "xaxis": "x",
         "y": [
          14.488118264212387,
          11.896857898780317
         ],
         "yaxis": "y"
        },
        {
         "customdata": [
          [
           "apafant",
           250
          ],
          [
           "apafant",
           225
          ]
         ],
         "error_y": {
          "array": [
           0.2113296029193101,
           2.9649983709394494
          ],
          "arrayminus": [
           0.2113296029193101,
           2.9649983709394494
          ]
         },
         "hovertemplate": "<b>%{hovertext}</b><br><br>conc=%{x}<br>distance=%{y:.3f}<br>count_nuclei=%{customdata[1]:.1f}<extra></extra>",
         "hovertext": [
          "apafant",
          "apafant"
         ],
         "legendgroup": "apafant",
         "line": {
          "color": "#FF6692",
          "dash": "solid"
         },
         "marker": {
          "symbol": "circle"
         },
         "mode": "lines+markers",
         "name": "apafant",
         "orientation": "v",
         "showlegend": true,
         "type": "scatter",
         "x": [
          0.3,
          3.333333
         ],
         "xaxis": "x",
         "y": [
          16.346687581997696,
          11.897471384740063
         ],
         "yaxis": "y"
        },
        {
         "customdata": [
          [
           "JNJ-38877605",
           264.25
          ]
         ],
         "error_y": {
          "array": [
           0.5445345088364917
          ],
          "arrayminus": [
           0.5445345088364917
          ]
         },
         "hovertemplate": "<b>%{hovertext}</b><br><br>conc=%{x}<br>distance=%{y:.3f}<br>count_nuclei=%{customdata[1]:.1f}<extra></extra>",
         "hovertext": [
          "JNJ-38877605"
         ],
         "legendgroup": "JNJ-38877605",
         "line": {
          "color": "#B6E880",
          "dash": "solid"
         },
         "marker": {
          "symbol": "circle"
         },
         "mode": "lines+markers",
         "name": "JNJ-38877605",
         "orientation": "v",
         "showlegend": true,
         "type": "scatter",
         "x": [
          10
         ],
         "xaxis": "x",
         "y": [
          11.91960767283424
         ],
         "yaxis": "y"
        },
        {
         "customdata": [
          [
           "CCEVJKZHAJJQJR-QPJJXVBHSA-N",
           255
          ],
          [
           "CCEVJKZHAJJQJR-QPJJXVBHSA-N",
           251
          ]
         ],
         "error_y": {
          "array": [
           0,
           0
          ],
          "arrayminus": [
           0,
           0
          ]
         },
         "hovertemplate": "<b>%{hovertext}</b><br><br>conc=%{x}<br>distance=%{y:.3f}<br>count_nuclei=%{customdata[1]:.1f}<extra></extra>",
         "hovertext": [
          "CCEVJKZHAJJQJR-QPJJXVBHSA-N",
          "CCEVJKZHAJJQJR-QPJJXVBHSA-N"
         ],
         "legendgroup": "CCEVJKZHAJJQJR-QPJJXVBHSA-N",
         "line": {
          "color": "#FF97FF",
          "dash": "solid"
         },
         "marker": {
          "symbol": "circle"
         },
         "mode": "lines+markers",
         "name": "CCEVJKZHAJJQJR-QPJJXVBHSA-N",
         "orientation": "v",
         "showlegend": true,
         "type": "scatter",
         "x": [
          0.833333,
          3.333333
         ],
         "xaxis": "x",
         "y": [
          12.68443360445302,
          11.933376773445753
         ],
         "yaxis": "y"
        },
        {
         "customdata": [
          [
           "HNVAXVBTUUIURL-UHFFFAOYSA-N",
           237
          ]
         ],
         "error_y": {
          "array": [
           0
          ],
          "arrayminus": [
           0
          ]
         },
         "hovertemplate": "<b>%{hovertext}</b><br><br>conc=%{x}<br>distance=%{y:.3f}<br>count_nuclei=%{customdata[1]:.1f}<extra></extra>",
         "hovertext": [
          "HNVAXVBTUUIURL-UHFFFAOYSA-N"
         ],
         "legendgroup": "HNVAXVBTUUIURL-UHFFFAOYSA-N",
         "line": {
          "color": "#FECB52",
          "dash": "solid"
         },
         "marker": {
          "symbol": "circle"
         },
         "mode": "lines+markers",
         "name": "HNVAXVBTUUIURL-UHFFFAOYSA-N",
         "orientation": "v",
         "showlegend": true,
         "type": "scatter",
         "x": [
          0.833333
         ],
         "xaxis": "x",
         "y": [
          11.938234359467224
         ],
         "yaxis": "y"
        },
        {
         "customdata": [
          [
           "GDC-0834 (Racemate)",
           251
          ]
         ],
         "error_y": {
          "array": [
           1.1651535238881952
          ],
          "arrayminus": [
           1.1651535238881952
          ]
         },
         "hovertemplate": "<b>%{hovertext}</b><br><br>conc=%{x}<br>distance=%{y:.3f}<br>count_nuclei=%{customdata[1]:.1f}<extra></extra>",
         "hovertext": [
          "GDC-0834 (Racemate)"
         ],
         "legendgroup": "GDC-0834 (Racemate)",
         "line": {
          "color": "#636efa",
          "dash": "solid"
         },
         "marker": {
          "symbol": "circle"
         },
         "mode": "lines+markers",
         "name": "GDC-0834 (Racemate)",
         "orientation": "v",
         "showlegend": true,
         "type": "scatter",
         "x": [
          10
         ],
         "xaxis": "x",
         "y": [
          11.943178846843052
         ],
         "yaxis": "y"
        },
        {
         "customdata": [
          [
           "NS-3861",
           251
          ],
          [
           "NS-3861",
           238
          ]
         ],
         "error_y": {
          "array": [
           0.1680904668367393,
           1.2597340189375767
          ],
          "arrayminus": [
           0.1680904668367393,
           1.2597340189375767
          ]
         },
         "hovertemplate": "<b>%{hovertext}</b><br><br>conc=%{x}<br>distance=%{y:.3f}<br>count_nuclei=%{customdata[1]:.1f}<extra></extra>",
         "hovertext": [
          "NS-3861",
          "NS-3861"
         ],
         "legendgroup": "NS-3861",
         "line": {
          "color": "#EF553B",
          "dash": "solid"
         },
         "marker": {
          "symbol": "circle"
         },
         "mode": "lines+markers",
         "name": "NS-3861",
         "orientation": "v",
         "showlegend": true,
         "type": "scatter",
         "x": [
          3.333333,
          10
         ],
         "xaxis": "x",
         "y": [
          12.576718113651982,
          11.94792589249346
         ],
         "yaxis": "y"
        },
        {
         "customdata": [
          [
           "LY2109761",
           246
          ],
          [
           "LY2109761",
           237
          ]
         ],
         "error_y": {
          "array": [
           0.5386484421117057,
           0.1904161401512283
          ],
          "arrayminus": [
           0.5386484421117057,
           0.1904161401512283
          ]
         },
         "hovertemplate": "<b>%{hovertext}</b><br><br>conc=%{x}<br>distance=%{y:.3f}<br>count_nuclei=%{customdata[1]:.1f}<extra></extra>",
         "hovertext": [
          "LY2109761",
          "LY2109761"
         ],
         "legendgroup": "LY2109761",
         "line": {
          "color": "#00cc96",
          "dash": "solid"
         },
         "marker": {
          "symbol": "circle"
         },
         "mode": "lines+markers",
         "name": "LY2109761",
         "orientation": "v",
         "showlegend": true,
         "type": "scatter",
         "x": [
          0.3,
          3.333333
         ],
         "xaxis": "x",
         "y": [
          12.671993770881842,
          11.951472990404293
         ],
         "yaxis": "y"
        },
        {
         "customdata": [
          [
           "LXR-623",
           249
          ]
         ],
         "error_y": {
          "array": [
           1.1655018855615469
          ],
          "arrayminus": [
           1.1655018855615469
          ]
         },
         "hovertemplate": "<b>%{hovertext}</b><br><br>conc=%{x}<br>distance=%{y:.3f}<br>count_nuclei=%{customdata[1]:.1f}<extra></extra>",
         "hovertext": [
          "LXR-623"
         ],
         "legendgroup": "LXR-623",
         "line": {
          "color": "#ab63fa",
          "dash": "solid"
         },
         "marker": {
          "symbol": "circle"
         },
         "mode": "lines+markers",
         "name": "LXR-623",
         "orientation": "v",
         "showlegend": true,
         "type": "scatter",
         "x": [
          10
         ],
         "xaxis": "x",
         "y": [
          11.973167430497638
         ],
         "yaxis": "y"
        },
        {
         "customdata": [
          [
           "RGPDIGOSVORSAK-PCYGRYCASA-N",
           238
          ],
          [
           "RGPDIGOSVORSAK-PCYGRYCASA-N",
           244
          ]
         ],
         "error_y": {
          "array": [
           0,
           0
          ],
          "arrayminus": [
           0,
           0
          ]
         },
         "hovertemplate": "<b>%{hovertext}</b><br><br>conc=%{x}<br>distance=%{y:.3f}<br>count_nuclei=%{customdata[1]:.1f}<extra></extra>",
         "hovertext": [
          "RGPDIGOSVORSAK-PCYGRYCASA-N",
          "RGPDIGOSVORSAK-PCYGRYCASA-N"
         ],
         "legendgroup": "RGPDIGOSVORSAK-PCYGRYCASA-N",
         "line": {
          "color": "#FFA15A",
          "dash": "solid"
         },
         "marker": {
          "symbol": "circle"
         },
         "mode": "lines+markers",
         "name": "RGPDIGOSVORSAK-PCYGRYCASA-N",
         "orientation": "v",
         "showlegend": true,
         "type": "scatter",
         "x": [
          3.333333,
          10
         ],
         "xaxis": "x",
         "y": [
          13.53041767290406,
          11.97696770168288
         ],
         "yaxis": "y"
        },
        {
         "customdata": [
          [
           "Sufentanil",
           251.5
          ]
         ],
         "error_y": {
          "array": [
           2.4091443648518087
          ],
          "arrayminus": [
           2.4091443648518087
          ]
         },
         "hovertemplate": "<b>%{hovertext}</b><br><br>conc=%{x}<br>distance=%{y:.3f}<br>count_nuclei=%{customdata[1]:.1f}<extra></extra>",
         "hovertext": [
          "Sufentanil"
         ],
         "legendgroup": "Sufentanil",
         "line": {
          "color": "#19d3f3",
          "dash": "solid"
         },
         "marker": {
          "symbol": "circle"
         },
         "mode": "lines+markers",
         "name": "Sufentanil",
         "orientation": "v",
         "showlegend": true,
         "type": "scatter",
         "x": [
          10
         ],
         "xaxis": "x",
         "y": [
          11.980763240078709
         ],
         "yaxis": "y"
        },
        {
         "customdata": [
          [
           "Nobiletin (Hexamethoxyflavone)",
           256.5
          ]
         ],
         "error_y": {
          "array": [
           0.6876433185541106
          ],
          "arrayminus": [
           0.6876433185541106
          ]
         },
         "hovertemplate": "<b>%{hovertext}</b><br><br>conc=%{x}<br>distance=%{y:.3f}<br>count_nuclei=%{customdata[1]:.1f}<extra></extra>",
         "hovertext": [
          "Nobiletin (Hexamethoxyflavone)"
         ],
         "legendgroup": "Nobiletin (Hexamethoxyflavone)",
         "line": {
          "color": "#FF6692",
          "dash": "solid"
         },
         "marker": {
          "symbol": "circle"
         },
         "mode": "lines+markers",
         "name": "Nobiletin (Hexamethoxyflavone)",
         "orientation": "v",
         "showlegend": true,
         "type": "scatter",
         "x": [
          10
         ],
         "xaxis": "x",
         "y": [
          11.98874842115072
         ],
         "yaxis": "y"
        },
        {
         "customdata": [
          [
           "thaliblastine",
           260
          ],
          [
           "thaliblastine",
           278
          ]
         ],
         "error_y": {
          "array": [
           1.3375541240223452,
           2.4960192099619274
          ],
          "arrayminus": [
           1.3375541240223452,
           2.4960192099619274
          ]
         },
         "hovertemplate": "<b>%{hovertext}</b><br><br>conc=%{x}<br>distance=%{y:.3f}<br>count_nuclei=%{customdata[1]:.1f}<extra></extra>",
         "hovertext": [
          "thaliblastine",
          "thaliblastine"
         ],
         "legendgroup": "thaliblastine",
         "line": {
          "color": "#B6E880",
          "dash": "solid"
         },
         "marker": {
          "symbol": "circle"
         },
         "mode": "lines+markers",
         "name": "thaliblastine",
         "orientation": "v",
         "showlegend": true,
         "type": "scatter",
         "x": [
          0.3,
          3.333333
         ],
         "xaxis": "x",
         "y": [
          14.099406787825354,
          11.991930826481555
         ],
         "yaxis": "y"
        },
        {
         "customdata": [
          [
           "ML-277",
           242
          ]
         ],
         "error_y": {
          "array": [
           0.6966812581039541
          ],
          "arrayminus": [
           0.6966812581039541
          ]
         },
         "hovertemplate": "<b>%{hovertext}</b><br><br>conc=%{x}<br>distance=%{y:.3f}<br>count_nuclei=%{customdata[1]:.1f}<extra></extra>",
         "hovertext": [
          "ML-277"
         ],
         "legendgroup": "ML-277",
         "line": {
          "color": "#FF97FF",
          "dash": "solid"
         },
         "marker": {
          "symbol": "circle"
         },
         "mode": "lines+markers",
         "name": "ML-277",
         "orientation": "v",
         "showlegend": true,
         "type": "scatter",
         "x": [
          10
         ],
         "xaxis": "x",
         "y": [
          11.995589689736292
         ],
         "yaxis": "y"
        },
        {
         "customdata": [
          [
           "FASUDIL HYDROCHLORIDE",
           232
          ],
          [
           "FASUDIL HYDROCHLORIDE",
           248
          ]
         ],
         "error_y": {
          "array": [
           0.4124183534749459,
           1.488461937082242
          ],
          "arrayminus": [
           0.4124183534749459,
           1.488461937082242
          ]
         },
         "hovertemplate": "<b>%{hovertext}</b><br><br>conc=%{x}<br>distance=%{y:.3f}<br>count_nuclei=%{customdata[1]:.1f}<extra></extra>",
         "hovertext": [
          "FASUDIL HYDROCHLORIDE",
          "FASUDIL HYDROCHLORIDE"
         ],
         "legendgroup": "FASUDIL HYDROCHLORIDE",
         "line": {
          "color": "#FECB52",
          "dash": "solid"
         },
         "marker": {
          "symbol": "circle"
         },
         "mode": "lines+markers",
         "name": "FASUDIL HYDROCHLORIDE",
         "orientation": "v",
         "showlegend": true,
         "type": "scatter",
         "x": [
          3.333333,
          10
         ],
         "xaxis": "x",
         "y": [
          14.066919121988624,
          12.01058571604371
         ],
         "yaxis": "y"
        },
        {
         "customdata": [
          [
           "ZK-93426",
           207.5
          ]
         ],
         "error_y": {
          "array": [
           0.8541894161339556
          ],
          "arrayminus": [
           0.8541894161339556
          ]
         },
         "hovertemplate": "<b>%{hovertext}</b><br><br>conc=%{x}<br>distance=%{y:.3f}<br>count_nuclei=%{customdata[1]:.1f}<extra></extra>",
         "hovertext": [
          "ZK-93426"
         ],
         "legendgroup": "ZK-93426",
         "line": {
          "color": "#636efa",
          "dash": "solid"
         },
         "marker": {
          "symbol": "circle"
         },
         "mode": "lines+markers",
         "name": "ZK-93426",
         "orientation": "v",
         "showlegend": true,
         "type": "scatter",
         "x": [
          10
         ],
         "xaxis": "x",
         "y": [
          12.02638168970986
         ],
         "yaxis": "y"
        },
        {
         "customdata": [
          [
           "TERBINAFINE HYDROCHLORIDE",
           259
          ]
         ],
         "error_y": {
          "array": [
           2.4255368280826133
          ],
          "arrayminus": [
           2.4255368280826133
          ]
         },
         "hovertemplate": "<b>%{hovertext}</b><br><br>conc=%{x}<br>distance=%{y:.3f}<br>count_nuclei=%{customdata[1]:.1f}<extra></extra>",
         "hovertext": [
          "TERBINAFINE HYDROCHLORIDE"
         ],
         "legendgroup": "TERBINAFINE HYDROCHLORIDE",
         "line": {
          "color": "#EF553B",
          "dash": "solid"
         },
         "marker": {
          "symbol": "circle"
         },
         "mode": "lines+markers",
         "name": "TERBINAFINE HYDROCHLORIDE",
         "orientation": "v",
         "showlegend": true,
         "type": "scatter",
         "x": [
          10
         ],
         "xaxis": "x",
         "y": [
          12.032927515992906
         ],
         "yaxis": "y"
        },
        {
         "customdata": [
          [
           "Elesclomol (STA-4783)",
           214
          ],
          [
           "Elesclomol (STA-4783)",
           240
          ]
         ],
         "error_y": {
          "array": [
           0.6853614880122691,
           0.1552037660254352
          ],
          "arrayminus": [
           0.6853614880122691,
           0.1552037660254352
          ]
         },
         "hovertemplate": "<b>%{hovertext}</b><br><br>conc=%{x}<br>distance=%{y:.3f}<br>count_nuclei=%{customdata[1]:.1f}<extra></extra>",
         "hovertext": [
          "Elesclomol (STA-4783)",
          "Elesclomol (STA-4783)"
         ],
         "legendgroup": "Elesclomol (STA-4783)",
         "line": {
          "color": "#00cc96",
          "dash": "solid"
         },
         "marker": {
          "symbol": "circle"
         },
         "mode": "lines+markers",
         "name": "Elesclomol (STA-4783)",
         "orientation": "v",
         "showlegend": true,
         "type": "scatter",
         "x": [
          0.3,
          3.333333
         ],
         "xaxis": "x",
         "y": [
          17.10061315492348,
          12.051700124657131
         ],
         "yaxis": "y"
        },
        {
         "customdata": [
          [
           "Fingolimod (FTY720) HCl",
           253
          ],
          [
           "Fingolimod (FTY720) HCl",
           248
          ]
         ],
         "error_y": {
          "array": [
           0.1971261763089735,
           2.3933060516889206
          ],
          "arrayminus": [
           0.1971261763089735,
           2.3933060516889206
          ]
         },
         "hovertemplate": "<b>%{hovertext}</b><br><br>conc=%{x}<br>distance=%{y:.3f}<br>count_nuclei=%{customdata[1]:.1f}<extra></extra>",
         "hovertext": [
          "Fingolimod (FTY720) HCl",
          "Fingolimod (FTY720) HCl"
         ],
         "legendgroup": "Fingolimod (FTY720) HCl",
         "line": {
          "color": "#ab63fa",
          "dash": "solid"
         },
         "marker": {
          "symbol": "circle"
         },
         "mode": "lines+markers",
         "name": "Fingolimod (FTY720) HCl",
         "orientation": "v",
         "showlegend": true,
         "type": "scatter",
         "x": [
          3.333333,
          10
         ],
         "xaxis": "x",
         "y": [
          17.44617456837321,
          12.103193340538365
         ],
         "yaxis": "y"
        },
        {
         "customdata": [
          [
           "gallium-triquinolin-8-olate",
           250
          ],
          [
           "gallium-triquinolin-8-olate",
           172
          ]
         ],
         "error_y": {
          "array": [
           0.7400492763332025,
           0.3193953356585322
          ],
          "arrayminus": [
           0.7400492763332025,
           0.3193953356585322
          ]
         },
         "hovertemplate": "<b>%{hovertext}</b><br><br>conc=%{x}<br>distance=%{y:.3f}<br>count_nuclei=%{customdata[1]:.1f}<extra></extra>",
         "hovertext": [
          "gallium-triquinolin-8-olate",
          "gallium-triquinolin-8-olate"
         ],
         "legendgroup": "gallium-triquinolin-8-olate",
         "line": {
          "color": "#FFA15A",
          "dash": "solid"
         },
         "marker": {
          "symbol": "circle"
         },
         "mode": "lines+markers",
         "name": "gallium-triquinolin-8-olate",
         "orientation": "v",
         "showlegend": true,
         "type": "scatter",
         "x": [
          0.3,
          3.333333
         ],
         "xaxis": "x",
         "y": [
          14.32754453408738,
          12.1097833897399
         ],
         "yaxis": "y"
        },
        {
         "customdata": [
          [
           "GLAFENINE",
           214
          ],
          [
           "GLAFENINE",
           259
          ]
         ],
         "error_y": {
          "array": [
           0.9431061106565596,
           0.0063755117802983
          ],
          "arrayminus": [
           0.9431061106565596,
           0.0063755117802983
          ]
         },
         "hovertemplate": "<b>%{hovertext}</b><br><br>conc=%{x}<br>distance=%{y:.3f}<br>count_nuclei=%{customdata[1]:.1f}<extra></extra>",
         "hovertext": [
          "GLAFENINE",
          "GLAFENINE"
         ],
         "legendgroup": "GLAFENINE",
         "line": {
          "color": "#19d3f3",
          "dash": "solid"
         },
         "marker": {
          "symbol": "circle"
         },
         "mode": "lines+markers",
         "name": "GLAFENINE",
         "orientation": "v",
         "showlegend": true,
         "type": "scatter",
         "x": [
          3.333333,
          10
         ],
         "xaxis": "x",
         "y": [
          15.177895836877562,
          12.11558213598505
         ],
         "yaxis": "y"
        },
        {
         "customdata": [
          [
           "SWOUGRBFXFILIB-UHFFFAOYSA-N",
           245
          ]
         ],
         "error_y": {
          "array": [
           0
          ],
          "arrayminus": [
           0
          ]
         },
         "hovertemplate": "<b>%{hovertext}</b><br><br>conc=%{x}<br>distance=%{y:.3f}<br>count_nuclei=%{customdata[1]:.1f}<extra></extra>",
         "hovertext": [
          "SWOUGRBFXFILIB-UHFFFAOYSA-N"
         ],
         "legendgroup": "SWOUGRBFXFILIB-UHFFFAOYSA-N",
         "line": {
          "color": "#FF6692",
          "dash": "solid"
         },
         "marker": {
          "symbol": "circle"
         },
         "mode": "lines+markers",
         "name": "SWOUGRBFXFILIB-UHFFFAOYSA-N",
         "orientation": "v",
         "showlegend": true,
         "type": "scatter",
         "x": [
          0.833333
         ],
         "xaxis": "x",
         "y": [
          12.115666675500558
         ],
         "yaxis": "y"
        },
        {
         "customdata": [
          [
           "QUIKMLCZZMOBLH-UHFFFAOYSA-N",
           259
          ]
         ],
         "error_y": {
          "array": [
           0
          ],
          "arrayminus": [
           0
          ]
         },
         "hovertemplate": "<b>%{hovertext}</b><br><br>conc=%{x}<br>distance=%{y:.3f}<br>count_nuclei=%{customdata[1]:.1f}<extra></extra>",
         "hovertext": [
          "QUIKMLCZZMOBLH-UHFFFAOYSA-N"
         ],
         "legendgroup": "QUIKMLCZZMOBLH-UHFFFAOYSA-N",
         "line": {
          "color": "#B6E880",
          "dash": "solid"
         },
         "marker": {
          "symbol": "circle"
         },
         "mode": "lines+markers",
         "name": "QUIKMLCZZMOBLH-UHFFFAOYSA-N",
         "orientation": "v",
         "showlegend": true,
         "type": "scatter",
         "x": [
          0.833333
         ],
         "xaxis": "x",
         "y": [
          12.13558431899875
         ],
         "yaxis": "y"
        },
        {
         "customdata": [
          [
           "NVP-BSK805 2HCl",
           233
          ],
          [
           "NVP-BSK805 2HCl",
           246
          ]
         ],
         "error_y": {
          "array": [
           0.5073584071809627,
           1.4534020496865487
          ],
          "arrayminus": [
           0.5073584071809627,
           1.4534020496865487
          ]
         },
         "hovertemplate": "<b>%{hovertext}</b><br><br>conc=%{x}<br>distance=%{y:.3f}<br>count_nuclei=%{customdata[1]:.1f}<extra></extra>",
         "hovertext": [
          "NVP-BSK805 2HCl",
          "NVP-BSK805 2HCl"
         ],
         "legendgroup": "NVP-BSK805 2HCl",
         "line": {
          "color": "#FF97FF",
          "dash": "solid"
         },
         "marker": {
          "symbol": "circle"
         },
         "mode": "lines+markers",
         "name": "NVP-BSK805 2HCl",
         "orientation": "v",
         "showlegend": true,
         "type": "scatter",
         "x": [
          0.3,
          0.833333
         ],
         "xaxis": "x",
         "y": [
          17.748333725958656,
          12.139904273546604
         ],
         "yaxis": "y"
        },
        {
         "customdata": [
          [
           "XZJRBPXVNCUTIZ-UHFFFAOYSA-N",
           258
          ],
          [
           "XZJRBPXVNCUTIZ-UHFFFAOYSA-N",
           253
          ]
         ],
         "error_y": {
          "array": [
           0,
           0
          ],
          "arrayminus": [
           0,
           0
          ]
         },
         "hovertemplate": "<b>%{hovertext}</b><br><br>conc=%{x}<br>distance=%{y:.3f}<br>count_nuclei=%{customdata[1]:.1f}<extra></extra>",
         "hovertext": [
          "XZJRBPXVNCUTIZ-UHFFFAOYSA-N",
          "XZJRBPXVNCUTIZ-UHFFFAOYSA-N"
         ],
         "legendgroup": "XZJRBPXVNCUTIZ-UHFFFAOYSA-N",
         "line": {
          "color": "#FECB52",
          "dash": "solid"
         },
         "marker": {
          "symbol": "circle"
         },
         "mode": "lines+markers",
         "name": "XZJRBPXVNCUTIZ-UHFFFAOYSA-N",
         "orientation": "v",
         "showlegend": true,
         "type": "scatter",
         "x": [
          3.333333,
          10
         ],
         "xaxis": "x",
         "y": [
          12.566052457515417,
          12.143173789883532
         ],
         "yaxis": "y"
        },
        {
         "customdata": [
          [
           "A12B4C3",
           237
          ],
          [
           "A12B4C3",
           260
          ]
         ],
         "error_y": {
          "array": [
           0.2297680029884983,
           0.0182965807966155
          ],
          "arrayminus": [
           0.2297680029884983,
           0.0182965807966155
          ]
         },
         "hovertemplate": "<b>%{hovertext}</b><br><br>conc=%{x}<br>distance=%{y:.3f}<br>count_nuclei=%{customdata[1]:.1f}<extra></extra>",
         "hovertext": [
          "A12B4C3",
          "A12B4C3"
         ],
         "legendgroup": "A12B4C3",
         "line": {
          "color": "#636efa",
          "dash": "solid"
         },
         "marker": {
          "symbol": "circle"
         },
         "mode": "lines+markers",
         "name": "A12B4C3",
         "orientation": "v",
         "showlegend": true,
         "type": "scatter",
         "x": [
          3.333333,
          10
         ],
         "xaxis": "x",
         "y": [
          13.667465387492555,
          12.158394423485795
         ],
         "yaxis": "y"
        },
        {
         "customdata": [
          [
           "Pixantrone (dimaleate)",
           236.5
          ]
         ],
         "error_y": {
          "array": [
           0.1992269321995792
          ],
          "arrayminus": [
           0.1992269321995792
          ]
         },
         "hovertemplate": "<b>%{hovertext}</b><br><br>conc=%{x}<br>distance=%{y:.3f}<br>count_nuclei=%{customdata[1]:.1f}<extra></extra>",
         "hovertext": [
          "Pixantrone (dimaleate)"
         ],
         "legendgroup": "Pixantrone (dimaleate)",
         "line": {
          "color": "#EF553B",
          "dash": "solid"
         },
         "marker": {
          "symbol": "circle"
         },
         "mode": "lines+markers",
         "name": "Pixantrone (dimaleate)",
         "orientation": "v",
         "showlegend": true,
         "type": "scatter",
         "x": [
          10
         ],
         "xaxis": "x",
         "y": [
          12.161675573307882
         ],
         "yaxis": "y"
        },
        {
         "customdata": [
          [
           "DCC-2036 (Rebastinib)",
           248
          ],
          [
           "DCC-2036 (Rebastinib)",
           237
          ]
         ],
         "error_y": {
          "array": [
           0.2460480710805015,
           0.4170614239011847
          ],
          "arrayminus": [
           0.2460480710805015,
           0.4170614239011847
          ]
         },
         "hovertemplate": "<b>%{hovertext}</b><br><br>conc=%{x}<br>distance=%{y:.3f}<br>count_nuclei=%{customdata[1]:.1f}<extra></extra>",
         "hovertext": [
          "DCC-2036 (Rebastinib)",
          "DCC-2036 (Rebastinib)"
         ],
         "legendgroup": "DCC-2036 (Rebastinib)",
         "line": {
          "color": "#00cc96",
          "dash": "solid"
         },
         "marker": {
          "symbol": "circle"
         },
         "mode": "lines+markers",
         "name": "DCC-2036 (Rebastinib)",
         "orientation": "v",
         "showlegend": true,
         "type": "scatter",
         "x": [
          0.1,
          0.3
         ],
         "xaxis": "x",
         "y": [
          13.534544914824622,
          12.186484572940504
         ],
         "yaxis": "y"
        },
        {
         "customdata": [
          [
           "WAY-600",
           236
          ],
          [
           "WAY-600",
           237
          ]
         ],
         "error_y": {
          "array": [
           0.719147681811533,
           0.3455661704757578
          ],
          "arrayminus": [
           0.719147681811533,
           0.3455661704757578
          ]
         },
         "hovertemplate": "<b>%{hovertext}</b><br><br>conc=%{x}<br>distance=%{y:.3f}<br>count_nuclei=%{customdata[1]:.1f}<extra></extra>",
         "hovertext": [
          "WAY-600",
          "WAY-600"
         ],
         "legendgroup": "WAY-600",
         "line": {
          "color": "#ab63fa",
          "dash": "solid"
         },
         "marker": {
          "symbol": "circle"
         },
         "mode": "lines+markers",
         "name": "WAY-600",
         "orientation": "v",
         "showlegend": true,
         "type": "scatter",
         "x": [
          0.3,
          0.833333
         ],
         "xaxis": "x",
         "y": [
          13.348866626640945,
          12.2023561344488
         ],
         "yaxis": "y"
        },
        {
         "customdata": [
          [
           "HTMIBDQKFHUPSX-UHFFFAOYSA-N",
           247
          ]
         ],
         "error_y": {
          "array": [
           0
          ],
          "arrayminus": [
           0
          ]
         },
         "hovertemplate": "<b>%{hovertext}</b><br><br>conc=%{x}<br>distance=%{y:.3f}<br>count_nuclei=%{customdata[1]:.1f}<extra></extra>",
         "hovertext": [
          "HTMIBDQKFHUPSX-UHFFFAOYSA-N"
         ],
         "legendgroup": "HTMIBDQKFHUPSX-UHFFFAOYSA-N",
         "line": {
          "color": "#FFA15A",
          "dash": "solid"
         },
         "marker": {
          "symbol": "circle"
         },
         "mode": "lines+markers",
         "name": "HTMIBDQKFHUPSX-UHFFFAOYSA-N",
         "orientation": "v",
         "showlegend": true,
         "type": "scatter",
         "x": [
          0.833333
         ],
         "xaxis": "x",
         "y": [
          12.208458391898626
         ],
         "yaxis": "y"
        },
        {
         "customdata": [
          [
           "Pergolide mesylate",
           263
          ]
         ],
         "error_y": {
          "array": [
           0.7480693161725007
          ],
          "arrayminus": [
           0.7480693161725007
          ]
         },
         "hovertemplate": "<b>%{hovertext}</b><br><br>conc=%{x}<br>distance=%{y:.3f}<br>count_nuclei=%{customdata[1]:.1f}<extra></extra>",
         "hovertext": [
          "Pergolide mesylate"
         ],
         "legendgroup": "Pergolide mesylate",
         "line": {
          "color": "#19d3f3",
          "dash": "solid"
         },
         "marker": {
          "symbol": "circle"
         },
         "mode": "lines+markers",
         "name": "Pergolide mesylate",
         "orientation": "v",
         "showlegend": true,
         "type": "scatter",
         "x": [
          10
         ],
         "xaxis": "x",
         "y": [
          12.209762056636997
         ],
         "yaxis": "y"
        },
        {
         "customdata": [
          [
           "GW-5074",
           242.5
          ]
         ],
         "error_y": {
          "array": [
           0.7643133956860453
          ],
          "arrayminus": [
           0.7643133956860453
          ]
         },
         "hovertemplate": "<b>%{hovertext}</b><br><br>conc=%{x}<br>distance=%{y:.3f}<br>count_nuclei=%{customdata[1]:.1f}<extra></extra>",
         "hovertext": [
          "GW-5074"
         ],
         "legendgroup": "GW-5074",
         "line": {
          "color": "#FF6692",
          "dash": "solid"
         },
         "marker": {
          "symbol": "circle"
         },
         "mode": "lines+markers",
         "name": "GW-5074",
         "orientation": "v",
         "showlegend": true,
         "type": "scatter",
         "x": [
          10
         ],
         "xaxis": "x",
         "y": [
          12.2348143527088
         ],
         "yaxis": "y"
        },
        {
         "customdata": [
          [
           "Uprosertib",
           222
          ]
         ],
         "error_y": {
          "array": [
           0.5164577135541997
          ],
          "arrayminus": [
           0.5164577135541997
          ]
         },
         "hovertemplate": "<b>%{hovertext}</b><br><br>conc=%{x}<br>distance=%{y:.3f}<br>count_nuclei=%{customdata[1]:.1f}<extra></extra>",
         "hovertext": [
          "Uprosertib"
         ],
         "legendgroup": "Uprosertib",
         "line": {
          "color": "#B6E880",
          "dash": "solid"
         },
         "marker": {
          "symbol": "circle"
         },
         "mode": "lines+markers",
         "name": "Uprosertib",
         "orientation": "v",
         "showlegend": true,
         "type": "scatter",
         "x": [
          10
         ],
         "xaxis": "x",
         "y": [
          12.242409888983891
         ],
         "yaxis": "y"
        },
        {
         "customdata": [
          [
           "Ivacaftor (VX-770)",
           221.5
          ]
         ],
         "error_y": {
          "array": [
           1.070640644358523
          ],
          "arrayminus": [
           1.070640644358523
          ]
         },
         "hovertemplate": "<b>%{hovertext}</b><br><br>conc=%{x}<br>distance=%{y:.3f}<br>count_nuclei=%{customdata[1]:.1f}<extra></extra>",
         "hovertext": [
          "Ivacaftor (VX-770)"
         ],
         "legendgroup": "Ivacaftor (VX-770)",
         "line": {
          "color": "#FF97FF",
          "dash": "solid"
         },
         "marker": {
          "symbol": "circle"
         },
         "mode": "lines+markers",
         "name": "Ivacaftor (VX-770)",
         "orientation": "v",
         "showlegend": true,
         "type": "scatter",
         "x": [
          10
         ],
         "xaxis": "x",
         "y": [
          12.242733538664435
         ],
         "yaxis": "y"
        },
        {
         "customdata": [
          [
           "YNQDHJXHIGUOOT-UHFFFAOYSA-N",
           250
          ],
          [
           "YNQDHJXHIGUOOT-UHFFFAOYSA-N",
           267
          ]
         ],
         "error_y": {
          "array": [
           0,
           0
          ],
          "arrayminus": [
           0,
           0
          ]
         },
         "hovertemplate": "<b>%{hovertext}</b><br><br>conc=%{x}<br>distance=%{y:.3f}<br>count_nuclei=%{customdata[1]:.1f}<extra></extra>",
         "hovertext": [
          "YNQDHJXHIGUOOT-UHFFFAOYSA-N",
          "YNQDHJXHIGUOOT-UHFFFAOYSA-N"
         ],
         "legendgroup": "YNQDHJXHIGUOOT-UHFFFAOYSA-N",
         "line": {
          "color": "#FECB52",
          "dash": "solid"
         },
         "marker": {
          "symbol": "circle"
         },
         "mode": "lines+markers",
         "name": "YNQDHJXHIGUOOT-UHFFFAOYSA-N",
         "orientation": "v",
         "showlegend": true,
         "type": "scatter",
         "x": [
          0.833333,
          3.333333
         ],
         "xaxis": "x",
         "y": [
          14.893904996087697,
          12.245380263862335
         ],
         "yaxis": "y"
        },
        {
         "customdata": [
          [
           "brefeldin-a",
           237
          ]
         ],
         "error_y": {
          "array": [
           0.985820612918408
          ],
          "arrayminus": [
           0.985820612918408
          ]
         },
         "hovertemplate": "<b>%{hovertext}</b><br><br>conc=%{x}<br>distance=%{y:.3f}<br>count_nuclei=%{customdata[1]:.1f}<extra></extra>",
         "hovertext": [
          "brefeldin-a"
         ],
         "legendgroup": "brefeldin-a",
         "line": {
          "color": "#636efa",
          "dash": "solid"
         },
         "marker": {
          "symbol": "circle"
         },
         "mode": "lines+markers",
         "name": "brefeldin-a",
         "orientation": "v",
         "showlegend": true,
         "type": "scatter",
         "x": [
          0.1
         ],
         "xaxis": "x",
         "y": [
          12.249206162783093
         ],
         "yaxis": "y"
        },
        {
         "customdata": [
          [
           "AMG458",
           223.5
          ]
         ],
         "error_y": {
          "array": [
           0.7074954254970827
          ],
          "arrayminus": [
           0.7074954254970827
          ]
         },
         "hovertemplate": "<b>%{hovertext}</b><br><br>conc=%{x}<br>distance=%{y:.3f}<br>count_nuclei=%{customdata[1]:.1f}<extra></extra>",
         "hovertext": [
          "AMG458"
         ],
         "legendgroup": "AMG458",
         "line": {
          "color": "#EF553B",
          "dash": "solid"
         },
         "marker": {
          "symbol": "circle"
         },
         "mode": "lines+markers",
         "name": "AMG458",
         "orientation": "v",
         "showlegend": true,
         "type": "scatter",
         "x": [
          10
         ],
         "xaxis": "x",
         "y": [
          12.25462967629684
         ],
         "yaxis": "y"
        },
        {
         "customdata": [
          [
           "Ro-20-1724",
           245.5
          ]
         ],
         "error_y": {
          "array": [
           2.311051834418357
          ],
          "arrayminus": [
           2.311051834418357
          ]
         },
         "hovertemplate": "<b>%{hovertext}</b><br><br>conc=%{x}<br>distance=%{y:.3f}<br>count_nuclei=%{customdata[1]:.1f}<extra></extra>",
         "hovertext": [
          "Ro-20-1724"
         ],
         "legendgroup": "Ro-20-1724",
         "line": {
          "color": "#00cc96",
          "dash": "solid"
         },
         "marker": {
          "symbol": "circle"
         },
         "mode": "lines+markers",
         "name": "Ro-20-1724",
         "orientation": "v",
         "showlegend": true,
         "type": "scatter",
         "x": [
          10
         ],
         "xaxis": "x",
         "y": [
          12.267524848807945
         ],
         "yaxis": "y"
        },
        {
         "customdata": [
          [
           "Y-320",
           227
          ],
          [
           "Y-320",
           259
          ]
         ],
         "error_y": {
          "array": [
           1.8484058460209347,
           2.1044806680992085
          ],
          "arrayminus": [
           1.8484058460209347,
           2.1044806680992085
          ]
         },
         "hovertemplate": "<b>%{hovertext}</b><br><br>conc=%{x}<br>distance=%{y:.3f}<br>count_nuclei=%{customdata[1]:.1f}<extra></extra>",
         "hovertext": [
          "Y-320",
          "Y-320"
         ],
         "legendgroup": "Y-320",
         "line": {
          "color": "#ab63fa",
          "dash": "solid"
         },
         "marker": {
          "symbol": "circle"
         },
         "mode": "lines+markers",
         "name": "Y-320",
         "orientation": "v",
         "showlegend": true,
         "type": "scatter",
         "x": [
          0.833333,
          3.333333
         ],
         "xaxis": "x",
         "y": [
          17.279758596133508,
          12.26820521281904
         ],
         "yaxis": "y"
        },
        {
         "customdata": [
          [
           "Trovafloxacin mesylate",
           228
          ]
         ],
         "error_y": {
          "array": [
           0.7992946282123672
          ],
          "arrayminus": [
           0.7992946282123672
          ]
         },
         "hovertemplate": "<b>%{hovertext}</b><br><br>conc=%{x}<br>distance=%{y:.3f}<br>count_nuclei=%{customdata[1]:.1f}<extra></extra>",
         "hovertext": [
          "Trovafloxacin mesylate"
         ],
         "legendgroup": "Trovafloxacin mesylate",
         "line": {
          "color": "#FFA15A",
          "dash": "solid"
         },
         "marker": {
          "symbol": "circle"
         },
         "mode": "lines+markers",
         "name": "Trovafloxacin mesylate",
         "orientation": "v",
         "showlegend": true,
         "type": "scatter",
         "x": [
          10
         ],
         "xaxis": "x",
         "y": [
          12.279964587013694
         ],
         "yaxis": "y"
        },
        {
         "customdata": [
          [
           "K-Ras(G12C) inhibitor 12",
           258
          ]
         ],
         "error_y": {
          "array": [
           0.5181986978838982
          ],
          "arrayminus": [
           0.5181986978838982
          ]
         },
         "hovertemplate": "<b>%{hovertext}</b><br><br>conc=%{x}<br>distance=%{y:.3f}<br>count_nuclei=%{customdata[1]:.1f}<extra></extra>",
         "hovertext": [
          "K-Ras(G12C) inhibitor 12"
         ],
         "legendgroup": "K-Ras(G12C) inhibitor 12",
         "line": {
          "color": "#19d3f3",
          "dash": "solid"
         },
         "marker": {
          "symbol": "circle"
         },
         "mode": "lines+markers",
         "name": "K-Ras(G12C) inhibitor 12",
         "orientation": "v",
         "showlegend": true,
         "type": "scatter",
         "x": [
          0.3
         ],
         "xaxis": "x",
         "y": [
          12.280735395334622
         ],
         "yaxis": "y"
        },
        {
         "customdata": [
          [
           "VGJLVYPMWYTIFB-UHFFFAOYSA-N",
           237
          ],
          [
           "VGJLVYPMWYTIFB-UHFFFAOYSA-N",
           282
          ]
         ],
         "error_y": {
          "array": [
           0,
           0
          ],
          "arrayminus": [
           0,
           0
          ]
         },
         "hovertemplate": "<b>%{hovertext}</b><br><br>conc=%{x}<br>distance=%{y:.3f}<br>count_nuclei=%{customdata[1]:.1f}<extra></extra>",
         "hovertext": [
          "VGJLVYPMWYTIFB-UHFFFAOYSA-N",
          "VGJLVYPMWYTIFB-UHFFFAOYSA-N"
         ],
         "legendgroup": "VGJLVYPMWYTIFB-UHFFFAOYSA-N",
         "line": {
          "color": "#FF6692",
          "dash": "solid"
         },
         "marker": {
          "symbol": "circle"
         },
         "mode": "lines+markers",
         "name": "VGJLVYPMWYTIFB-UHFFFAOYSA-N",
         "orientation": "v",
         "showlegend": true,
         "type": "scatter",
         "x": [
          3.333333,
          10
         ],
         "xaxis": "x",
         "y": [
          15.731026298995202,
          12.289638913318422
         ],
         "yaxis": "y"
        },
        {
         "customdata": [
          [
           "H-89",
           294.5
          ]
         ],
         "error_y": {
          "array": [
           1.3234225100213006
          ],
          "arrayminus": [
           1.3234225100213006
          ]
         },
         "hovertemplate": "<b>%{hovertext}</b><br><br>conc=%{x}<br>distance=%{y:.3f}<br>count_nuclei=%{customdata[1]:.1f}<extra></extra>",
         "hovertext": [
          "H-89"
         ],
         "legendgroup": "H-89",
         "line": {
          "color": "#B6E880",
          "dash": "solid"
         },
         "marker": {
          "symbol": "circle"
         },
         "mode": "lines+markers",
         "name": "H-89",
         "orientation": "v",
         "showlegend": true,
         "type": "scatter",
         "x": [
          10
         ],
         "xaxis": "x",
         "y": [
          12.301808615952591
         ],
         "yaxis": "y"
        },
        {
         "customdata": [
          [
           "thiothixene",
           243
          ]
         ],
         "error_y": {
          "array": [
           0.510496928808795
          ],
          "arrayminus": [
           0.510496928808795
          ]
         },
         "hovertemplate": "<b>%{hovertext}</b><br><br>conc=%{x}<br>distance=%{y:.3f}<br>count_nuclei=%{customdata[1]:.1f}<extra></extra>",
         "hovertext": [
          "thiothixene"
         ],
         "legendgroup": "thiothixene",
         "line": {
          "color": "#FF97FF",
          "dash": "solid"
         },
         "marker": {
          "symbol": "circle"
         },
         "mode": "lines+markers",
         "name": "thiothixene",
         "orientation": "v",
         "showlegend": true,
         "type": "scatter",
         "x": [
          10
         ],
         "xaxis": "x",
         "y": [
          12.321580794365964
         ],
         "yaxis": "y"
        },
        {
         "customdata": [
          [
           "Lonafarnib (SCH66336)",
           241
          ],
          [
           "Lonafarnib (SCH66336)",
           213.5
          ]
         ],
         "error_y": {
          "array": [
           0.3258818358602315,
           2.2004757911599526
          ],
          "arrayminus": [
           0.3258818358602315,
           2.2004757911599526
          ]
         },
         "hovertemplate": "<b>%{hovertext}</b><br><br>conc=%{x}<br>distance=%{y:.3f}<br>count_nuclei=%{customdata[1]:.1f}<extra></extra>",
         "hovertext": [
          "Lonafarnib (SCH66336)",
          "Lonafarnib (SCH66336)"
         ],
         "legendgroup": "Lonafarnib (SCH66336)",
         "line": {
          "color": "#FECB52",
          "dash": "solid"
         },
         "marker": {
          "symbol": "circle"
         },
         "mode": "lines+markers",
         "name": "Lonafarnib (SCH66336)",
         "orientation": "v",
         "showlegend": true,
         "type": "scatter",
         "x": [
          3.333333,
          10
         ],
         "xaxis": "x",
         "y": [
          13.067894094616763,
          12.351033695142917
         ],
         "yaxis": "y"
        },
        {
         "customdata": [
          [
           "CHLOROQUINE DIPHOSPHATE",
           241
          ],
          [
           "CHLOROQUINE DIPHOSPHATE",
           259
          ]
         ],
         "error_y": {
          "array": [
           0.3236892298282328,
           0.0594493435764054
          ],
          "arrayminus": [
           0.3236892298282328,
           0.0594493435764054
          ]
         },
         "hovertemplate": "<b>%{hovertext}</b><br><br>conc=%{x}<br>distance=%{y:.3f}<br>count_nuclei=%{customdata[1]:.1f}<extra></extra>",
         "hovertext": [
          "CHLOROQUINE DIPHOSPHATE",
          "CHLOROQUINE DIPHOSPHATE"
         ],
         "legendgroup": "CHLOROQUINE DIPHOSPHATE",
         "line": {
          "color": "#636efa",
          "dash": "solid"
         },
         "marker": {
          "symbol": "circle"
         },
         "mode": "lines+markers",
         "name": "CHLOROQUINE DIPHOSPHATE",
         "orientation": "v",
         "showlegend": true,
         "type": "scatter",
         "x": [
          3.333333,
          10
         ],
         "xaxis": "x",
         "y": [
          13.36148785072434,
          12.352789589125305
         ],
         "yaxis": "y"
        },
        {
         "customdata": [
          [
           "ORY-1001 (RG-6016) 2HCl",
           256
          ]
         ],
         "error_y": {
          "array": [
           0.7538142715179195
          ],
          "arrayminus": [
           0.7538142715179195
          ]
         },
         "hovertemplate": "<b>%{hovertext}</b><br><br>conc=%{x}<br>distance=%{y:.3f}<br>count_nuclei=%{customdata[1]:.1f}<extra></extra>",
         "hovertext": [
          "ORY-1001 (RG-6016) 2HCl"
         ],
         "legendgroup": "ORY-1001 (RG-6016) 2HCl",
         "line": {
          "color": "#EF553B",
          "dash": "solid"
         },
         "marker": {
          "symbol": "circle"
         },
         "mode": "lines+markers",
         "name": "ORY-1001 (RG-6016) 2HCl",
         "orientation": "v",
         "showlegend": true,
         "type": "scatter",
         "x": [
          10
         ],
         "xaxis": "x",
         "y": [
          12.368608543782974
         ],
         "yaxis": "y"
        },
        {
         "customdata": [
          [
           "Bafetinib (INNO-406)",
           251
          ]
         ],
         "error_y": {
          "array": [
           0.3571734054282949
          ],
          "arrayminus": [
           0.3571734054282949
          ]
         },
         "hovertemplate": "<b>%{hovertext}</b><br><br>conc=%{x}<br>distance=%{y:.3f}<br>count_nuclei=%{customdata[1]:.1f}<extra></extra>",
         "hovertext": [
          "Bafetinib (INNO-406)"
         ],
         "legendgroup": "Bafetinib (INNO-406)",
         "line": {
          "color": "#00cc96",
          "dash": "solid"
         },
         "marker": {
          "symbol": "circle"
         },
         "mode": "lines+markers",
         "name": "Bafetinib (INNO-406)",
         "orientation": "v",
         "showlegend": true,
         "type": "scatter",
         "x": [
          0.833333
         ],
         "xaxis": "x",
         "y": [
          12.37924644914344
         ],
         "yaxis": "y"
        },
        {
         "customdata": [
          [
           "WRKJWWFMKQHLIQ-UHFFFAOYSA-N",
           267
          ],
          [
           "WRKJWWFMKQHLIQ-UHFFFAOYSA-N",
           240
          ]
         ],
         "error_y": {
          "array": [
           0,
           0
          ],
          "arrayminus": [
           0,
           0
          ]
         },
         "hovertemplate": "<b>%{hovertext}</b><br><br>conc=%{x}<br>distance=%{y:.3f}<br>count_nuclei=%{customdata[1]:.1f}<extra></extra>",
         "hovertext": [
          "WRKJWWFMKQHLIQ-UHFFFAOYSA-N",
          "WRKJWWFMKQHLIQ-UHFFFAOYSA-N"
         ],
         "legendgroup": "WRKJWWFMKQHLIQ-UHFFFAOYSA-N",
         "line": {
          "color": "#ab63fa",
          "dash": "solid"
         },
         "marker": {
          "symbol": "circle"
         },
         "mode": "lines+markers",
         "name": "WRKJWWFMKQHLIQ-UHFFFAOYSA-N",
         "orientation": "v",
         "showlegend": true,
         "type": "scatter",
         "x": [
          3.333333,
          10
         ],
         "xaxis": "x",
         "y": [
          12.860100384433116,
          12.396372768795269
         ],
         "yaxis": "y"
        },
        {
         "customdata": [
          [
           "Oprozomib (ONX 0912)",
           212
          ]
         ],
         "error_y": {
          "array": [
           0.6940726870353302
          ],
          "arrayminus": [
           0.6940726870353302
          ]
         },
         "hovertemplate": "<b>%{hovertext}</b><br><br>conc=%{x}<br>distance=%{y:.3f}<br>count_nuclei=%{customdata[1]:.1f}<extra></extra>",
         "hovertext": [
          "Oprozomib (ONX 0912)"
         ],
         "legendgroup": "Oprozomib (ONX 0912)",
         "line": {
          "color": "#FFA15A",
          "dash": "solid"
         },
         "marker": {
          "symbol": "circle"
         },
         "mode": "lines+markers",
         "name": "Oprozomib (ONX 0912)",
         "orientation": "v",
         "showlegend": true,
         "type": "scatter",
         "x": [
          0.1
         ],
         "xaxis": "x",
         "y": [
          12.39639538910589
         ],
         "yaxis": "y"
        },
        {
         "customdata": [
          [
           "pyrrolidine-dithiocarbamate",
           243
          ],
          [
           "pyrrolidine-dithiocarbamate",
           247
          ]
         ],
         "error_y": {
          "array": [
           0.8902353973914607,
           1.1004432281618417
          ],
          "arrayminus": [
           0.8902353973914607,
           1.1004432281618417
          ]
         },
         "hovertemplate": "<b>%{hovertext}</b><br><br>conc=%{x}<br>distance=%{y:.3f}<br>count_nuclei=%{customdata[1]:.1f}<extra></extra>",
         "hovertext": [
          "pyrrolidine-dithiocarbamate",
          "pyrrolidine-dithiocarbamate"
         ],
         "legendgroup": "pyrrolidine-dithiocarbamate",
         "line": {
          "color": "#19d3f3",
          "dash": "solid"
         },
         "marker": {
          "symbol": "circle"
         },
         "mode": "lines+markers",
         "name": "pyrrolidine-dithiocarbamate",
         "orientation": "v",
         "showlegend": true,
         "type": "scatter",
         "x": [
          0.3,
          0.833333
         ],
         "xaxis": "x",
         "y": [
          14.336344297667562,
          12.431373727093645
         ],
         "yaxis": "y"
        },
        {
         "customdata": [
          [
           "HFEQTENZBXONEC-KRWDZBQOSA-N",
           221
          ],
          [
           "HFEQTENZBXONEC-KRWDZBQOSA-N",
           274
          ]
         ],
         "error_y": {
          "array": [
           0,
           0
          ],
          "arrayminus": [
           0,
           0
          ]
         },
         "hovertemplate": "<b>%{hovertext}</b><br><br>conc=%{x}<br>distance=%{y:.3f}<br>count_nuclei=%{customdata[1]:.1f}<extra></extra>",
         "hovertext": [
          "HFEQTENZBXONEC-KRWDZBQOSA-N",
          "HFEQTENZBXONEC-KRWDZBQOSA-N"
         ],
         "legendgroup": "HFEQTENZBXONEC-KRWDZBQOSA-N",
         "line": {
          "color": "#FF6692",
          "dash": "solid"
         },
         "marker": {
          "symbol": "circle"
         },
         "mode": "lines+markers",
         "name": "HFEQTENZBXONEC-KRWDZBQOSA-N",
         "orientation": "v",
         "showlegend": true,
         "type": "scatter",
         "x": [
          0.833333,
          3.333333
         ],
         "xaxis": "x",
         "y": [
          17.283677204716778,
          12.434389020296882
         ],
         "yaxis": "y"
        },
        {
         "customdata": [
          [
           "CVESPPFUTUXJHF-UHFFFAOYSA-N",
           237
          ],
          [
           "CVESPPFUTUXJHF-UHFFFAOYSA-N",
           265
          ]
         ],
         "error_y": {
          "array": [
           0,
           0
          ],
          "arrayminus": [
           0,
           0
          ]
         },
         "hovertemplate": "<b>%{hovertext}</b><br><br>conc=%{x}<br>distance=%{y:.3f}<br>count_nuclei=%{customdata[1]:.1f}<extra></extra>",
         "hovertext": [
          "CVESPPFUTUXJHF-UHFFFAOYSA-N",
          "CVESPPFUTUXJHF-UHFFFAOYSA-N"
         ],
         "legendgroup": "CVESPPFUTUXJHF-UHFFFAOYSA-N",
         "line": {
          "color": "#B6E880",
          "dash": "solid"
         },
         "marker": {
          "symbol": "circle"
         },
         "mode": "lines+markers",
         "name": "CVESPPFUTUXJHF-UHFFFAOYSA-N",
         "orientation": "v",
         "showlegend": true,
         "type": "scatter",
         "x": [
          3.333333,
          10
         ],
         "xaxis": "x",
         "y": [
          14.821019362865444,
          12.43858260947596
         ],
         "yaxis": "y"
        },
        {
         "customdata": [
          [
           "CGP-53353",
           227.5
          ]
         ],
         "error_y": {
          "array": [
           2.8009947682564285
          ],
          "arrayminus": [
           2.8009947682564285
          ]
         },
         "hovertemplate": "<b>%{hovertext}</b><br><br>conc=%{x}<br>distance=%{y:.3f}<br>count_nuclei=%{customdata[1]:.1f}<extra></extra>",
         "hovertext": [
          "CGP-53353"
         ],
         "legendgroup": "CGP-53353",
         "line": {
          "color": "#FF97FF",
          "dash": "solid"
         },
         "marker": {
          "symbol": "circle"
         },
         "mode": "lines+markers",
         "name": "CGP-53353",
         "orientation": "v",
         "showlegend": true,
         "type": "scatter",
         "x": [
          10
         ],
         "xaxis": "x",
         "y": [
          12.444500079960443
         ],
         "yaxis": "y"
        },
        {
         "customdata": [
          [
           "RPURJYMLAQFNOX-UHFFFAOYSA-N",
           252
          ],
          [
           "RPURJYMLAQFNOX-UHFFFAOYSA-N",
           274
          ]
         ],
         "error_y": {
          "array": [
           0,
           0
          ],
          "arrayminus": [
           0,
           0
          ]
         },
         "hovertemplate": "<b>%{hovertext}</b><br><br>conc=%{x}<br>distance=%{y:.3f}<br>count_nuclei=%{customdata[1]:.1f}<extra></extra>",
         "hovertext": [
          "RPURJYMLAQFNOX-UHFFFAOYSA-N",
          "RPURJYMLAQFNOX-UHFFFAOYSA-N"
         ],
         "legendgroup": "RPURJYMLAQFNOX-UHFFFAOYSA-N",
         "line": {
          "color": "#FECB52",
          "dash": "solid"
         },
         "marker": {
          "symbol": "circle"
         },
         "mode": "lines+markers",
         "name": "RPURJYMLAQFNOX-UHFFFAOYSA-N",
         "orientation": "v",
         "showlegend": true,
         "type": "scatter",
         "x": [
          3.333333,
          10
         ],
         "xaxis": "x",
         "y": [
          12.668803545929649,
          12.444809131901112
         ],
         "yaxis": "y"
        },
        {
         "customdata": [
          [
           "Oglemilast",
           252.5
          ]
         ],
         "error_y": {
          "array": [
           1.326644965967759
          ],
          "arrayminus": [
           1.326644965967759
          ]
         },
         "hovertemplate": "<b>%{hovertext}</b><br><br>conc=%{x}<br>distance=%{y:.3f}<br>count_nuclei=%{customdata[1]:.1f}<extra></extra>",
         "hovertext": [
          "Oglemilast"
         ],
         "legendgroup": "Oglemilast",
         "line": {
          "color": "#636efa",
          "dash": "solid"
         },
         "marker": {
          "symbol": "circle"
         },
         "mode": "lines+markers",
         "name": "Oglemilast",
         "orientation": "v",
         "showlegend": true,
         "type": "scatter",
         "x": [
          10
         ],
         "xaxis": "x",
         "y": [
          12.480088526586911
         ],
         "yaxis": "y"
        },
        {
         "customdata": [
          [
           "Â¦Ã‚-Lapachone",
           182.5
          ]
         ],
         "error_y": {
          "array": [
           0.2805482596712707
          ],
          "arrayminus": [
           0.2805482596712707
          ]
         },
         "hovertemplate": "<b>%{hovertext}</b><br><br>conc=%{x}<br>distance=%{y:.3f}<br>count_nuclei=%{customdata[1]:.1f}<extra></extra>",
         "hovertext": [
          "Â¦Ã‚-Lapachone"
         ],
         "legendgroup": "Â¦Ã‚-Lapachone",
         "line": {
          "color": "#EF553B",
          "dash": "solid"
         },
         "marker": {
          "symbol": "circle"
         },
         "mode": "lines+markers",
         "name": "Â¦Ã‚-Lapachone",
         "orientation": "v",
         "showlegend": true,
         "type": "scatter",
         "x": [
          10
         ],
         "xaxis": "x",
         "y": [
          12.48111557265878
         ],
         "yaxis": "y"
        },
        {
         "customdata": [
          [
           "JTE-607",
           247.5
          ]
         ],
         "error_y": {
          "array": [
           0.3654152694804402
          ],
          "arrayminus": [
           0.3654152694804402
          ]
         },
         "hovertemplate": "<b>%{hovertext}</b><br><br>conc=%{x}<br>distance=%{y:.3f}<br>count_nuclei=%{customdata[1]:.1f}<extra></extra>",
         "hovertext": [
          "JTE-607"
         ],
         "legendgroup": "JTE-607",
         "line": {
          "color": "#00cc96",
          "dash": "solid"
         },
         "marker": {
          "symbol": "circle"
         },
         "mode": "lines+markers",
         "name": "JTE-607",
         "orientation": "v",
         "showlegend": true,
         "type": "scatter",
         "x": [
          10
         ],
         "xaxis": "x",
         "y": [
          12.496448003340753
         ],
         "yaxis": "y"
        },
        {
         "customdata": [
          [
           "hydroxyfasudil",
           251
          ]
         ],
         "error_y": {
          "array": [
           1.104511880724898
          ],
          "arrayminus": [
           1.104511880724898
          ]
         },
         "hovertemplate": "<b>%{hovertext}</b><br><br>conc=%{x}<br>distance=%{y:.3f}<br>count_nuclei=%{customdata[1]:.1f}<extra></extra>",
         "hovertext": [
          "hydroxyfasudil"
         ],
         "legendgroup": "hydroxyfasudil",
         "line": {
          "color": "#ab63fa",
          "dash": "solid"
         },
         "marker": {
          "symbol": "circle"
         },
         "mode": "lines+markers",
         "name": "hydroxyfasudil",
         "orientation": "v",
         "showlegend": true,
         "type": "scatter",
         "x": [
          10
         ],
         "xaxis": "x",
         "y": [
          12.507664336659769
         ],
         "yaxis": "y"
        },
        {
         "customdata": [
          [
           "XAXNKAGAUFXFDO-XDZPJBHRSA-N",
           242
          ]
         ],
         "error_y": {
          "array": [
           0
          ],
          "arrayminus": [
           0
          ]
         },
         "hovertemplate": "<b>%{hovertext}</b><br><br>conc=%{x}<br>distance=%{y:.3f}<br>count_nuclei=%{customdata[1]:.1f}<extra></extra>",
         "hovertext": [
          "XAXNKAGAUFXFDO-XDZPJBHRSA-N"
         ],
         "legendgroup": "XAXNKAGAUFXFDO-XDZPJBHRSA-N",
         "line": {
          "color": "#FFA15A",
          "dash": "solid"
         },
         "marker": {
          "symbol": "circle"
         },
         "mode": "lines+markers",
         "name": "XAXNKAGAUFXFDO-XDZPJBHRSA-N",
         "orientation": "v",
         "showlegend": true,
         "type": "scatter",
         "x": [
          0.833333
         ],
         "xaxis": "x",
         "y": [
          12.543453867340537
         ],
         "yaxis": "y"
        },
        {
         "customdata": [
          [
           "LUSABPPAFHAANK-UHFFFAOYSA-N",
           254
          ],
          [
           "LUSABPPAFHAANK-UHFFFAOYSA-N",
           284
          ]
         ],
         "error_y": {
          "array": [
           0,
           0
          ],
          "arrayminus": [
           0,
           0
          ]
         },
         "hovertemplate": "<b>%{hovertext}</b><br><br>conc=%{x}<br>distance=%{y:.3f}<br>count_nuclei=%{customdata[1]:.1f}<extra></extra>",
         "hovertext": [
          "LUSABPPAFHAANK-UHFFFAOYSA-N",
          "LUSABPPAFHAANK-UHFFFAOYSA-N"
         ],
         "legendgroup": "LUSABPPAFHAANK-UHFFFAOYSA-N",
         "line": {
          "color": "#19d3f3",
          "dash": "solid"
         },
         "marker": {
          "symbol": "circle"
         },
         "mode": "lines+markers",
         "name": "LUSABPPAFHAANK-UHFFFAOYSA-N",
         "orientation": "v",
         "showlegend": true,
         "type": "scatter",
         "x": [
          3.333333,
          10
         ],
         "xaxis": "x",
         "y": [
          18.17223862389657,
          12.556605523670822
         ],
         "yaxis": "y"
        },
        {
         "customdata": [
          [
           "Talarozole",
           261.5
          ]
         ],
         "error_y": {
          "array": [
           1.642347250019169
          ],
          "arrayminus": [
           1.642347250019169
          ]
         },
         "hovertemplate": "<b>%{hovertext}</b><br><br>conc=%{x}<br>distance=%{y:.3f}<br>count_nuclei=%{customdata[1]:.1f}<extra></extra>",
         "hovertext": [
          "Talarozole"
         ],
         "legendgroup": "Talarozole",
         "line": {
          "color": "#FF6692",
          "dash": "solid"
         },
         "marker": {
          "symbol": "circle"
         },
         "mode": "lines+markers",
         "name": "Talarozole",
         "orientation": "v",
         "showlegend": true,
         "type": "scatter",
         "x": [
          10
         ],
         "xaxis": "x",
         "y": [
          12.567773906075914
         ],
         "yaxis": "y"
        },
        {
         "customdata": [
          [
           "SU11274",
           219
          ]
         ],
         "error_y": {
          "array": [
           3.075354217973062
          ],
          "arrayminus": [
           3.075354217973062
          ]
         },
         "hovertemplate": "<b>%{hovertext}</b><br><br>conc=%{x}<br>distance=%{y:.3f}<br>count_nuclei=%{customdata[1]:.1f}<extra></extra>",
         "hovertext": [
          "SU11274"
         ],
         "legendgroup": "SU11274",
         "line": {
          "color": "#B6E880",
          "dash": "solid"
         },
         "marker": {
          "symbol": "circle"
         },
         "mode": "lines+markers",
         "name": "SU11274",
         "orientation": "v",
         "showlegend": true,
         "type": "scatter",
         "x": [
          0.3
         ],
         "xaxis": "x",
         "y": [
          12.570296929003494
         ],
         "yaxis": "y"
        },
        {
         "customdata": [
          [
           "TZMUHEJOIYHPOX-UHFFFAOYSA-N",
           252
          ]
         ],
         "error_y": {
          "array": [
           0
          ],
          "arrayminus": [
           0
          ]
         },
         "hovertemplate": "<b>%{hovertext}</b><br><br>conc=%{x}<br>distance=%{y:.3f}<br>count_nuclei=%{customdata[1]:.1f}<extra></extra>",
         "hovertext": [
          "TZMUHEJOIYHPOX-UHFFFAOYSA-N"
         ],
         "legendgroup": "TZMUHEJOIYHPOX-UHFFFAOYSA-N",
         "line": {
          "color": "#FF97FF",
          "dash": "solid"
         },
         "marker": {
          "symbol": "circle"
         },
         "mode": "lines+markers",
         "name": "TZMUHEJOIYHPOX-UHFFFAOYSA-N",
         "orientation": "v",
         "showlegend": true,
         "type": "scatter",
         "x": [
          0.833333
         ],
         "xaxis": "x",
         "y": [
          12.574795033516017
         ],
         "yaxis": "y"
        },
        {
         "customdata": [
          [
           "Licofelone",
           245.5
          ]
         ],
         "error_y": {
          "array": [
           1.372057324571763
          ],
          "arrayminus": [
           1.372057324571763
          ]
         },
         "hovertemplate": "<b>%{hovertext}</b><br><br>conc=%{x}<br>distance=%{y:.3f}<br>count_nuclei=%{customdata[1]:.1f}<extra></extra>",
         "hovertext": [
          "Licofelone"
         ],
         "legendgroup": "Licofelone",
         "line": {
          "color": "#FECB52",
          "dash": "solid"
         },
         "marker": {
          "symbol": "circle"
         },
         "mode": "lines+markers",
         "name": "Licofelone",
         "orientation": "v",
         "showlegend": true,
         "type": "scatter",
         "x": [
          10
         ],
         "xaxis": "x",
         "y": [
          12.595479434171963
         ],
         "yaxis": "y"
        },
        {
         "customdata": [
          [
           "DISULFIRAM",
           261
          ]
         ],
         "error_y": {
          "array": [
           1.637869492136515
          ],
          "arrayminus": [
           1.637869492136515
          ]
         },
         "hovertemplate": "<b>%{hovertext}</b><br><br>conc=%{x}<br>distance=%{y:.3f}<br>count_nuclei=%{customdata[1]:.1f}<extra></extra>",
         "hovertext": [
          "DISULFIRAM"
         ],
         "legendgroup": "DISULFIRAM",
         "line": {
          "color": "#636efa",
          "dash": "solid"
         },
         "marker": {
          "symbol": "circle"
         },
         "mode": "lines+markers",
         "name": "DISULFIRAM",
         "orientation": "v",
         "showlegend": true,
         "type": "scatter",
         "x": [
          0.3
         ],
         "xaxis": "x",
         "y": [
          12.605258566666588
         ],
         "yaxis": "y"
        },
        {
         "customdata": [
          [
           "LDC1267",
           246
          ]
         ],
         "error_y": {
          "array": [
           0.0775267118675078
          ],
          "arrayminus": [
           0.0775267118675078
          ]
         },
         "hovertemplate": "<b>%{hovertext}</b><br><br>conc=%{x}<br>distance=%{y:.3f}<br>count_nuclei=%{customdata[1]:.1f}<extra></extra>",
         "hovertext": [
          "LDC1267"
         ],
         "legendgroup": "LDC1267",
         "line": {
          "color": "#EF553B",
          "dash": "solid"
         },
         "marker": {
          "symbol": "circle"
         },
         "mode": "lines+markers",
         "name": "LDC1267",
         "orientation": "v",
         "showlegend": true,
         "type": "scatter",
         "x": [
          0.3
         ],
         "xaxis": "x",
         "y": [
          12.608929483717557
         ],
         "yaxis": "y"
        },
        {
         "customdata": [
          [
           "Auranofin",
           240
          ],
          [
           "Auranofin",
           223
          ]
         ],
         "error_y": {
          "array": [
           0.2013770123031495,
           1.3253472843686591
          ],
          "arrayminus": [
           0.2013770123031495,
           1.3253472843686591
          ]
         },
         "hovertemplate": "<b>%{hovertext}</b><br><br>conc=%{x}<br>distance=%{y:.3f}<br>count_nuclei=%{customdata[1]:.1f}<extra></extra>",
         "hovertext": [
          "Auranofin",
          "Auranofin"
         ],
         "legendgroup": "Auranofin",
         "line": {
          "color": "#00cc96",
          "dash": "solid"
         },
         "marker": {
          "symbol": "circle"
         },
         "mode": "lines+markers",
         "name": "Auranofin",
         "orientation": "v",
         "showlegend": true,
         "type": "scatter",
         "x": [
          0.3,
          0.833333
         ],
         "xaxis": "x",
         "y": [
          14.832293745787466,
          12.612445293490808
         ],
         "yaxis": "y"
        },
        {
         "customdata": [
          [
           "GTXAYBCZOCCFKG-OJVAQSBESA-N",
           220
          ]
         ],
         "error_y": {
          "array": [
           0
          ],
          "arrayminus": [
           0
          ]
         },
         "hovertemplate": "<b>%{hovertext}</b><br><br>conc=%{x}<br>distance=%{y:.3f}<br>count_nuclei=%{customdata[1]:.1f}<extra></extra>",
         "hovertext": [
          "GTXAYBCZOCCFKG-OJVAQSBESA-N"
         ],
         "legendgroup": "GTXAYBCZOCCFKG-OJVAQSBESA-N",
         "line": {
          "color": "#ab63fa",
          "dash": "solid"
         },
         "marker": {
          "symbol": "circle"
         },
         "mode": "lines+markers",
         "name": "GTXAYBCZOCCFKG-OJVAQSBESA-N",
         "orientation": "v",
         "showlegend": true,
         "type": "scatter",
         "x": [
          0.833333
         ],
         "xaxis": "x",
         "y": [
          12.622462758565757
         ],
         "yaxis": "y"
        },
        {
         "customdata": [
          [
           "YZLZPSJXMWGIFH-CVTGKDCZSA-N",
           226
          ]
         ],
         "error_y": {
          "array": [
           0
          ],
          "arrayminus": [
           0
          ]
         },
         "hovertemplate": "<b>%{hovertext}</b><br><br>conc=%{x}<br>distance=%{y:.3f}<br>count_nuclei=%{customdata[1]:.1f}<extra></extra>",
         "hovertext": [
          "YZLZPSJXMWGIFH-CVTGKDCZSA-N"
         ],
         "legendgroup": "YZLZPSJXMWGIFH-CVTGKDCZSA-N",
         "line": {
          "color": "#FFA15A",
          "dash": "solid"
         },
         "marker": {
          "symbol": "circle"
         },
         "mode": "lines+markers",
         "name": "YZLZPSJXMWGIFH-CVTGKDCZSA-N",
         "orientation": "v",
         "showlegend": true,
         "type": "scatter",
         "x": [
          0.833333
         ],
         "xaxis": "x",
         "y": [
          12.631853610009832
         ],
         "yaxis": "y"
        },
        {
         "customdata": [
          [
           "melperone",
           259.5
          ]
         ],
         "error_y": {
          "array": [
           0.9765933818402316
          ],
          "arrayminus": [
           0.9765933818402316
          ]
         },
         "hovertemplate": "<b>%{hovertext}</b><br><br>conc=%{x}<br>distance=%{y:.3f}<br>count_nuclei=%{customdata[1]:.1f}<extra></extra>",
         "hovertext": [
          "melperone"
         ],
         "legendgroup": "melperone",
         "line": {
          "color": "#19d3f3",
          "dash": "solid"
         },
         "marker": {
          "symbol": "circle"
         },
         "mode": "lines+markers",
         "name": "melperone",
         "orientation": "v",
         "showlegend": true,
         "type": "scatter",
         "x": [
          10
         ],
         "xaxis": "x",
         "y": [
          12.689750917690894
         ],
         "yaxis": "y"
        },
        {
         "customdata": [
          [
           "MIGLITOL",
           252
          ]
         ],
         "error_y": {
          "array": [
           1.8393350973663267
          ],
          "arrayminus": [
           1.8393350973663267
          ]
         },
         "hovertemplate": "<b>%{hovertext}</b><br><br>conc=%{x}<br>distance=%{y:.3f}<br>count_nuclei=%{customdata[1]:.1f}<extra></extra>",
         "hovertext": [
          "MIGLITOL"
         ],
         "legendgroup": "MIGLITOL",
         "line": {
          "color": "#FF6692",
          "dash": "solid"
         },
         "marker": {
          "symbol": "circle"
         },
         "mode": "lines+markers",
         "name": "MIGLITOL",
         "orientation": "v",
         "showlegend": true,
         "type": "scatter",
         "x": [
          0.3
         ],
         "xaxis": "x",
         "y": [
          12.6992079862862
         ],
         "yaxis": "y"
        },
        {
         "customdata": [
          [
           "Miransertib",
           219
          ],
          [
           "Miransertib",
           221
          ]
         ],
         "error_y": {
          "array": [
           0.3575800287066304,
           0.0082064253344924
          ],
          "arrayminus": [
           0.3575800287066304,
           0.0082064253344924
          ]
         },
         "hovertemplate": "<b>%{hovertext}</b><br><br>conc=%{x}<br>distance=%{y:.3f}<br>count_nuclei=%{customdata[1]:.1f}<extra></extra>",
         "hovertext": [
          "Miransertib",
          "Miransertib"
         ],
         "legendgroup": "Miransertib",
         "line": {
          "color": "#B6E880",
          "dash": "solid"
         },
         "marker": {
          "symbol": "circle"
         },
         "mode": "lines+markers",
         "name": "Miransertib",
         "orientation": "v",
         "showlegend": true,
         "type": "scatter",
         "x": [
          0.3,
          3.333333
         ],
         "xaxis": "x",
         "y": [
          15.143684937680128,
          12.704269247014269
         ],
         "yaxis": "y"
        },
        {
         "customdata": [
          [
           "BYCPWTGMGKGTCJ-UHFFFAOYSA-N",
           239
          ],
          [
           "BYCPWTGMGKGTCJ-UHFFFAOYSA-N",
           243
          ]
         ],
         "error_y": {
          "array": [
           0,
           0
          ],
          "arrayminus": [
           0,
           0
          ]
         },
         "hovertemplate": "<b>%{hovertext}</b><br><br>conc=%{x}<br>distance=%{y:.3f}<br>count_nuclei=%{customdata[1]:.1f}<extra></extra>",
         "hovertext": [
          "BYCPWTGMGKGTCJ-UHFFFAOYSA-N",
          "BYCPWTGMGKGTCJ-UHFFFAOYSA-N"
         ],
         "legendgroup": "BYCPWTGMGKGTCJ-UHFFFAOYSA-N",
         "line": {
          "color": "#FF97FF",
          "dash": "solid"
         },
         "marker": {
          "symbol": "circle"
         },
         "mode": "lines+markers",
         "name": "BYCPWTGMGKGTCJ-UHFFFAOYSA-N",
         "orientation": "v",
         "showlegend": true,
         "type": "scatter",
         "x": [
          3.333333,
          10
         ],
         "xaxis": "x",
         "y": [
          16.03694875284215,
          12.717860917276832
         ],
         "yaxis": "y"
        },
        {
         "customdata": [
          [
           "DIPHENYLPYRALINE HYDROCHLORIDE",
           272
          ]
         ],
         "error_y": {
          "array": [
           0.5027498436840716
          ],
          "arrayminus": [
           0.5027498436840716
          ]
         },
         "hovertemplate": "<b>%{hovertext}</b><br><br>conc=%{x}<br>distance=%{y:.3f}<br>count_nuclei=%{customdata[1]:.1f}<extra></extra>",
         "hovertext": [
          "DIPHENYLPYRALINE HYDROCHLORIDE"
         ],
         "legendgroup": "DIPHENYLPYRALINE HYDROCHLORIDE",
         "line": {
          "color": "#FECB52",
          "dash": "solid"
         },
         "marker": {
          "symbol": "circle"
         },
         "mode": "lines+markers",
         "name": "DIPHENYLPYRALINE HYDROCHLORIDE",
         "orientation": "v",
         "showlegend": true,
         "type": "scatter",
         "x": [
          10
         ],
         "xaxis": "x",
         "y": [
          12.731696921893937
         ],
         "yaxis": "y"
        },
        {
         "customdata": [
          [
           "BA1064111",
           217
          ],
          [
           "BA1064111",
           242
          ]
         ],
         "error_y": {
          "array": [
           0,
           0
          ],
          "arrayminus": [
           0,
           0
          ]
         },
         "hovertemplate": "<b>%{hovertext}</b><br><br>conc=%{x}<br>distance=%{y:.3f}<br>count_nuclei=%{customdata[1]:.1f}<extra></extra>",
         "hovertext": [
          "BA1064111",
          "BA1064111"
         ],
         "legendgroup": "BA1064111",
         "line": {
          "color": "#636efa",
          "dash": "solid"
         },
         "marker": {
          "symbol": "circle"
         },
         "mode": "lines+markers",
         "name": "BA1064111",
         "orientation": "v",
         "showlegend": true,
         "type": "scatter",
         "x": [
          0.833333,
          3.333333
         ],
         "xaxis": "x",
         "y": [
          20.065282480508653,
          12.74469085275617
         ],
         "yaxis": "y"
        },
        {
         "customdata": [
          [
           "Ixazomib citrate",
           215
          ]
         ],
         "error_y": {
          "array": [
           1.7425001403467864
          ],
          "arrayminus": [
           1.7425001403467864
          ]
         },
         "hovertemplate": "<b>%{hovertext}</b><br><br>conc=%{x}<br>distance=%{y:.3f}<br>count_nuclei=%{customdata[1]:.1f}<extra></extra>",
         "hovertext": [
          "Ixazomib citrate"
         ],
         "legendgroup": "Ixazomib citrate",
         "line": {
          "color": "#EF553B",
          "dash": "solid"
         },
         "marker": {
          "symbol": "circle"
         },
         "mode": "lines+markers",
         "name": "Ixazomib citrate",
         "orientation": "v",
         "showlegend": true,
         "type": "scatter",
         "x": [
          0.1
         ],
         "xaxis": "x",
         "y": [
          12.751614519970916
         ],
         "yaxis": "y"
        },
        {
         "customdata": [
          [
           "SPP-86",
           224
          ],
          [
           "SPP-86",
           241
          ]
         ],
         "error_y": {
          "array": [
           0.7392961011970769,
           0.0712980739894231
          ],
          "arrayminus": [
           0.7392961011970769,
           0.0712980739894231
          ]
         },
         "hovertemplate": "<b>%{hovertext}</b><br><br>conc=%{x}<br>distance=%{y:.3f}<br>count_nuclei=%{customdata[1]:.1f}<extra></extra>",
         "hovertext": [
          "SPP-86",
          "SPP-86"
         ],
         "legendgroup": "SPP-86",
         "line": {
          "color": "#00cc96",
          "dash": "solid"
         },
         "marker": {
          "symbol": "circle"
         },
         "mode": "lines+markers",
         "name": "SPP-86",
         "orientation": "v",
         "showlegend": true,
         "type": "scatter",
         "x": [
          3.333333,
          10
         ],
         "xaxis": "x",
         "y": [
          13.692499224621669,
          12.753614316250356
         ],
         "yaxis": "y"
        },
        {
         "customdata": [
          [
           "Crizotinib (PF-02341066)",
           228
          ],
          [
           "Crizotinib (PF-02341066)",
           239
          ]
         ],
         "error_y": {
          "array": [
           1.7292748251293748,
           1.32905937164856
          ],
          "arrayminus": [
           1.7292748251293748,
           1.32905937164856
          ]
         },
         "hovertemplate": "<b>%{hovertext}</b><br><br>conc=%{x}<br>distance=%{y:.3f}<br>count_nuclei=%{customdata[1]:.1f}<extra></extra>",
         "hovertext": [
          "Crizotinib (PF-02341066)",
          "Crizotinib (PF-02341066)"
         ],
         "legendgroup": "Crizotinib (PF-02341066)",
         "line": {
          "color": "#ab63fa",
          "dash": "solid"
         },
         "marker": {
          "symbol": "circle"
         },
         "mode": "lines+markers",
         "name": "Crizotinib (PF-02341066)",
         "orientation": "v",
         "showlegend": true,
         "type": "scatter",
         "x": [
          0.1,
          0.3
         ],
         "xaxis": "x",
         "y": [
          14.873511830901636,
          12.7679259904347
         ],
         "yaxis": "y"
        },
        {
         "customdata": [
          [
           "VQZCWJKLJGUJMY-UHFFFAOYSA-N",
           218
          ],
          [
           "VQZCWJKLJGUJMY-UHFFFAOYSA-N",
           253
          ]
         ],
         "error_y": {
          "array": [
           0,
           0
          ],
          "arrayminus": [
           0,
           0
          ]
         },
         "hovertemplate": "<b>%{hovertext}</b><br><br>conc=%{x}<br>distance=%{y:.3f}<br>count_nuclei=%{customdata[1]:.1f}<extra></extra>",
         "hovertext": [
          "VQZCWJKLJGUJMY-UHFFFAOYSA-N",
          "VQZCWJKLJGUJMY-UHFFFAOYSA-N"
         ],
         "legendgroup": "VQZCWJKLJGUJMY-UHFFFAOYSA-N",
         "line": {
          "color": "#FFA15A",
          "dash": "solid"
         },
         "marker": {
          "symbol": "circle"
         },
         "mode": "lines+markers",
         "name": "VQZCWJKLJGUJMY-UHFFFAOYSA-N",
         "orientation": "v",
         "showlegend": true,
         "type": "scatter",
         "x": [
          3.333333,
          10
         ],
         "xaxis": "x",
         "y": [
          15.306164387490302,
          12.82590946252258
         ],
         "yaxis": "y"
        },
        {
         "customdata": [
          [
           "eact",
           264
          ]
         ],
         "error_y": {
          "array": [
           0.4842370666623221
          ],
          "arrayminus": [
           0.4842370666623221
          ]
         },
         "hovertemplate": "<b>%{hovertext}</b><br><br>conc=%{x}<br>distance=%{y:.3f}<br>count_nuclei=%{customdata[1]:.1f}<extra></extra>",
         "hovertext": [
          "eact"
         ],
         "legendgroup": "eact",
         "line": {
          "color": "#19d3f3",
          "dash": "solid"
         },
         "marker": {
          "symbol": "circle"
         },
         "mode": "lines+markers",
         "name": "eact",
         "orientation": "v",
         "showlegend": true,
         "type": "scatter",
         "x": [
          10
         ],
         "xaxis": "x",
         "y": [
          12.832062520131515
         ],
         "yaxis": "y"
        },
        {
         "customdata": [
          [
           "Ixazomib Citrate (MLN9708)",
           226
          ]
         ],
         "error_y": {
          "array": [
           1.1194049231611682
          ],
          "arrayminus": [
           1.1194049231611682
          ]
         },
         "hovertemplate": "<b>%{hovertext}</b><br><br>conc=%{x}<br>distance=%{y:.3f}<br>count_nuclei=%{customdata[1]:.1f}<extra></extra>",
         "hovertext": [
          "Ixazomib Citrate (MLN9708)"
         ],
         "legendgroup": "Ixazomib Citrate (MLN9708)",
         "line": {
          "color": "#FF6692",
          "dash": "solid"
         },
         "marker": {
          "symbol": "circle"
         },
         "mode": "lines+markers",
         "name": "Ixazomib Citrate (MLN9708)",
         "orientation": "v",
         "showlegend": true,
         "type": "scatter",
         "x": [
          0.1
         ],
         "xaxis": "x",
         "y": [
          12.869980278658929
         ],
         "yaxis": "y"
        },
        {
         "customdata": [
          [
           "DZALTSGNWCSPDB-AWEZNQCLSA-N",
           238
          ],
          [
           "DZALTSGNWCSPDB-AWEZNQCLSA-N",
           248
          ]
         ],
         "error_y": {
          "array": [
           0,
           0
          ],
          "arrayminus": [
           0,
           0
          ]
         },
         "hovertemplate": "<b>%{hovertext}</b><br><br>conc=%{x}<br>distance=%{y:.3f}<br>count_nuclei=%{customdata[1]:.1f}<extra></extra>",
         "hovertext": [
          "DZALTSGNWCSPDB-AWEZNQCLSA-N",
          "DZALTSGNWCSPDB-AWEZNQCLSA-N"
         ],
         "legendgroup": "DZALTSGNWCSPDB-AWEZNQCLSA-N",
         "line": {
          "color": "#B6E880",
          "dash": "solid"
         },
         "marker": {
          "symbol": "circle"
         },
         "mode": "lines+markers",
         "name": "DZALTSGNWCSPDB-AWEZNQCLSA-N",
         "orientation": "v",
         "showlegend": true,
         "type": "scatter",
         "x": [
          3.333333,
          10
         ],
         "xaxis": "x",
         "y": [
          16.752098749787187,
          12.877672564057532
         ],
         "yaxis": "y"
        },
        {
         "customdata": [
          [
           "LJMNIRFVWJVEFD-UHFFFAOYSA-N",
           224
          ],
          [
           "LJMNIRFVWJVEFD-UHFFFAOYSA-N",
           242
          ]
         ],
         "error_y": {
          "array": [
           0,
           0
          ],
          "arrayminus": [
           0,
           0
          ]
         },
         "hovertemplate": "<b>%{hovertext}</b><br><br>conc=%{x}<br>distance=%{y:.3f}<br>count_nuclei=%{customdata[1]:.1f}<extra></extra>",
         "hovertext": [
          "LJMNIRFVWJVEFD-UHFFFAOYSA-N",
          "LJMNIRFVWJVEFD-UHFFFAOYSA-N"
         ],
         "legendgroup": "LJMNIRFVWJVEFD-UHFFFAOYSA-N",
         "line": {
          "color": "#FF97FF",
          "dash": "solid"
         },
         "marker": {
          "symbol": "circle"
         },
         "mode": "lines+markers",
         "name": "LJMNIRFVWJVEFD-UHFFFAOYSA-N",
         "orientation": "v",
         "showlegend": true,
         "type": "scatter",
         "x": [
          3.333333,
          10
         ],
         "xaxis": "x",
         "y": [
          17.44045166896735,
          12.88858639087648
         ],
         "yaxis": "y"
        },
        {
         "customdata": [
          [
           "BETP",
           235
          ],
          [
           "BETP",
           250
          ]
         ],
         "error_y": {
          "array": [
           0.9650211773430007,
           0.0983765834263419
          ],
          "arrayminus": [
           0.9650211773430007,
           0.0983765834263419
          ]
         },
         "hovertemplate": "<b>%{hovertext}</b><br><br>conc=%{x}<br>distance=%{y:.3f}<br>count_nuclei=%{customdata[1]:.1f}<extra></extra>",
         "hovertext": [
          "BETP",
          "BETP"
         ],
         "legendgroup": "BETP",
         "line": {
          "color": "#FECB52",
          "dash": "solid"
         },
         "marker": {
          "symbol": "circle"
         },
         "mode": "lines+markers",
         "name": "BETP",
         "orientation": "v",
         "showlegend": true,
         "type": "scatter",
         "x": [
          0.3,
          3.333333
         ],
         "xaxis": "x",
         "y": [
          16.36096806847912,
          12.963043750346747
         ],
         "yaxis": "y"
        },
        {
         "customdata": [
          [
           "axitinib",
           256
          ]
         ],
         "error_y": {
          "array": [
           1.3058293937288727
          ],
          "arrayminus": [
           1.3058293937288727
          ]
         },
         "hovertemplate": "<b>%{hovertext}</b><br><br>conc=%{x}<br>distance=%{y:.3f}<br>count_nuclei=%{customdata[1]:.1f}<extra></extra>",
         "hovertext": [
          "axitinib"
         ],
         "legendgroup": "axitinib",
         "line": {
          "color": "#636efa",
          "dash": "solid"
         },
         "marker": {
          "symbol": "circle"
         },
         "mode": "lines+markers",
         "name": "axitinib",
         "orientation": "v",
         "showlegend": true,
         "type": "scatter",
         "x": [
          0.3
         ],
         "xaxis": "x",
         "y": [
          12.963103197448936
         ],
         "yaxis": "y"
        },
        {
         "customdata": [
          [
           "VVCNQPLHZHCXKH-UHFFFAOYSA-N",
           226.5
          ],
          [
           "VVCNQPLHZHCXKH-UHFFFAOYSA-N",
           229
          ]
         ],
         "error_y": {
          "array": [
           0,
           0
          ],
          "arrayminus": [
           0,
           0
          ]
         },
         "hovertemplate": "<b>%{hovertext}</b><br><br>conc=%{x}<br>distance=%{y:.3f}<br>count_nuclei=%{customdata[1]:.1f}<extra></extra>",
         "hovertext": [
          "VVCNQPLHZHCXKH-UHFFFAOYSA-N",
          "VVCNQPLHZHCXKH-UHFFFAOYSA-N"
         ],
         "legendgroup": "VVCNQPLHZHCXKH-UHFFFAOYSA-N",
         "line": {
          "color": "#EF553B",
          "dash": "solid"
         },
         "marker": {
          "symbol": "circle"
         },
         "mode": "lines+markers",
         "name": "VVCNQPLHZHCXKH-UHFFFAOYSA-N",
         "orientation": "v",
         "showlegend": true,
         "type": "scatter",
         "x": [
          0.833333,
          3.333333
         ],
         "xaxis": "x",
         "y": [
          20.7718332376854,
          12.974179932966042
         ],
         "yaxis": "y"
        },
        {
         "customdata": [
          [
           "SJXJEAQVHBGSDL-UHFFFAOYSA-N",
           260
          ]
         ],
         "error_y": {
          "array": [
           0
          ],
          "arrayminus": [
           0
          ]
         },
         "hovertemplate": "<b>%{hovertext}</b><br><br>conc=%{x}<br>distance=%{y:.3f}<br>count_nuclei=%{customdata[1]:.1f}<extra></extra>",
         "hovertext": [
          "SJXJEAQVHBGSDL-UHFFFAOYSA-N"
         ],
         "legendgroup": "SJXJEAQVHBGSDL-UHFFFAOYSA-N",
         "line": {
          "color": "#00cc96",
          "dash": "solid"
         },
         "marker": {
          "symbol": "circle"
         },
         "mode": "lines+markers",
         "name": "SJXJEAQVHBGSDL-UHFFFAOYSA-N",
         "orientation": "v",
         "showlegend": true,
         "type": "scatter",
         "x": [
          0.833333
         ],
         "xaxis": "x",
         "y": [
          12.97731868138625
         ],
         "yaxis": "y"
        },
        {
         "customdata": [
          [
           "NEEKVKZFYBQFGT-BTJKTKAUSA-N",
           236
          ],
          [
           "NEEKVKZFYBQFGT-BTJKTKAUSA-N",
           259
          ]
         ],
         "error_y": {
          "array": [
           0,
           0
          ],
          "arrayminus": [
           0,
           0
          ]
         },
         "hovertemplate": "<b>%{hovertext}</b><br><br>conc=%{x}<br>distance=%{y:.3f}<br>count_nuclei=%{customdata[1]:.1f}<extra></extra>",
         "hovertext": [
          "NEEKVKZFYBQFGT-BTJKTKAUSA-N",
          "NEEKVKZFYBQFGT-BTJKTKAUSA-N"
         ],
         "legendgroup": "NEEKVKZFYBQFGT-BTJKTKAUSA-N",
         "line": {
          "color": "#ab63fa",
          "dash": "solid"
         },
         "marker": {
          "symbol": "circle"
         },
         "mode": "lines+markers",
         "name": "NEEKVKZFYBQFGT-BTJKTKAUSA-N",
         "orientation": "v",
         "showlegend": true,
         "type": "scatter",
         "x": [
          3.333333,
          10
         ],
         "xaxis": "x",
         "y": [
          14.321649613961986,
          12.996093636702737
         ],
         "yaxis": "y"
        },
        {
         "customdata": [
          [
           "BA1064116",
           237
          ]
         ],
         "error_y": {
          "array": [
           0
          ],
          "arrayminus": [
           0
          ]
         },
         "hovertemplate": "<b>%{hovertext}</b><br><br>conc=%{x}<br>distance=%{y:.3f}<br>count_nuclei=%{customdata[1]:.1f}<extra></extra>",
         "hovertext": [
          "BA1064116"
         ],
         "legendgroup": "BA1064116",
         "line": {
          "color": "#FFA15A",
          "dash": "solid"
         },
         "marker": {
          "symbol": "circle"
         },
         "mode": "lines+markers",
         "name": "BA1064116",
         "orientation": "v",
         "showlegend": true,
         "type": "scatter",
         "x": [
          0.833333
         ],
         "xaxis": "x",
         "y": [
          12.997026035524485
         ],
         "yaxis": "y"
        },
        {
         "customdata": [
          [
           "CYCLOSPORINE",
           209
          ],
          [
           "CYCLOSPORINE",
           255
          ]
         ],
         "error_y": {
          "array": [
           0.0698412755133084,
           1.6856804321560972
          ],
          "arrayminus": [
           0.0698412755133084,
           1.6856804321560972
          ]
         },
         "hovertemplate": "<b>%{hovertext}</b><br><br>conc=%{x}<br>distance=%{y:.3f}<br>count_nuclei=%{customdata[1]:.1f}<extra></extra>",
         "hovertext": [
          "CYCLOSPORINE",
          "CYCLOSPORINE"
         ],
         "legendgroup": "CYCLOSPORINE",
         "line": {
          "color": "#19d3f3",
          "dash": "solid"
         },
         "marker": {
          "symbol": "circle"
         },
         "mode": "lines+markers",
         "name": "CYCLOSPORINE",
         "orientation": "v",
         "showlegend": true,
         "type": "scatter",
         "x": [
          0.3,
          3.333333
         ],
         "xaxis": "x",
         "y": [
          15.64171070529827,
          13.018975520100874
         ],
         "yaxis": "y"
        },
        {
         "customdata": [
          [
           "3'-fluorobenzylspiperone",
           224
          ],
          [
           "3'-fluorobenzylspiperone",
           249
          ]
         ],
         "error_y": {
          "array": [
           1.599794804333472,
           1.4630078220202272
          ],
          "arrayminus": [
           1.599794804333472,
           1.4630078220202272
          ]
         },
         "hovertemplate": "<b>%{hovertext}</b><br><br>conc=%{x}<br>distance=%{y:.3f}<br>count_nuclei=%{customdata[1]:.1f}<extra></extra>",
         "hovertext": [
          "3'-fluorobenzylspiperone",
          "3'-fluorobenzylspiperone"
         ],
         "legendgroup": "3'-fluorobenzylspiperone",
         "line": {
          "color": "#FF6692",
          "dash": "solid"
         },
         "marker": {
          "symbol": "circle"
         },
         "mode": "lines+markers",
         "name": "3'-fluorobenzylspiperone",
         "orientation": "v",
         "showlegend": true,
         "type": "scatter",
         "x": [
          0.3,
          0.833333
         ],
         "xaxis": "x",
         "y": [
          13.81635275005775,
          13.045623898077752
         ],
         "yaxis": "y"
        },
        {
         "customdata": [
          [
           "HYDROXYPROGESTERONE CAPROATE",
           235
          ],
          [
           "HYDROXYPROGESTERONE CAPROATE",
           253
          ]
         ],
         "error_y": {
          "array": [
           0.9021270763113858,
           0.8226489550017053
          ],
          "arrayminus": [
           0.9021270763113858,
           0.8226489550017053
          ]
         },
         "hovertemplate": "<b>%{hovertext}</b><br><br>conc=%{x}<br>distance=%{y:.3f}<br>count_nuclei=%{customdata[1]:.1f}<extra></extra>",
         "hovertext": [
          "HYDROXYPROGESTERONE CAPROATE",
          "HYDROXYPROGESTERONE CAPROATE"
         ],
         "legendgroup": "HYDROXYPROGESTERONE CAPROATE",
         "line": {
          "color": "#B6E880",
          "dash": "solid"
         },
         "marker": {
          "symbol": "circle"
         },
         "mode": "lines+markers",
         "name": "HYDROXYPROGESTERONE CAPROATE",
         "orientation": "v",
         "showlegend": true,
         "type": "scatter",
         "x": [
          3.333333,
          10
         ],
         "xaxis": "x",
         "y": [
          13.912195999305633,
          13.05017118126562
         ],
         "yaxis": "y"
        },
        {
         "customdata": [
          [
           "Mosapride citrate",
           255.25
          ]
         ],
         "error_y": {
          "array": [
           0.9385989728321428
          ],
          "arrayminus": [
           0.9385989728321428
          ]
         },
         "hovertemplate": "<b>%{hovertext}</b><br><br>conc=%{x}<br>distance=%{y:.3f}<br>count_nuclei=%{customdata[1]:.1f}<extra></extra>",
         "hovertext": [
          "Mosapride citrate"
         ],
         "legendgroup": "Mosapride citrate",
         "line": {
          "color": "#FF97FF",
          "dash": "solid"
         },
         "marker": {
          "symbol": "circle"
         },
         "mode": "lines+markers",
         "name": "Mosapride citrate",
         "orientation": "v",
         "showlegend": true,
         "type": "scatter",
         "x": [
          10
         ],
         "xaxis": "x",
         "y": [
          13.06848431717442
         ],
         "yaxis": "y"
        },
        {
         "customdata": [
          [
           "atiprimod",
           257
          ]
         ],
         "error_y": {
          "array": [
           1.7250370652838498
          ],
          "arrayminus": [
           1.7250370652838498
          ]
         },
         "hovertemplate": "<b>%{hovertext}</b><br><br>conc=%{x}<br>distance=%{y:.3f}<br>count_nuclei=%{customdata[1]:.1f}<extra></extra>",
         "hovertext": [
          "atiprimod"
         ],
         "legendgroup": "atiprimod",
         "line": {
          "color": "#FECB52",
          "dash": "solid"
         },
         "marker": {
          "symbol": "circle"
         },
         "mode": "lines+markers",
         "name": "atiprimod",
         "orientation": "v",
         "showlegend": true,
         "type": "scatter",
         "x": [
          0.833333
         ],
         "xaxis": "x",
         "y": [
          13.072681544232903
         ],
         "yaxis": "y"
        },
        {
         "customdata": [
          [
           "LDN-212854",
           245
          ]
         ],
         "error_y": {
          "array": [
           0.0390961739845412
          ],
          "arrayminus": [
           0.0390961739845412
          ]
         },
         "hovertemplate": "<b>%{hovertext}</b><br><br>conc=%{x}<br>distance=%{y:.3f}<br>count_nuclei=%{customdata[1]:.1f}<extra></extra>",
         "hovertext": [
          "LDN-212854"
         ],
         "legendgroup": "LDN-212854",
         "line": {
          "color": "#636efa",
          "dash": "solid"
         },
         "marker": {
          "symbol": "circle"
         },
         "mode": "lines+markers",
         "name": "LDN-212854",
         "orientation": "v",
         "showlegend": true,
         "type": "scatter",
         "x": [
          0.3
         ],
         "xaxis": "x",
         "y": [
          13.090780840361584
         ],
         "yaxis": "y"
        },
        {
         "customdata": [
          [
           "TCN-238",
           258.5
          ]
         ],
         "error_y": {
          "array": [
           1.093014244909039
          ],
          "arrayminus": [
           1.093014244909039
          ]
         },
         "hovertemplate": "<b>%{hovertext}</b><br><br>conc=%{x}<br>distance=%{y:.3f}<br>count_nuclei=%{customdata[1]:.1f}<extra></extra>",
         "hovertext": [
          "TCN-238"
         ],
         "legendgroup": "TCN-238",
         "line": {
          "color": "#EF553B",
          "dash": "solid"
         },
         "marker": {
          "symbol": "circle"
         },
         "mode": "lines+markers",
         "name": "TCN-238",
         "orientation": "v",
         "showlegend": true,
         "type": "scatter",
         "x": [
          10
         ],
         "xaxis": "x",
         "y": [
          13.112114307912002
         ],
         "yaxis": "y"
        },
        {
         "customdata": [
          [
           "PSBMEULKFGQKSB-UHFFFAOYSA-N",
           216
          ],
          [
           "PSBMEULKFGQKSB-UHFFFAOYSA-N",
           207
          ]
         ],
         "error_y": {
          "array": [
           0,
           0
          ],
          "arrayminus": [
           0,
           0
          ]
         },
         "hovertemplate": "<b>%{hovertext}</b><br><br>conc=%{x}<br>distance=%{y:.3f}<br>count_nuclei=%{customdata[1]:.1f}<extra></extra>",
         "hovertext": [
          "PSBMEULKFGQKSB-UHFFFAOYSA-N",
          "PSBMEULKFGQKSB-UHFFFAOYSA-N"
         ],
         "legendgroup": "PSBMEULKFGQKSB-UHFFFAOYSA-N",
         "line": {
          "color": "#00cc96",
          "dash": "solid"
         },
         "marker": {
          "symbol": "circle"
         },
         "mode": "lines+markers",
         "name": "PSBMEULKFGQKSB-UHFFFAOYSA-N",
         "orientation": "v",
         "showlegend": true,
         "type": "scatter",
         "x": [
          3.333333,
          10
         ],
         "xaxis": "x",
         "y": [
          17.57467803116044,
          13.113407238006417
         ],
         "yaxis": "y"
        },
        {
         "customdata": [
          [
           "NVP-BVU972",
           238.5
          ]
         ],
         "error_y": {
          "array": [
           2.0062734828071243
          ],
          "arrayminus": [
           2.0062734828071243
          ]
         },
         "hovertemplate": "<b>%{hovertext}</b><br><br>conc=%{x}<br>distance=%{y:.3f}<br>count_nuclei=%{customdata[1]:.1f}<extra></extra>",
         "hovertext": [
          "NVP-BVU972"
         ],
         "legendgroup": "NVP-BVU972",
         "line": {
          "color": "#ab63fa",
          "dash": "solid"
         },
         "marker": {
          "symbol": "circle"
         },
         "mode": "lines+markers",
         "name": "NVP-BVU972",
         "orientation": "v",
         "showlegend": true,
         "type": "scatter",
         "x": [
          10
         ],
         "xaxis": "x",
         "y": [
          13.128767087678415
         ],
         "yaxis": "y"
        },
        {
         "customdata": [
          [
           "RS-39604",
           243
          ],
          [
           "RS-39604",
           280
          ]
         ],
         "error_y": {
          "array": [
           4.269795512350299,
           0.2916616971527279
          ],
          "arrayminus": [
           4.269795512350299,
           0.2916616971527279
          ]
         },
         "hovertemplate": "<b>%{hovertext}</b><br><br>conc=%{x}<br>distance=%{y:.3f}<br>count_nuclei=%{customdata[1]:.1f}<extra></extra>",
         "hovertext": [
          "RS-39604",
          "RS-39604"
         ],
         "legendgroup": "RS-39604",
         "line": {
          "color": "#FFA15A",
          "dash": "solid"
         },
         "marker": {
          "symbol": "circle"
         },
         "mode": "lines+markers",
         "name": "RS-39604",
         "orientation": "v",
         "showlegend": true,
         "type": "scatter",
         "x": [
          0.833333,
          3.333333
         ],
         "xaxis": "x",
         "y": [
          13.239137109363298,
          13.133516980612624
         ],
         "yaxis": "y"
        },
        {
         "customdata": [
          [
           "RSQIQXQBWLIKMG-UHFFFAOYSA-N",
           249
          ],
          [
           "RSQIQXQBWLIKMG-UHFFFAOYSA-N",
           267
          ]
         ],
         "error_y": {
          "array": [
           0,
           0
          ],
          "arrayminus": [
           0,
           0
          ]
         },
         "hovertemplate": "<b>%{hovertext}</b><br><br>conc=%{x}<br>distance=%{y:.3f}<br>count_nuclei=%{customdata[1]:.1f}<extra></extra>",
         "hovertext": [
          "RSQIQXQBWLIKMG-UHFFFAOYSA-N",
          "RSQIQXQBWLIKMG-UHFFFAOYSA-N"
         ],
         "legendgroup": "RSQIQXQBWLIKMG-UHFFFAOYSA-N",
         "line": {
          "color": "#19d3f3",
          "dash": "solid"
         },
         "marker": {
          "symbol": "circle"
         },
         "mode": "lines+markers",
         "name": "RSQIQXQBWLIKMG-UHFFFAOYSA-N",
         "orientation": "v",
         "showlegend": true,
         "type": "scatter",
         "x": [
          3.333333,
          10
         ],
         "xaxis": "x",
         "y": [
          13.79470820548444,
          13.135812962984314
         ],
         "yaxis": "y"
        },
        {
         "customdata": [
          [
           "blebbistatin-(+/-)",
           253.5
          ]
         ],
         "error_y": {
          "array": [
           0.2796276489696865
          ],
          "arrayminus": [
           0.2796276489696865
          ]
         },
         "hovertemplate": "<b>%{hovertext}</b><br><br>conc=%{x}<br>distance=%{y:.3f}<br>count_nuclei=%{customdata[1]:.1f}<extra></extra>",
         "hovertext": [
          "blebbistatin-(+/-)"
         ],
         "legendgroup": "blebbistatin-(+/-)",
         "line": {
          "color": "#FF6692",
          "dash": "solid"
         },
         "marker": {
          "symbol": "circle"
         },
         "mode": "lines+markers",
         "name": "blebbistatin-(+/-)",
         "orientation": "v",
         "showlegend": true,
         "type": "scatter",
         "x": [
          10
         ],
         "xaxis": "x",
         "y": [
          13.154305292170475
         ],
         "yaxis": "y"
        },
        {
         "customdata": [
          [
           "JIB04 (NSC693627)",
           221
          ],
          [
           "JIB04 (NSC693627)",
           211
          ]
         ],
         "error_y": {
          "array": [
           0.0038768198642991,
           0.4347641713092063
          ],
          "arrayminus": [
           0.0038768198642991,
           0.4347641713092063
          ]
         },
         "hovertemplate": "<b>%{hovertext}</b><br><br>conc=%{x}<br>distance=%{y:.3f}<br>count_nuclei=%{customdata[1]:.1f}<extra></extra>",
         "hovertext": [
          "JIB04 (NSC693627)",
          "JIB04 (NSC693627)"
         ],
         "legendgroup": "JIB04 (NSC693627)",
         "line": {
          "color": "#B6E880",
          "dash": "solid"
         },
         "marker": {
          "symbol": "circle"
         },
         "mode": "lines+markers",
         "name": "JIB04 (NSC693627)",
         "orientation": "v",
         "showlegend": true,
         "type": "scatter",
         "x": [
          3.333333,
          10
         ],
         "xaxis": "x",
         "y": [
          15.121317656179157,
          13.156000541171457
         ],
         "yaxis": "y"
        },
        {
         "customdata": [
          [
           "HOCSVIGHWPLMFC-UHFFFAOYSA-N",
           236
          ]
         ],
         "error_y": {
          "array": [
           0
          ],
          "arrayminus": [
           0
          ]
         },
         "hovertemplate": "<b>%{hovertext}</b><br><br>conc=%{x}<br>distance=%{y:.3f}<br>count_nuclei=%{customdata[1]:.1f}<extra></extra>",
         "hovertext": [
          "HOCSVIGHWPLMFC-UHFFFAOYSA-N"
         ],
         "legendgroup": "HOCSVIGHWPLMFC-UHFFFAOYSA-N",
         "line": {
          "color": "#FF97FF",
          "dash": "solid"
         },
         "marker": {
          "symbol": "circle"
         },
         "mode": "lines+markers",
         "name": "HOCSVIGHWPLMFC-UHFFFAOYSA-N",
         "orientation": "v",
         "showlegend": true,
         "type": "scatter",
         "x": [
          0.833333
         ],
         "xaxis": "x",
         "y": [
          13.170694872946676
         ],
         "yaxis": "y"
        },
        {
         "customdata": [
          [
           "BMS-191011",
           242
          ]
         ],
         "error_y": {
          "array": [
           0.0854547606107836
          ],
          "arrayminus": [
           0.0854547606107836
          ]
         },
         "hovertemplate": "<b>%{hovertext}</b><br><br>conc=%{x}<br>distance=%{y:.3f}<br>count_nuclei=%{customdata[1]:.1f}<extra></extra>",
         "hovertext": [
          "BMS-191011"
         ],
         "legendgroup": "BMS-191011",
         "line": {
          "color": "#FECB52",
          "dash": "solid"
         },
         "marker": {
          "symbol": "circle"
         },
         "mode": "lines+markers",
         "name": "BMS-191011",
         "orientation": "v",
         "showlegend": true,
         "type": "scatter",
         "x": [
          0.3
         ],
         "xaxis": "x",
         "y": [
          13.183238181979752
         ],
         "yaxis": "y"
        },
        {
         "customdata": [
          [
           "SQNOQAMOMUBPHK-FFZCCNEYSA-N",
           239
          ],
          [
           "SQNOQAMOMUBPHK-FFZCCNEYSA-N",
           236
          ]
         ],
         "error_y": {
          "array": [
           0,
           0
          ],
          "arrayminus": [
           0,
           0
          ]
         },
         "hovertemplate": "<b>%{hovertext}</b><br><br>conc=%{x}<br>distance=%{y:.3f}<br>count_nuclei=%{customdata[1]:.1f}<extra></extra>",
         "hovertext": [
          "SQNOQAMOMUBPHK-FFZCCNEYSA-N",
          "SQNOQAMOMUBPHK-FFZCCNEYSA-N"
         ],
         "legendgroup": "SQNOQAMOMUBPHK-FFZCCNEYSA-N",
         "line": {
          "color": "#636efa",
          "dash": "solid"
         },
         "marker": {
          "symbol": "circle"
         },
         "mode": "lines+markers",
         "name": "SQNOQAMOMUBPHK-FFZCCNEYSA-N",
         "orientation": "v",
         "showlegend": true,
         "type": "scatter",
         "x": [
          0.833333,
          3.333333
         ],
         "xaxis": "x",
         "y": [
          17.649685547284392,
          13.184694069497256
         ],
         "yaxis": "y"
        },
        {
         "customdata": [
          [
           "BHQ",
           268
          ]
         ],
         "error_y": {
          "array": [
           0.5400313020273142
          ],
          "arrayminus": [
           0.5400313020273142
          ]
         },
         "hovertemplate": "<b>%{hovertext}</b><br><br>conc=%{x}<br>distance=%{y:.3f}<br>count_nuclei=%{customdata[1]:.1f}<extra></extra>",
         "hovertext": [
          "BHQ"
         ],
         "legendgroup": "BHQ",
         "line": {
          "color": "#EF553B",
          "dash": "solid"
         },
         "marker": {
          "symbol": "circle"
         },
         "mode": "lines+markers",
         "name": "BHQ",
         "orientation": "v",
         "showlegend": true,
         "type": "scatter",
         "x": [
          0.3
         ],
         "xaxis": "x",
         "y": [
          13.187817867684258
         ],
         "yaxis": "y"
        },
        {
         "customdata": [
          [
           "MYCOPHENOLATE MOFETIL",
           252
          ]
         ],
         "error_y": {
          "array": [
           3.219195183409294
          ],
          "arrayminus": [
           3.219195183409294
          ]
         },
         "hovertemplate": "<b>%{hovertext}</b><br><br>conc=%{x}<br>distance=%{y:.3f}<br>count_nuclei=%{customdata[1]:.1f}<extra></extra>",
         "hovertext": [
          "MYCOPHENOLATE MOFETIL"
         ],
         "legendgroup": "MYCOPHENOLATE MOFETIL",
         "line": {
          "color": "#00cc96",
          "dash": "solid"
         },
         "marker": {
          "symbol": "circle"
         },
         "mode": "lines+markers",
         "name": "MYCOPHENOLATE MOFETIL",
         "orientation": "v",
         "showlegend": true,
         "type": "scatter",
         "x": [
          0.3
         ],
         "xaxis": "x",
         "y": [
          13.19146881020719
         ],
         "yaxis": "y"
        },
        {
         "customdata": [
          [
           "QKQJSXYAMYUEJE-UHFFFAOYSA-N",
           229
          ]
         ],
         "error_y": {
          "array": [
           0
          ],
          "arrayminus": [
           0
          ]
         },
         "hovertemplate": "<b>%{hovertext}</b><br><br>conc=%{x}<br>distance=%{y:.3f}<br>count_nuclei=%{customdata[1]:.1f}<extra></extra>",
         "hovertext": [
          "QKQJSXYAMYUEJE-UHFFFAOYSA-N"
         ],
         "legendgroup": "QKQJSXYAMYUEJE-UHFFFAOYSA-N",
         "line": {
          "color": "#ab63fa",
          "dash": "solid"
         },
         "marker": {
          "symbol": "circle"
         },
         "mode": "lines+markers",
         "name": "QKQJSXYAMYUEJE-UHFFFAOYSA-N",
         "orientation": "v",
         "showlegend": true,
         "type": "scatter",
         "x": [
          0.833333
         ],
         "xaxis": "x",
         "y": [
          13.1971841006371
         ],
         "yaxis": "y"
        },
        {
         "customdata": [
          [
           "SIS3",
           242.5
          ]
         ],
         "error_y": {
          "array": [
           2.0486417869782656
          ],
          "arrayminus": [
           2.0486417869782656
          ]
         },
         "hovertemplate": "<b>%{hovertext}</b><br><br>conc=%{x}<br>distance=%{y:.3f}<br>count_nuclei=%{customdata[1]:.1f}<extra></extra>",
         "hovertext": [
          "SIS3"
         ],
         "legendgroup": "SIS3",
         "line": {
          "color": "#FFA15A",
          "dash": "solid"
         },
         "marker": {
          "symbol": "circle"
         },
         "mode": "lines+markers",
         "name": "SIS3",
         "orientation": "v",
         "showlegend": true,
         "type": "scatter",
         "x": [
          10
         ],
         "xaxis": "x",
         "y": [
          13.219002175341656
         ],
         "yaxis": "y"
        },
        {
         "customdata": [
          [
           "ETC-159",
           227.5
          ]
         ],
         "error_y": {
          "array": [
           1.1795802932768389
          ],
          "arrayminus": [
           1.1795802932768389
          ]
         },
         "hovertemplate": "<b>%{hovertext}</b><br><br>conc=%{x}<br>distance=%{y:.3f}<br>count_nuclei=%{customdata[1]:.1f}<extra></extra>",
         "hovertext": [
          "ETC-159"
         ],
         "legendgroup": "ETC-159",
         "line": {
          "color": "#19d3f3",
          "dash": "solid"
         },
         "marker": {
          "symbol": "circle"
         },
         "mode": "lines+markers",
         "name": "ETC-159",
         "orientation": "v",
         "showlegend": true,
         "type": "scatter",
         "x": [
          10
         ],
         "xaxis": "x",
         "y": [
          13.226588267658927
         ],
         "yaxis": "y"
        },
        {
         "customdata": [
          [
           "Azaguanine-8",
           247
          ],
          [
           "Azaguanine-8",
           250
          ]
         ],
         "error_y": {
          "array": [
           1.47423838829636,
           1.1529159422396162
          ],
          "arrayminus": [
           1.47423838829636,
           1.1529159422396162
          ]
         },
         "hovertemplate": "<b>%{hovertext}</b><br><br>conc=%{x}<br>distance=%{y:.3f}<br>count_nuclei=%{customdata[1]:.1f}<extra></extra>",
         "hovertext": [
          "Azaguanine-8",
          "Azaguanine-8"
         ],
         "legendgroup": "Azaguanine-8",
         "line": {
          "color": "#FF6692",
          "dash": "solid"
         },
         "marker": {
          "symbol": "circle"
         },
         "mode": "lines+markers",
         "name": "Azaguanine-8",
         "orientation": "v",
         "showlegend": true,
         "type": "scatter",
         "x": [
          0.833333,
          3.333333
         ],
         "xaxis": "x",
         "y": [
          15.096977495231418,
          13.24941741482588
         ],
         "yaxis": "y"
        },
        {
         "customdata": [
          [
           "XDGVDFHZMVKYMF-UHFFFAOYSA-N",
           224
          ],
          [
           "XDGVDFHZMVKYMF-UHFFFAOYSA-N",
           232
          ]
         ],
         "error_y": {
          "array": [
           0,
           0
          ],
          "arrayminus": [
           0,
           0
          ]
         },
         "hovertemplate": "<b>%{hovertext}</b><br><br>conc=%{x}<br>distance=%{y:.3f}<br>count_nuclei=%{customdata[1]:.1f}<extra></extra>",
         "hovertext": [
          "XDGVDFHZMVKYMF-UHFFFAOYSA-N",
          "XDGVDFHZMVKYMF-UHFFFAOYSA-N"
         ],
         "legendgroup": "XDGVDFHZMVKYMF-UHFFFAOYSA-N",
         "line": {
          "color": "#B6E880",
          "dash": "solid"
         },
         "marker": {
          "symbol": "circle"
         },
         "mode": "lines+markers",
         "name": "XDGVDFHZMVKYMF-UHFFFAOYSA-N",
         "orientation": "v",
         "showlegend": true,
         "type": "scatter",
         "x": [
          0.833333,
          3.333333
         ],
         "xaxis": "x",
         "y": [
          18.08322142197829,
          13.273559264803128
         ],
         "yaxis": "y"
        },
        {
         "customdata": [
          [
           "IVZWYQAMCCGTGL-UHFFFAOYSA-N",
           236.5
          ],
          [
           "IVZWYQAMCCGTGL-UHFFFAOYSA-N",
           232
          ]
         ],
         "error_y": {
          "array": [
           0,
           0
          ],
          "arrayminus": [
           0,
           0
          ]
         },
         "hovertemplate": "<b>%{hovertext}</b><br><br>conc=%{x}<br>distance=%{y:.3f}<br>count_nuclei=%{customdata[1]:.1f}<extra></extra>",
         "hovertext": [
          "IVZWYQAMCCGTGL-UHFFFAOYSA-N",
          "IVZWYQAMCCGTGL-UHFFFAOYSA-N"
         ],
         "legendgroup": "IVZWYQAMCCGTGL-UHFFFAOYSA-N",
         "line": {
          "color": "#FF97FF",
          "dash": "solid"
         },
         "marker": {
          "symbol": "circle"
         },
         "mode": "lines+markers",
         "name": "IVZWYQAMCCGTGL-UHFFFAOYSA-N",
         "orientation": "v",
         "showlegend": true,
         "type": "scatter",
         "x": [
          3.333333,
          10
         ],
         "xaxis": "x",
         "y": [
          14.443132485055273,
          13.30996937522761
         ],
         "yaxis": "y"
        },
        {
         "customdata": [
          [
           "edaglitazone",
           257
          ]
         ],
         "error_y": {
          "array": [
           1.4615248616392833
          ],
          "arrayminus": [
           1.4615248616392833
          ]
         },
         "hovertemplate": "<b>%{hovertext}</b><br><br>conc=%{x}<br>distance=%{y:.3f}<br>count_nuclei=%{customdata[1]:.1f}<extra></extra>",
         "hovertext": [
          "edaglitazone"
         ],
         "legendgroup": "edaglitazone",
         "line": {
          "color": "#FECB52",
          "dash": "solid"
         },
         "marker": {
          "symbol": "circle"
         },
         "mode": "lines+markers",
         "name": "edaglitazone",
         "orientation": "v",
         "showlegend": true,
         "type": "scatter",
         "x": [
          10
         ],
         "xaxis": "x",
         "y": [
          13.333214193186762
         ],
         "yaxis": "y"
        },
        {
         "customdata": [
          [
           "UQUPRKVKOUMIQM-RIYZIHGNSA-N",
           233
          ]
         ],
         "error_y": {
          "array": [
           0
          ],
          "arrayminus": [
           0
          ]
         },
         "hovertemplate": "<b>%{hovertext}</b><br><br>conc=%{x}<br>distance=%{y:.3f}<br>count_nuclei=%{customdata[1]:.1f}<extra></extra>",
         "hovertext": [
          "UQUPRKVKOUMIQM-RIYZIHGNSA-N"
         ],
         "legendgroup": "UQUPRKVKOUMIQM-RIYZIHGNSA-N",
         "line": {
          "color": "#636efa",
          "dash": "solid"
         },
         "marker": {
          "symbol": "circle"
         },
         "mode": "lines+markers",
         "name": "UQUPRKVKOUMIQM-RIYZIHGNSA-N",
         "orientation": "v",
         "showlegend": true,
         "type": "scatter",
         "x": [
          0.833333
         ],
         "xaxis": "x",
         "y": [
          13.352036763767291
         ],
         "yaxis": "y"
        },
        {
         "customdata": [
          [
           "SB-268262",
           239
          ],
          [
           "SB-268262",
           177
          ]
         ],
         "error_y": {
          "array": [
           0.403748216425166,
           2.3459955076528107
          ],
          "arrayminus": [
           0.403748216425166,
           2.3459955076528107
          ]
         },
         "hovertemplate": "<b>%{hovertext}</b><br><br>conc=%{x}<br>distance=%{y:.3f}<br>count_nuclei=%{customdata[1]:.1f}<extra></extra>",
         "hovertext": [
          "SB-268262",
          "SB-268262"
         ],
         "legendgroup": "SB-268262",
         "line": {
          "color": "#EF553B",
          "dash": "solid"
         },
         "marker": {
          "symbol": "circle"
         },
         "mode": "lines+markers",
         "name": "SB-268262",
         "orientation": "v",
         "showlegend": true,
         "type": "scatter",
         "x": [
          0.833333,
          3.333333
         ],
         "xaxis": "x",
         "y": [
          13.805963806192226,
          13.355182527567596
         ],
         "yaxis": "y"
        },
        {
         "customdata": [
          [
           "SCHYNEBURMLCDS-UHFFFAOYSA-N",
           215
          ],
          [
           "SCHYNEBURMLCDS-UHFFFAOYSA-N",
           219
          ]
         ],
         "error_y": {
          "array": [
           0,
           0
          ],
          "arrayminus": [
           0,
           0
          ]
         },
         "hovertemplate": "<b>%{hovertext}</b><br><br>conc=%{x}<br>distance=%{y:.3f}<br>count_nuclei=%{customdata[1]:.1f}<extra></extra>",
         "hovertext": [
          "SCHYNEBURMLCDS-UHFFFAOYSA-N",
          "SCHYNEBURMLCDS-UHFFFAOYSA-N"
         ],
         "legendgroup": "SCHYNEBURMLCDS-UHFFFAOYSA-N",
         "line": {
          "color": "#00cc96",
          "dash": "solid"
         },
         "marker": {
          "symbol": "circle"
         },
         "mode": "lines+markers",
         "name": "SCHYNEBURMLCDS-UHFFFAOYSA-N",
         "orientation": "v",
         "showlegend": true,
         "type": "scatter",
         "x": [
          0.833333,
          3.333333
         ],
         "xaxis": "x",
         "y": [
          17.95801115556916,
          13.365233984959104
         ],
         "yaxis": "y"
        },
        {
         "customdata": [
          [
           "Thiazovivin",
           273
          ],
          [
           "Thiazovivin",
           242
          ]
         ],
         "error_y": {
          "array": [
           0.0293212784254741,
           0.0789297036924274
          ],
          "arrayminus": [
           0.0293212784254741,
           0.0789297036924274
          ]
         },
         "hovertemplate": "<b>%{hovertext}</b><br><br>conc=%{x}<br>distance=%{y:.3f}<br>count_nuclei=%{customdata[1]:.1f}<extra></extra>",
         "hovertext": [
          "Thiazovivin",
          "Thiazovivin"
         ],
         "legendgroup": "Thiazovivin",
         "line": {
          "color": "#ab63fa",
          "dash": "solid"
         },
         "marker": {
          "symbol": "circle"
         },
         "mode": "lines+markers",
         "name": "Thiazovivin",
         "orientation": "v",
         "showlegend": true,
         "type": "scatter",
         "x": [
          0.1,
          0.3
         ],
         "xaxis": "x",
         "y": [
          13.838530341172667,
          13.373514890785522
         ],
         "yaxis": "y"
        },
        {
         "customdata": [
          [
           "BJJKMJWQLJIRGF-VEIFNGETSA-N",
           231
          ]
         ],
         "error_y": {
          "array": [
           0
          ],
          "arrayminus": [
           0
          ]
         },
         "hovertemplate": "<b>%{hovertext}</b><br><br>conc=%{x}<br>distance=%{y:.3f}<br>count_nuclei=%{customdata[1]:.1f}<extra></extra>",
         "hovertext": [
          "BJJKMJWQLJIRGF-VEIFNGETSA-N"
         ],
         "legendgroup": "BJJKMJWQLJIRGF-VEIFNGETSA-N",
         "line": {
          "color": "#FFA15A",
          "dash": "solid"
         },
         "marker": {
          "symbol": "circle"
         },
         "mode": "lines+markers",
         "name": "BJJKMJWQLJIRGF-VEIFNGETSA-N",
         "orientation": "v",
         "showlegend": true,
         "type": "scatter",
         "x": [
          0.833333
         ],
         "xaxis": "x",
         "y": [
          13.378050113900084
         ],
         "yaxis": "y"
        },
        {
         "customdata": [
          [
           "LNASWLBIATYITH-ZEYMBTCOSA-N",
           237
          ],
          [
           "LNASWLBIATYITH-ZEYMBTCOSA-N",
           248
          ]
         ],
         "error_y": {
          "array": [
           0,
           0
          ],
          "arrayminus": [
           0,
           0
          ]
         },
         "hovertemplate": "<b>%{hovertext}</b><br><br>conc=%{x}<br>distance=%{y:.3f}<br>count_nuclei=%{customdata[1]:.1f}<extra></extra>",
         "hovertext": [
          "LNASWLBIATYITH-ZEYMBTCOSA-N",
          "LNASWLBIATYITH-ZEYMBTCOSA-N"
         ],
         "legendgroup": "LNASWLBIATYITH-ZEYMBTCOSA-N",
         "line": {
          "color": "#19d3f3",
          "dash": "solid"
         },
         "marker": {
          "symbol": "circle"
         },
         "mode": "lines+markers",
         "name": "LNASWLBIATYITH-ZEYMBTCOSA-N",
         "orientation": "v",
         "showlegend": true,
         "type": "scatter",
         "x": [
          3.333333,
          10
         ],
         "xaxis": "x",
         "y": [
          16.56532955313504,
          13.401595639838824
         ],
         "yaxis": "y"
        },
        {
         "customdata": [
          [
           "PD-156707",
           238
          ],
          [
           "PD-156707",
           196
          ]
         ],
         "error_y": {
          "array": [
           0.8069499858043105,
           0.3810229204418682
          ],
          "arrayminus": [
           0.8069499858043105,
           0.3810229204418682
          ]
         },
         "hovertemplate": "<b>%{hovertext}</b><br><br>conc=%{x}<br>distance=%{y:.3f}<br>count_nuclei=%{customdata[1]:.1f}<extra></extra>",
         "hovertext": [
          "PD-156707",
          "PD-156707"
         ],
         "legendgroup": "PD-156707",
         "line": {
          "color": "#FF6692",
          "dash": "solid"
         },
         "marker": {
          "symbol": "circle"
         },
         "mode": "lines+markers",
         "name": "PD-156707",
         "orientation": "v",
         "showlegend": true,
         "type": "scatter",
         "x": [
          3.333333,
          10
         ],
         "xaxis": "x",
         "y": [
          15.333719373362024,
          13.433166156497723
         ],
         "yaxis": "y"
        },
        {
         "customdata": [
          [
           "SAR405",
           251
          ],
          [
           "SAR405",
           272
          ]
         ],
         "error_y": {
          "array": [
           2.584690084538103,
           1.5704495578616875
          ],
          "arrayminus": [
           2.584690084538103,
           1.5704495578616875
          ]
         },
         "hovertemplate": "<b>%{hovertext}</b><br><br>conc=%{x}<br>distance=%{y:.3f}<br>count_nuclei=%{customdata[1]:.1f}<extra></extra>",
         "hovertext": [
          "SAR405",
          "SAR405"
         ],
         "legendgroup": "SAR405",
         "line": {
          "color": "#B6E880",
          "dash": "solid"
         },
         "marker": {
          "symbol": "circle"
         },
         "mode": "lines+markers",
         "name": "SAR405",
         "orientation": "v",
         "showlegend": true,
         "type": "scatter",
         "x": [
          0.3,
          0.833333
         ],
         "xaxis": "x",
         "y": [
          15.749273656555031,
          13.435666297926025
         ],
         "yaxis": "y"
        },
        {
         "customdata": [
          [
           "FYSVKUUNXYGFLA-CCHMMTNSSA-N",
           236
          ]
         ],
         "error_y": {
          "array": [
           0
          ],
          "arrayminus": [
           0
          ]
         },
         "hovertemplate": "<b>%{hovertext}</b><br><br>conc=%{x}<br>distance=%{y:.3f}<br>count_nuclei=%{customdata[1]:.1f}<extra></extra>",
         "hovertext": [
          "FYSVKUUNXYGFLA-CCHMMTNSSA-N"
         ],
         "legendgroup": "FYSVKUUNXYGFLA-CCHMMTNSSA-N",
         "line": {
          "color": "#FF97FF",
          "dash": "solid"
         },
         "marker": {
          "symbol": "circle"
         },
         "mode": "lines+markers",
         "name": "FYSVKUUNXYGFLA-CCHMMTNSSA-N",
         "orientation": "v",
         "showlegend": true,
         "type": "scatter",
         "x": [
          0.833333
         ],
         "xaxis": "x",
         "y": [
          13.449859388962468
         ],
         "yaxis": "y"
        },
        {
         "customdata": [
          [
           "HOMIDIUM BROMIDE",
           235
          ]
         ],
         "error_y": {
          "array": [
           1.545390158468786
          ],
          "arrayminus": [
           1.545390158468786
          ]
         },
         "hovertemplate": "<b>%{hovertext}</b><br><br>conc=%{x}<br>distance=%{y:.3f}<br>count_nuclei=%{customdata[1]:.1f}<extra></extra>",
         "hovertext": [
          "HOMIDIUM BROMIDE"
         ],
         "legendgroup": "HOMIDIUM BROMIDE",
         "line": {
          "color": "#FECB52",
          "dash": "solid"
         },
         "marker": {
          "symbol": "circle"
         },
         "mode": "lines+markers",
         "name": "HOMIDIUM BROMIDE",
         "orientation": "v",
         "showlegend": true,
         "type": "scatter",
         "x": [
          10
         ],
         "xaxis": "x",
         "y": [
          13.451306436165702
         ],
         "yaxis": "y"
        },
        {
         "customdata": [
          [
           "gedunin",
           244
          ],
          [
           "gedunin",
           230
          ]
         ],
         "error_y": {
          "array": [
           0.4736147916919844,
           1.591747957386696
          ],
          "arrayminus": [
           0.4736147916919844,
           1.591747957386696
          ]
         },
         "hovertemplate": "<b>%{hovertext}</b><br><br>conc=%{x}<br>distance=%{y:.3f}<br>count_nuclei=%{customdata[1]:.1f}<extra></extra>",
         "hovertext": [
          "gedunin",
          "gedunin"
         ],
         "legendgroup": "gedunin",
         "line": {
          "color": "#636efa",
          "dash": "solid"
         },
         "marker": {
          "symbol": "circle"
         },
         "mode": "lines+markers",
         "name": "gedunin",
         "orientation": "v",
         "showlegend": true,
         "type": "scatter",
         "x": [
          0.3,
          3.333333
         ],
         "xaxis": "x",
         "y": [
          15.397588808229974,
          13.475044648139002
         ],
         "yaxis": "y"
        },
        {
         "customdata": [
          [
           "SIMVASTATIN",
           254
          ],
          [
           "SIMVASTATIN",
           242
          ]
         ],
         "error_y": {
          "array": [
           3.301768293955502,
           0.8545040327893059
          ],
          "arrayminus": [
           3.301768293955502,
           0.8545040327893059
          ]
         },
         "hovertemplate": "<b>%{hovertext}</b><br><br>conc=%{x}<br>distance=%{y:.3f}<br>count_nuclei=%{customdata[1]:.1f}<extra></extra>",
         "hovertext": [
          "SIMVASTATIN",
          "SIMVASTATIN"
         ],
         "legendgroup": "SIMVASTATIN",
         "line": {
          "color": "#EF553B",
          "dash": "solid"
         },
         "marker": {
          "symbol": "circle"
         },
         "mode": "lines+markers",
         "name": "SIMVASTATIN",
         "orientation": "v",
         "showlegend": true,
         "type": "scatter",
         "x": [
          0.1,
          0.3
         ],
         "xaxis": "x",
         "y": [
          13.875517321037998,
          13.482743751774713
         ],
         "yaxis": "y"
        },
        {
         "customdata": [
          [
           "RORQOOOXIGTFEK-UHFFFAOYSA-N",
           256
          ],
          [
           "RORQOOOXIGTFEK-UHFFFAOYSA-N",
           254
          ]
         ],
         "error_y": {
          "array": [
           0,
           0
          ],
          "arrayminus": [
           0,
           0
          ]
         },
         "hovertemplate": "<b>%{hovertext}</b><br><br>conc=%{x}<br>distance=%{y:.3f}<br>count_nuclei=%{customdata[1]:.1f}<extra></extra>",
         "hovertext": [
          "RORQOOOXIGTFEK-UHFFFAOYSA-N",
          "RORQOOOXIGTFEK-UHFFFAOYSA-N"
         ],
         "legendgroup": "RORQOOOXIGTFEK-UHFFFAOYSA-N",
         "line": {
          "color": "#00cc96",
          "dash": "solid"
         },
         "marker": {
          "symbol": "circle"
         },
         "mode": "lines+markers",
         "name": "RORQOOOXIGTFEK-UHFFFAOYSA-N",
         "orientation": "v",
         "showlegend": true,
         "type": "scatter",
         "x": [
          3.333333,
          10
         ],
         "xaxis": "x",
         "y": [
          14.226564320801808,
          13.48466076165356
         ],
         "yaxis": "y"
        },
        {
         "customdata": [
          [
           "PF-06447475",
           249
          ]
         ],
         "error_y": {
          "array": [
           0.2067846665923767
          ],
          "arrayminus": [
           0.2067846665923767
          ]
         },
         "hovertemplate": "<b>%{hovertext}</b><br><br>conc=%{x}<br>distance=%{y:.3f}<br>count_nuclei=%{customdata[1]:.1f}<extra></extra>",
         "hovertext": [
          "PF-06447475"
         ],
         "legendgroup": "PF-06447475",
         "line": {
          "color": "#ab63fa",
          "dash": "solid"
         },
         "marker": {
          "symbol": "circle"
         },
         "mode": "lines+markers",
         "name": "PF-06447475",
         "orientation": "v",
         "showlegend": true,
         "type": "scatter",
         "x": [
          10
         ],
         "xaxis": "x",
         "y": [
          13.503041770076834
         ],
         "yaxis": "y"
        },
        {
         "customdata": [
          [
           "EW-7197",
           225.5
          ]
         ],
         "error_y": {
          "array": [
           1.1303746471282563
          ],
          "arrayminus": [
           1.1303746471282563
          ]
         },
         "hovertemplate": "<b>%{hovertext}</b><br><br>conc=%{x}<br>distance=%{y:.3f}<br>count_nuclei=%{customdata[1]:.1f}<extra></extra>",
         "hovertext": [
          "EW-7197"
         ],
         "legendgroup": "EW-7197",
         "line": {
          "color": "#FFA15A",
          "dash": "solid"
         },
         "marker": {
          "symbol": "circle"
         },
         "mode": "lines+markers",
         "name": "EW-7197",
         "orientation": "v",
         "showlegend": true,
         "type": "scatter",
         "x": [
          10
         ],
         "xaxis": "x",
         "y": [
          13.546444524717256
         ],
         "yaxis": "y"
        },
        {
         "customdata": [
          [
           "GTS21",
           233
          ],
          [
           "GTS21",
           249
          ]
         ],
         "error_y": {
          "array": [
           0.5210127844281658,
           0.3054309889218682
          ],
          "arrayminus": [
           0.5210127844281658,
           0.3054309889218682
          ]
         },
         "hovertemplate": "<b>%{hovertext}</b><br><br>conc=%{x}<br>distance=%{y:.3f}<br>count_nuclei=%{customdata[1]:.1f}<extra></extra>",
         "hovertext": [
          "GTS21",
          "GTS21"
         ],
         "legendgroup": "GTS21",
         "line": {
          "color": "#19d3f3",
          "dash": "solid"
         },
         "marker": {
          "symbol": "circle"
         },
         "mode": "lines+markers",
         "name": "GTS21",
         "orientation": "v",
         "showlegend": true,
         "type": "scatter",
         "x": [
          3.333333,
          10
         ],
         "xaxis": "x",
         "y": [
          16.244974549455414,
          13.56862047390811
         ],
         "yaxis": "y"
        },
        {
         "customdata": [
          [
           "UOTMYNBWXDUBNX-UHFFFAOYSA-N",
           258
          ],
          [
           "UOTMYNBWXDUBNX-UHFFFAOYSA-N",
           239
          ]
         ],
         "error_y": {
          "array": [
           0,
           0
          ],
          "arrayminus": [
           0,
           0
          ]
         },
         "hovertemplate": "<b>%{hovertext}</b><br><br>conc=%{x}<br>distance=%{y:.3f}<br>count_nuclei=%{customdata[1]:.1f}<extra></extra>",
         "hovertext": [
          "UOTMYNBWXDUBNX-UHFFFAOYSA-N",
          "UOTMYNBWXDUBNX-UHFFFAOYSA-N"
         ],
         "legendgroup": "UOTMYNBWXDUBNX-UHFFFAOYSA-N",
         "line": {
          "color": "#FF6692",
          "dash": "solid"
         },
         "marker": {
          "symbol": "circle"
         },
         "mode": "lines+markers",
         "name": "UOTMYNBWXDUBNX-UHFFFAOYSA-N",
         "orientation": "v",
         "showlegend": true,
         "type": "scatter",
         "x": [
          3.333333,
          10
         ],
         "xaxis": "x",
         "y": [
          14.75663246108656,
          13.583770525597902
         ],
         "yaxis": "y"
        },
        {
         "customdata": [
          [
           "CINNARAZINE",
           233
          ],
          [
           "CINNARAZINE",
           251
          ]
         ],
         "error_y": {
          "array": [
           1.4030518737155404,
           1.3069543455586956
          ],
          "arrayminus": [
           1.4030518737155404,
           1.3069543455586956
          ]
         },
         "hovertemplate": "<b>%{hovertext}</b><br><br>conc=%{x}<br>distance=%{y:.3f}<br>count_nuclei=%{customdata[1]:.1f}<extra></extra>",
         "hovertext": [
          "CINNARAZINE",
          "CINNARAZINE"
         ],
         "legendgroup": "CINNARAZINE",
         "line": {
          "color": "#B6E880",
          "dash": "solid"
         },
         "marker": {
          "symbol": "circle"
         },
         "mode": "lines+markers",
         "name": "CINNARAZINE",
         "orientation": "v",
         "showlegend": true,
         "type": "scatter",
         "x": [
          0.3,
          3.333333
         ],
         "xaxis": "x",
         "y": [
          18.669933810242853,
          13.59892131833332
         ],
         "yaxis": "y"
        },
        {
         "customdata": [
          [
           "Eprazinone 2HCl",
           254
          ]
         ],
         "error_y": {
          "array": [
           0.6044749016195485
          ],
          "arrayminus": [
           0.6044749016195485
          ]
         },
         "hovertemplate": "<b>%{hovertext}</b><br><br>conc=%{x}<br>distance=%{y:.3f}<br>count_nuclei=%{customdata[1]:.1f}<extra></extra>",
         "hovertext": [
          "Eprazinone 2HCl"
         ],
         "legendgroup": "Eprazinone 2HCl",
         "line": {
          "color": "#FF97FF",
          "dash": "solid"
         },
         "marker": {
          "symbol": "circle"
         },
         "mode": "lines+markers",
         "name": "Eprazinone 2HCl",
         "orientation": "v",
         "showlegend": true,
         "type": "scatter",
         "x": [
          10
         ],
         "xaxis": "x",
         "y": [
          13.60365974805672
         ],
         "yaxis": "y"
        },
        {
         "customdata": [
          [
           "IILXPBTUEULZRC-UHFFFAOYSA-N",
           268
          ]
         ],
         "error_y": {
          "array": [
           0
          ],
          "arrayminus": [
           0
          ]
         },
         "hovertemplate": "<b>%{hovertext}</b><br><br>conc=%{x}<br>distance=%{y:.3f}<br>count_nuclei=%{customdata[1]:.1f}<extra></extra>",
         "hovertext": [
          "IILXPBTUEULZRC-UHFFFAOYSA-N"
         ],
         "legendgroup": "IILXPBTUEULZRC-UHFFFAOYSA-N",
         "line": {
          "color": "#FECB52",
          "dash": "solid"
         },
         "marker": {
          "symbol": "circle"
         },
         "mode": "lines+markers",
         "name": "IILXPBTUEULZRC-UHFFFAOYSA-N",
         "orientation": "v",
         "showlegend": true,
         "type": "scatter",
         "x": [
          0.833333
         ],
         "xaxis": "x",
         "y": [
          13.611365895870374
         ],
         "yaxis": "y"
        },
        {
         "customdata": [
          [
           "HNTFXEBAPWCKKN-UHFFFAOYSA-N",
           233
          ]
         ],
         "error_y": {
          "array": [
           0
          ],
          "arrayminus": [
           0
          ]
         },
         "hovertemplate": "<b>%{hovertext}</b><br><br>conc=%{x}<br>distance=%{y:.3f}<br>count_nuclei=%{customdata[1]:.1f}<extra></extra>",
         "hovertext": [
          "HNTFXEBAPWCKKN-UHFFFAOYSA-N"
         ],
         "legendgroup": "HNTFXEBAPWCKKN-UHFFFAOYSA-N",
         "line": {
          "color": "#636efa",
          "dash": "solid"
         },
         "marker": {
          "symbol": "circle"
         },
         "mode": "lines+markers",
         "name": "HNTFXEBAPWCKKN-UHFFFAOYSA-N",
         "orientation": "v",
         "showlegend": true,
         "type": "scatter",
         "x": [
          0.833333
         ],
         "xaxis": "x",
         "y": [
          13.614605724321144
         ],
         "yaxis": "y"
        },
        {
         "customdata": [
          [
           "BICXFCUUWBJXJA-UHFFFAOYSA-N",
           260
          ],
          [
           "BICXFCUUWBJXJA-UHFFFAOYSA-N",
           262
          ]
         ],
         "error_y": {
          "array": [
           0,
           0
          ],
          "arrayminus": [
           0,
           0
          ]
         },
         "hovertemplate": "<b>%{hovertext}</b><br><br>conc=%{x}<br>distance=%{y:.3f}<br>count_nuclei=%{customdata[1]:.1f}<extra></extra>",
         "hovertext": [
          "BICXFCUUWBJXJA-UHFFFAOYSA-N",
          "BICXFCUUWBJXJA-UHFFFAOYSA-N"
         ],
         "legendgroup": "BICXFCUUWBJXJA-UHFFFAOYSA-N",
         "line": {
          "color": "#EF553B",
          "dash": "solid"
         },
         "marker": {
          "symbol": "circle"
         },
         "mode": "lines+markers",
         "name": "BICXFCUUWBJXJA-UHFFFAOYSA-N",
         "orientation": "v",
         "showlegend": true,
         "type": "scatter",
         "x": [
          3.333333,
          10
         ],
         "xaxis": "x",
         "y": [
          15.414029148734215,
          13.614693876239606
         ],
         "yaxis": "y"
        },
        {
         "customdata": [
          [
           "BCX 1470 (methanesulfonate)",
           249
          ],
          [
           "BCX 1470 (methanesulfonate)",
           217
          ]
         ],
         "error_y": {
          "array": [
           1.2128242233981368,
           1.5457006749147428
          ],
          "arrayminus": [
           1.2128242233981368,
           1.5457006749147428
          ]
         },
         "hovertemplate": "<b>%{hovertext}</b><br><br>conc=%{x}<br>distance=%{y:.3f}<br>count_nuclei=%{customdata[1]:.1f}<extra></extra>",
         "hovertext": [
          "BCX 1470 (methanesulfonate)",
          "BCX 1470 (methanesulfonate)"
         ],
         "legendgroup": "BCX 1470 (methanesulfonate)",
         "line": {
          "color": "#00cc96",
          "dash": "solid"
         },
         "marker": {
          "symbol": "circle"
         },
         "mode": "lines+markers",
         "name": "BCX 1470 (methanesulfonate)",
         "orientation": "v",
         "showlegend": true,
         "type": "scatter",
         "x": [
          3.333333,
          10
         ],
         "xaxis": "x",
         "y": [
          18.655773913864167,
          13.628200774244348
         ],
         "yaxis": "y"
        },
        {
         "customdata": [
          [
           "CY208-243",
           189
          ],
          [
           "CY208-243",
           198
          ]
         ],
         "error_y": {
          "array": [
           0.0982141541011163,
           0.4313727723349867
          ],
          "arrayminus": [
           0.0982141541011163,
           0.4313727723349867
          ]
         },
         "hovertemplate": "<b>%{hovertext}</b><br><br>conc=%{x}<br>distance=%{y:.3f}<br>count_nuclei=%{customdata[1]:.1f}<extra></extra>",
         "hovertext": [
          "CY208-243",
          "CY208-243"
         ],
         "legendgroup": "CY208-243",
         "line": {
          "color": "#ab63fa",
          "dash": "solid"
         },
         "marker": {
          "symbol": "circle"
         },
         "mode": "lines+markers",
         "name": "CY208-243",
         "orientation": "v",
         "showlegend": true,
         "type": "scatter",
         "x": [
          3.333333,
          10
         ],
         "xaxis": "x",
         "y": [
          15.718489549789014,
          13.64100310572686
         ],
         "yaxis": "y"
        },
        {
         "customdata": [
          [
           "KZOOGBRSMZZIEM-UHFFFAOYSA-N",
           228
          ],
          [
           "KZOOGBRSMZZIEM-UHFFFAOYSA-N",
           249
          ]
         ],
         "error_y": {
          "array": [
           0,
           0
          ],
          "arrayminus": [
           0,
           0
          ]
         },
         "hovertemplate": "<b>%{hovertext}</b><br><br>conc=%{x}<br>distance=%{y:.3f}<br>count_nuclei=%{customdata[1]:.1f}<extra></extra>",
         "hovertext": [
          "KZOOGBRSMZZIEM-UHFFFAOYSA-N",
          "KZOOGBRSMZZIEM-UHFFFAOYSA-N"
         ],
         "legendgroup": "KZOOGBRSMZZIEM-UHFFFAOYSA-N",
         "line": {
          "color": "#FFA15A",
          "dash": "solid"
         },
         "marker": {
          "symbol": "circle"
         },
         "mode": "lines+markers",
         "name": "KZOOGBRSMZZIEM-UHFFFAOYSA-N",
         "orientation": "v",
         "showlegend": true,
         "type": "scatter",
         "x": [
          0.833333,
          3.333333
         ],
         "xaxis": "x",
         "y": [
          18.297364880353964,
          13.663425973503726
         ],
         "yaxis": "y"
        },
        {
         "customdata": [
          [
           "JUWUJGGGFBKTQF-UHFFFAOYSA-N",
           247
          ]
         ],
         "error_y": {
          "array": [
           0
          ],
          "arrayminus": [
           0
          ]
         },
         "hovertemplate": "<b>%{hovertext}</b><br><br>conc=%{x}<br>distance=%{y:.3f}<br>count_nuclei=%{customdata[1]:.1f}<extra></extra>",
         "hovertext": [
          "JUWUJGGGFBKTQF-UHFFFAOYSA-N"
         ],
         "legendgroup": "JUWUJGGGFBKTQF-UHFFFAOYSA-N",
         "line": {
          "color": "#19d3f3",
          "dash": "solid"
         },
         "marker": {
          "symbol": "circle"
         },
         "mode": "lines+markers",
         "name": "JUWUJGGGFBKTQF-UHFFFAOYSA-N",
         "orientation": "v",
         "showlegend": true,
         "type": "scatter",
         "x": [
          0.833333
         ],
         "xaxis": "x",
         "y": [
          13.684299028041684
         ],
         "yaxis": "y"
        },
        {
         "customdata": [
          [
           "YM201636",
           237
          ]
         ],
         "error_y": {
          "array": [
           0.7263222764946775
          ],
          "arrayminus": [
           0.7263222764946775
          ]
         },
         "hovertemplate": "<b>%{hovertext}</b><br><br>conc=%{x}<br>distance=%{y:.3f}<br>count_nuclei=%{customdata[1]:.1f}<extra></extra>",
         "hovertext": [
          "YM201636"
         ],
         "legendgroup": "YM201636",
         "line": {
          "color": "#FF6692",
          "dash": "solid"
         },
         "marker": {
          "symbol": "circle"
         },
         "mode": "lines+markers",
         "name": "YM201636",
         "orientation": "v",
         "showlegend": true,
         "type": "scatter",
         "x": [
          0.3
         ],
         "xaxis": "x",
         "y": [
          13.689344723651338
         ],
         "yaxis": "y"
        },
        {
         "customdata": [
          [
           "3PO",
           248
          ]
         ],
         "error_y": {
          "array": [
           0.6794072389290022
          ],
          "arrayminus": [
           0.6794072389290022
          ]
         },
         "hovertemplate": "<b>%{hovertext}</b><br><br>conc=%{x}<br>distance=%{y:.3f}<br>count_nuclei=%{customdata[1]:.1f}<extra></extra>",
         "hovertext": [
          "3PO"
         ],
         "legendgroup": "3PO",
         "line": {
          "color": "#B6E880",
          "dash": "solid"
         },
         "marker": {
          "symbol": "circle"
         },
         "mode": "lines+markers",
         "name": "3PO",
         "orientation": "v",
         "showlegend": true,
         "type": "scatter",
         "x": [
          0.3
         ],
         "xaxis": "x",
         "y": [
          13.722553868504216
         ],
         "yaxis": "y"
        },
        {
         "customdata": [
          [
           "Curcumin",
           234
          ],
          [
           "Curcumin",
           227
          ]
         ],
         "error_y": {
          "array": [
           0.921832129449454,
           3.300091354213862
          ],
          "arrayminus": [
           0.921832129449454,
           3.300091354213862
          ]
         },
         "hovertemplate": "<b>%{hovertext}</b><br><br>conc=%{x}<br>distance=%{y:.3f}<br>count_nuclei=%{customdata[1]:.1f}<extra></extra>",
         "hovertext": [
          "Curcumin",
          "Curcumin"
         ],
         "legendgroup": "Curcumin",
         "line": {
          "color": "#FF97FF",
          "dash": "solid"
         },
         "marker": {
          "symbol": "circle"
         },
         "mode": "lines+markers",
         "name": "Curcumin",
         "orientation": "v",
         "showlegend": true,
         "type": "scatter",
         "x": [
          3.333333,
          10
         ],
         "xaxis": "x",
         "y": [
          15.060660806757744,
          13.730691547994006
         ],
         "yaxis": "y"
        },
        {
         "customdata": [
          [
           "ZZKQNBNYCRCFCW-UHFFFAOYSA-N",
           240
          ],
          [
           "ZZKQNBNYCRCFCW-UHFFFAOYSA-N",
           277
          ]
         ],
         "error_y": {
          "array": [
           0,
           0
          ],
          "arrayminus": [
           0,
           0
          ]
         },
         "hovertemplate": "<b>%{hovertext}</b><br><br>conc=%{x}<br>distance=%{y:.3f}<br>count_nuclei=%{customdata[1]:.1f}<extra></extra>",
         "hovertext": [
          "ZZKQNBNYCRCFCW-UHFFFAOYSA-N",
          "ZZKQNBNYCRCFCW-UHFFFAOYSA-N"
         ],
         "legendgroup": "ZZKQNBNYCRCFCW-UHFFFAOYSA-N",
         "line": {
          "color": "#FECB52",
          "dash": "solid"
         },
         "marker": {
          "symbol": "circle"
         },
         "mode": "lines+markers",
         "name": "ZZKQNBNYCRCFCW-UHFFFAOYSA-N",
         "orientation": "v",
         "showlegend": true,
         "type": "scatter",
         "x": [
          0.833333,
          3.333333
         ],
         "xaxis": "x",
         "y": [
          16.370559446914758,
          13.732371542456349
         ],
         "yaxis": "y"
        },
        {
         "customdata": [
          [
           "Isoliquiritigenin",
           244.5
          ]
         ],
         "error_y": {
          "array": [
           0.5845490981456027
          ],
          "arrayminus": [
           0.5845490981456027
          ]
         },
         "hovertemplate": "<b>%{hovertext}</b><br><br>conc=%{x}<br>distance=%{y:.3f}<br>count_nuclei=%{customdata[1]:.1f}<extra></extra>",
         "hovertext": [
          "Isoliquiritigenin"
         ],
         "legendgroup": "Isoliquiritigenin",
         "line": {
          "color": "#636efa",
          "dash": "solid"
         },
         "marker": {
          "symbol": "circle"
         },
         "mode": "lines+markers",
         "name": "Isoliquiritigenin",
         "orientation": "v",
         "showlegend": true,
         "type": "scatter",
         "x": [
          10
         ],
         "xaxis": "x",
         "y": [
          13.766810912144006
         ],
         "yaxis": "y"
        },
        {
         "customdata": [
          [
           "AITJZYHNAKUCFP-UHFFFAOYSA-N",
           229
          ],
          [
           "AITJZYHNAKUCFP-UHFFFAOYSA-N",
           231
          ]
         ],
         "error_y": {
          "array": [
           0,
           0
          ],
          "arrayminus": [
           0,
           0
          ]
         },
         "hovertemplate": "<b>%{hovertext}</b><br><br>conc=%{x}<br>distance=%{y:.3f}<br>count_nuclei=%{customdata[1]:.1f}<extra></extra>",
         "hovertext": [
          "AITJZYHNAKUCFP-UHFFFAOYSA-N",
          "AITJZYHNAKUCFP-UHFFFAOYSA-N"
         ],
         "legendgroup": "AITJZYHNAKUCFP-UHFFFAOYSA-N",
         "line": {
          "color": "#EF553B",
          "dash": "solid"
         },
         "marker": {
          "symbol": "circle"
         },
         "mode": "lines+markers",
         "name": "AITJZYHNAKUCFP-UHFFFAOYSA-N",
         "orientation": "v",
         "showlegend": true,
         "type": "scatter",
         "x": [
          3.333333,
          10
         ],
         "xaxis": "x",
         "y": [
          15.274481785065085,
          13.774837590093474
         ],
         "yaxis": "y"
        },
        {
         "customdata": [
          [
           "PBFCUAIURSSMLA-UHFFFAOYSA-N",
           205
          ],
          [
           "PBFCUAIURSSMLA-UHFFFAOYSA-N",
           252
          ]
         ],
         "error_y": {
          "array": [
           0,
           0
          ],
          "arrayminus": [
           0,
           0
          ]
         },
         "hovertemplate": "<b>%{hovertext}</b><br><br>conc=%{x}<br>distance=%{y:.3f}<br>count_nuclei=%{customdata[1]:.1f}<extra></extra>",
         "hovertext": [
          "PBFCUAIURSSMLA-UHFFFAOYSA-N",
          "PBFCUAIURSSMLA-UHFFFAOYSA-N"
         ],
         "legendgroup": "PBFCUAIURSSMLA-UHFFFAOYSA-N",
         "line": {
          "color": "#00cc96",
          "dash": "solid"
         },
         "marker": {
          "symbol": "circle"
         },
         "mode": "lines+markers",
         "name": "PBFCUAIURSSMLA-UHFFFAOYSA-N",
         "orientation": "v",
         "showlegend": true,
         "type": "scatter",
         "x": [
          0.833333,
          3.333333
         ],
         "xaxis": "x",
         "y": [
          18.848089357137876,
          13.789553818935014
         ],
         "yaxis": "y"
        },
        {
         "customdata": [
          [
           "SZXKKLUZNAQNME-UHFFFAOYSA-N",
           236
          ]
         ],
         "error_y": {
          "array": [
           0
          ],
          "arrayminus": [
           0
          ]
         },
         "hovertemplate": "<b>%{hovertext}</b><br><br>conc=%{x}<br>distance=%{y:.3f}<br>count_nuclei=%{customdata[1]:.1f}<extra></extra>",
         "hovertext": [
          "SZXKKLUZNAQNME-UHFFFAOYSA-N"
         ],
         "legendgroup": "SZXKKLUZNAQNME-UHFFFAOYSA-N",
         "line": {
          "color": "#ab63fa",
          "dash": "solid"
         },
         "marker": {
          "symbol": "circle"
         },
         "mode": "lines+markers",
         "name": "SZXKKLUZNAQNME-UHFFFAOYSA-N",
         "orientation": "v",
         "showlegend": true,
         "type": "scatter",
         "x": [
          0.833333
         ],
         "xaxis": "x",
         "y": [
          13.80777971842152
         ],
         "yaxis": "y"
        },
        {
         "customdata": [
          [
           "Honokiol",
           218.5
          ]
         ],
         "error_y": {
          "array": [
           1.4010095502183582
          ],
          "arrayminus": [
           1.4010095502183582
          ]
         },
         "hovertemplate": "<b>%{hovertext}</b><br><br>conc=%{x}<br>distance=%{y:.3f}<br>count_nuclei=%{customdata[1]:.1f}<extra></extra>",
         "hovertext": [
          "Honokiol"
         ],
         "legendgroup": "Honokiol",
         "line": {
          "color": "#FFA15A",
          "dash": "solid"
         },
         "marker": {
          "symbol": "circle"
         },
         "mode": "lines+markers",
         "name": "Honokiol",
         "orientation": "v",
         "showlegend": true,
         "type": "scatter",
         "x": [
          10
         ],
         "xaxis": "x",
         "y": [
          13.812813960008722
         ],
         "yaxis": "y"
        },
        {
         "customdata": [
          [
           "MBCRHLPCAZJOHA-WRKFEDKMSA-N",
           243
          ],
          [
           "MBCRHLPCAZJOHA-WRKFEDKMSA-N",
           263
          ]
         ],
         "error_y": {
          "array": [
           0,
           0
          ],
          "arrayminus": [
           0,
           0
          ]
         },
         "hovertemplate": "<b>%{hovertext}</b><br><br>conc=%{x}<br>distance=%{y:.3f}<br>count_nuclei=%{customdata[1]:.1f}<extra></extra>",
         "hovertext": [
          "MBCRHLPCAZJOHA-WRKFEDKMSA-N",
          "MBCRHLPCAZJOHA-WRKFEDKMSA-N"
         ],
         "legendgroup": "MBCRHLPCAZJOHA-WRKFEDKMSA-N",
         "line": {
          "color": "#19d3f3",
          "dash": "solid"
         },
         "marker": {
          "symbol": "circle"
         },
         "mode": "lines+markers",
         "name": "MBCRHLPCAZJOHA-WRKFEDKMSA-N",
         "orientation": "v",
         "showlegend": true,
         "type": "scatter",
         "x": [
          0.833333,
          3.333333
         ],
         "xaxis": "x",
         "y": [
          19.35586586563081,
          13.8140616172355
         ],
         "yaxis": "y"
        },
        {
         "customdata": [
          [
           "SB-772077B",
           248
          ],
          [
           "SB-772077B",
           255
          ]
         ],
         "error_y": {
          "array": [
           0.0102206285323998,
           0.0344915906915179
          ],
          "arrayminus": [
           0.0102206285323998,
           0.0344915906915179
          ]
         },
         "hovertemplate": "<b>%{hovertext}</b><br><br>conc=%{x}<br>distance=%{y:.3f}<br>count_nuclei=%{customdata[1]:.1f}<extra></extra>",
         "hovertext": [
          "SB-772077B",
          "SB-772077B"
         ],
         "legendgroup": "SB-772077B",
         "line": {
          "color": "#FF6692",
          "dash": "solid"
         },
         "marker": {
          "symbol": "circle"
         },
         "mode": "lines+markers",
         "name": "SB-772077B",
         "orientation": "v",
         "showlegend": true,
         "type": "scatter",
         "x": [
          0.1,
          0.3
         ],
         "xaxis": "x",
         "y": [
          14.103069576533038,
          13.820781191997373
         ],
         "yaxis": "y"
        },
        {
         "customdata": [
          [
           "Dimethylcurcumin, ASC-J9",
           233
          ],
          [
           "Dimethylcurcumin, ASC-J9",
           226
          ]
         ],
         "error_y": {
          "array": [
           0.0797226005934454,
           0.2563894200364949
          ],
          "arrayminus": [
           0.0797226005934454,
           0.2563894200364949
          ]
         },
         "hovertemplate": "<b>%{hovertext}</b><br><br>conc=%{x}<br>distance=%{y:.3f}<br>count_nuclei=%{customdata[1]:.1f}<extra></extra>",
         "hovertext": [
          "Dimethylcurcumin, ASC-J9",
          "Dimethylcurcumin, ASC-J9"
         ],
         "legendgroup": "Dimethylcurcumin, ASC-J9",
         "line": {
          "color": "#B6E880",
          "dash": "solid"
         },
         "marker": {
          "symbol": "circle"
         },
         "mode": "lines+markers",
         "name": "Dimethylcurcumin, ASC-J9",
         "orientation": "v",
         "showlegend": true,
         "type": "scatter",
         "x": [
          3.333333,
          10
         ],
         "xaxis": "x",
         "y": [
          16.18406754804882,
          13.851982222117492
         ],
         "yaxis": "y"
        },
        {
         "customdata": [
          [
           "P5091 (P005091)",
           219.5
          ]
         ],
         "error_y": {
          "array": [
           1.207101267799283
          ],
          "arrayminus": [
           1.207101267799283
          ]
         },
         "hovertemplate": "<b>%{hovertext}</b><br><br>conc=%{x}<br>distance=%{y:.3f}<br>count_nuclei=%{customdata[1]:.1f}<extra></extra>",
         "hovertext": [
          "P5091 (P005091)"
         ],
         "legendgroup": "P5091 (P005091)",
         "line": {
          "color": "#FF97FF",
          "dash": "solid"
         },
         "marker": {
          "symbol": "circle"
         },
         "mode": "lines+markers",
         "name": "P5091 (P005091)",
         "orientation": "v",
         "showlegend": true,
         "type": "scatter",
         "x": [
          10
         ],
         "xaxis": "x",
         "y": [
          13.88670466289614
         ],
         "yaxis": "y"
        },
        {
         "customdata": [
          [
           "IDGMJUXKGPSUDC-UHFFFAOYSA-N",
           217
          ]
         ],
         "error_y": {
          "array": [
           0
          ],
          "arrayminus": [
           0
          ]
         },
         "hovertemplate": "<b>%{hovertext}</b><br><br>conc=%{x}<br>distance=%{y:.3f}<br>count_nuclei=%{customdata[1]:.1f}<extra></extra>",
         "hovertext": [
          "IDGMJUXKGPSUDC-UHFFFAOYSA-N"
         ],
         "legendgroup": "IDGMJUXKGPSUDC-UHFFFAOYSA-N",
         "line": {
          "color": "#FECB52",
          "dash": "solid"
         },
         "marker": {
          "symbol": "circle"
         },
         "mode": "lines+markers",
         "name": "IDGMJUXKGPSUDC-UHFFFAOYSA-N",
         "orientation": "v",
         "showlegend": true,
         "type": "scatter",
         "x": [
          0.833333
         ],
         "xaxis": "x",
         "y": [
          13.890455741645198
         ],
         "yaxis": "y"
        },
        {
         "customdata": [
          [
           "PI4KIIIbeta-IN-10",
           219.5
          ]
         ],
         "error_y": {
          "array": [
           2.2539610356402378
          ],
          "arrayminus": [
           2.2539610356402378
          ]
         },
         "hovertemplate": "<b>%{hovertext}</b><br><br>conc=%{x}<br>distance=%{y:.3f}<br>count_nuclei=%{customdata[1]:.1f}<extra></extra>",
         "hovertext": [
          "PI4KIIIbeta-IN-10"
         ],
         "legendgroup": "PI4KIIIbeta-IN-10",
         "line": {
          "color": "#636efa",
          "dash": "solid"
         },
         "marker": {
          "symbol": "circle"
         },
         "mode": "lines+markers",
         "name": "PI4KIIIbeta-IN-10",
         "orientation": "v",
         "showlegend": true,
         "type": "scatter",
         "x": [
          10
         ],
         "xaxis": "x",
         "y": [
          13.896848382060206
         ],
         "yaxis": "y"
        },
        {
         "customdata": [
          [
           "Copanlisib",
           238
          ]
         ],
         "error_y": {
          "array": [
           2.8988687191294567
          ],
          "arrayminus": [
           2.8988687191294567
          ]
         },
         "hovertemplate": "<b>%{hovertext}</b><br><br>conc=%{x}<br>distance=%{y:.3f}<br>count_nuclei=%{customdata[1]:.1f}<extra></extra>",
         "hovertext": [
          "Copanlisib"
         ],
         "legendgroup": "Copanlisib",
         "line": {
          "color": "#EF553B",
          "dash": "solid"
         },
         "marker": {
          "symbol": "circle"
         },
         "mode": "lines+markers",
         "name": "Copanlisib",
         "orientation": "v",
         "showlegend": true,
         "type": "scatter",
         "x": [
          0.1
         ],
         "xaxis": "x",
         "y": [
          13.90327859160789
         ],
         "yaxis": "y"
        },
        {
         "customdata": [
          [
           "LATVQKJOJFMGFC-UHFFFAOYSA-N",
           225
          ]
         ],
         "error_y": {
          "array": [
           0
          ],
          "arrayminus": [
           0
          ]
         },
         "hovertemplate": "<b>%{hovertext}</b><br><br>conc=%{x}<br>distance=%{y:.3f}<br>count_nuclei=%{customdata[1]:.1f}<extra></extra>",
         "hovertext": [
          "LATVQKJOJFMGFC-UHFFFAOYSA-N"
         ],
         "legendgroup": "LATVQKJOJFMGFC-UHFFFAOYSA-N",
         "line": {
          "color": "#00cc96",
          "dash": "solid"
         },
         "marker": {
          "symbol": "circle"
         },
         "mode": "lines+markers",
         "name": "LATVQKJOJFMGFC-UHFFFAOYSA-N",
         "orientation": "v",
         "showlegend": true,
         "type": "scatter",
         "x": [
          0.833333
         ],
         "xaxis": "x",
         "y": [
          13.943601995663448
         ],
         "yaxis": "y"
        },
        {
         "customdata": [
          [
           "PPY-A",
           263
          ]
         ],
         "error_y": {
          "array": [
           0.3714605217232289
          ],
          "arrayminus": [
           0.3714605217232289
          ]
         },
         "hovertemplate": "<b>%{hovertext}</b><br><br>conc=%{x}<br>distance=%{y:.3f}<br>count_nuclei=%{customdata[1]:.1f}<extra></extra>",
         "hovertext": [
          "PPY-A"
         ],
         "legendgroup": "PPY-A",
         "line": {
          "color": "#ab63fa",
          "dash": "solid"
         },
         "marker": {
          "symbol": "circle"
         },
         "mode": "lines+markers",
         "name": "PPY-A",
         "orientation": "v",
         "showlegend": true,
         "type": "scatter",
         "x": [
          0.3
         ],
         "xaxis": "x",
         "y": [
          13.944867491508989
         ],
         "yaxis": "y"
        },
        {
         "customdata": [
          [
           "Pacritinib (SB1518)",
           214.5
          ]
         ],
         "error_y": {
          "array": [
           1.4949874896922744
          ],
          "arrayminus": [
           1.4949874896922744
          ]
         },
         "hovertemplate": "<b>%{hovertext}</b><br><br>conc=%{x}<br>distance=%{y:.3f}<br>count_nuclei=%{customdata[1]:.1f}<extra></extra>",
         "hovertext": [
          "Pacritinib (SB1518)"
         ],
         "legendgroup": "Pacritinib (SB1518)",
         "line": {
          "color": "#FFA15A",
          "dash": "solid"
         },
         "marker": {
          "symbol": "circle"
         },
         "mode": "lines+markers",
         "name": "Pacritinib (SB1518)",
         "orientation": "v",
         "showlegend": true,
         "type": "scatter",
         "x": [
          0.833333
         ],
         "xaxis": "x",
         "y": [
          13.946983805055751
         ],
         "yaxis": "y"
        },
        {
         "customdata": [
          [
           "Ruxolitinib (INCB018424)",
           234
          ],
          [
           "Ruxolitinib (INCB018424)",
           246
          ]
         ],
         "error_y": {
          "array": [
           0.981087726478993,
           4.873376550415276
          ],
          "arrayminus": [
           0.981087726478993,
           4.873376550415276
          ]
         },
         "hovertemplate": "<b>%{hovertext}</b><br><br>conc=%{x}<br>distance=%{y:.3f}<br>count_nuclei=%{customdata[1]:.1f}<extra></extra>",
         "hovertext": [
          "Ruxolitinib (INCB018424)",
          "Ruxolitinib (INCB018424)"
         ],
         "legendgroup": "Ruxolitinib (INCB018424)",
         "line": {
          "color": "#19d3f3",
          "dash": "solid"
         },
         "marker": {
          "symbol": "circle"
         },
         "mode": "lines+markers",
         "name": "Ruxolitinib (INCB018424)",
         "orientation": "v",
         "showlegend": true,
         "type": "scatter",
         "x": [
          0.3,
          3.333333
         ],
         "xaxis": "x",
         "y": [
          17.069885866260396,
          13.949165322662466
         ],
         "yaxis": "y"
        },
        {
         "customdata": [
          [
           "Autotaxin modulator 1",
           238.5
          ]
         ],
         "error_y": {
          "array": [
           0.4972363154029775
          ],
          "arrayminus": [
           0.4972363154029775
          ]
         },
         "hovertemplate": "<b>%{hovertext}</b><br><br>conc=%{x}<br>distance=%{y:.3f}<br>count_nuclei=%{customdata[1]:.1f}<extra></extra>",
         "hovertext": [
          "Autotaxin modulator 1"
         ],
         "legendgroup": "Autotaxin modulator 1",
         "line": {
          "color": "#FF6692",
          "dash": "solid"
         },
         "marker": {
          "symbol": "circle"
         },
         "mode": "lines+markers",
         "name": "Autotaxin modulator 1",
         "orientation": "v",
         "showlegend": true,
         "type": "scatter",
         "x": [
          10
         ],
         "xaxis": "x",
         "y": [
          13.966657429757158
         ],
         "yaxis": "y"
        },
        {
         "customdata": [
          [
           "EIPA",
           251.5
          ]
         ],
         "error_y": {
          "array": [
           0.4528918835021756
          ],
          "arrayminus": [
           0.4528918835021756
          ]
         },
         "hovertemplate": "<b>%{hovertext}</b><br><br>conc=%{x}<br>distance=%{y:.3f}<br>count_nuclei=%{customdata[1]:.1f}<extra></extra>",
         "hovertext": [
          "EIPA"
         ],
         "legendgroup": "EIPA",
         "line": {
          "color": "#B6E880",
          "dash": "solid"
         },
         "marker": {
          "symbol": "circle"
         },
         "mode": "lines+markers",
         "name": "EIPA",
         "orientation": "v",
         "showlegend": true,
         "type": "scatter",
         "x": [
          10
         ],
         "xaxis": "x",
         "y": [
          13.969596475345783
         ],
         "yaxis": "y"
        },
        {
         "customdata": [
          [
           "BAY 61-3606 (dihydrochloride)",
           230
          ]
         ],
         "error_y": {
          "array": [
           0.5579235246692846
          ],
          "arrayminus": [
           0.5579235246692846
          ]
         },
         "hovertemplate": "<b>%{hovertext}</b><br><br>conc=%{x}<br>distance=%{y:.3f}<br>count_nuclei=%{customdata[1]:.1f}<extra></extra>",
         "hovertext": [
          "BAY 61-3606 (dihydrochloride)"
         ],
         "legendgroup": "BAY 61-3606 (dihydrochloride)",
         "line": {
          "color": "#FF97FF",
          "dash": "solid"
         },
         "marker": {
          "symbol": "circle"
         },
         "mode": "lines+markers",
         "name": "BAY 61-3606 (dihydrochloride)",
         "orientation": "v",
         "showlegend": true,
         "type": "scatter",
         "x": [
          0.1
         ],
         "xaxis": "x",
         "y": [
          13.977741038954846
         ],
         "yaxis": "y"
        },
        {
         "customdata": [
          [
           "LH846",
           258
          ]
         ],
         "error_y": {
          "array": [
           1.9083374250706664
          ],
          "arrayminus": [
           1.9083374250706664
          ]
         },
         "hovertemplate": "<b>%{hovertext}</b><br><br>conc=%{x}<br>distance=%{y:.3f}<br>count_nuclei=%{customdata[1]:.1f}<extra></extra>",
         "hovertext": [
          "LH846"
         ],
         "legendgroup": "LH846",
         "line": {
          "color": "#FECB52",
          "dash": "solid"
         },
         "marker": {
          "symbol": "circle"
         },
         "mode": "lines+markers",
         "name": "LH846",
         "orientation": "v",
         "showlegend": true,
         "type": "scatter",
         "x": [
          10
         ],
         "xaxis": "x",
         "y": [
          13.980338422887089
         ],
         "yaxis": "y"
        },
        {
         "customdata": [
          [
           "SAR131675",
           231.5
          ]
         ],
         "error_y": {
          "array": [
           0.2580420125287439
          ],
          "arrayminus": [
           0.2580420125287439
          ]
         },
         "hovertemplate": "<b>%{hovertext}</b><br><br>conc=%{x}<br>distance=%{y:.3f}<br>count_nuclei=%{customdata[1]:.1f}<extra></extra>",
         "hovertext": [
          "SAR131675"
         ],
         "legendgroup": "SAR131675",
         "line": {
          "color": "#636efa",
          "dash": "solid"
         },
         "marker": {
          "symbol": "circle"
         },
         "mode": "lines+markers",
         "name": "SAR131675",
         "orientation": "v",
         "showlegend": true,
         "type": "scatter",
         "x": [
          10
         ],
         "xaxis": "x",
         "y": [
          13.996890584779102
         ],
         "yaxis": "y"
        },
        {
         "customdata": [
          [
           "UKHWUMFNPHLSPA-RSGUCCNWSA-N",
           233
          ]
         ],
         "error_y": {
          "array": [
           0
          ],
          "arrayminus": [
           0
          ]
         },
         "hovertemplate": "<b>%{hovertext}</b><br><br>conc=%{x}<br>distance=%{y:.3f}<br>count_nuclei=%{customdata[1]:.1f}<extra></extra>",
         "hovertext": [
          "UKHWUMFNPHLSPA-RSGUCCNWSA-N"
         ],
         "legendgroup": "UKHWUMFNPHLSPA-RSGUCCNWSA-N",
         "line": {
          "color": "#EF553B",
          "dash": "solid"
         },
         "marker": {
          "symbol": "circle"
         },
         "mode": "lines+markers",
         "name": "UKHWUMFNPHLSPA-RSGUCCNWSA-N",
         "orientation": "v",
         "showlegend": true,
         "type": "scatter",
         "x": [
          0.833333
         ],
         "xaxis": "x",
         "y": [
          14.003412483795463
         ],
         "yaxis": "y"
        },
        {
         "customdata": [
          [
           "FLGBJPSLVOCWAN-UHFFFAOYSA-N",
           232
          ],
          [
           "FLGBJPSLVOCWAN-UHFFFAOYSA-N",
           228
          ]
         ],
         "error_y": {
          "array": [
           0,
           0
          ],
          "arrayminus": [
           0,
           0
          ]
         },
         "hovertemplate": "<b>%{hovertext}</b><br><br>conc=%{x}<br>distance=%{y:.3f}<br>count_nuclei=%{customdata[1]:.1f}<extra></extra>",
         "hovertext": [
          "FLGBJPSLVOCWAN-UHFFFAOYSA-N",
          "FLGBJPSLVOCWAN-UHFFFAOYSA-N"
         ],
         "legendgroup": "FLGBJPSLVOCWAN-UHFFFAOYSA-N",
         "line": {
          "color": "#00cc96",
          "dash": "solid"
         },
         "marker": {
          "symbol": "circle"
         },
         "mode": "lines+markers",
         "name": "FLGBJPSLVOCWAN-UHFFFAOYSA-N",
         "orientation": "v",
         "showlegend": true,
         "type": "scatter",
         "x": [
          0.833333,
          3.333333
         ],
         "xaxis": "x",
         "y": [
          15.82266300364186,
          14.016482807971496
         ],
         "yaxis": "y"
        },
        {
         "customdata": [
          [
           "Dichlorphenamide (Diclofenamide)",
           233.5
          ]
         ],
         "error_y": {
          "array": [
           0.3498254254084898
          ],
          "arrayminus": [
           0.3498254254084898
          ]
         },
         "hovertemplate": "<b>%{hovertext}</b><br><br>conc=%{x}<br>distance=%{y:.3f}<br>count_nuclei=%{customdata[1]:.1f}<extra></extra>",
         "hovertext": [
          "Dichlorphenamide (Diclofenamide)"
         ],
         "legendgroup": "Dichlorphenamide (Diclofenamide)",
         "line": {
          "color": "#ab63fa",
          "dash": "solid"
         },
         "marker": {
          "symbol": "circle"
         },
         "mode": "lines+markers",
         "name": "Dichlorphenamide (Diclofenamide)",
         "orientation": "v",
         "showlegend": true,
         "type": "scatter",
         "x": [
          10
         ],
         "xaxis": "x",
         "y": [
          14.024051475480745
         ],
         "yaxis": "y"
        },
        {
         "customdata": [
          [
           "WVTGDHAUSNYDPA-UHFFFAOYSA-N",
           247
          ],
          [
           "WVTGDHAUSNYDPA-UHFFFAOYSA-N",
           225
          ]
         ],
         "error_y": {
          "array": [
           0,
           0
          ],
          "arrayminus": [
           0,
           0
          ]
         },
         "hovertemplate": "<b>%{hovertext}</b><br><br>conc=%{x}<br>distance=%{y:.3f}<br>count_nuclei=%{customdata[1]:.1f}<extra></extra>",
         "hovertext": [
          "WVTGDHAUSNYDPA-UHFFFAOYSA-N",
          "WVTGDHAUSNYDPA-UHFFFAOYSA-N"
         ],
         "legendgroup": "WVTGDHAUSNYDPA-UHFFFAOYSA-N",
         "line": {
          "color": "#FFA15A",
          "dash": "solid"
         },
         "marker": {
          "symbol": "circle"
         },
         "mode": "lines+markers",
         "name": "WVTGDHAUSNYDPA-UHFFFAOYSA-N",
         "orientation": "v",
         "showlegend": true,
         "type": "scatter",
         "x": [
          0.833333,
          3.333333
         ],
         "xaxis": "x",
         "y": [
          17.363501089897824,
          14.02888410689822
         ],
         "yaxis": "y"
        },
        {
         "customdata": [
          [
           "tyrphostin-AG-835",
           242
          ]
         ],
         "error_y": {
          "array": [
           0.301168671697809
          ],
          "arrayminus": [
           0.301168671697809
          ]
         },
         "hovertemplate": "<b>%{hovertext}</b><br><br>conc=%{x}<br>distance=%{y:.3f}<br>count_nuclei=%{customdata[1]:.1f}<extra></extra>",
         "hovertext": [
          "tyrphostin-AG-835"
         ],
         "legendgroup": "tyrphostin-AG-835",
         "line": {
          "color": "#19d3f3",
          "dash": "solid"
         },
         "marker": {
          "symbol": "circle"
         },
         "mode": "lines+markers",
         "name": "tyrphostin-AG-835",
         "orientation": "v",
         "showlegend": true,
         "type": "scatter",
         "x": [
          0.3
         ],
         "xaxis": "x",
         "y": [
          14.0299502774927
         ],
         "yaxis": "y"
        },
        {
         "customdata": [
          [
           "PHENAZOPYRIDINE HYDROCHLORIDE",
           250.5
          ]
         ],
         "error_y": {
          "array": [
           1.209483602662928
          ],
          "arrayminus": [
           1.209483602662928
          ]
         },
         "hovertemplate": "<b>%{hovertext}</b><br><br>conc=%{x}<br>distance=%{y:.3f}<br>count_nuclei=%{customdata[1]:.1f}<extra></extra>",
         "hovertext": [
          "PHENAZOPYRIDINE HYDROCHLORIDE"
         ],
         "legendgroup": "PHENAZOPYRIDINE HYDROCHLORIDE",
         "line": {
          "color": "#FF6692",
          "dash": "solid"
         },
         "marker": {
          "symbol": "circle"
         },
         "mode": "lines+markers",
         "name": "PHENAZOPYRIDINE HYDROCHLORIDE",
         "orientation": "v",
         "showlegend": true,
         "type": "scatter",
         "x": [
          10
         ],
         "xaxis": "x",
         "y": [
          14.035386925740656
         ],
         "yaxis": "y"
        },
        {
         "customdata": [
          [
           "ZRNSWACRUSIKKQ-XQRVVYSFSA-N",
           242
          ],
          [
           "ZRNSWACRUSIKKQ-XQRVVYSFSA-N",
           230
          ]
         ],
         "error_y": {
          "array": [
           0,
           0
          ],
          "arrayminus": [
           0,
           0
          ]
         },
         "hovertemplate": "<b>%{hovertext}</b><br><br>conc=%{x}<br>distance=%{y:.3f}<br>count_nuclei=%{customdata[1]:.1f}<extra></extra>",
         "hovertext": [
          "ZRNSWACRUSIKKQ-XQRVVYSFSA-N",
          "ZRNSWACRUSIKKQ-XQRVVYSFSA-N"
         ],
         "legendgroup": "ZRNSWACRUSIKKQ-XQRVVYSFSA-N",
         "line": {
          "color": "#B6E880",
          "dash": "solid"
         },
         "marker": {
          "symbol": "circle"
         },
         "mode": "lines+markers",
         "name": "ZRNSWACRUSIKKQ-XQRVVYSFSA-N",
         "orientation": "v",
         "showlegend": true,
         "type": "scatter",
         "x": [
          3.333333,
          10
         ],
         "xaxis": "x",
         "y": [
          16.47573263417547,
          14.040634376359558
         ],
         "yaxis": "y"
        },
        {
         "customdata": [
          [
           "DANAZOL",
           234.5
          ]
         ],
         "error_y": {
          "array": [
           0.6363933172042309
          ],
          "arrayminus": [
           0.6363933172042309
          ]
         },
         "hovertemplate": "<b>%{hovertext}</b><br><br>conc=%{x}<br>distance=%{y:.3f}<br>count_nuclei=%{customdata[1]:.1f}<extra></extra>",
         "hovertext": [
          "DANAZOL"
         ],
         "legendgroup": "DANAZOL",
         "line": {
          "color": "#FF97FF",
          "dash": "solid"
         },
         "marker": {
          "symbol": "circle"
         },
         "mode": "lines+markers",
         "name": "DANAZOL",
         "orientation": "v",
         "showlegend": true,
         "type": "scatter",
         "x": [
          10
         ],
         "xaxis": "x",
         "y": [
          14.054418139993208
         ],
         "yaxis": "y"
        },
        {
         "customdata": [
          [
           "WXJXTMQMAOYROI-UHFFFAOYSA-N",
           242
          ],
          [
           "WXJXTMQMAOYROI-UHFFFAOYSA-N",
           242
          ]
         ],
         "error_y": {
          "array": [
           0,
           0
          ],
          "arrayminus": [
           0,
           0
          ]
         },
         "hovertemplate": "<b>%{hovertext}</b><br><br>conc=%{x}<br>distance=%{y:.3f}<br>count_nuclei=%{customdata[1]:.1f}<extra></extra>",
         "hovertext": [
          "WXJXTMQMAOYROI-UHFFFAOYSA-N",
          "WXJXTMQMAOYROI-UHFFFAOYSA-N"
         ],
         "legendgroup": "WXJXTMQMAOYROI-UHFFFAOYSA-N",
         "line": {
          "color": "#FECB52",
          "dash": "solid"
         },
         "marker": {
          "symbol": "circle"
         },
         "mode": "lines+markers",
         "name": "WXJXTMQMAOYROI-UHFFFAOYSA-N",
         "orientation": "v",
         "showlegend": true,
         "type": "scatter",
         "x": [
          0.833333,
          3.333333
         ],
         "xaxis": "x",
         "y": [
          19.231189147731023,
          14.085515452677464
         ],
         "yaxis": "y"
        },
        {
         "customdata": [
          [
           "colforsin-daproate",
           229
          ]
         ],
         "error_y": {
          "array": [
           0.0032353915718399
          ],
          "arrayminus": [
           0.0032353915718399
          ]
         },
         "hovertemplate": "<b>%{hovertext}</b><br><br>conc=%{x}<br>distance=%{y:.3f}<br>count_nuclei=%{customdata[1]:.1f}<extra></extra>",
         "hovertext": [
          "colforsin-daproate"
         ],
         "legendgroup": "colforsin-daproate",
         "line": {
          "color": "#636efa",
          "dash": "solid"
         },
         "marker": {
          "symbol": "circle"
         },
         "mode": "lines+markers",
         "name": "colforsin-daproate",
         "orientation": "v",
         "showlegend": true,
         "type": "scatter",
         "x": [
          0.1
         ],
         "xaxis": "x",
         "y": [
          14.100294199662914
         ],
         "yaxis": "y"
        },
        {
         "customdata": [
          [
           "AEG3482",
           248.5
          ]
         ],
         "error_y": {
          "array": [
           0.8473707132967085
          ],
          "arrayminus": [
           0.8473707132967085
          ]
         },
         "hovertemplate": "<b>%{hovertext}</b><br><br>conc=%{x}<br>distance=%{y:.3f}<br>count_nuclei=%{customdata[1]:.1f}<extra></extra>",
         "hovertext": [
          "AEG3482"
         ],
         "legendgroup": "AEG3482",
         "line": {
          "color": "#EF553B",
          "dash": "solid"
         },
         "marker": {
          "symbol": "circle"
         },
         "mode": "lines+markers",
         "name": "AEG3482",
         "orientation": "v",
         "showlegend": true,
         "type": "scatter",
         "x": [
          10
         ],
         "xaxis": "x",
         "y": [
          14.110473641257276
         ],
         "yaxis": "y"
        },
        {
         "customdata": [
          [
           "BPHAAKDJICSRKJ-UHFFFAOYSA-N",
           239
          ],
          [
           "BPHAAKDJICSRKJ-UHFFFAOYSA-N",
           230
          ]
         ],
         "error_y": {
          "array": [
           0,
           0
          ],
          "arrayminus": [
           0,
           0
          ]
         },
         "hovertemplate": "<b>%{hovertext}</b><br><br>conc=%{x}<br>distance=%{y:.3f}<br>count_nuclei=%{customdata[1]:.1f}<extra></extra>",
         "hovertext": [
          "BPHAAKDJICSRKJ-UHFFFAOYSA-N",
          "BPHAAKDJICSRKJ-UHFFFAOYSA-N"
         ],
         "legendgroup": "BPHAAKDJICSRKJ-UHFFFAOYSA-N",
         "line": {
          "color": "#00cc96",
          "dash": "solid"
         },
         "marker": {
          "symbol": "circle"
         },
         "mode": "lines+markers",
         "name": "BPHAAKDJICSRKJ-UHFFFAOYSA-N",
         "orientation": "v",
         "showlegend": true,
         "type": "scatter",
         "x": [
          3.333333,
          10
         ],
         "xaxis": "x",
         "y": [
          17.547051135960956,
          14.12731331246622
         ],
         "yaxis": "y"
        },
        {
         "customdata": [
          [
           "RALOXIFENE HYDROCHLORIDE",
           241
          ],
          [
           "RALOXIFENE HYDROCHLORIDE",
           256
          ]
         ],
         "error_y": {
          "array": [
           1.0390299070286133,
           0.1059925746534542
          ],
          "arrayminus": [
           1.0390299070286133,
           0.1059925746534542
          ]
         },
         "hovertemplate": "<b>%{hovertext}</b><br><br>conc=%{x}<br>distance=%{y:.3f}<br>count_nuclei=%{customdata[1]:.1f}<extra></extra>",
         "hovertext": [
          "RALOXIFENE HYDROCHLORIDE",
          "RALOXIFENE HYDROCHLORIDE"
         ],
         "legendgroup": "RALOXIFENE HYDROCHLORIDE",
         "line": {
          "color": "#ab63fa",
          "dash": "solid"
         },
         "marker": {
          "symbol": "circle"
         },
         "mode": "lines+markers",
         "name": "RALOXIFENE HYDROCHLORIDE",
         "orientation": "v",
         "showlegend": true,
         "type": "scatter",
         "x": [
          0.833333,
          3.333333
         ],
         "xaxis": "x",
         "y": [
          16.83262055417258,
          14.134971501611505
         ],
         "yaxis": "y"
        },
        {
         "customdata": [
          [
           "JUEUNEKLNSILBZ-BTJKTKAUSA-N",
           244
          ],
          [
           "JUEUNEKLNSILBZ-BTJKTKAUSA-N",
           245
          ]
         ],
         "error_y": {
          "array": [
           0,
           0
          ],
          "arrayminus": [
           0,
           0
          ]
         },
         "hovertemplate": "<b>%{hovertext}</b><br><br>conc=%{x}<br>distance=%{y:.3f}<br>count_nuclei=%{customdata[1]:.1f}<extra></extra>",
         "hovertext": [
          "JUEUNEKLNSILBZ-BTJKTKAUSA-N",
          "JUEUNEKLNSILBZ-BTJKTKAUSA-N"
         ],
         "legendgroup": "JUEUNEKLNSILBZ-BTJKTKAUSA-N",
         "line": {
          "color": "#FFA15A",
          "dash": "solid"
         },
         "marker": {
          "symbol": "circle"
         },
         "mode": "lines+markers",
         "name": "JUEUNEKLNSILBZ-BTJKTKAUSA-N",
         "orientation": "v",
         "showlegend": true,
         "type": "scatter",
         "x": [
          3.333333,
          10
         ],
         "xaxis": "x",
         "y": [
          16.21726655583967,
          14.148840670462372
         ],
         "yaxis": "y"
        },
        {
         "customdata": [
          [
           "Liranaftate",
           228.5
          ]
         ],
         "error_y": {
          "array": [
           0.7895161003828157
          ],
          "arrayminus": [
           0.7895161003828157
          ]
         },
         "hovertemplate": "<b>%{hovertext}</b><br><br>conc=%{x}<br>distance=%{y:.3f}<br>count_nuclei=%{customdata[1]:.1f}<extra></extra>",
         "hovertext": [
          "Liranaftate"
         ],
         "legendgroup": "Liranaftate",
         "line": {
          "color": "#19d3f3",
          "dash": "solid"
         },
         "marker": {
          "symbol": "circle"
         },
         "mode": "lines+markers",
         "name": "Liranaftate",
         "orientation": "v",
         "showlegend": true,
         "type": "scatter",
         "x": [
          10
         ],
         "xaxis": "x",
         "y": [
          14.159173686783598
         ],
         "yaxis": "y"
        },
        {
         "customdata": [
          [
           "Cetrorelix (Acetate)",
           248.5
          ]
         ],
         "error_y": {
          "array": [
           0.8869298591941011
          ],
          "arrayminus": [
           0.8869298591941011
          ]
         },
         "hovertemplate": "<b>%{hovertext}</b><br><br>conc=%{x}<br>distance=%{y:.3f}<br>count_nuclei=%{customdata[1]:.1f}<extra></extra>",
         "hovertext": [
          "Cetrorelix (Acetate)"
         ],
         "legendgroup": "Cetrorelix (Acetate)",
         "line": {
          "color": "#FF6692",
          "dash": "solid"
         },
         "marker": {
          "symbol": "circle"
         },
         "mode": "lines+markers",
         "name": "Cetrorelix (Acetate)",
         "orientation": "v",
         "showlegend": true,
         "type": "scatter",
         "x": [
          10
         ],
         "xaxis": "x",
         "y": [
          14.168152958039864
         ],
         "yaxis": "y"
        },
        {
         "customdata": [
          [
           "OOTFLCWHBTXCTH-UHFFFAOYSA-N",
           231
          ]
         ],
         "error_y": {
          "array": [
           0
          ],
          "arrayminus": [
           0
          ]
         },
         "hovertemplate": "<b>%{hovertext}</b><br><br>conc=%{x}<br>distance=%{y:.3f}<br>count_nuclei=%{customdata[1]:.1f}<extra></extra>",
         "hovertext": [
          "OOTFLCWHBTXCTH-UHFFFAOYSA-N"
         ],
         "legendgroup": "OOTFLCWHBTXCTH-UHFFFAOYSA-N",
         "line": {
          "color": "#B6E880",
          "dash": "solid"
         },
         "marker": {
          "symbol": "circle"
         },
         "mode": "lines+markers",
         "name": "OOTFLCWHBTXCTH-UHFFFAOYSA-N",
         "orientation": "v",
         "showlegend": true,
         "type": "scatter",
         "x": [
          0.833333
         ],
         "xaxis": "x",
         "y": [
          14.168159244146578
         ],
         "yaxis": "y"
        },
        {
         "customdata": [
          [
           "BPJQEISLTSNGMX-UHFFFAOYSA-N",
           239
          ],
          [
           "BPJQEISLTSNGMX-UHFFFAOYSA-N",
           227
          ]
         ],
         "error_y": {
          "array": [
           0,
           0
          ],
          "arrayminus": [
           0,
           0
          ]
         },
         "hovertemplate": "<b>%{hovertext}</b><br><br>conc=%{x}<br>distance=%{y:.3f}<br>count_nuclei=%{customdata[1]:.1f}<extra></extra>",
         "hovertext": [
          "BPJQEISLTSNGMX-UHFFFAOYSA-N",
          "BPJQEISLTSNGMX-UHFFFAOYSA-N"
         ],
         "legendgroup": "BPJQEISLTSNGMX-UHFFFAOYSA-N",
         "line": {
          "color": "#FF97FF",
          "dash": "solid"
         },
         "marker": {
          "symbol": "circle"
         },
         "mode": "lines+markers",
         "name": "BPJQEISLTSNGMX-UHFFFAOYSA-N",
         "orientation": "v",
         "showlegend": true,
         "type": "scatter",
         "x": [
          3.333333,
          10
         ],
         "xaxis": "x",
         "y": [
          17.269906354046082,
          14.194569332834709
         ],
         "yaxis": "y"
        },
        {
         "customdata": [
          [
           "RU-28318",
           239
          ],
          [
           "RU-28318",
           237
          ]
         ],
         "error_y": {
          "array": [
           0.0133081851776122,
           0.654919441981443
          ],
          "arrayminus": [
           0.0133081851776122,
           0.654919441981443
          ]
         },
         "hovertemplate": "<b>%{hovertext}</b><br><br>conc=%{x}<br>distance=%{y:.3f}<br>count_nuclei=%{customdata[1]:.1f}<extra></extra>",
         "hovertext": [
          "RU-28318",
          "RU-28318"
         ],
         "legendgroup": "RU-28318",
         "line": {
          "color": "#FECB52",
          "dash": "solid"
         },
         "marker": {
          "symbol": "circle"
         },
         "mode": "lines+markers",
         "name": "RU-28318",
         "orientation": "v",
         "showlegend": true,
         "type": "scatter",
         "x": [
          3.333333,
          10
         ],
         "xaxis": "x",
         "y": [
          15.939700473375026,
          14.2054714885665
         ],
         "yaxis": "y"
        },
        {
         "customdata": [
          [
           "2-pyridylethylamine",
           238
          ]
         ],
         "error_y": {
          "array": [
           2.26380736701997
          ],
          "arrayminus": [
           2.26380736701997
          ]
         },
         "hovertemplate": "<b>%{hovertext}</b><br><br>conc=%{x}<br>distance=%{y:.3f}<br>count_nuclei=%{customdata[1]:.1f}<extra></extra>",
         "hovertext": [
          "2-pyridylethylamine"
         ],
         "legendgroup": "2-pyridylethylamine",
         "line": {
          "color": "#636efa",
          "dash": "solid"
         },
         "marker": {
          "symbol": "circle"
         },
         "mode": "lines+markers",
         "name": "2-pyridylethylamine",
         "orientation": "v",
         "showlegend": true,
         "type": "scatter",
         "x": [
          0.3
         ],
         "xaxis": "x",
         "y": [
          14.21733361618199
         ],
         "yaxis": "y"
        },
        {
         "customdata": [
          [
           "ZFDRCLHVJQNMFU-UHFFFAOYSA-N",
           219
          ],
          [
           "ZFDRCLHVJQNMFU-UHFFFAOYSA-N",
           151
          ]
         ],
         "error_y": {
          "array": [
           0,
           0
          ],
          "arrayminus": [
           0,
           0
          ]
         },
         "hovertemplate": "<b>%{hovertext}</b><br><br>conc=%{x}<br>distance=%{y:.3f}<br>count_nuclei=%{customdata[1]:.1f}<extra></extra>",
         "hovertext": [
          "ZFDRCLHVJQNMFU-UHFFFAOYSA-N",
          "ZFDRCLHVJQNMFU-UHFFFAOYSA-N"
         ],
         "legendgroup": "ZFDRCLHVJQNMFU-UHFFFAOYSA-N",
         "line": {
          "color": "#EF553B",
          "dash": "solid"
         },
         "marker": {
          "symbol": "circle"
         },
         "mode": "lines+markers",
         "name": "ZFDRCLHVJQNMFU-UHFFFAOYSA-N",
         "orientation": "v",
         "showlegend": true,
         "type": "scatter",
         "x": [
          3.333333,
          10
         ],
         "xaxis": "x",
         "y": [
          16.210189995524075,
          14.233197821927767
         ],
         "yaxis": "y"
        },
        {
         "customdata": [
          [
           "Genipin",
           236
          ]
         ],
         "error_y": {
          "array": [
           0.682981358627547
          ],
          "arrayminus": [
           0.682981358627547
          ]
         },
         "hovertemplate": "<b>%{hovertext}</b><br><br>conc=%{x}<br>distance=%{y:.3f}<br>count_nuclei=%{customdata[1]:.1f}<extra></extra>",
         "hovertext": [
          "Genipin"
         ],
         "legendgroup": "Genipin",
         "line": {
          "color": "#00cc96",
          "dash": "solid"
         },
         "marker": {
          "symbol": "circle"
         },
         "mode": "lines+markers",
         "name": "Genipin",
         "orientation": "v",
         "showlegend": true,
         "type": "scatter",
         "x": [
          10
         ],
         "xaxis": "x",
         "y": [
          14.239875599941204
         ],
         "yaxis": "y"
        },
        {
         "customdata": [
          [
           "pifithrin-mu",
           233
          ],
          [
           "pifithrin-mu",
           225
          ]
         ],
         "error_y": {
          "array": [
           0.6558869410374655,
           1.6329730646798222
          ],
          "arrayminus": [
           0.6558869410374655,
           1.6329730646798222
          ]
         },
         "hovertemplate": "<b>%{hovertext}</b><br><br>conc=%{x}<br>distance=%{y:.3f}<br>count_nuclei=%{customdata[1]:.1f}<extra></extra>",
         "hovertext": [
          "pifithrin-mu",
          "pifithrin-mu"
         ],
         "legendgroup": "pifithrin-mu",
         "line": {
          "color": "#ab63fa",
          "dash": "solid"
         },
         "marker": {
          "symbol": "circle"
         },
         "mode": "lines+markers",
         "name": "pifithrin-mu",
         "orientation": "v",
         "showlegend": true,
         "type": "scatter",
         "x": [
          0.3,
          0.833333
         ],
         "xaxis": "x",
         "y": [
          16.261361366508368,
          14.24673791388608
         ],
         "yaxis": "y"
        },
        {
         "customdata": [
          [
           "UH-232-(+)",
           253
          ]
         ],
         "error_y": {
          "array": [
           2.1187372094711385
          ],
          "arrayminus": [
           2.1187372094711385
          ]
         },
         "hovertemplate": "<b>%{hovertext}</b><br><br>conc=%{x}<br>distance=%{y:.3f}<br>count_nuclei=%{customdata[1]:.1f}<extra></extra>",
         "hovertext": [
          "UH-232-(+)"
         ],
         "legendgroup": "UH-232-(+)",
         "line": {
          "color": "#FFA15A",
          "dash": "solid"
         },
         "marker": {
          "symbol": "circle"
         },
         "mode": "lines+markers",
         "name": "UH-232-(+)",
         "orientation": "v",
         "showlegend": true,
         "type": "scatter",
         "x": [
          10
         ],
         "xaxis": "x",
         "y": [
          14.252378035385888
         ],
         "yaxis": "y"
        },
        {
         "customdata": [
          [
           "NHXUUHQBQCYVAY-UHFFFAOYSA-N",
           216
          ],
          [
           "NHXUUHQBQCYVAY-UHFFFAOYSA-N",
           243
          ]
         ],
         "error_y": {
          "array": [
           0,
           0
          ],
          "arrayminus": [
           0,
           0
          ]
         },
         "hovertemplate": "<b>%{hovertext}</b><br><br>conc=%{x}<br>distance=%{y:.3f}<br>count_nuclei=%{customdata[1]:.1f}<extra></extra>",
         "hovertext": [
          "NHXUUHQBQCYVAY-UHFFFAOYSA-N",
          "NHXUUHQBQCYVAY-UHFFFAOYSA-N"
         ],
         "legendgroup": "NHXUUHQBQCYVAY-UHFFFAOYSA-N",
         "line": {
          "color": "#19d3f3",
          "dash": "solid"
         },
         "marker": {
          "symbol": "circle"
         },
         "mode": "lines+markers",
         "name": "NHXUUHQBQCYVAY-UHFFFAOYSA-N",
         "orientation": "v",
         "showlegend": true,
         "type": "scatter",
         "x": [
          3.333333,
          10
         ],
         "xaxis": "x",
         "y": [
          19.480031021487832,
          14.261439720333232
         ],
         "yaxis": "y"
        },
        {
         "customdata": [
          [
           "ditiocarb-sodium-trihydrate",
           251
          ],
          [
           "ditiocarb-sodium-trihydrate",
           244
          ]
         ],
         "error_y": {
          "array": [
           0.5122152026759483,
           0.3125726652828557
          ],
          "arrayminus": [
           0.5122152026759483,
           0.3125726652828557
          ]
         },
         "hovertemplate": "<b>%{hovertext}</b><br><br>conc=%{x}<br>distance=%{y:.3f}<br>count_nuclei=%{customdata[1]:.1f}<extra></extra>",
         "hovertext": [
          "ditiocarb-sodium-trihydrate",
          "ditiocarb-sodium-trihydrate"
         ],
         "legendgroup": "ditiocarb-sodium-trihydrate",
         "line": {
          "color": "#FF6692",
          "dash": "solid"
         },
         "marker": {
          "symbol": "circle"
         },
         "mode": "lines+markers",
         "name": "ditiocarb-sodium-trihydrate",
         "orientation": "v",
         "showlegend": true,
         "type": "scatter",
         "x": [
          3.333333,
          10
         ],
         "xaxis": "x",
         "y": [
          15.128988304166883,
          14.28182070446901
         ],
         "yaxis": "y"
        },
        {
         "customdata": [
          [
           "GOXLVSZAUDIXPN-UHFFFAOYSA-N",
           229
          ],
          [
           "GOXLVSZAUDIXPN-UHFFFAOYSA-N",
           218
          ]
         ],
         "error_y": {
          "array": [
           0,
           0
          ],
          "arrayminus": [
           0,
           0
          ]
         },
         "hovertemplate": "<b>%{hovertext}</b><br><br>conc=%{x}<br>distance=%{y:.3f}<br>count_nuclei=%{customdata[1]:.1f}<extra></extra>",
         "hovertext": [
          "GOXLVSZAUDIXPN-UHFFFAOYSA-N",
          "GOXLVSZAUDIXPN-UHFFFAOYSA-N"
         ],
         "legendgroup": "GOXLVSZAUDIXPN-UHFFFAOYSA-N",
         "line": {
          "color": "#B6E880",
          "dash": "solid"
         },
         "marker": {
          "symbol": "circle"
         },
         "mode": "lines+markers",
         "name": "GOXLVSZAUDIXPN-UHFFFAOYSA-N",
         "orientation": "v",
         "showlegend": true,
         "type": "scatter",
         "x": [
          0.833333,
          3.333333
         ],
         "xaxis": "x",
         "y": [
          14.470902823276946,
          14.282916105904846
         ],
         "yaxis": "y"
        },
        {
         "customdata": [
          [
           "VU 0240551",
           228
          ],
          [
           "VU 0240551",
           224
          ]
         ],
         "error_y": {
          "array": [
           0.2187209173131741,
           0.9453151146399588
          ],
          "arrayminus": [
           0.2187209173131741,
           0.9453151146399588
          ]
         },
         "hovertemplate": "<b>%{hovertext}</b><br><br>conc=%{x}<br>distance=%{y:.3f}<br>count_nuclei=%{customdata[1]:.1f}<extra></extra>",
         "hovertext": [
          "VU 0240551",
          "VU 0240551"
         ],
         "legendgroup": "VU 0240551",
         "line": {
          "color": "#FF97FF",
          "dash": "solid"
         },
         "marker": {
          "symbol": "circle"
         },
         "mode": "lines+markers",
         "name": "VU 0240551",
         "orientation": "v",
         "showlegend": true,
         "type": "scatter",
         "x": [
          0.3,
          3.333333
         ],
         "xaxis": "x",
         "y": [
          16.546963096124678,
          14.314528070005556
         ],
         "yaxis": "y"
        },
        {
         "customdata": [
          [
           "AZELAIC ACID",
           232
          ],
          [
           "AZELAIC ACID",
           239
          ]
         ],
         "error_y": {
          "array": [
           0.3174025360322012,
           1.1481012450874015
          ],
          "arrayminus": [
           0.3174025360322012,
           1.1481012450874015
          ]
         },
         "hovertemplate": "<b>%{hovertext}</b><br><br>conc=%{x}<br>distance=%{y:.3f}<br>count_nuclei=%{customdata[1]:.1f}<extra></extra>",
         "hovertext": [
          "AZELAIC ACID",
          "AZELAIC ACID"
         ],
         "legendgroup": "AZELAIC ACID",
         "line": {
          "color": "#FECB52",
          "dash": "solid"
         },
         "marker": {
          "symbol": "circle"
         },
         "mode": "lines+markers",
         "name": "AZELAIC ACID",
         "orientation": "v",
         "showlegend": true,
         "type": "scatter",
         "x": [
          3.333333,
          10
         ],
         "xaxis": "x",
         "y": [
          16.718042924689218,
          14.31678248716621
         ],
         "yaxis": "y"
        },
        {
         "customdata": [
          [
           "Rheic Acid",
           233.5
          ]
         ],
         "error_y": {
          "array": [
           0.22705885617518
          ],
          "arrayminus": [
           0.22705885617518
          ]
         },
         "hovertemplate": "<b>%{hovertext}</b><br><br>conc=%{x}<br>distance=%{y:.3f}<br>count_nuclei=%{customdata[1]:.1f}<extra></extra>",
         "hovertext": [
          "Rheic Acid"
         ],
         "legendgroup": "Rheic Acid",
         "line": {
          "color": "#636efa",
          "dash": "solid"
         },
         "marker": {
          "symbol": "circle"
         },
         "mode": "lines+markers",
         "name": "Rheic Acid",
         "orientation": "v",
         "showlegend": true,
         "type": "scatter",
         "x": [
          10
         ],
         "xaxis": "x",
         "y": [
          14.323709764954987
         ],
         "yaxis": "y"
        },
        {
         "customdata": [
          [
           "QLLCUVACGPLGAX-XXCZMEBESA-N",
           244
          ],
          [
           "QLLCUVACGPLGAX-XXCZMEBESA-N",
           238
          ]
         ],
         "error_y": {
          "array": [
           0,
           0
          ],
          "arrayminus": [
           0,
           0
          ]
         },
         "hovertemplate": "<b>%{hovertext}</b><br><br>conc=%{x}<br>distance=%{y:.3f}<br>count_nuclei=%{customdata[1]:.1f}<extra></extra>",
         "hovertext": [
          "QLLCUVACGPLGAX-XXCZMEBESA-N",
          "QLLCUVACGPLGAX-XXCZMEBESA-N"
         ],
         "legendgroup": "QLLCUVACGPLGAX-XXCZMEBESA-N",
         "line": {
          "color": "#EF553B",
          "dash": "solid"
         },
         "marker": {
          "symbol": "circle"
         },
         "mode": "lines+markers",
         "name": "QLLCUVACGPLGAX-XXCZMEBESA-N",
         "orientation": "v",
         "showlegend": true,
         "type": "scatter",
         "x": [
          3.333333,
          10
         ],
         "xaxis": "x",
         "y": [
          14.42202095984046,
          14.324408472874564
         ],
         "yaxis": "y"
        },
        {
         "customdata": [
          [
           "PERINDOPRILAT",
           219.5
          ]
         ],
         "error_y": {
          "array": [
           1.027572137555648
          ],
          "arrayminus": [
           1.027572137555648
          ]
         },
         "hovertemplate": "<b>%{hovertext}</b><br><br>conc=%{x}<br>distance=%{y:.3f}<br>count_nuclei=%{customdata[1]:.1f}<extra></extra>",
         "hovertext": [
          "PERINDOPRILAT"
         ],
         "legendgroup": "PERINDOPRILAT",
         "line": {
          "color": "#00cc96",
          "dash": "solid"
         },
         "marker": {
          "symbol": "circle"
         },
         "mode": "lines+markers",
         "name": "PERINDOPRILAT",
         "orientation": "v",
         "showlegend": true,
         "type": "scatter",
         "x": [
          10
         ],
         "xaxis": "x",
         "y": [
          14.327366841377486
         ],
         "yaxis": "y"
        },
        {
         "customdata": [
          [
           "NWZJCZGEOSARQH-UHFFFAOYSA-N",
           230
          ],
          [
           "NWZJCZGEOSARQH-UHFFFAOYSA-N",
           254
          ]
         ],
         "error_y": {
          "array": [
           0,
           0
          ],
          "arrayminus": [
           0,
           0
          ]
         },
         "hovertemplate": "<b>%{hovertext}</b><br><br>conc=%{x}<br>distance=%{y:.3f}<br>count_nuclei=%{customdata[1]:.1f}<extra></extra>",
         "hovertext": [
          "NWZJCZGEOSARQH-UHFFFAOYSA-N",
          "NWZJCZGEOSARQH-UHFFFAOYSA-N"
         ],
         "legendgroup": "NWZJCZGEOSARQH-UHFFFAOYSA-N",
         "line": {
          "color": "#ab63fa",
          "dash": "solid"
         },
         "marker": {
          "symbol": "circle"
         },
         "mode": "lines+markers",
         "name": "NWZJCZGEOSARQH-UHFFFAOYSA-N",
         "orientation": "v",
         "showlegend": true,
         "type": "scatter",
         "x": [
          3.333333,
          10
         ],
         "xaxis": "x",
         "y": [
          16.463160998203897,
          14.34041236582748
         ],
         "yaxis": "y"
        },
        {
         "customdata": [
          [
           "ONONSKTWUDUOGR-UHFFFAOYSA-N",
           244
          ]
         ],
         "error_y": {
          "array": [
           0
          ],
          "arrayminus": [
           0
          ]
         },
         "hovertemplate": "<b>%{hovertext}</b><br><br>conc=%{x}<br>distance=%{y:.3f}<br>count_nuclei=%{customdata[1]:.1f}<extra></extra>",
         "hovertext": [
          "ONONSKTWUDUOGR-UHFFFAOYSA-N"
         ],
         "legendgroup": "ONONSKTWUDUOGR-UHFFFAOYSA-N",
         "line": {
          "color": "#FFA15A",
          "dash": "solid"
         },
         "marker": {
          "symbol": "circle"
         },
         "mode": "lines+markers",
         "name": "ONONSKTWUDUOGR-UHFFFAOYSA-N",
         "orientation": "v",
         "showlegend": true,
         "type": "scatter",
         "x": [
          0.833333
         ],
         "xaxis": "x",
         "y": [
          14.36025931361031
         ],
         "yaxis": "y"
        },
        {
         "customdata": [
          [
           "Flavoxate HCl",
           235
          ]
         ],
         "error_y": {
          "array": [
           0.6565410748766478
          ],
          "arrayminus": [
           0.6565410748766478
          ]
         },
         "hovertemplate": "<b>%{hovertext}</b><br><br>conc=%{x}<br>distance=%{y:.3f}<br>count_nuclei=%{customdata[1]:.1f}<extra></extra>",
         "hovertext": [
          "Flavoxate HCl"
         ],
         "legendgroup": "Flavoxate HCl",
         "line": {
          "color": "#19d3f3",
          "dash": "solid"
         },
         "marker": {
          "symbol": "circle"
         },
         "mode": "lines+markers",
         "name": "Flavoxate HCl",
         "orientation": "v",
         "showlegend": true,
         "type": "scatter",
         "x": [
          10
         ],
         "xaxis": "x",
         "y": [
          14.36653476756322
         ],
         "yaxis": "y"
        },
        {
         "customdata": [
          [
           "cyclopiazonic-acid",
           232.5
          ]
         ],
         "error_y": {
          "array": [
           2.33323681524789
          ],
          "arrayminus": [
           2.33323681524789
          ]
         },
         "hovertemplate": "<b>%{hovertext}</b><br><br>conc=%{x}<br>distance=%{y:.3f}<br>count_nuclei=%{customdata[1]:.1f}<extra></extra>",
         "hovertext": [
          "cyclopiazonic-acid"
         ],
         "legendgroup": "cyclopiazonic-acid",
         "line": {
          "color": "#FF6692",
          "dash": "solid"
         },
         "marker": {
          "symbol": "circle"
         },
         "mode": "lines+markers",
         "name": "cyclopiazonic-acid",
         "orientation": "v",
         "showlegend": true,
         "type": "scatter",
         "x": [
          0.833333
         ],
         "xaxis": "x",
         "y": [
          14.38136317907691
         ],
         "yaxis": "y"
        },
        {
         "customdata": [
          [
           "madrasin",
           226
          ],
          [
           "madrasin",
           237
          ]
         ],
         "error_y": {
          "array": [
           1.3241952010893634,
           0.6902634797421676
          ],
          "arrayminus": [
           1.3241952010893634,
           0.6902634797421676
          ]
         },
         "hovertemplate": "<b>%{hovertext}</b><br><br>conc=%{x}<br>distance=%{y:.3f}<br>count_nuclei=%{customdata[1]:.1f}<extra></extra>",
         "hovertext": [
          "madrasin",
          "madrasin"
         ],
         "legendgroup": "madrasin",
         "line": {
          "color": "#B6E880",
          "dash": "solid"
         },
         "marker": {
          "symbol": "circle"
         },
         "mode": "lines+markers",
         "name": "madrasin",
         "orientation": "v",
         "showlegend": true,
         "type": "scatter",
         "x": [
          0.3,
          3.333333
         ],
         "xaxis": "x",
         "y": [
          14.56203760853428,
          14.381662057053177
         ],
         "yaxis": "y"
        },
        {
         "customdata": [
          [
           "DIMINAZENE ACETURATE",
           229.5
          ]
         ],
         "error_y": {
          "array": [
           0.8905336954116372
          ],
          "arrayminus": [
           0.8905336954116372
          ]
         },
         "hovertemplate": "<b>%{hovertext}</b><br><br>conc=%{x}<br>distance=%{y:.3f}<br>count_nuclei=%{customdata[1]:.1f}<extra></extra>",
         "hovertext": [
          "DIMINAZENE ACETURATE"
         ],
         "legendgroup": "DIMINAZENE ACETURATE",
         "line": {
          "color": "#FF97FF",
          "dash": "solid"
         },
         "marker": {
          "symbol": "circle"
         },
         "mode": "lines+markers",
         "name": "DIMINAZENE ACETURATE",
         "orientation": "v",
         "showlegend": true,
         "type": "scatter",
         "x": [
          10
         ],
         "xaxis": "x",
         "y": [
          14.406399519432997
         ],
         "yaxis": "y"
        },
        {
         "customdata": [
          [
           "PJWUXKNZVMEPPH-UHFFFAOYSA-N",
           213
          ],
          [
           "PJWUXKNZVMEPPH-UHFFFAOYSA-N",
           225
          ]
         ],
         "error_y": {
          "array": [
           0,
           0
          ],
          "arrayminus": [
           0,
           0
          ]
         },
         "hovertemplate": "<b>%{hovertext}</b><br><br>conc=%{x}<br>distance=%{y:.3f}<br>count_nuclei=%{customdata[1]:.1f}<extra></extra>",
         "hovertext": [
          "PJWUXKNZVMEPPH-UHFFFAOYSA-N",
          "PJWUXKNZVMEPPH-UHFFFAOYSA-N"
         ],
         "legendgroup": "PJWUXKNZVMEPPH-UHFFFAOYSA-N",
         "line": {
          "color": "#FECB52",
          "dash": "solid"
         },
         "marker": {
          "symbol": "circle"
         },
         "mode": "lines+markers",
         "name": "PJWUXKNZVMEPPH-UHFFFAOYSA-N",
         "orientation": "v",
         "showlegend": true,
         "type": "scatter",
         "x": [
          3.333333,
          10
         ],
         "xaxis": "x",
         "y": [
          24.741931659868165,
          14.41816398165429
         ],
         "yaxis": "y"
        },
        {
         "customdata": [
          [
           "vanoxerine",
           245.5
          ]
         ],
         "error_y": {
          "array": [
           1.449979595114879
          ],
          "arrayminus": [
           1.449979595114879
          ]
         },
         "hovertemplate": "<b>%{hovertext}</b><br><br>conc=%{x}<br>distance=%{y:.3f}<br>count_nuclei=%{customdata[1]:.1f}<extra></extra>",
         "hovertext": [
          "vanoxerine"
         ],
         "legendgroup": "vanoxerine",
         "line": {
          "color": "#636efa",
          "dash": "solid"
         },
         "marker": {
          "symbol": "circle"
         },
         "mode": "lines+markers",
         "name": "vanoxerine",
         "orientation": "v",
         "showlegend": true,
         "type": "scatter",
         "x": [
          0.833333
         ],
         "xaxis": "x",
         "y": [
          14.466198423738202
         ],
         "yaxis": "y"
        },
        {
         "customdata": [
          [
           "GK921",
           225
          ],
          [
           "GK921",
           217
          ]
         ],
         "error_y": {
          "array": [
           0.4245611228630075,
           0.9915336712645964
          ],
          "arrayminus": [
           0.4245611228630075,
           0.9915336712645964
          ]
         },
         "hovertemplate": "<b>%{hovertext}</b><br><br>conc=%{x}<br>distance=%{y:.3f}<br>count_nuclei=%{customdata[1]:.1f}<extra></extra>",
         "hovertext": [
          "GK921",
          "GK921"
         ],
         "legendgroup": "GK921",
         "line": {
          "color": "#EF553B",
          "dash": "solid"
         },
         "marker": {
          "symbol": "circle"
         },
         "mode": "lines+markers",
         "name": "GK921",
         "orientation": "v",
         "showlegend": true,
         "type": "scatter",
         "x": [
          0.833333,
          3.333333
         ],
         "xaxis": "x",
         "y": [
          16.462531694511558,
          14.475180668224402
         ],
         "yaxis": "y"
        },
        {
         "customdata": [
          [
           "Bardoxolone",
           230
          ]
         ],
         "error_y": {
          "array": [
           1.3183507543081827
          ],
          "arrayminus": [
           1.3183507543081827
          ]
         },
         "hovertemplate": "<b>%{hovertext}</b><br><br>conc=%{x}<br>distance=%{y:.3f}<br>count_nuclei=%{customdata[1]:.1f}<extra></extra>",
         "hovertext": [
          "Bardoxolone"
         ],
         "legendgroup": "Bardoxolone",
         "line": {
          "color": "#00cc96",
          "dash": "solid"
         },
         "marker": {
          "symbol": "circle"
         },
         "mode": "lines+markers",
         "name": "Bardoxolone",
         "orientation": "v",
         "showlegend": true,
         "type": "scatter",
         "x": [
          0.1
         ],
         "xaxis": "x",
         "y": [
          14.476376644835598
         ],
         "yaxis": "y"
        },
        {
         "customdata": [
          [
           "NZFNXWQNBYZDAQ-UHFFFAOYSA-N",
           276
          ],
          [
           "NZFNXWQNBYZDAQ-UHFFFAOYSA-N",
           237.5
          ]
         ],
         "error_y": {
          "array": [
           0,
           0
          ],
          "arrayminus": [
           0,
           0
          ]
         },
         "hovertemplate": "<b>%{hovertext}</b><br><br>conc=%{x}<br>distance=%{y:.3f}<br>count_nuclei=%{customdata[1]:.1f}<extra></extra>",
         "hovertext": [
          "NZFNXWQNBYZDAQ-UHFFFAOYSA-N",
          "NZFNXWQNBYZDAQ-UHFFFAOYSA-N"
         ],
         "legendgroup": "NZFNXWQNBYZDAQ-UHFFFAOYSA-N",
         "line": {
          "color": "#ab63fa",
          "dash": "solid"
         },
         "marker": {
          "symbol": "circle"
         },
         "mode": "lines+markers",
         "name": "NZFNXWQNBYZDAQ-UHFFFAOYSA-N",
         "orientation": "v",
         "showlegend": true,
         "type": "scatter",
         "x": [
          3.333333,
          10
         ],
         "xaxis": "x",
         "y": [
          19.91485596438337,
          14.480414213575088
         ],
         "yaxis": "y"
        },
        {
         "customdata": [
          [
           "Tofacitinib (CP-690550, Tasocitinib)",
           245.25
          ]
         ],
         "error_y": {
          "array": [
           2.0883746696960905
          ],
          "arrayminus": [
           2.0883746696960905
          ]
         },
         "hovertemplate": "<b>%{hovertext}</b><br><br>conc=%{x}<br>distance=%{y:.3f}<br>count_nuclei=%{customdata[1]:.1f}<extra></extra>",
         "hovertext": [
          "Tofacitinib (CP-690550, Tasocitinib)"
         ],
         "legendgroup": "Tofacitinib (CP-690550, Tasocitinib)",
         "line": {
          "color": "#FFA15A",
          "dash": "solid"
         },
         "marker": {
          "symbol": "circle"
         },
         "mode": "lines+markers",
         "name": "Tofacitinib (CP-690550, Tasocitinib)",
         "orientation": "v",
         "showlegend": true,
         "type": "scatter",
         "x": [
          10
         ],
         "xaxis": "x",
         "y": [
          14.493880261376203
         ],
         "yaxis": "y"
        },
        {
         "customdata": [
          [
           "CEFPROZIL",
           245.5
          ]
         ],
         "error_y": {
          "array": [
           0.7796596009781105
          ],
          "arrayminus": [
           0.7796596009781105
          ]
         },
         "hovertemplate": "<b>%{hovertext}</b><br><br>conc=%{x}<br>distance=%{y:.3f}<br>count_nuclei=%{customdata[1]:.1f}<extra></extra>",
         "hovertext": [
          "CEFPROZIL"
         ],
         "legendgroup": "CEFPROZIL",
         "line": {
          "color": "#19d3f3",
          "dash": "solid"
         },
         "marker": {
          "symbol": "circle"
         },
         "mode": "lines+markers",
         "name": "CEFPROZIL",
         "orientation": "v",
         "showlegend": true,
         "type": "scatter",
         "x": [
          10
         ],
         "xaxis": "x",
         "y": [
          14.495185887595545
         ],
         "yaxis": "y"
        },
        {
         "customdata": [
          [
           "LZCOHSXIXHFECP-UHFFFAOYSA-N",
           233
          ],
          [
           "LZCOHSXIXHFECP-UHFFFAOYSA-N",
           233
          ]
         ],
         "error_y": {
          "array": [
           0,
           0
          ],
          "arrayminus": [
           0,
           0
          ]
         },
         "hovertemplate": "<b>%{hovertext}</b><br><br>conc=%{x}<br>distance=%{y:.3f}<br>count_nuclei=%{customdata[1]:.1f}<extra></extra>",
         "hovertext": [
          "LZCOHSXIXHFECP-UHFFFAOYSA-N",
          "LZCOHSXIXHFECP-UHFFFAOYSA-N"
         ],
         "legendgroup": "LZCOHSXIXHFECP-UHFFFAOYSA-N",
         "line": {
          "color": "#FF6692",
          "dash": "solid"
         },
         "marker": {
          "symbol": "circle"
         },
         "mode": "lines+markers",
         "name": "LZCOHSXIXHFECP-UHFFFAOYSA-N",
         "orientation": "v",
         "showlegend": true,
         "type": "scatter",
         "x": [
          0.833333,
          3.333333
         ],
         "xaxis": "x",
         "y": [
          15.770590269224646,
          14.50196100798497
         ],
         "yaxis": "y"
        },
        {
         "customdata": [
          [
           "CYC116",
           214.5
          ]
         ],
         "error_y": {
          "array": [
           0.9775715354065008
          ],
          "arrayminus": [
           0.9775715354065008
          ]
         },
         "hovertemplate": "<b>%{hovertext}</b><br><br>conc=%{x}<br>distance=%{y:.3f}<br>count_nuclei=%{customdata[1]:.1f}<extra></extra>",
         "hovertext": [
          "CYC116"
         ],
         "legendgroup": "CYC116",
         "line": {
          "color": "#B6E880",
          "dash": "solid"
         },
         "marker": {
          "symbol": "circle"
         },
         "mode": "lines+markers",
         "name": "CYC116",
         "orientation": "v",
         "showlegend": true,
         "type": "scatter",
         "x": [
          0.833333
         ],
         "xaxis": "x",
         "y": [
          14.503645473955448
         ],
         "yaxis": "y"
        },
        {
         "customdata": [
          [
           "BIFONAZOLE",
           252
          ],
          [
           "BIFONAZOLE",
           259
          ]
         ],
         "error_y": {
          "array": [
           0.2134466114073667,
           1.5190815656792367
          ],
          "arrayminus": [
           0.2134466114073667,
           1.5190815656792367
          ]
         },
         "hovertemplate": "<b>%{hovertext}</b><br><br>conc=%{x}<br>distance=%{y:.3f}<br>count_nuclei=%{customdata[1]:.1f}<extra></extra>",
         "hovertext": [
          "BIFONAZOLE",
          "BIFONAZOLE"
         ],
         "legendgroup": "BIFONAZOLE",
         "line": {
          "color": "#FF97FF",
          "dash": "solid"
         },
         "marker": {
          "symbol": "circle"
         },
         "mode": "lines+markers",
         "name": "BIFONAZOLE",
         "orientation": "v",
         "showlegend": true,
         "type": "scatter",
         "x": [
          3.333333,
          10
         ],
         "xaxis": "x",
         "y": [
          16.639645131543556,
          14.518362119865778
         ],
         "yaxis": "y"
        },
        {
         "customdata": [
          [
           "BOZXBGQHWQVFNC-UHFFFAOYSA-N",
           232
          ],
          [
           "BOZXBGQHWQVFNC-UHFFFAOYSA-N",
           242
          ]
         ],
         "error_y": {
          "array": [
           0,
           0
          ],
          "arrayminus": [
           0,
           0
          ]
         },
         "hovertemplate": "<b>%{hovertext}</b><br><br>conc=%{x}<br>distance=%{y:.3f}<br>count_nuclei=%{customdata[1]:.1f}<extra></extra>",
         "hovertext": [
          "BOZXBGQHWQVFNC-UHFFFAOYSA-N",
          "BOZXBGQHWQVFNC-UHFFFAOYSA-N"
         ],
         "legendgroup": "BOZXBGQHWQVFNC-UHFFFAOYSA-N",
         "line": {
          "color": "#FECB52",
          "dash": "solid"
         },
         "marker": {
          "symbol": "circle"
         },
         "mode": "lines+markers",
         "name": "BOZXBGQHWQVFNC-UHFFFAOYSA-N",
         "orientation": "v",
         "showlegend": true,
         "type": "scatter",
         "x": [
          0.833333,
          3.333333
         ],
         "xaxis": "x",
         "y": [
          15.96803953826987,
          14.538598185392656
         ],
         "yaxis": "y"
        },
        {
         "customdata": [
          [
           "JLK-6",
           226
          ],
          [
           "JLK-6",
           238
          ]
         ],
         "error_y": {
          "array": [
           0.3576295715300226,
           0.1319148940939793
          ],
          "arrayminus": [
           0.3576295715300226,
           0.1319148940939793
          ]
         },
         "hovertemplate": "<b>%{hovertext}</b><br><br>conc=%{x}<br>distance=%{y:.3f}<br>count_nuclei=%{customdata[1]:.1f}<extra></extra>",
         "hovertext": [
          "JLK-6",
          "JLK-6"
         ],
         "legendgroup": "JLK-6",
         "line": {
          "color": "#636efa",
          "dash": "solid"
         },
         "marker": {
          "symbol": "circle"
         },
         "mode": "lines+markers",
         "name": "JLK-6",
         "orientation": "v",
         "showlegend": true,
         "type": "scatter",
         "x": [
          3.333333,
          10
         ],
         "xaxis": "x",
         "y": [
          19.00550642543048,
          14.541528686274257
         ],
         "yaxis": "y"
        },
        {
         "customdata": [
          [
           "HKOIXWVRNLGFOR-YANNOFPNSA-N",
           256
          ],
          [
           "HKOIXWVRNLGFOR-YANNOFPNSA-N",
           253
          ]
         ],
         "error_y": {
          "array": [
           0,
           0
          ],
          "arrayminus": [
           0,
           0
          ]
         },
         "hovertemplate": "<b>%{hovertext}</b><br><br>conc=%{x}<br>distance=%{y:.3f}<br>count_nuclei=%{customdata[1]:.1f}<extra></extra>",
         "hovertext": [
          "HKOIXWVRNLGFOR-YANNOFPNSA-N",
          "HKOIXWVRNLGFOR-YANNOFPNSA-N"
         ],
         "legendgroup": "HKOIXWVRNLGFOR-YANNOFPNSA-N",
         "line": {
          "color": "#EF553B",
          "dash": "solid"
         },
         "marker": {
          "symbol": "circle"
         },
         "mode": "lines+markers",
         "name": "HKOIXWVRNLGFOR-YANNOFPNSA-N",
         "orientation": "v",
         "showlegend": true,
         "type": "scatter",
         "x": [
          0.833333,
          3.333333
         ],
         "xaxis": "x",
         "y": [
          16.160233651141446,
          14.545852265608469
         ],
         "yaxis": "y"
        },
        {
         "customdata": [
          [
           "YTUXITDFORUZMR-UHFFFAOYSA-N",
           228
          ],
          [
           "YTUXITDFORUZMR-UHFFFAOYSA-N",
           251
          ]
         ],
         "error_y": {
          "array": [
           0,
           0
          ],
          "arrayminus": [
           0,
           0
          ]
         },
         "hovertemplate": "<b>%{hovertext}</b><br><br>conc=%{x}<br>distance=%{y:.3f}<br>count_nuclei=%{customdata[1]:.1f}<extra></extra>",
         "hovertext": [
          "YTUXITDFORUZMR-UHFFFAOYSA-N",
          "YTUXITDFORUZMR-UHFFFAOYSA-N"
         ],
         "legendgroup": "YTUXITDFORUZMR-UHFFFAOYSA-N",
         "line": {
          "color": "#00cc96",
          "dash": "solid"
         },
         "marker": {
          "symbol": "circle"
         },
         "mode": "lines+markers",
         "name": "YTUXITDFORUZMR-UHFFFAOYSA-N",
         "orientation": "v",
         "showlegend": true,
         "type": "scatter",
         "x": [
          0.833333,
          3.333333
         ],
         "xaxis": "x",
         "y": [
          15.331066660399754,
          14.561261822467005
         ],
         "yaxis": "y"
        },
        {
         "customdata": [
          [
           "ML188",
           240.5
          ]
         ],
         "error_y": {
          "array": [
           0.5933421524463309
          ],
          "arrayminus": [
           0.5933421524463309
          ]
         },
         "hovertemplate": "<b>%{hovertext}</b><br><br>conc=%{x}<br>distance=%{y:.3f}<br>count_nuclei=%{customdata[1]:.1f}<extra></extra>",
         "hovertext": [
          "ML188"
         ],
         "legendgroup": "ML188",
         "line": {
          "color": "#ab63fa",
          "dash": "solid"
         },
         "marker": {
          "symbol": "circle"
         },
         "mode": "lines+markers",
         "name": "ML188",
         "orientation": "v",
         "showlegend": true,
         "type": "scatter",
         "x": [
          10
         ],
         "xaxis": "x",
         "y": [
          14.562265003498442
         ],
         "yaxis": "y"
        },
        {
         "customdata": [
          [
           "DOXIFLURIDINE",
           238
          ]
         ],
         "error_y": {
          "array": [
           0.0840399553257054
          ],
          "arrayminus": [
           0.0840399553257054
          ]
         },
         "hovertemplate": "<b>%{hovertext}</b><br><br>conc=%{x}<br>distance=%{y:.3f}<br>count_nuclei=%{customdata[1]:.1f}<extra></extra>",
         "hovertext": [
          "DOXIFLURIDINE"
         ],
         "legendgroup": "DOXIFLURIDINE",
         "line": {
          "color": "#FFA15A",
          "dash": "solid"
         },
         "marker": {
          "symbol": "circle"
         },
         "mode": "lines+markers",
         "name": "DOXIFLURIDINE",
         "orientation": "v",
         "showlegend": true,
         "type": "scatter",
         "x": [
          10
         ],
         "xaxis": "x",
         "y": [
          14.570941472495766
         ],
         "yaxis": "y"
        },
        {
         "customdata": [
          [
           "P22077",
           228
          ],
          [
           "P22077",
           182
          ]
         ],
         "error_y": {
          "array": [
           0.4577118308788677,
           0.0163630590896506
          ],
          "arrayminus": [
           0.4577118308788677,
           0.0163630590896506
          ]
         },
         "hovertemplate": "<b>%{hovertext}</b><br><br>conc=%{x}<br>distance=%{y:.3f}<br>count_nuclei=%{customdata[1]:.1f}<extra></extra>",
         "hovertext": [
          "P22077",
          "P22077"
         ],
         "legendgroup": "P22077",
         "line": {
          "color": "#19d3f3",
          "dash": "solid"
         },
         "marker": {
          "symbol": "circle"
         },
         "mode": "lines+markers",
         "name": "P22077",
         "orientation": "v",
         "showlegend": true,
         "type": "scatter",
         "x": [
          3.333333,
          10
         ],
         "xaxis": "x",
         "y": [
          18.253762661979746,
          14.593382780260564
         ],
         "yaxis": "y"
        },
        {
         "customdata": [
          [
           "WUJOSFGWZQJDLV-UHFFFAOYSA-N",
           239
          ]
         ],
         "error_y": {
          "array": [
           0
          ],
          "arrayminus": [
           0
          ]
         },
         "hovertemplate": "<b>%{hovertext}</b><br><br>conc=%{x}<br>distance=%{y:.3f}<br>count_nuclei=%{customdata[1]:.1f}<extra></extra>",
         "hovertext": [
          "WUJOSFGWZQJDLV-UHFFFAOYSA-N"
         ],
         "legendgroup": "WUJOSFGWZQJDLV-UHFFFAOYSA-N",
         "line": {
          "color": "#FF6692",
          "dash": "solid"
         },
         "marker": {
          "symbol": "circle"
         },
         "mode": "lines+markers",
         "name": "WUJOSFGWZQJDLV-UHFFFAOYSA-N",
         "orientation": "v",
         "showlegend": true,
         "type": "scatter",
         "x": [
          0.833333
         ],
         "xaxis": "x",
         "y": [
          14.593752969422608
         ],
         "yaxis": "y"
        },
        {
         "customdata": [
          [
           "parthenolide-(alternate-stereo)",
           227
          ],
          [
           "parthenolide-(alternate-stereo)",
           238
          ]
         ],
         "error_y": {
          "array": [
           0.7305468758867306,
           1.3465610172342704
          ],
          "arrayminus": [
           0.7305468758867306,
           1.3465610172342704
          ]
         },
         "hovertemplate": "<b>%{hovertext}</b><br><br>conc=%{x}<br>distance=%{y:.3f}<br>count_nuclei=%{customdata[1]:.1f}<extra></extra>",
         "hovertext": [
          "parthenolide-(alternate-stereo)",
          "parthenolide-(alternate-stereo)"
         ],
         "legendgroup": "parthenolide-(alternate-stereo)",
         "line": {
          "color": "#B6E880",
          "dash": "solid"
         },
         "marker": {
          "symbol": "circle"
         },
         "mode": "lines+markers",
         "name": "parthenolide-(alternate-stereo)",
         "orientation": "v",
         "showlegend": true,
         "type": "scatter",
         "x": [
          0.1,
          0.3
         ],
         "xaxis": "x",
         "y": [
          15.141275702962131,
          14.60666625647231
         ],
         "yaxis": "y"
        },
        {
         "customdata": [
          [
           "Danofloxacin Mesylate",
           228
          ]
         ],
         "error_y": {
          "array": [
           0.5022810098560431
          ],
          "arrayminus": [
           0.5022810098560431
          ]
         },
         "hovertemplate": "<b>%{hovertext}</b><br><br>conc=%{x}<br>distance=%{y:.3f}<br>count_nuclei=%{customdata[1]:.1f}<extra></extra>",
         "hovertext": [
          "Danofloxacin Mesylate"
         ],
         "legendgroup": "Danofloxacin Mesylate",
         "line": {
          "color": "#FF97FF",
          "dash": "solid"
         },
         "marker": {
          "symbol": "circle"
         },
         "mode": "lines+markers",
         "name": "Danofloxacin Mesylate",
         "orientation": "v",
         "showlegend": true,
         "type": "scatter",
         "x": [
          10
         ],
         "xaxis": "x",
         "y": [
          14.6110797082148
         ],
         "yaxis": "y"
        },
        {
         "customdata": [
          [
           "RS-16566",
           244
          ]
         ],
         "error_y": {
          "array": [
           0.5381496981595806
          ],
          "arrayminus": [
           0.5381496981595806
          ]
         },
         "hovertemplate": "<b>%{hovertext}</b><br><br>conc=%{x}<br>distance=%{y:.3f}<br>count_nuclei=%{customdata[1]:.1f}<extra></extra>",
         "hovertext": [
          "RS-16566"
         ],
         "legendgroup": "RS-16566",
         "line": {
          "color": "#FECB52",
          "dash": "solid"
         },
         "marker": {
          "symbol": "circle"
         },
         "mode": "lines+markers",
         "name": "RS-16566",
         "orientation": "v",
         "showlegend": true,
         "type": "scatter",
         "x": [
          10
         ],
         "xaxis": "x",
         "y": [
          14.613217241742165
         ],
         "yaxis": "y"
        },
        {
         "customdata": [
          [
           "BNZWYVIOOGYHBQ-HEXCQMFFSA-N",
           222
          ],
          [
           "BNZWYVIOOGYHBQ-HEXCQMFFSA-N",
           238
          ]
         ],
         "error_y": {
          "array": [
           0,
           0
          ],
          "arrayminus": [
           0,
           0
          ]
         },
         "hovertemplate": "<b>%{hovertext}</b><br><br>conc=%{x}<br>distance=%{y:.3f}<br>count_nuclei=%{customdata[1]:.1f}<extra></extra>",
         "hovertext": [
          "BNZWYVIOOGYHBQ-HEXCQMFFSA-N",
          "BNZWYVIOOGYHBQ-HEXCQMFFSA-N"
         ],
         "legendgroup": "BNZWYVIOOGYHBQ-HEXCQMFFSA-N",
         "line": {
          "color": "#636efa",
          "dash": "solid"
         },
         "marker": {
          "symbol": "circle"
         },
         "mode": "lines+markers",
         "name": "BNZWYVIOOGYHBQ-HEXCQMFFSA-N",
         "orientation": "v",
         "showlegend": true,
         "type": "scatter",
         "x": [
          0.833333,
          3.333333
         ],
         "xaxis": "x",
         "y": [
          15.046364331672097,
          14.618832437559156
         ],
         "yaxis": "y"
        },
        {
         "customdata": [
          [
           "NSC-3852",
           189
          ],
          [
           "NSC-3852",
           153
          ]
         ],
         "error_y": {
          "array": [
           1.0631450492502277,
           0.2572509911901388
          ],
          "arrayminus": [
           1.0631450492502277,
           0.2572509911901388
          ]
         },
         "hovertemplate": "<b>%{hovertext}</b><br><br>conc=%{x}<br>distance=%{y:.3f}<br>count_nuclei=%{customdata[1]:.1f}<extra></extra>",
         "hovertext": [
          "NSC-3852",
          "NSC-3852"
         ],
         "legendgroup": "NSC-3852",
         "line": {
          "color": "#EF553B",
          "dash": "solid"
         },
         "marker": {
          "symbol": "circle"
         },
         "mode": "lines+markers",
         "name": "NSC-3852",
         "orientation": "v",
         "showlegend": true,
         "type": "scatter",
         "x": [
          3.333333,
          10
         ],
         "xaxis": "x",
         "y": [
          16.855124462111366,
          14.624976403863924
         ],
         "yaxis": "y"
        },
        {
         "customdata": [
          [
           "IPAG",
           249
          ],
          [
           "IPAG",
           225
          ]
         ],
         "error_y": {
          "array": [
           0.3354156616493533,
           0.3442227307952716
          ],
          "arrayminus": [
           0.3354156616493533,
           0.3442227307952716
          ]
         },
         "hovertemplate": "<b>%{hovertext}</b><br><br>conc=%{x}<br>distance=%{y:.3f}<br>count_nuclei=%{customdata[1]:.1f}<extra></extra>",
         "hovertext": [
          "IPAG",
          "IPAG"
         ],
         "legendgroup": "IPAG",
         "line": {
          "color": "#00cc96",
          "dash": "solid"
         },
         "marker": {
          "symbol": "circle"
         },
         "mode": "lines+markers",
         "name": "IPAG",
         "orientation": "v",
         "showlegend": true,
         "type": "scatter",
         "x": [
          0.1,
          0.3
         ],
         "xaxis": "x",
         "y": [
          16.79931789439444,
          14.630047460680403
         ],
         "yaxis": "y"
        },
        {
         "customdata": [
          [
           "GINXIXQKYYJGOD-UHFFFAOYSA-N",
           232
          ]
         ],
         "error_y": {
          "array": [
           0
          ],
          "arrayminus": [
           0
          ]
         },
         "hovertemplate": "<b>%{hovertext}</b><br><br>conc=%{x}<br>distance=%{y:.3f}<br>count_nuclei=%{customdata[1]:.1f}<extra></extra>",
         "hovertext": [
          "GINXIXQKYYJGOD-UHFFFAOYSA-N"
         ],
         "legendgroup": "GINXIXQKYYJGOD-UHFFFAOYSA-N",
         "line": {
          "color": "#ab63fa",
          "dash": "solid"
         },
         "marker": {
          "symbol": "circle"
         },
         "mode": "lines+markers",
         "name": "GINXIXQKYYJGOD-UHFFFAOYSA-N",
         "orientation": "v",
         "showlegend": true,
         "type": "scatter",
         "x": [
          0.833333
         ],
         "xaxis": "x",
         "y": [
          14.635536368187331
         ],
         "yaxis": "y"
        },
        {
         "customdata": [
          [
           "BECLAMIDE",
           236
          ]
         ],
         "error_y": {
          "array": [
           0.4217389264858333
          ],
          "arrayminus": [
           0.4217389264858333
          ]
         },
         "hovertemplate": "<b>%{hovertext}</b><br><br>conc=%{x}<br>distance=%{y:.3f}<br>count_nuclei=%{customdata[1]:.1f}<extra></extra>",
         "hovertext": [
          "BECLAMIDE"
         ],
         "legendgroup": "BECLAMIDE",
         "line": {
          "color": "#FFA15A",
          "dash": "solid"
         },
         "marker": {
          "symbol": "circle"
         },
         "mode": "lines+markers",
         "name": "BECLAMIDE",
         "orientation": "v",
         "showlegend": true,
         "type": "scatter",
         "x": [
          10
         ],
         "xaxis": "x",
         "y": [
          14.640962975867785
         ],
         "yaxis": "y"
        },
        {
         "customdata": [
          [
           "KVJIMMQVXHIWBU-IBGZPJMESA-N",
           216
          ],
          [
           "KVJIMMQVXHIWBU-IBGZPJMESA-N",
           219.5
          ]
         ],
         "error_y": {
          "array": [
           0,
           0
          ],
          "arrayminus": [
           0,
           0
          ]
         },
         "hovertemplate": "<b>%{hovertext}</b><br><br>conc=%{x}<br>distance=%{y:.3f}<br>count_nuclei=%{customdata[1]:.1f}<extra></extra>",
         "hovertext": [
          "KVJIMMQVXHIWBU-IBGZPJMESA-N",
          "KVJIMMQVXHIWBU-IBGZPJMESA-N"
         ],
         "legendgroup": "KVJIMMQVXHIWBU-IBGZPJMESA-N",
         "line": {
          "color": "#19d3f3",
          "dash": "solid"
         },
         "marker": {
          "symbol": "circle"
         },
         "mode": "lines+markers",
         "name": "KVJIMMQVXHIWBU-IBGZPJMESA-N",
         "orientation": "v",
         "showlegend": true,
         "type": "scatter",
         "x": [
          3.333333,
          10
         ],
         "xaxis": "x",
         "y": [
          17.855598259192988,
          14.651953050501506
         ],
         "yaxis": "y"
        },
        {
         "customdata": [
          [
           "NVMITRIIMPYSMB-UHFFFAOYSA-N",
           227
          ],
          [
           "NVMITRIIMPYSMB-UHFFFAOYSA-N",
           212
          ]
         ],
         "error_y": {
          "array": [
           0,
           0
          ],
          "arrayminus": [
           0,
           0
          ]
         },
         "hovertemplate": "<b>%{hovertext}</b><br><br>conc=%{x}<br>distance=%{y:.3f}<br>count_nuclei=%{customdata[1]:.1f}<extra></extra>",
         "hovertext": [
          "NVMITRIIMPYSMB-UHFFFAOYSA-N",
          "NVMITRIIMPYSMB-UHFFFAOYSA-N"
         ],
         "legendgroup": "NVMITRIIMPYSMB-UHFFFAOYSA-N",
         "line": {
          "color": "#FF6692",
          "dash": "solid"
         },
         "marker": {
          "symbol": "circle"
         },
         "mode": "lines+markers",
         "name": "NVMITRIIMPYSMB-UHFFFAOYSA-N",
         "orientation": "v",
         "showlegend": true,
         "type": "scatter",
         "x": [
          3.333333,
          10
         ],
         "xaxis": "x",
         "y": [
          16.46743721088445,
          14.659019801714946
         ],
         "yaxis": "y"
        },
        {
         "customdata": [
          [
           "SPIRONOLACTONE",
           232
          ]
         ],
         "error_y": {
          "array": [
           1.541342964576021
          ],
          "arrayminus": [
           1.541342964576021
          ]
         },
         "hovertemplate": "<b>%{hovertext}</b><br><br>conc=%{x}<br>distance=%{y:.3f}<br>count_nuclei=%{customdata[1]:.1f}<extra></extra>",
         "hovertext": [
          "SPIRONOLACTONE"
         ],
         "legendgroup": "SPIRONOLACTONE",
         "line": {
          "color": "#B6E880",
          "dash": "solid"
         },
         "marker": {
          "symbol": "circle"
         },
         "mode": "lines+markers",
         "name": "SPIRONOLACTONE",
         "orientation": "v",
         "showlegend": true,
         "type": "scatter",
         "x": [
          10
         ],
         "xaxis": "x",
         "y": [
          14.66451465300678
         ],
         "yaxis": "y"
        },
        {
         "customdata": [
          [
           "UK 383367",
           238
          ],
          [
           "UK 383367",
           231
          ]
         ],
         "error_y": {
          "array": [
           0.5893363920613446,
           0.2739383849840262
          ],
          "arrayminus": [
           0.5893363920613446,
           0.2739383849840262
          ]
         },
         "hovertemplate": "<b>%{hovertext}</b><br><br>conc=%{x}<br>distance=%{y:.3f}<br>count_nuclei=%{customdata[1]:.1f}<extra></extra>",
         "hovertext": [
          "UK 383367",
          "UK 383367"
         ],
         "legendgroup": "UK 383367",
         "line": {
          "color": "#FF97FF",
          "dash": "solid"
         },
         "marker": {
          "symbol": "circle"
         },
         "mode": "lines+markers",
         "name": "UK 383367",
         "orientation": "v",
         "showlegend": true,
         "type": "scatter",
         "x": [
          3.333333,
          10
         ],
         "xaxis": "x",
         "y": [
          17.67753813032552,
          14.671445704708594
         ],
         "yaxis": "y"
        },
        {
         "customdata": [
          [
           "N-[2-(Piperidinylamino)ethyl]-4-iodobenzamide",
           257
          ]
         ],
         "error_y": {
          "array": [
           1.525248162016748
          ],
          "arrayminus": [
           1.525248162016748
          ]
         },
         "hovertemplate": "<b>%{hovertext}</b><br><br>conc=%{x}<br>distance=%{y:.3f}<br>count_nuclei=%{customdata[1]:.1f}<extra></extra>",
         "hovertext": [
          "N-[2-(Piperidinylamino)ethyl]-4-iodobenzamide"
         ],
         "legendgroup": "N-[2-(Piperidinylamino)ethyl]-4-iodobenzamide",
         "line": {
          "color": "#FECB52",
          "dash": "solid"
         },
         "marker": {
          "symbol": "circle"
         },
         "mode": "lines+markers",
         "name": "N-[2-(Piperidinylamino)ethyl]-4-iodobenzamide",
         "orientation": "v",
         "showlegend": true,
         "type": "scatter",
         "x": [
          10
         ],
         "xaxis": "x",
         "y": [
          14.6802019945365
         ],
         "yaxis": "y"
        },
        {
         "customdata": [
          [
           "PFK-158",
           188.5
          ]
         ],
         "error_y": {
          "array": [
           1.3142352449905808
          ],
          "arrayminus": [
           1.3142352449905808
          ]
         },
         "hovertemplate": "<b>%{hovertext}</b><br><br>conc=%{x}<br>distance=%{y:.3f}<br>count_nuclei=%{customdata[1]:.1f}<extra></extra>",
         "hovertext": [
          "PFK-158"
         ],
         "legendgroup": "PFK-158",
         "line": {
          "color": "#636efa",
          "dash": "solid"
         },
         "marker": {
          "symbol": "circle"
         },
         "mode": "lines+markers",
         "name": "PFK-158",
         "orientation": "v",
         "showlegend": true,
         "type": "scatter",
         "x": [
          10
         ],
         "xaxis": "x",
         "y": [
          14.692291344275688
         ],
         "yaxis": "y"
        },
        {
         "customdata": [
          [
           "Harringtonine",
           210
          ]
         ],
         "error_y": {
          "array": [
           0.2859921672973105
          ],
          "arrayminus": [
           0.2859921672973105
          ]
         },
         "hovertemplate": "<b>%{hovertext}</b><br><br>conc=%{x}<br>distance=%{y:.3f}<br>count_nuclei=%{customdata[1]:.1f}<extra></extra>",
         "hovertext": [
          "Harringtonine"
         ],
         "legendgroup": "Harringtonine",
         "line": {
          "color": "#EF553B",
          "dash": "solid"
         },
         "marker": {
          "symbol": "circle"
         },
         "mode": "lines+markers",
         "name": "Harringtonine",
         "orientation": "v",
         "showlegend": true,
         "type": "scatter",
         "x": [
          0.3
         ],
         "xaxis": "x",
         "y": [
          14.71742084560003
         ],
         "yaxis": "y"
        },
        {
         "customdata": [
          [
           "RWSDOJHJGTYANF-UHFFFAOYSA-N",
           233
          ],
          [
           "RWSDOJHJGTYANF-UHFFFAOYSA-N",
           237
          ]
         ],
         "error_y": {
          "array": [
           0,
           0
          ],
          "arrayminus": [
           0,
           0
          ]
         },
         "hovertemplate": "<b>%{hovertext}</b><br><br>conc=%{x}<br>distance=%{y:.3f}<br>count_nuclei=%{customdata[1]:.1f}<extra></extra>",
         "hovertext": [
          "RWSDOJHJGTYANF-UHFFFAOYSA-N",
          "RWSDOJHJGTYANF-UHFFFAOYSA-N"
         ],
         "legendgroup": "RWSDOJHJGTYANF-UHFFFAOYSA-N",
         "line": {
          "color": "#00cc96",
          "dash": "solid"
         },
         "marker": {
          "symbol": "circle"
         },
         "mode": "lines+markers",
         "name": "RWSDOJHJGTYANF-UHFFFAOYSA-N",
         "orientation": "v",
         "showlegend": true,
         "type": "scatter",
         "x": [
          0.833333,
          3.333333
         ],
         "xaxis": "x",
         "y": [
          20.335731472935237,
          14.732561467026684
         ],
         "yaxis": "y"
        },
        {
         "customdata": [
          [
           "Parthenolide ((-)-Parthenolide)",
           244
          ],
          [
           "Parthenolide ((-)-Parthenolide)",
           241
          ]
         ],
         "error_y": {
          "array": [
           2.0866275175359483,
           1.113925845419649
          ],
          "arrayminus": [
           2.0866275175359483,
           1.113925845419649
          ]
         },
         "hovertemplate": "<b>%{hovertext}</b><br><br>conc=%{x}<br>distance=%{y:.3f}<br>count_nuclei=%{customdata[1]:.1f}<extra></extra>",
         "hovertext": [
          "Parthenolide ((-)-Parthenolide)",
          "Parthenolide ((-)-Parthenolide)"
         ],
         "legendgroup": "Parthenolide ((-)-Parthenolide)",
         "line": {
          "color": "#ab63fa",
          "dash": "solid"
         },
         "marker": {
          "symbol": "circle"
         },
         "mode": "lines+markers",
         "name": "Parthenolide ((-)-Parthenolide)",
         "orientation": "v",
         "showlegend": true,
         "type": "scatter",
         "x": [
          0.1,
          0.3
         ],
         "xaxis": "x",
         "y": [
          16.669930074503167,
          14.770075041811497
         ],
         "yaxis": "y"
        },
        {
         "customdata": [
          [
           "CHLORHEXIDINE DIHYDROCHLORIDE",
           245
          ],
          [
           "CHLORHEXIDINE DIHYDROCHLORIDE",
           243
          ]
         ],
         "error_y": {
          "array": [
           1.049929511495728,
           1.2578093213337065
          ],
          "arrayminus": [
           1.049929511495728,
           1.2578093213337065
          ]
         },
         "hovertemplate": "<b>%{hovertext}</b><br><br>conc=%{x}<br>distance=%{y:.3f}<br>count_nuclei=%{customdata[1]:.1f}<extra></extra>",
         "hovertext": [
          "CHLORHEXIDINE DIHYDROCHLORIDE",
          "CHLORHEXIDINE DIHYDROCHLORIDE"
         ],
         "legendgroup": "CHLORHEXIDINE DIHYDROCHLORIDE",
         "line": {
          "color": "#FFA15A",
          "dash": "solid"
         },
         "marker": {
          "symbol": "circle"
         },
         "mode": "lines+markers",
         "name": "CHLORHEXIDINE DIHYDROCHLORIDE",
         "orientation": "v",
         "showlegend": true,
         "type": "scatter",
         "x": [
          0.3,
          0.833333
         ],
         "xaxis": "x",
         "y": [
          14.90192822588572,
          14.771466192808068
         ],
         "yaxis": "y"
        },
        {
         "customdata": [
          [
           "LDN-57444",
           223.25
          ]
         ],
         "error_y": {
          "array": [
           1.7263269498558105
          ],
          "arrayminus": [
           1.7263269498558105
          ]
         },
         "hovertemplate": "<b>%{hovertext}</b><br><br>conc=%{x}<br>distance=%{y:.3f}<br>count_nuclei=%{customdata[1]:.1f}<extra></extra>",
         "hovertext": [
          "LDN-57444"
         ],
         "legendgroup": "LDN-57444",
         "line": {
          "color": "#19d3f3",
          "dash": "solid"
         },
         "marker": {
          "symbol": "circle"
         },
         "mode": "lines+markers",
         "name": "LDN-57444",
         "orientation": "v",
         "showlegend": true,
         "type": "scatter",
         "x": [
          10
         ],
         "xaxis": "x",
         "y": [
          14.77769352519814
         ],
         "yaxis": "y"
        },
        {
         "customdata": [
          [
           "DCWLESYVTAJANQ-UHFFFAOYSA-N",
           216
          ],
          [
           "DCWLESYVTAJANQ-UHFFFAOYSA-N",
           259
          ]
         ],
         "error_y": {
          "array": [
           0,
           0
          ],
          "arrayminus": [
           0,
           0
          ]
         },
         "hovertemplate": "<b>%{hovertext}</b><br><br>conc=%{x}<br>distance=%{y:.3f}<br>count_nuclei=%{customdata[1]:.1f}<extra></extra>",
         "hovertext": [
          "DCWLESYVTAJANQ-UHFFFAOYSA-N",
          "DCWLESYVTAJANQ-UHFFFAOYSA-N"
         ],
         "legendgroup": "DCWLESYVTAJANQ-UHFFFAOYSA-N",
         "line": {
          "color": "#FF6692",
          "dash": "solid"
         },
         "marker": {
          "symbol": "circle"
         },
         "mode": "lines+markers",
         "name": "DCWLESYVTAJANQ-UHFFFAOYSA-N",
         "orientation": "v",
         "showlegend": true,
         "type": "scatter",
         "x": [
          0.833333,
          3.333333
         ],
         "xaxis": "x",
         "y": [
          16.62020111928835,
          14.798743191591097
         ],
         "yaxis": "y"
        },
        {
         "customdata": [
          [
           "BINA",
           226
          ],
          [
           "BINA",
           231
          ]
         ],
         "error_y": {
          "array": [
           0.7315283196567055,
           0.4987894539411854
          ],
          "arrayminus": [
           0.7315283196567055,
           0.4987894539411854
          ]
         },
         "hovertemplate": "<b>%{hovertext}</b><br><br>conc=%{x}<br>distance=%{y:.3f}<br>count_nuclei=%{customdata[1]:.1f}<extra></extra>",
         "hovertext": [
          "BINA",
          "BINA"
         ],
         "legendgroup": "BINA",
         "line": {
          "color": "#B6E880",
          "dash": "solid"
         },
         "marker": {
          "symbol": "circle"
         },
         "mode": "lines+markers",
         "name": "BINA",
         "orientation": "v",
         "showlegend": true,
         "type": "scatter",
         "x": [
          0.3,
          3.333333
         ],
         "xaxis": "x",
         "y": [
          14.878089773744792,
          14.808579292113508
         ],
         "yaxis": "y"
        },
        {
         "customdata": [
          [
           "Pexidartinib",
           238
          ],
          [
           "Pexidartinib",
           233
          ]
         ],
         "error_y": {
          "array": [
           0.0449351343246036,
           0.4939423309658952
          ],
          "arrayminus": [
           0.0449351343246036,
           0.4939423309658952
          ]
         },
         "hovertemplate": "<b>%{hovertext}</b><br><br>conc=%{x}<br>distance=%{y:.3f}<br>count_nuclei=%{customdata[1]:.1f}<extra></extra>",
         "hovertext": [
          "Pexidartinib",
          "Pexidartinib"
         ],
         "legendgroup": "Pexidartinib",
         "line": {
          "color": "#FF97FF",
          "dash": "solid"
         },
         "marker": {
          "symbol": "circle"
         },
         "mode": "lines+markers",
         "name": "Pexidartinib",
         "orientation": "v",
         "showlegend": true,
         "type": "scatter",
         "x": [
          3.333333,
          10
         ],
         "xaxis": "x",
         "y": [
          15.306730591609025,
          14.809261072436628
         ],
         "yaxis": "y"
        },
        {
         "customdata": [
          [
           "Tonabersat",
           239.5
          ]
         ],
         "error_y": {
          "array": [
           1.4007049785882977
          ],
          "arrayminus": [
           1.4007049785882977
          ]
         },
         "hovertemplate": "<b>%{hovertext}</b><br><br>conc=%{x}<br>distance=%{y:.3f}<br>count_nuclei=%{customdata[1]:.1f}<extra></extra>",
         "hovertext": [
          "Tonabersat"
         ],
         "legendgroup": "Tonabersat",
         "line": {
          "color": "#FECB52",
          "dash": "solid"
         },
         "marker": {
          "symbol": "circle"
         },
         "mode": "lines+markers",
         "name": "Tonabersat",
         "orientation": "v",
         "showlegend": true,
         "type": "scatter",
         "x": [
          10
         ],
         "xaxis": "x",
         "y": [
          14.81012681118358
         ],
         "yaxis": "y"
        },
        {
         "customdata": [
          [
           "Arg-Gly-Asp-Ser",
           237
          ],
          [
           "Arg-Gly-Asp-Ser",
           238
          ]
         ],
         "error_y": {
          "array": [
           0.5817882807418258,
           2.7060735407251397
          ],
          "arrayminus": [
           0.5817882807418258,
           2.7060735407251397
          ]
         },
         "hovertemplate": "<b>%{hovertext}</b><br><br>conc=%{x}<br>distance=%{y:.3f}<br>count_nuclei=%{customdata[1]:.1f}<extra></extra>",
         "hovertext": [
          "Arg-Gly-Asp-Ser",
          "Arg-Gly-Asp-Ser"
         ],
         "legendgroup": "Arg-Gly-Asp-Ser",
         "line": {
          "color": "#636efa",
          "dash": "solid"
         },
         "marker": {
          "symbol": "circle"
         },
         "mode": "lines+markers",
         "name": "Arg-Gly-Asp-Ser",
         "orientation": "v",
         "showlegend": true,
         "type": "scatter",
         "x": [
          3.333333,
          10
         ],
         "xaxis": "x",
         "y": [
          18.358079976442824,
          14.8197574583021
         ],
         "yaxis": "y"
        },
        {
         "customdata": [
          [
           "ML204",
           255.25
          ]
         ],
         "error_y": {
          "array": [
           2.9112429077849384
          ],
          "arrayminus": [
           2.9112429077849384
          ]
         },
         "hovertemplate": "<b>%{hovertext}</b><br><br>conc=%{x}<br>distance=%{y:.3f}<br>count_nuclei=%{customdata[1]:.1f}<extra></extra>",
         "hovertext": [
          "ML204"
         ],
         "legendgroup": "ML204",
         "line": {
          "color": "#EF553B",
          "dash": "solid"
         },
         "marker": {
          "symbol": "circle"
         },
         "mode": "lines+markers",
         "name": "ML204",
         "orientation": "v",
         "showlegend": true,
         "type": "scatter",
         "x": [
          10
         ],
         "xaxis": "x",
         "y": [
          14.82006373028333
         ],
         "yaxis": "y"
        },
        {
         "customdata": [
          [
           "ZAMCOVXWUOADQX-UHFFFAOYSA-N",
           241
          ],
          [
           "ZAMCOVXWUOADQX-UHFFFAOYSA-N",
           239
          ]
         ],
         "error_y": {
          "array": [
           0,
           0
          ],
          "arrayminus": [
           0,
           0
          ]
         },
         "hovertemplate": "<b>%{hovertext}</b><br><br>conc=%{x}<br>distance=%{y:.3f}<br>count_nuclei=%{customdata[1]:.1f}<extra></extra>",
         "hovertext": [
          "ZAMCOVXWUOADQX-UHFFFAOYSA-N",
          "ZAMCOVXWUOADQX-UHFFFAOYSA-N"
         ],
         "legendgroup": "ZAMCOVXWUOADQX-UHFFFAOYSA-N",
         "line": {
          "color": "#00cc96",
          "dash": "solid"
         },
         "marker": {
          "symbol": "circle"
         },
         "mode": "lines+markers",
         "name": "ZAMCOVXWUOADQX-UHFFFAOYSA-N",
         "orientation": "v",
         "showlegend": true,
         "type": "scatter",
         "x": [
          0.833333,
          3.333333
         ],
         "xaxis": "x",
         "y": [
          20.9484075263957,
          14.826008556193004
         ],
         "yaxis": "y"
        },
        {
         "customdata": [
          [
           "IVURVTQZRJNNOE-ATVHPVEESA-N",
           241
          ],
          [
           "IVURVTQZRJNNOE-ATVHPVEESA-N",
           227
          ]
         ],
         "error_y": {
          "array": [
           0,
           0
          ],
          "arrayminus": [
           0,
           0
          ]
         },
         "hovertemplate": "<b>%{hovertext}</b><br><br>conc=%{x}<br>distance=%{y:.3f}<br>count_nuclei=%{customdata[1]:.1f}<extra></extra>",
         "hovertext": [
          "IVURVTQZRJNNOE-ATVHPVEESA-N",
          "IVURVTQZRJNNOE-ATVHPVEESA-N"
         ],
         "legendgroup": "IVURVTQZRJNNOE-ATVHPVEESA-N",
         "line": {
          "color": "#ab63fa",
          "dash": "solid"
         },
         "marker": {
          "symbol": "circle"
         },
         "mode": "lines+markers",
         "name": "IVURVTQZRJNNOE-ATVHPVEESA-N",
         "orientation": "v",
         "showlegend": true,
         "type": "scatter",
         "x": [
          3.333333,
          10
         ],
         "xaxis": "x",
         "y": [
          15.302026433065643,
          14.833656033279343
         ],
         "yaxis": "y"
        },
        {
         "customdata": [
          [
           "Paritaprevir",
           240.5
          ]
         ],
         "error_y": {
          "array": [
           0.5839376710089361
          ],
          "arrayminus": [
           0.5839376710089361
          ]
         },
         "hovertemplate": "<b>%{hovertext}</b><br><br>conc=%{x}<br>distance=%{y:.3f}<br>count_nuclei=%{customdata[1]:.1f}<extra></extra>",
         "hovertext": [
          "Paritaprevir"
         ],
         "legendgroup": "Paritaprevir",
         "line": {
          "color": "#FFA15A",
          "dash": "solid"
         },
         "marker": {
          "symbol": "circle"
         },
         "mode": "lines+markers",
         "name": "Paritaprevir",
         "orientation": "v",
         "showlegend": true,
         "type": "scatter",
         "x": [
          10
         ],
         "xaxis": "x",
         "y": [
          14.843594268170913
         ],
         "yaxis": "y"
        },
        {
         "customdata": [
          [
           "S26948",
           242
          ]
         ],
         "error_y": {
          "array": [
           0.9885560213264668
          ],
          "arrayminus": [
           0.9885560213264668
          ]
         },
         "hovertemplate": "<b>%{hovertext}</b><br><br>conc=%{x}<br>distance=%{y:.3f}<br>count_nuclei=%{customdata[1]:.1f}<extra></extra>",
         "hovertext": [
          "S26948"
         ],
         "legendgroup": "S26948",
         "line": {
          "color": "#19d3f3",
          "dash": "solid"
         },
         "marker": {
          "symbol": "circle"
         },
         "mode": "lines+markers",
         "name": "S26948",
         "orientation": "v",
         "showlegend": true,
         "type": "scatter",
         "x": [
          10
         ],
         "xaxis": "x",
         "y": [
          14.843975788395069
         ],
         "yaxis": "y"
        },
        {
         "customdata": [
          [
           "ZQTOZLYOIRKCPL-UHFFFAOYSA-N",
           251
          ]
         ],
         "error_y": {
          "array": [
           0
          ],
          "arrayminus": [
           0
          ]
         },
         "hovertemplate": "<b>%{hovertext}</b><br><br>conc=%{x}<br>distance=%{y:.3f}<br>count_nuclei=%{customdata[1]:.1f}<extra></extra>",
         "hovertext": [
          "ZQTOZLYOIRKCPL-UHFFFAOYSA-N"
         ],
         "legendgroup": "ZQTOZLYOIRKCPL-UHFFFAOYSA-N",
         "line": {
          "color": "#FF6692",
          "dash": "solid"
         },
         "marker": {
          "symbol": "circle"
         },
         "mode": "lines+markers",
         "name": "ZQTOZLYOIRKCPL-UHFFFAOYSA-N",
         "orientation": "v",
         "showlegend": true,
         "type": "scatter",
         "x": [
          0.833333
         ],
         "xaxis": "x",
         "y": [
          14.849678773486024
         ],
         "yaxis": "y"
        },
        {
         "customdata": [
          [
           "KG-5",
           238
          ]
         ],
         "error_y": {
          "array": [
           0.8452133177718988
          ],
          "arrayminus": [
           0.8452133177718988
          ]
         },
         "hovertemplate": "<b>%{hovertext}</b><br><br>conc=%{x}<br>distance=%{y:.3f}<br>count_nuclei=%{customdata[1]:.1f}<extra></extra>",
         "hovertext": [
          "KG-5"
         ],
         "legendgroup": "KG-5",
         "line": {
          "color": "#B6E880",
          "dash": "solid"
         },
         "marker": {
          "symbol": "circle"
         },
         "mode": "lines+markers",
         "name": "KG-5",
         "orientation": "v",
         "showlegend": true,
         "type": "scatter",
         "x": [
          0.1
         ],
         "xaxis": "x",
         "y": [
          14.854693535020798
         ],
         "yaxis": "y"
        },
        {
         "customdata": [
          [
           "TYMMYRXZAZTECB-UHFFFAOYSA-N",
           237
          ],
          [
           "TYMMYRXZAZTECB-UHFFFAOYSA-N",
           228
          ]
         ],
         "error_y": {
          "array": [
           0,
           0
          ],
          "arrayminus": [
           0,
           0
          ]
         },
         "hovertemplate": "<b>%{hovertext}</b><br><br>conc=%{x}<br>distance=%{y:.3f}<br>count_nuclei=%{customdata[1]:.1f}<extra></extra>",
         "hovertext": [
          "TYMMYRXZAZTECB-UHFFFAOYSA-N",
          "TYMMYRXZAZTECB-UHFFFAOYSA-N"
         ],
         "legendgroup": "TYMMYRXZAZTECB-UHFFFAOYSA-N",
         "line": {
          "color": "#FF97FF",
          "dash": "solid"
         },
         "marker": {
          "symbol": "circle"
         },
         "mode": "lines+markers",
         "name": "TYMMYRXZAZTECB-UHFFFAOYSA-N",
         "orientation": "v",
         "showlegend": true,
         "type": "scatter",
         "x": [
          3.333333,
          10
         ],
         "xaxis": "x",
         "y": [
          15.514601377115977,
          14.88126666493536
         ],
         "yaxis": "y"
        },
        {
         "customdata": [
          [
           "SSR-180711",
           248.5
          ]
         ],
         "error_y": {
          "array": [
           1.1451070089223006
          ],
          "arrayminus": [
           1.1451070089223006
          ]
         },
         "hovertemplate": "<b>%{hovertext}</b><br><br>conc=%{x}<br>distance=%{y:.3f}<br>count_nuclei=%{customdata[1]:.1f}<extra></extra>",
         "hovertext": [
          "SSR-180711"
         ],
         "legendgroup": "SSR-180711",
         "line": {
          "color": "#FECB52",
          "dash": "solid"
         },
         "marker": {
          "symbol": "circle"
         },
         "mode": "lines+markers",
         "name": "SSR-180711",
         "orientation": "v",
         "showlegend": true,
         "type": "scatter",
         "x": [
          10
         ],
         "xaxis": "x",
         "y": [
          14.902779326058472
         ],
         "yaxis": "y"
        },
        {
         "customdata": [
          [
           "NKP-1339",
           222
          ]
         ],
         "error_y": {
          "array": [
           0.1665246109327061
          ],
          "arrayminus": [
           0.1665246109327061
          ]
         },
         "hovertemplate": "<b>%{hovertext}</b><br><br>conc=%{x}<br>distance=%{y:.3f}<br>count_nuclei=%{customdata[1]:.1f}<extra></extra>",
         "hovertext": [
          "NKP-1339"
         ],
         "legendgroup": "NKP-1339",
         "line": {
          "color": "#636efa",
          "dash": "solid"
         },
         "marker": {
          "symbol": "circle"
         },
         "mode": "lines+markers",
         "name": "NKP-1339",
         "orientation": "v",
         "showlegend": true,
         "type": "scatter",
         "x": [
          0.3
         ],
         "xaxis": "x",
         "y": [
          14.910646842635233
         ],
         "yaxis": "y"
        },
        {
         "customdata": [
          [
           "CCT129202",
           234
          ]
         ],
         "error_y": {
          "array": [
           0.7181139841926214
          ],
          "arrayminus": [
           0.7181139841926214
          ]
         },
         "hovertemplate": "<b>%{hovertext}</b><br><br>conc=%{x}<br>distance=%{y:.3f}<br>count_nuclei=%{customdata[1]:.1f}<extra></extra>",
         "hovertext": [
          "CCT129202"
         ],
         "legendgroup": "CCT129202",
         "line": {
          "color": "#EF553B",
          "dash": "solid"
         },
         "marker": {
          "symbol": "circle"
         },
         "mode": "lines+markers",
         "name": "CCT129202",
         "orientation": "v",
         "showlegend": true,
         "type": "scatter",
         "x": [
          0.3
         ],
         "xaxis": "x",
         "y": [
          14.910719968993416
         ],
         "yaxis": "y"
        },
        {
         "customdata": [
          [
           "GSK2656157",
           244
          ]
         ],
         "error_y": {
          "array": [
           0.6264986722164583
          ],
          "arrayminus": [
           0.6264986722164583
          ]
         },
         "hovertemplate": "<b>%{hovertext}</b><br><br>conc=%{x}<br>distance=%{y:.3f}<br>count_nuclei=%{customdata[1]:.1f}<extra></extra>",
         "hovertext": [
          "GSK2656157"
         ],
         "legendgroup": "GSK2656157",
         "line": {
          "color": "#00cc96",
          "dash": "solid"
         },
         "marker": {
          "symbol": "circle"
         },
         "mode": "lines+markers",
         "name": "GSK2656157",
         "orientation": "v",
         "showlegend": true,
         "type": "scatter",
         "x": [
          0.1
         ],
         "xaxis": "x",
         "y": [
          14.935207569326174
         ],
         "yaxis": "y"
        },
        {
         "customdata": [
          [
           "Ixazomib (MLN2238)",
           211
          ]
         ],
         "error_y": {
          "array": [
           2.860459575911266
          ],
          "arrayminus": [
           2.860459575911266
          ]
         },
         "hovertemplate": "<b>%{hovertext}</b><br><br>conc=%{x}<br>distance=%{y:.3f}<br>count_nuclei=%{customdata[1]:.1f}<extra></extra>",
         "hovertext": [
          "Ixazomib (MLN2238)"
         ],
         "legendgroup": "Ixazomib (MLN2238)",
         "line": {
          "color": "#ab63fa",
          "dash": "solid"
         },
         "marker": {
          "symbol": "circle"
         },
         "mode": "lines+markers",
         "name": "Ixazomib (MLN2238)",
         "orientation": "v",
         "showlegend": true,
         "type": "scatter",
         "x": [
          0.1
         ],
         "xaxis": "x",
         "y": [
          14.938839515033663
         ],
         "yaxis": "y"
        },
        {
         "customdata": [
          [
           "BA1065085",
           231
          ],
          [
           "BA1065085",
           252
          ]
         ],
         "error_y": {
          "array": [
           0,
           0
          ],
          "arrayminus": [
           0,
           0
          ]
         },
         "hovertemplate": "<b>%{hovertext}</b><br><br>conc=%{x}<br>distance=%{y:.3f}<br>count_nuclei=%{customdata[1]:.1f}<extra></extra>",
         "hovertext": [
          "BA1065085",
          "BA1065085"
         ],
         "legendgroup": "BA1065085",
         "line": {
          "color": "#FFA15A",
          "dash": "solid"
         },
         "marker": {
          "symbol": "circle"
         },
         "mode": "lines+markers",
         "name": "BA1065085",
         "orientation": "v",
         "showlegend": true,
         "type": "scatter",
         "x": [
          0.833333,
          3.333333
         ],
         "xaxis": "x",
         "y": [
          15.780047055177343,
          14.941074250327656
         ],
         "yaxis": "y"
        },
        {
         "customdata": [
          [
           "BMS-265246",
           209.5
          ]
         ],
         "error_y": {
          "array": [
           1.119802362145844
          ],
          "arrayminus": [
           1.119802362145844
          ]
         },
         "hovertemplate": "<b>%{hovertext}</b><br><br>conc=%{x}<br>distance=%{y:.3f}<br>count_nuclei=%{customdata[1]:.1f}<extra></extra>",
         "hovertext": [
          "BMS-265246"
         ],
         "legendgroup": "BMS-265246",
         "line": {
          "color": "#19d3f3",
          "dash": "solid"
         },
         "marker": {
          "symbol": "circle"
         },
         "mode": "lines+markers",
         "name": "BMS-265246",
         "orientation": "v",
         "showlegend": true,
         "type": "scatter",
         "x": [
          10
         ],
         "xaxis": "x",
         "y": [
          14.94367790372566
         ],
         "yaxis": "y"
        },
        {
         "customdata": [
          [
           "zardaverine",
           237.5
          ]
         ],
         "error_y": {
          "array": [
           0.2089468856216356
          ],
          "arrayminus": [
           0.2089468856216356
          ]
         },
         "hovertemplate": "<b>%{hovertext}</b><br><br>conc=%{x}<br>distance=%{y:.3f}<br>count_nuclei=%{customdata[1]:.1f}<extra></extra>",
         "hovertext": [
          "zardaverine"
         ],
         "legendgroup": "zardaverine",
         "line": {
          "color": "#FF6692",
          "dash": "solid"
         },
         "marker": {
          "symbol": "circle"
         },
         "mode": "lines+markers",
         "name": "zardaverine",
         "orientation": "v",
         "showlegend": true,
         "type": "scatter",
         "x": [
          10
         ],
         "xaxis": "x",
         "y": [
          14.987979191959855
         ],
         "yaxis": "y"
        },
        {
         "customdata": [
          [
           "darglitazone",
           239.5
          ]
         ],
         "error_y": {
          "array": [
           1.2385182019529817
          ],
          "arrayminus": [
           1.2385182019529817
          ]
         },
         "hovertemplate": "<b>%{hovertext}</b><br><br>conc=%{x}<br>distance=%{y:.3f}<br>count_nuclei=%{customdata[1]:.1f}<extra></extra>",
         "hovertext": [
          "darglitazone"
         ],
         "legendgroup": "darglitazone",
         "line": {
          "color": "#B6E880",
          "dash": "solid"
         },
         "marker": {
          "symbol": "circle"
         },
         "mode": "lines+markers",
         "name": "darglitazone",
         "orientation": "v",
         "showlegend": true,
         "type": "scatter",
         "x": [
          10
         ],
         "xaxis": "x",
         "y": [
          14.992880727050672
         ],
         "yaxis": "y"
        },
        {
         "customdata": [
          [
           "NU7441(KU-57788)",
           242
          ],
          [
           "NU7441(KU-57788)",
           224
          ]
         ],
         "error_y": {
          "array": [
           1.967096665735724,
           1.7243588408082324
          ],
          "arrayminus": [
           1.967096665735724,
           1.7243588408082324
          ]
         },
         "hovertemplate": "<b>%{hovertext}</b><br><br>conc=%{x}<br>distance=%{y:.3f}<br>count_nuclei=%{customdata[1]:.1f}<extra></extra>",
         "hovertext": [
          "NU7441(KU-57788)",
          "NU7441(KU-57788)"
         ],
         "legendgroup": "NU7441(KU-57788)",
         "line": {
          "color": "#FF97FF",
          "dash": "solid"
         },
         "marker": {
          "symbol": "circle"
         },
         "mode": "lines+markers",
         "name": "NU7441(KU-57788)",
         "orientation": "v",
         "showlegend": true,
         "type": "scatter",
         "x": [
          0.833333,
          3.333333
         ],
         "xaxis": "x",
         "y": [
          16.942194384327642,
          14.99621250226522
         ],
         "yaxis": "y"
        }
       ],
       "layout": {
        "height": 400,
        "legend": {
         "title": {
          "text": "name"
         },
         "tracegroupgap": 0
        },
        "margin": {
         "t": 60
        },
        "plot_bgcolor": "white",
        "shapes": [
         {
          "fillcolor": "royalblue",
          "label": {
           "font": {
            "color": "black",
            "size": 15
           },
           "text": "Non-infected",
           "textposition": "middle left"
          },
          "layer": "below",
          "line": {
           "width": 0
          },
          "opacity": 0.5656854249492381,
          "type": "rect",
          "x0": 0,
          "x1": 1,
          "xref": "x domain",
          "y0": 3.6980116752652754,
          "y1": 4.6481060439417865,
          "yref": "y"
         },
         {
          "fillcolor": "royalblue",
          "layer": "below",
          "line": {
           "width": 0
          },
          "opacity": 0.4,
          "type": "rect",
          "x0": 0,
          "x1": 1,
          "xref": "x domain",
          "y0": 3.381549941821302,
          "y1": 4.999695837533322,
          "yref": "y"
         },
         {
          "fillcolor": "royalblue",
          "layer": "below",
          "line": {
           "width": 0
          },
          "opacity": 0.17888543819998326,
          "type": "rect",
          "x0": 0,
          "x1": 1,
          "xref": "x domain",
          "y0": 2.8689277081789055,
          "y1": 5.614835566638317,
          "yref": "y"
         }
        ],
        "template": {
         "data": {
          "bar": [
           {
            "error_x": {
             "color": "#2a3f5f"
            },
            "error_y": {
             "color": "#2a3f5f"
            },
            "marker": {
             "line": {
              "color": "#E5ECF6",
              "width": 0.5
             },
             "pattern": {
              "fillmode": "overlay",
              "size": 10,
              "solidity": 0.2
             }
            },
            "type": "bar"
           }
          ],
          "barpolar": [
           {
            "marker": {
             "line": {
              "color": "#E5ECF6",
              "width": 0.5
             },
             "pattern": {
              "fillmode": "overlay",
              "size": 10,
              "solidity": 0.2
             }
            },
            "type": "barpolar"
           }
          ],
          "carpet": [
           {
            "aaxis": {
             "endlinecolor": "#2a3f5f",
             "gridcolor": "white",
             "linecolor": "white",
             "minorgridcolor": "white",
             "startlinecolor": "#2a3f5f"
            },
            "baxis": {
             "endlinecolor": "#2a3f5f",
             "gridcolor": "white",
             "linecolor": "white",
             "minorgridcolor": "white",
             "startlinecolor": "#2a3f5f"
            },
            "type": "carpet"
           }
          ],
          "choropleth": [
           {
            "colorbar": {
             "outlinewidth": 0,
             "ticks": ""
            },
            "type": "choropleth"
           }
          ],
          "contour": [
           {
            "colorbar": {
             "outlinewidth": 0,
             "ticks": ""
            },
            "colorscale": [
             [
              0,
              "#0d0887"
             ],
             [
              0.1111111111111111,
              "#46039f"
             ],
             [
              0.2222222222222222,
              "#7201a8"
             ],
             [
              0.3333333333333333,
              "#9c179e"
             ],
             [
              0.4444444444444444,
              "#bd3786"
             ],
             [
              0.5555555555555556,
              "#d8576b"
             ],
             [
              0.6666666666666666,
              "#ed7953"
             ],
             [
              0.7777777777777778,
              "#fb9f3a"
             ],
             [
              0.8888888888888888,
              "#fdca26"
             ],
             [
              1,
              "#f0f921"
             ]
            ],
            "type": "contour"
           }
          ],
          "contourcarpet": [
           {
            "colorbar": {
             "outlinewidth": 0,
             "ticks": ""
            },
            "type": "contourcarpet"
           }
          ],
          "heatmap": [
           {
            "colorbar": {
             "outlinewidth": 0,
             "ticks": ""
            },
            "colorscale": [
             [
              0,
              "#0d0887"
             ],
             [
              0.1111111111111111,
              "#46039f"
             ],
             [
              0.2222222222222222,
              "#7201a8"
             ],
             [
              0.3333333333333333,
              "#9c179e"
             ],
             [
              0.4444444444444444,
              "#bd3786"
             ],
             [
              0.5555555555555556,
              "#d8576b"
             ],
             [
              0.6666666666666666,
              "#ed7953"
             ],
             [
              0.7777777777777778,
              "#fb9f3a"
             ],
             [
              0.8888888888888888,
              "#fdca26"
             ],
             [
              1,
              "#f0f921"
             ]
            ],
            "type": "heatmap"
           }
          ],
          "heatmapgl": [
           {
            "colorbar": {
             "outlinewidth": 0,
             "ticks": ""
            },
            "colorscale": [
             [
              0,
              "#0d0887"
             ],
             [
              0.1111111111111111,
              "#46039f"
             ],
             [
              0.2222222222222222,
              "#7201a8"
             ],
             [
              0.3333333333333333,
              "#9c179e"
             ],
             [
              0.4444444444444444,
              "#bd3786"
             ],
             [
              0.5555555555555556,
              "#d8576b"
             ],
             [
              0.6666666666666666,
              "#ed7953"
             ],
             [
              0.7777777777777778,
              "#fb9f3a"
             ],
             [
              0.8888888888888888,
              "#fdca26"
             ],
             [
              1,
              "#f0f921"
             ]
            ],
            "type": "heatmapgl"
           }
          ],
          "histogram": [
           {
            "marker": {
             "pattern": {
              "fillmode": "overlay",
              "size": 10,
              "solidity": 0.2
             }
            },
            "type": "histogram"
           }
          ],
          "histogram2d": [
           {
            "colorbar": {
             "outlinewidth": 0,
             "ticks": ""
            },
            "colorscale": [
             [
              0,
              "#0d0887"
             ],
             [
              0.1111111111111111,
              "#46039f"
             ],
             [
              0.2222222222222222,
              "#7201a8"
             ],
             [
              0.3333333333333333,
              "#9c179e"
             ],
             [
              0.4444444444444444,
              "#bd3786"
             ],
             [
              0.5555555555555556,
              "#d8576b"
             ],
             [
              0.6666666666666666,
              "#ed7953"
             ],
             [
              0.7777777777777778,
              "#fb9f3a"
             ],
             [
              0.8888888888888888,
              "#fdca26"
             ],
             [
              1,
              "#f0f921"
             ]
            ],
            "type": "histogram2d"
           }
          ],
          "histogram2dcontour": [
           {
            "colorbar": {
             "outlinewidth": 0,
             "ticks": ""
            },
            "colorscale": [
             [
              0,
              "#0d0887"
             ],
             [
              0.1111111111111111,
              "#46039f"
             ],
             [
              0.2222222222222222,
              "#7201a8"
             ],
             [
              0.3333333333333333,
              "#9c179e"
             ],
             [
              0.4444444444444444,
              "#bd3786"
             ],
             [
              0.5555555555555556,
              "#d8576b"
             ],
             [
              0.6666666666666666,
              "#ed7953"
             ],
             [
              0.7777777777777778,
              "#fb9f3a"
             ],
             [
              0.8888888888888888,
              "#fdca26"
             ],
             [
              1,
              "#f0f921"
             ]
            ],
            "type": "histogram2dcontour"
           }
          ],
          "mesh3d": [
           {
            "colorbar": {
             "outlinewidth": 0,
             "ticks": ""
            },
            "type": "mesh3d"
           }
          ],
          "parcoords": [
           {
            "line": {
             "colorbar": {
              "outlinewidth": 0,
              "ticks": ""
             }
            },
            "type": "parcoords"
           }
          ],
          "pie": [
           {
            "automargin": true,
            "type": "pie"
           }
          ],
          "scatter": [
           {
            "fillpattern": {
             "fillmode": "overlay",
             "size": 10,
             "solidity": 0.2
            },
            "type": "scatter"
           }
          ],
          "scatter3d": [
           {
            "line": {
             "colorbar": {
              "outlinewidth": 0,
              "ticks": ""
             }
            },
            "marker": {
             "colorbar": {
              "outlinewidth": 0,
              "ticks": ""
             }
            },
            "type": "scatter3d"
           }
          ],
          "scattercarpet": [
           {
            "marker": {
             "colorbar": {
              "outlinewidth": 0,
              "ticks": ""
             }
            },
            "type": "scattercarpet"
           }
          ],
          "scattergeo": [
           {
            "marker": {
             "colorbar": {
              "outlinewidth": 0,
              "ticks": ""
             }
            },
            "type": "scattergeo"
           }
          ],
          "scattergl": [
           {
            "marker": {
             "colorbar": {
              "outlinewidth": 0,
              "ticks": ""
             }
            },
            "type": "scattergl"
           }
          ],
          "scattermapbox": [
           {
            "marker": {
             "colorbar": {
              "outlinewidth": 0,
              "ticks": ""
             }
            },
            "type": "scattermapbox"
           }
          ],
          "scatterpolar": [
           {
            "marker": {
             "colorbar": {
              "outlinewidth": 0,
              "ticks": ""
             }
            },
            "type": "scatterpolar"
           }
          ],
          "scatterpolargl": [
           {
            "marker": {
             "colorbar": {
              "outlinewidth": 0,
              "ticks": ""
             }
            },
            "type": "scatterpolargl"
           }
          ],
          "scatterternary": [
           {
            "marker": {
             "colorbar": {
              "outlinewidth": 0,
              "ticks": ""
             }
            },
            "type": "scatterternary"
           }
          ],
          "surface": [
           {
            "colorbar": {
             "outlinewidth": 0,
             "ticks": ""
            },
            "colorscale": [
             [
              0,
              "#0d0887"
             ],
             [
              0.1111111111111111,
              "#46039f"
             ],
             [
              0.2222222222222222,
              "#7201a8"
             ],
             [
              0.3333333333333333,
              "#9c179e"
             ],
             [
              0.4444444444444444,
              "#bd3786"
             ],
             [
              0.5555555555555556,
              "#d8576b"
             ],
             [
              0.6666666666666666,
              "#ed7953"
             ],
             [
              0.7777777777777778,
              "#fb9f3a"
             ],
             [
              0.8888888888888888,
              "#fdca26"
             ],
             [
              1,
              "#f0f921"
             ]
            ],
            "type": "surface"
           }
          ],
          "table": [
           {
            "cells": {
             "fill": {
              "color": "#EBF0F8"
             },
             "line": {
              "color": "white"
             }
            },
            "header": {
             "fill": {
              "color": "#C8D4E3"
             },
             "line": {
              "color": "white"
             }
            },
            "type": "table"
           }
          ]
         },
         "layout": {
          "annotationdefaults": {
           "arrowcolor": "#2a3f5f",
           "arrowhead": 0,
           "arrowwidth": 1
          },
          "autotypenumbers": "strict",
          "coloraxis": {
           "colorbar": {
            "outlinewidth": 0,
            "ticks": ""
           }
          },
          "colorscale": {
           "diverging": [
            [
             0,
             "#8e0152"
            ],
            [
             0.1,
             "#c51b7d"
            ],
            [
             0.2,
             "#de77ae"
            ],
            [
             0.3,
             "#f1b6da"
            ],
            [
             0.4,
             "#fde0ef"
            ],
            [
             0.5,
             "#f7f7f7"
            ],
            [
             0.6,
             "#e6f5d0"
            ],
            [
             0.7,
             "#b8e186"
            ],
            [
             0.8,
             "#7fbc41"
            ],
            [
             0.9,
             "#4d9221"
            ],
            [
             1,
             "#276419"
            ]
           ],
           "sequential": [
            [
             0,
             "#0d0887"
            ],
            [
             0.1111111111111111,
             "#46039f"
            ],
            [
             0.2222222222222222,
             "#7201a8"
            ],
            [
             0.3333333333333333,
             "#9c179e"
            ],
            [
             0.4444444444444444,
             "#bd3786"
            ],
            [
             0.5555555555555556,
             "#d8576b"
            ],
            [
             0.6666666666666666,
             "#ed7953"
            ],
            [
             0.7777777777777778,
             "#fb9f3a"
            ],
            [
             0.8888888888888888,
             "#fdca26"
            ],
            [
             1,
             "#f0f921"
            ]
           ],
           "sequentialminus": [
            [
             0,
             "#0d0887"
            ],
            [
             0.1111111111111111,
             "#46039f"
            ],
            [
             0.2222222222222222,
             "#7201a8"
            ],
            [
             0.3333333333333333,
             "#9c179e"
            ],
            [
             0.4444444444444444,
             "#bd3786"
            ],
            [
             0.5555555555555556,
             "#d8576b"
            ],
            [
             0.6666666666666666,
             "#ed7953"
            ],
            [
             0.7777777777777778,
             "#fb9f3a"
            ],
            [
             0.8888888888888888,
             "#fdca26"
            ],
            [
             1,
             "#f0f921"
            ]
           ]
          },
          "colorway": [
           "#636efa",
           "#EF553B",
           "#00cc96",
           "#ab63fa",
           "#FFA15A",
           "#19d3f3",
           "#FF6692",
           "#B6E880",
           "#FF97FF",
           "#FECB52"
          ],
          "font": {
           "color": "#2a3f5f"
          },
          "geo": {
           "bgcolor": "white",
           "lakecolor": "white",
           "landcolor": "#E5ECF6",
           "showlakes": true,
           "showland": true,
           "subunitcolor": "white"
          },
          "hoverlabel": {
           "align": "left"
          },
          "hovermode": "closest",
          "mapbox": {
           "style": "light"
          },
          "paper_bgcolor": "white",
          "plot_bgcolor": "#E5ECF6",
          "polar": {
           "angularaxis": {
            "gridcolor": "white",
            "linecolor": "white",
            "ticks": ""
           },
           "bgcolor": "#E5ECF6",
           "radialaxis": {
            "gridcolor": "white",
            "linecolor": "white",
            "ticks": ""
           }
          },
          "scene": {
           "xaxis": {
            "backgroundcolor": "#E5ECF6",
            "gridcolor": "white",
            "gridwidth": 2,
            "linecolor": "white",
            "showbackground": true,
            "ticks": "",
            "zerolinecolor": "white"
           },
           "yaxis": {
            "backgroundcolor": "#E5ECF6",
            "gridcolor": "white",
            "gridwidth": 2,
            "linecolor": "white",
            "showbackground": true,
            "ticks": "",
            "zerolinecolor": "white"
           },
           "zaxis": {
            "backgroundcolor": "#E5ECF6",
            "gridcolor": "white",
            "gridwidth": 2,
            "linecolor": "white",
            "showbackground": true,
            "ticks": "",
            "zerolinecolor": "white"
           }
          },
          "shapedefaults": {
           "line": {
            "color": "#2a3f5f"
           }
          },
          "ternary": {
           "aaxis": {
            "gridcolor": "white",
            "linecolor": "white",
            "ticks": ""
           },
           "baxis": {
            "gridcolor": "white",
            "linecolor": "white",
            "ticks": ""
           },
           "bgcolor": "#E5ECF6",
           "caxis": {
            "gridcolor": "white",
            "linecolor": "white",
            "ticks": ""
           }
          },
          "title": {
           "x": 0.05
          },
          "xaxis": {
           "automargin": true,
           "gridcolor": "white",
           "linecolor": "white",
           "ticks": "",
           "title": {
            "standoff": 15
           },
           "zerolinecolor": "white",
           "zerolinewidth": 2
          },
          "yaxis": {
           "automargin": true,
           "gridcolor": "white",
           "linecolor": "white",
           "ticks": "",
           "title": {
            "standoff": 15
           },
           "zerolinecolor": "white",
           "zerolinewidth": 2
          }
         }
        },
        "title": {
         "text": "Distance to non-infected cell distribution"
        },
        "width": 1200,
        "xaxis": {
         "anchor": "y",
         "domain": [
          0,
          1
         ],
         "gridcolor": "lightgrey",
         "tickvals": [
          0.1,
          0.3,
          0.833333,
          3.333333,
          10
         ],
         "title": {
          "text": "concentration"
         },
         "type": "log"
        },
        "yaxis": {
         "anchor": "x",
         "domain": [
          0,
          1
         ],
         "gridcolor": "lightgrey",
         "tickvals": [
          1,
          5,
          10,
          100
         ],
         "title": {
          "text": "distance"
         },
         "type": "log"
        }
       }
      }
     },
     "metadata": {},
     "output_type": "display_data"
    }
   ],
   "source": [
    "plot_compounds_interactive(selected)"
   ]
  },
  {
   "cell_type": "code",
   "execution_count": 10,
   "metadata": {},
   "outputs": [
    {
     "name": "stdout",
     "output_type": "stream",
     "text": [
      "Items in total: 942,\n",
      "of which unique compounds: 599\n"
     ]
    }
   ],
   "source": [
    "# Save to file\n",
    "selected.to_csv(\"output/initial_design/pool.csv\", sep=';', index=False)\n",
    "\n",
    "print(f\"Items in total: {len(selected)},\")\n",
    "print(\"of which unique compounds:\", selected['batch_id'].nunique())"
   ]
  },
  {
   "cell_type": "code",
   "execution_count": null,
   "metadata": {},
   "outputs": [],
   "source": []
  }
 ],
 "metadata": {
  "kernelspec": {
   "display_name": "venv",
   "language": "python",
   "name": "python3"
  },
  "language_info": {
   "codemirror_mode": {
    "name": "ipython",
    "version": 3
   },
   "file_extension": ".py",
   "mimetype": "text/x-python",
   "name": "python",
   "nbconvert_exporter": "python",
   "pygments_lexer": "ipython3",
   "version": "3.12.2"
  }
 },
 "nbformat": 4,
 "nbformat_minor": 2
}
