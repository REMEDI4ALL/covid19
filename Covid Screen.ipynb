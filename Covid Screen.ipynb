{
 "cells": [
  {
   "cell_type": "code",
   "execution_count": null,
   "metadata": {},
   "outputs": [],
   "source": [
    "import pandas as pd \n",
    "import numpy as np\n",
    "from scipy import stats\n",
    "\n",
    "import matplotlib.pyplot as plt\n",
    "%matplotlib inline\n",
    "\n",
    "import mahalanobis as maha"
   ]
  },
  {
   "cell_type": "code",
   "execution_count": null,
   "metadata": {},
   "outputs": [],
   "source": [
    "df = pd.read_parquet('data/covid_screen.parquet')\n",
    "df.rename(columns={\"cbkid\": \"batch_id\"}, inplace=True)\n",
    "\n",
    "# Reorder the columns: first 7 are metadata, others are morphology\n",
    "columns = df.columns.tolist()\n",
    "new_columns = columns[:2] + columns[-5:] + columns[2:-5] \n",
    "df = df[new_columns]"
   ]
  },
  {
   "cell_type": "code",
   "execution_count": null,
   "metadata": {},
   "outputs": [],
   "source": [
    "df_healthy = df[df['batch_id'] == 'Uninfected']\n",
    "x_healthy = df_healthy.iloc[:, 7:].to_numpy()\n",
    "\n",
    "sigma, rank = maha.get_singular_values(x_healthy)\n",
    "plt.scatter(range(rank), sigma[:rank])\n",
    "\n",
    "n_components = 5\n",
    "plt.axhline(sigma[n_components - 1], c='brown', label=n_components)\n",
    "\n",
    "n_components = np.count_nonzero(sigma > 5)\n",
    "plt.axhline(sigma[n_components - 1], c='chocolate', label=n_components)\n",
    "\n",
    "# optimal threshold for PCA of Healthy cells\n",
    "tau = maha.svht(x_healthy)\n",
    "plt.axhline(sigma[int(tau)], c='k', label=f'{int(tau)} (svht)')\n",
    "\n",
    "plt.grid()\n",
    "plt.yscale('log')\n",
    "plt.legend(fontsize=12)\n",
    "plt.xlabel('number of components', fontsize=14)\n",
    "plt.ylabel('singular value', fontsize=14)\n",
    "plt.title(\"Threshold for PCA on Healthy cells\")\n",
    "plt.show()"
   ]
  },
  {
   "cell_type": "code",
   "execution_count": null,
   "metadata": {},
   "outputs": [],
   "source": [
    "x_all = df.iloc[:, 7:].copy()\n",
    "clip = 50 # if we want to clip eventual extreme values; otherwise float('inf')\n",
    "x_all.clip(lower=-clip, upper=clip, inplace=True)"
   ]
  },
  {
   "cell_type": "code",
   "execution_count": null,
   "metadata": {},
   "outputs": [],
   "source": [
    "# Predictions based on whitening transform\n",
    "n_components = 5\n",
    "\n",
    "# Distance to Healthy (Mahalanobis)\n",
    "df_healthy = df[df['batch_id'] == 'Uninfected']\n",
    "x_healthy = df_healthy.iloc[:, 7:].to_numpy()\n",
    "dist_pred = maha.get_distance(x_healthy, x_all, n_components=n_components)\n",
    "dist_pred = pd.DataFrame(dist_pred, columns=['distance'])\n",
    "\n",
    "# Probability of Healthy\n",
    "proba_pred = maha.get_proba(x_healthy, x_all, n_components=n_components)\n",
    "proba_pred = pd.DataFrame(proba_pred, columns=['proba'])"
   ]
  },
  {
   "cell_type": "code",
   "execution_count": null,
   "metadata": {},
   "outputs": [],
   "source": [
    "predictions = pd.concat([df.iloc[:, :7], dist_pred, proba_pred], axis=1)"
   ]
  },
  {
   "cell_type": "code",
   "execution_count": null,
   "metadata": {},
   "outputs": [],
   "source": [
    "def quantile(n):\n",
    "    def quantile_(x):\n",
    "        return x.quantile(n)\n",
    "    quantile_.__name__ = f'q_{n*100:.0f}'\n",
    "    return quantile_\n",
    "\n",
    "selected_columns = predictions[[\n",
    "    'batch_id',\n",
    "    'Count_nuclei',\n",
    "    'distance',\n",
    "    # 'proba',\n",
    "    'name',\n",
    "]].copy()\n",
    "\n",
    "# Add concetration column (dummy due to only single dose measurements in screening)\n",
    "selected_columns['conc'] = 10.\n",
    "\n",
    "# Aggregate replicates\n",
    "average_predictions = selected_columns.groupby(by=['batch_id', 'name', 'conc'], as_index=False).agg({\n",
    "        'Count_nuclei': 'median',\n",
    "        'distance': [quantile(.25), quantile(.75), 'median'],\n",
    "        # 'proba': 'median',\n",
    "})\n",
    "\n",
    "# Rename columns\n",
    "custom_columns = [''.join(col) for col in average_predictions.columns.to_flat_index() if not col[1]]\n",
    "custom_columns += ['_'.join(col) for col in average_predictions.columns.to_flat_index() if col[1]]\n",
    "average_predictions.columns = custom_columns\n",
    "average_predictions.rename(columns={'Count_nuclei_median': 'count_nuclei'}, inplace=True)\n",
    "average_predictions.rename(columns={'distance_median': 'distance'}, inplace=True)\n",
    "\n",
    "# Sort by distance to non-infected\n",
    "average_predictions.sort_values(by=['distance'], ascending=True, inplace=True)\n",
    "\n",
    "# Quantiles are written as plus/minus to the median\n",
    "average_predictions['distance_q_75'] = average_predictions['distance_q_75'] - average_predictions['distance']\n",
    "average_predictions['distance_q_25'] =  average_predictions['distance'] - average_predictions['distance_q_25']\n",
    "\n",
    "average_predictions.reset_index(inplace=True, drop=True)\n",
    "average_predictions.to_csv(\"output/Covid_screen_ranked.csv\", sep=';')\n",
    "average_predictions.head(20)"
   ]
  },
  {
   "cell_type": "code",
   "execution_count": null,
   "metadata": {},
   "outputs": [],
   "source": [
    "import plotly.express as px\n",
    "import plotly.graph_objects as go\n",
    "\n",
    "\n",
    "def plot_compounds_interactive(compounds, dmso=None):\n",
    "    drug_names = {\n",
    "        id_: name_ for (id_, name_) in zip(compounds['batch_id'], compounds['name'])\n",
    "    }\n",
    "\n",
    "    drugs = compounds[~compounds['batch_id'].isin(['Uninfected', 'DMSO'])]\n",
    "    fig = px.line(\n",
    "        drugs.sort_values(by=\"conc\"), x=\"conc\", y=\"distance\",\n",
    "        color='name', markers=True,\n",
    "        width=1200, height=400,\n",
    "        error_y='distance_q_75', error_y_minus='distance_q_75',\n",
    "        category_orders={\"name\": drug_names.values()},\n",
    "        hover_name=\"name\", \n",
    "        hover_data={\"name\": False, \"count_nuclei\": ':.1f', \"conc\": True, \"distance\": ':.3f'},\n",
    "    )\n",
    "\n",
    "    # Healthy cells - confidence intervals\n",
    "    for i, conf in enumerate([0.5, 0.75, 0.95]):\n",
    "        label = dict(\n",
    "            text=\"Non-infected\", font=dict(size=15, color=\"black\"), textposition=\"middle left\"\n",
    "        ) if i == 0 else None\n",
    "\n",
    "        left, right = stats.chi2.interval(confidence=conf, df=n_components)\n",
    "        fig.add_hrect(\n",
    "            type=\"rect\",\n",
    "            y0=np.sqrt(left), y1=np.sqrt(right),\n",
    "            fillcolor=\"royalblue\", opacity=0.8*(1-conf)**0.5,\n",
    "            layer=\"below\", line_width=0, label=label\n",
    "        )\n",
    "\n",
    "    # DMSO\n",
    "    if dmso is not None:\n",
    "        conc = range(0, 31, 1)\n",
    "        median = dmso['distance'].iloc[0]\n",
    "        perc_25 = dmso['distance_q_25'].iloc[0]\n",
    "        perc_75 = dmso['distance_q_75'].iloc[0]\n",
    "        fig.add_hrect(\n",
    "            type=\"rect\",\n",
    "            y0=median-perc_25, y1=median+perc_75,\n",
    "            fillcolor=\"grey\", opacity=0.25,\n",
    "            layer=\"below\", line_width=0,\n",
    "            label=dict(\n",
    "                text=\"DMSO\", font=dict(size=15, color=\"black\"), textposition=\"middle left\"\n",
    "            )\n",
    "        )\n",
    "\n",
    "    conc = np.unique(compounds['conc'])\n",
    "    fig.update_xaxes(title_text=\"concentration\", gridcolor='lightgrey', type=\"log\", tickvals=conc)\n",
    "    fig.update_yaxes(title_text=\"distance\", gridcolor='lightgrey', type=\"log\", tickvals=[1, 5, 10, 40, 80, 100])\n",
    "    fig.update_layout(\n",
    "        title_text=\"Distance to non-infected cell distribution\",\n",
    "        plot_bgcolor='white'\n",
    "    )\n",
    "\n",
    "    fig.show()\n"
   ]
  },
  {
   "cell_type": "code",
   "execution_count": null,
   "metadata": {},
   "outputs": [],
   "source": [
    "plt.hist(average_predictions['distance'])\n",
    "plt.title(\"Histogram of distances\")\n",
    "plt.show()"
   ]
  },
  {
   "cell_type": "code",
   "execution_count": null,
   "metadata": {},
   "outputs": [],
   "source": [
    "# compounds = average_predictions.copy()\n",
    "compounds = average_predictions.copy()\n",
    "dmso = compounds[compounds['batch_id'] == 'DMSO']\n",
    "\n",
    "plot_compounds_interactive(compounds, dmso)"
   ]
  },
  {
   "cell_type": "markdown",
   "metadata": {},
   "source": [
    "### Primary hits"
   ]
  },
  {
   "cell_type": "code",
   "execution_count": null,
   "metadata": {},
   "outputs": [],
   "source": [
    "# Read the type of drug: primary hit, secondary hit, or analog\n",
    "\n",
    "subset = pd.read_csv(\"data/metadata_annotations.csv\", usecols=[\"CBCSbatch_id\", \"arm\"])\n",
    "subset.rename(columns={\"CBCSbatch_id\": \"batch_id\", \"arm\": \"type\"}, inplace=True)\n",
    "\n",
    "with open(\"data/id_to_name.txt\", 'r') as file:\n",
    "    table = file.readlines()\n",
    "    id_to_name = {}\n",
    "    for i, line in enumerate(table):\n",
    "        id_, name = line.rstrip().split('\\t')\n",
    "        id_to_name[id_] = name\n",
    "\n",
    "subset['name'] = subset['batch_id'].map(id_to_name)"
   ]
  },
  {
   "cell_type": "code",
   "execution_count": null,
   "metadata": {},
   "outputs": [],
   "source": [
    "# Extract primary hit\n",
    "primary_hit_name = subset[subset['type'] == 'primary_hit']['name'].to_list()\n",
    "primary_hits = compounds[compounds['name'].isin(primary_hit_name)].copy()\n",
    "\n",
    "plot_compounds_interactive(primary_hits, dmso)"
   ]
  },
  {
   "cell_type": "markdown",
   "metadata": {},
   "source": [
    "### Secondary hits"
   ]
  },
  {
   "cell_type": "code",
   "execution_count": null,
   "metadata": {},
   "outputs": [],
   "source": [
    "# Extract secondary hit\n",
    "secondary_hit_name = subset[subset['type'] == 'secondary_cp_hit']['name'].to_list()\n",
    "secondary_hits = compounds[compounds['name'].isin(secondary_hit_name)].copy()\n",
    "\n",
    "plot_compounds_interactive(secondary_hits, dmso)"
   ]
  },
  {
   "cell_type": "markdown",
   "metadata": {},
   "source": [
    "Output `secondary_hits` and `DMSO` as a reference"
   ]
  },
  {
   "cell_type": "code",
   "execution_count": null,
   "metadata": {},
   "outputs": [],
   "source": [
    "secondary_hits_to_save = pd.concat([secondary_hits, dmso], ignore_index=True)\n",
    "secondary_hits_to_save.rename(columns={'batch_id': 'cbkid'}, inplace=True)\n",
    "secondary_hits_to_save.to_csv(\"output/secondary_hits_screen.csv\", sep=';', index=False)"
   ]
  },
  {
   "cell_type": "code",
   "execution_count": null,
   "metadata": {},
   "outputs": [],
   "source": []
  }
 ],
 "metadata": {
  "kernelspec": {
   "display_name": "venv",
   "language": "python",
   "name": "python3"
  },
  "language_info": {
   "codemirror_mode": {
    "name": "ipython",
    "version": 3
   },
   "file_extension": ".py",
   "mimetype": "text/x-python",
   "name": "python",
   "nbconvert_exporter": "python",
   "pygments_lexer": "ipython3",
   "version": "3.12.2"
  }
 },
 "nbformat": 4,
 "nbformat_minor": 2
}
